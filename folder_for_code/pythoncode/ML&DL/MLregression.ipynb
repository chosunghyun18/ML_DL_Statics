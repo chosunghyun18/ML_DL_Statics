{
 "cells": [
  {
   "cell_type": "code",
   "execution_count": 35,
   "id": "838ff22f",
   "metadata": {
    "ExecuteTime": {
     "end_time": "2021-10-27T11:55:09.784868Z",
     "start_time": "2021-10-27T11:55:09.782016Z"
    }
   },
   "outputs": [
    {
     "name": "stdout",
     "output_type": "stream",
     "text": [
      "2.0.0\n"
     ]
    }
   ],
   "source": [
    "import tensorflow as tf\n",
    "import numpy as np\n",
    "\n",
    "print(tf.__version__)"
   ]
  },
  {
   "cell_type": "code",
   "execution_count": 3,
   "id": "d560957c",
   "metadata": {
    "ExecuteTime": {
     "end_time": "2021-09-29T08:41:13.162599Z",
     "start_time": "2021-09-29T08:41:13.157229Z"
    }
   },
   "outputs": [],
   "source": [
    "#cost function code \n",
    "cost = tf.reduce_mean(tf.square(h-y_data))"
   ]
  },
  {
   "cell_type": "code",
   "execution_count": 6,
   "id": "04afa9a8",
   "metadata": {
    "ExecuteTime": {
     "end_time": "2021-09-29T08:43:34.711113Z",
     "start_time": "2021-09-29T08:43:34.705019Z"
    }
   },
   "outputs": [
    {
     "name": "stdout",
     "output_type": "stream",
     "text": [
      "tf.Tensor(2.5, shape=(), dtype=float32)\n",
      "tf.Tensor(81, shape=(), dtype=int32)\n"
     ]
    }
   ],
   "source": [
    "#tf.reduce_mean()\n",
    "v= [1.,2.,3.,4.]\n",
    "print(tf.reduce_mean(v))\n",
    "print(tf.square(9))"
   ]
  },
  {
   "cell_type": "markdown",
   "id": "83ad11da",
   "metadata": {},
   "source": [
    ">모든 코드"
   ]
  },
  {
   "cell_type": "code",
   "execution_count": 3,
   "id": "faa0126c",
   "metadata": {
    "ExecuteTime": {
     "end_time": "2021-10-27T10:44:09.717828Z",
     "start_time": "2021-10-27T10:44:05.635150Z"
    }
   },
   "outputs": [
    {
     "name": "stdout",
     "output_type": "stream",
     "text": [
      "    0|    2.4520|     0.376| 45.660004|\n",
      "   10|    1.1036|  0.003398|  0.206336|\n",
      "   20|    1.0128|  -0.02091|  0.001026|\n",
      "   30|    1.0065|  -0.02184|  0.000093|\n",
      "   40|    1.0059|  -0.02123|  0.000083|\n",
      "   50|    1.0057|  -0.02053|  0.000077|\n",
      "   60|    1.0055|  -0.01984|  0.000072|\n",
      "   70|    1.0053|  -0.01918|  0.000067|\n",
      "   80|    1.0051|  -0.01854|  0.000063|\n",
      "   90|    1.0050|  -0.01793|  0.000059|\n",
      "  100|    1.0048|  -0.01733|  0.000055|\n"
     ]
    }
   ],
   "source": [
    "\n",
    "x_data = [1,2,3,4,5]\n",
    "y_data = [1,2,3,4,5]\n",
    "\n",
    "\n",
    "W=tf.Variable(2.9)\n",
    "b=tf.Variable(0.5)\n",
    "\n",
    "learning_rate = 0.01\n",
    "\n",
    "for i in range(100+1):\n",
    "    with tf.GradientTape() as tape:\n",
    "        h = W*x_data+ b\n",
    "        cost = tf.reduce_mean(tf.square(h - y_data))\n",
    "\n",
    "    W_grad, b_grad = tape.gradient(cost,[W,b])\n",
    "    W.assign_sub(learning_rate*W_grad)\n",
    "    b.assign_sub(learning_rate*b_grad)\n",
    "    if i%10 == 0 :\n",
    "        print(\"{:5}|{:10.4f}|{:10.4}|{:10.6f}|\".format(i, W.numpy(), b.numpy(),cost))"
   ]
  },
  {
   "cell_type": "code",
   "execution_count": 14,
   "id": "ee6c7914",
   "metadata": {
    "ExecuteTime": {
     "end_time": "2021-10-27T10:55:59.650613Z",
     "start_time": "2021-10-27T10:55:59.571963Z"
    }
   },
   "outputs": [
    {
     "name": "stdout",
     "output_type": "stream",
     "text": [
      "tf.Tensor(7.0, shape=(), dtype=float32)\n"
     ]
    }
   ],
   "source": [
    "import tensorflow as tf\n",
    " \n",
    "# 앞쪽 레이어의 노드 빌드하기\n",
    "node2 = tf.constant(3.0, tf.float32)\n",
    "node3 = tf.constant(4.0, tf.float32)\n",
    " \n",
    "# 뒷쪽 레이어의 노드(즉 node3)를 함수로 정의하기\n",
    "@tf.function\n",
    "def forward() :\n",
    "    return node2 + node3\n",
    " \n",
    "# 그래프를 실행시키고 output을 확인해보기\n",
    "out_a = forward()\n",
    "\n",
    "print(out_a)"
   ]
  },
  {
   "cell_type": "code",
   "execution_count": 3,
   "id": "9b573102",
   "metadata": {
    "ExecuteTime": {
     "end_time": "2021-10-03T10:09:47.204212Z",
     "start_time": "2021-10-03T10:09:47.198894Z"
    }
   },
   "outputs": [
    {
     "data": {
      "text/plain": [
       "<tf.Tensor: id=3994, shape=(), dtype=float32, numpy=1.5>"
      ]
     },
     "execution_count": 3,
     "metadata": {},
     "output_type": "execute_result"
    }
   ],
   "source": [
    "x= [[1.,1.],[2.,2.]]\n",
    "tf.reduce_mean(x)"
   ]
  },
  {
   "cell_type": "code",
   "execution_count": 2,
   "id": "c980d2a3",
   "metadata": {
    "ExecuteTime": {
     "end_time": "2021-10-03T10:08:52.503309Z",
     "start_time": "2021-10-03T10:08:52.492056Z"
    }
   },
   "outputs": [
    {
     "data": {
      "text/plain": [
       "<tf.Tensor: id=3985, shape=(), dtype=float32, numpy=2.0>"
      ]
     },
     "execution_count": 2,
     "metadata": {},
     "output_type": "execute_result"
    }
   ],
   "source": [
    "v=[1.,2.,3.]\n",
    "tf.reduce_mean(v)"
   ]
  },
  {
   "cell_type": "code",
   "execution_count": 30,
   "id": "00e68a4e",
   "metadata": {
    "ExecuteTime": {
     "end_time": "2021-10-27T11:52:43.647518Z",
     "start_time": "2021-10-27T11:52:43.627652Z"
    }
   },
   "outputs": [],
   "source": [
    "# 다중 선형 회귀 방식   Multi-varible Linear Regression\n",
    "x1 = [73., 93., 89., 96.,  73.]\n",
    "x2 = [80., 88., 91., 98.,  66.]\n",
    "x3 = [75., 93., 90., 100.,  70.]\n",
    "y = [152., 185., 180., 96.,  73.]\n",
    "\n",
    "# v2 is not random_normal\n",
    "w1 = tf.Variable(tf.random.normal([1]))\n",
    "w2 = tf.Variable(tf.random.normal([1]))\n",
    "w3 = tf.Variable(tf.random.normal([1]))\n",
    "b = tf.Variable(tf.random.normal([1]))\n",
    "                \n",
    "#learning rate \n",
    "lr = 0.000001 "
   ]
  },
  {
   "cell_type": "code",
   "execution_count": 36,
   "id": "95530f07",
   "metadata": {
    "ExecuteTime": {
     "end_time": "2021-10-27T11:55:44.161658Z",
     "start_time": "2021-10-27T11:55:22.370407Z"
    }
   },
   "outputs": [
    {
     "name": "stdout",
     "output_type": "stream",
     "text": [
      "    0 |   1860.9694\n",
      "   50 |   1860.3030\n",
      "  100 |   1859.6383\n",
      "  150 |   1858.9758\n",
      "  200 |   1858.3145\n",
      "  250 |   1857.6550\n",
      "  300 |   1856.9967\n",
      "  350 |   1856.3414\n",
      "  400 |   1855.6862\n",
      "  450 |   1855.0334\n",
      "  500 |   1854.3816\n",
      "  550 |   1853.7321\n",
      "  600 |   1853.0840\n",
      "  650 |   1852.4371\n",
      "  700 |   1851.7926\n",
      "  750 |   1851.1487\n",
      "  800 |   1850.5071\n",
      "  850 |   1849.8672\n",
      "  900 |   1849.2283\n",
      "  950 |   1848.5918\n",
      " 1000 |   1847.9563\n"
     ]
    }
   ],
   "source": [
    "for i in range(1000+1):\n",
    "    with tf.GradientTape() as tape:\n",
    "        hy = w1*x1+ w2*x2+w3*x3+ b \n",
    "        cost = tf.reduce_mean(tf.square(hy - y)) \n",
    "    w1_grad,w2_grad,w3_grad,b_grad  = tape.gradient(cost,[w1,w2,w3,b])     \n",
    "    # a. = a-b     >>>   a.assign_sub(b)\n",
    "    # tf.matmul  : 원소의 곱이 아닌 행렬의 곱\n",
    "    w1.assign_sub(lr*w1_grad)\n",
    "    w2.assign_sub(lr*w2_grad)\n",
    "    w3.assign_sub(lr*w3_grad)\n",
    "    b.assign_sub(lr*b_grad)\n",
    "    if i %50 == 0 :\n",
    "        print(\"{:5} |{:12.4f}\".format(i,cost.numpy()))"
   ]
  },
  {
   "cell_type": "code",
   "execution_count": 45,
   "id": "ed5ad32e",
   "metadata": {
    "ExecuteTime": {
     "end_time": "2021-10-27T12:13:59.655985Z",
     "start_time": "2021-10-27T12:13:59.643692Z"
    }
   },
   "outputs": [],
   "source": [
    "data = np.array([\n",
    "    [73.,88.,75.,152.],\n",
    "    [93.,89.,93.,185.],\n",
    "    [89.,91.,90.,180.],\n",
    "    [96.,98.,100.,195.],\n",
    "    [73.,66.,70.,142.] ],dtype = np.float32)\n",
    "\n",
    "x = data[:, :-1]\n",
    "y = data[:,[-1]]\n",
    "w =tf.Variable(tf.random.normal([3,1]))\n",
    "b =tf.Variable(tf.random.normal([1]))"
   ]
  },
  {
   "cell_type": "code",
   "execution_count": 47,
   "id": "efe70f5d",
   "metadata": {
    "ExecuteTime": {
     "end_time": "2021-10-27T12:14:33.296089Z",
     "start_time": "2021-10-27T12:14:23.627717Z"
    }
   },
   "outputs": [
    {
     "name": "stdout",
     "output_type": "stream",
     "text": [
      "    0 |     60.5886\n",
      "   50 |     60.1994\n",
      "  100 |     59.8128\n",
      "  150 |     59.4285\n",
      "  200 |     59.0468\n",
      "  250 |     58.6676\n",
      "  300 |     58.2908\n",
      "  350 |     57.9165\n",
      "  400 |     57.5446\n",
      "  450 |     57.1751\n",
      "  500 |     56.8081\n",
      "  550 |     56.4433\n",
      "  600 |     56.0809\n",
      "  650 |     55.7209\n",
      "  700 |     55.3631\n",
      "  750 |     55.0077\n",
      "  800 |     54.6547\n",
      "  850 |     54.3039\n",
      "  900 |     53.9553\n",
      "  950 |     53.6090\n",
      " 1000 |     53.2650\n"
     ]
    }
   ],
   "source": [
    "\n",
    "lr = 0.000001\n",
    "# predict()  is a linear combination using tf matmul\n",
    "def predict(x):\n",
    "    return tf.matmul(x,w) + b\n",
    "\n",
    "n_epochs = 1000  # 반복 횟수를 epoch\n",
    "for i in range(n_epochs+1):\n",
    "    with tf.GradientTape() as tape:\n",
    "        cost = tf.reduce_mean((tf.square(predict(x)-y)))\n",
    "    w_grad,b_grad= tape.gradient(cost,[w,b])     \n",
    "    # a. = a-b     >>>   a.assign_sub(b)\n",
    "    # tf.matmul  : 원소의 곱이 아닌 행렬의 곱\n",
    "    w.assign_sub(lr*w_grad)\n",
    "    b.assign_sub(lr*b_grad)\n",
    "    if i %50 == 0 :\n",
    "        print(\"{:5} |{:12.4f}\".format(i,cost.numpy()))    \n",
    "    "
   ]
  },
  {
   "cell_type": "code",
   "execution_count": null,
   "id": "cd408200",
   "metadata": {},
   "outputs": [],
   "source": []
  },
  {
   "cell_type": "code",
   "execution_count": null,
   "id": "2125bdda",
   "metadata": {},
   "outputs": [],
   "source": []
  },
  {
   "cell_type": "code",
   "execution_count": null,
   "id": "02b590f9",
   "metadata": {},
   "outputs": [],
   "source": []
  },
  {
   "cell_type": "code",
   "execution_count": null,
   "id": "08a32daa",
   "metadata": {},
   "outputs": [],
   "source": []
  },
  {
   "cell_type": "code",
   "execution_count": null,
   "id": "62f1c164",
   "metadata": {},
   "outputs": [],
   "source": []
  },
  {
   "cell_type": "code",
   "execution_count": null,
   "id": "f1ac6007",
   "metadata": {},
   "outputs": [],
   "source": []
  }
 ],
 "metadata": {
  "kernelspec": {
   "display_name": "Python 3",
   "language": "python",
   "name": "python3"
  },
  "language_info": {
   "codemirror_mode": {
    "name": "ipython",
    "version": 3
   },
   "file_extension": ".py",
   "mimetype": "text/x-python",
   "name": "python",
   "nbconvert_exporter": "python",
   "pygments_lexer": "ipython3",
   "version": "3.7.0"
  },
  "toc": {
   "base_numbering": 1,
   "nav_menu": {},
   "number_sections": true,
   "sideBar": true,
   "skip_h1_title": false,
   "title_cell": "Table of Contents",
   "title_sidebar": "Contents",
   "toc_cell": false,
   "toc_position": {},
   "toc_section_display": true,
   "toc_window_display": false
  },
  "varInspector": {
   "cols": {
    "lenName": 16,
    "lenType": 16,
    "lenVar": 40
   },
   "kernels_config": {
    "python": {
     "delete_cmd_postfix": "",
     "delete_cmd_prefix": "del ",
     "library": "var_list.py",
     "varRefreshCmd": "print(var_dic_list())"
    },
    "r": {
     "delete_cmd_postfix": ") ",
     "delete_cmd_prefix": "rm(",
     "library": "var_list.r",
     "varRefreshCmd": "cat(var_dic_list()) "
    }
   },
   "types_to_exclude": [
    "module",
    "function",
    "builtin_function_or_method",
    "instance",
    "_Feature"
   ],
   "window_display": false
  }
 },
 "nbformat": 4,
 "nbformat_minor": 5
}
