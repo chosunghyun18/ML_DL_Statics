{
 "cells": [
  {
   "cell_type": "markdown",
   "id": "64b0fc99",
   "metadata": {},
   "source": [
    "11장 : 1,2,3,4,5,8"
   ]
  },
  {
   "cell_type": "code",
   "execution_count": 113,
   "id": "f1ec3e14",
   "metadata": {
    "ExecuteTime": {
     "end_time": "2021-11-30T07:10:50.486944Z",
     "start_time": "2021-11-30T07:10:50.482742Z"
    }
   },
   "outputs": [],
   "source": [
    "import pandas as pd\n",
    "import numpy as np\n",
    "import warnings\n",
    "import seaborn as sns; sns.set()\n",
    "import matplotlib.pyplot as plt\n",
    "from statsmodels.formula.api import ols\n",
    "from statsmodels.stats.anova import anova_lm\n",
    "warnings.filterwarnings(action='ignore')"
   ]
  },
  {
   "cell_type": "code",
   "execution_count": 73,
   "id": "189ea989",
   "metadata": {
    "ExecuteTime": {
     "end_time": "2021-11-30T06:50:35.284462Z",
     "start_time": "2021-11-30T06:50:35.269508Z"
    }
   },
   "outputs": [
    {
     "data": {
      "text/html": [
       "<div>\n",
       "<style scoped>\n",
       "    .dataframe tbody tr th:only-of-type {\n",
       "        vertical-align: middle;\n",
       "    }\n",
       "\n",
       "    .dataframe tbody tr th {\n",
       "        vertical-align: top;\n",
       "    }\n",
       "\n",
       "    .dataframe thead th {\n",
       "        text-align: right;\n",
       "    }\n",
       "</style>\n",
       "<table border=\"1\" class=\"dataframe\">\n",
       "  <thead>\n",
       "    <tr style=\"text-align: right;\">\n",
       "      <th></th>\n",
       "      <th>armpower</th>\n",
       "      <th>liftpower</th>\n",
       "    </tr>\n",
       "  </thead>\n",
       "  <tbody>\n",
       "    <tr>\n",
       "      <th>0</th>\n",
       "      <td>17.3</td>\n",
       "      <td>71.7</td>\n",
       "    </tr>\n",
       "    <tr>\n",
       "      <th>1</th>\n",
       "      <td>19.3</td>\n",
       "      <td>48.3</td>\n",
       "    </tr>\n",
       "    <tr>\n",
       "      <th>2</th>\n",
       "      <td>19.5</td>\n",
       "      <td>88.3</td>\n",
       "    </tr>\n",
       "    <tr>\n",
       "      <th>3</th>\n",
       "      <td>19.7</td>\n",
       "      <td>75.0</td>\n",
       "    </tr>\n",
       "    <tr>\n",
       "      <th>4</th>\n",
       "      <td>22.9</td>\n",
       "      <td>91.7</td>\n",
       "    </tr>\n",
       "    <tr>\n",
       "      <th>5</th>\n",
       "      <td>23.1</td>\n",
       "      <td>100.0</td>\n",
       "    </tr>\n",
       "    <tr>\n",
       "      <th>6</th>\n",
       "      <td>26.4</td>\n",
       "      <td>73.3</td>\n",
       "    </tr>\n",
       "    <tr>\n",
       "      <th>7</th>\n",
       "      <td>26.8</td>\n",
       "      <td>65.0</td>\n",
       "    </tr>\n",
       "    <tr>\n",
       "      <th>8</th>\n",
       "      <td>27.6</td>\n",
       "      <td>75.0</td>\n",
       "    </tr>\n",
       "    <tr>\n",
       "      <th>9</th>\n",
       "      <td>28.1</td>\n",
       "      <td>88.3</td>\n",
       "    </tr>\n",
       "    <tr>\n",
       "      <th>10</th>\n",
       "      <td>28.2</td>\n",
       "      <td>68.3</td>\n",
       "    </tr>\n",
       "    <tr>\n",
       "      <th>11</th>\n",
       "      <td>28.7</td>\n",
       "      <td>96.7</td>\n",
       "    </tr>\n",
       "    <tr>\n",
       "      <th>12</th>\n",
       "      <td>29.0</td>\n",
       "      <td>76.7</td>\n",
       "    </tr>\n",
       "    <tr>\n",
       "      <th>13</th>\n",
       "      <td>29.6</td>\n",
       "      <td>78.3</td>\n",
       "    </tr>\n",
       "    <tr>\n",
       "      <th>14</th>\n",
       "      <td>29.9</td>\n",
       "      <td>60.0</td>\n",
       "    </tr>\n",
       "    <tr>\n",
       "      <th>15</th>\n",
       "      <td>29.9</td>\n",
       "      <td>71.7</td>\n",
       "    </tr>\n",
       "    <tr>\n",
       "      <th>16</th>\n",
       "      <td>30.3</td>\n",
       "      <td>85.0</td>\n",
       "    </tr>\n",
       "    <tr>\n",
       "      <th>17</th>\n",
       "      <td>31.3</td>\n",
       "      <td>85.0</td>\n",
       "    </tr>\n",
       "    <tr>\n",
       "      <th>18</th>\n",
       "      <td>36.0</td>\n",
       "      <td>88.3</td>\n",
       "    </tr>\n",
       "    <tr>\n",
       "      <th>19</th>\n",
       "      <td>39.5</td>\n",
       "      <td>100.0</td>\n",
       "    </tr>\n",
       "    <tr>\n",
       "      <th>20</th>\n",
       "      <td>40.4</td>\n",
       "      <td>100.0</td>\n",
       "    </tr>\n",
       "    <tr>\n",
       "      <th>21</th>\n",
       "      <td>44.3</td>\n",
       "      <td>100.0</td>\n",
       "    </tr>\n",
       "    <tr>\n",
       "      <th>22</th>\n",
       "      <td>44.6</td>\n",
       "      <td>91.7</td>\n",
       "    </tr>\n",
       "    <tr>\n",
       "      <th>23</th>\n",
       "      <td>50.4</td>\n",
       "      <td>100.0</td>\n",
       "    </tr>\n",
       "    <tr>\n",
       "      <th>24</th>\n",
       "      <td>55.9</td>\n",
       "      <td>71.1</td>\n",
       "    </tr>\n",
       "  </tbody>\n",
       "</table>\n",
       "</div>"
      ],
      "text/plain": [
       "    armpower  liftpower\n",
       "0       17.3       71.7\n",
       "1       19.3       48.3\n",
       "2       19.5       88.3\n",
       "3       19.7       75.0\n",
       "4       22.9       91.7\n",
       "5       23.1      100.0\n",
       "6       26.4       73.3\n",
       "7       26.8       65.0\n",
       "8       27.6       75.0\n",
       "9       28.1       88.3\n",
       "10      28.2       68.3\n",
       "11      28.7       96.7\n",
       "12      29.0       76.7\n",
       "13      29.6       78.3\n",
       "14      29.9       60.0\n",
       "15      29.9       71.7\n",
       "16      30.3       85.0\n",
       "17      31.3       85.0\n",
       "18      36.0       88.3\n",
       "19      39.5      100.0\n",
       "20      40.4      100.0\n",
       "21      44.3      100.0\n",
       "22      44.6       91.7\n",
       "23      50.4      100.0\n",
       "24      55.9       71.1"
      ]
     },
     "execution_count": 73,
     "metadata": {},
     "output_type": "execute_result"
    }
   ],
   "source": [
    "#11.1\n",
    "\n",
    "x=[17.3,19.3,19.5,19.7,22.9,23.1,26.4,26.8,27.6,28.1,28.2,28.7, \n",
    "      29.0,29.6,29.9,29.9,30.3,31.3,36.0,39.5,40.4,44.3,44.6,50.4,55.9\n",
    "  ]\n",
    "y=[\n",
    "    71.7,48.3,88.3,75.0,91.7,100.0,73.3,65.0,75.0,88.3,68.3,96.7,76.7,78.3,\n",
    "    60.0,71.7,85.0,85.0,88.3,100.0,100.0,100.0,91.7,100.0,71.1\n",
    "]\n",
    "strong= pd.DataFrame({'armpower':x,'liftpower':y})\n",
    "strong"
   ]
  },
  {
   "cell_type": "code",
   "execution_count": 74,
   "id": "69fcfb7d",
   "metadata": {
    "ExecuteTime": {
     "end_time": "2021-11-30T06:50:35.304486Z",
     "start_time": "2021-11-30T06:50:35.286772Z"
    }
   },
   "outputs": [
    {
     "data": {
      "text/html": [
       "<table class=\"simpletable\">\n",
       "<caption>OLS Regression Results</caption>\n",
       "<tr>\n",
       "  <th>Dep. Variable:</th>        <td>liftpower</td>    <th>  R-squared:         </th> <td>   0.150</td>\n",
       "</tr>\n",
       "<tr>\n",
       "  <th>Model:</th>                   <td>OLS</td>       <th>  Adj. R-squared:    </th> <td>   0.113</td>\n",
       "</tr>\n",
       "<tr>\n",
       "  <th>Method:</th>             <td>Least Squares</td>  <th>  F-statistic:       </th> <td>   4.045</td>\n",
       "</tr>\n",
       "<tr>\n",
       "  <th>Date:</th>             <td>Tue, 30 Nov 2021</td> <th>  Prob (F-statistic):</th>  <td>0.0562</td> \n",
       "</tr>\n",
       "<tr>\n",
       "  <th>Time:</th>                 <td>15:50:35</td>     <th>  Log-Likelihood:    </th> <td> -99.178</td>\n",
       "</tr>\n",
       "<tr>\n",
       "  <th>No. Observations:</th>      <td>    25</td>      <th>  AIC:               </th> <td>   202.4</td>\n",
       "</tr>\n",
       "<tr>\n",
       "  <th>Df Residuals:</th>          <td>    23</td>      <th>  BIC:               </th> <td>   204.8</td>\n",
       "</tr>\n",
       "<tr>\n",
       "  <th>Df Model:</th>              <td>     1</td>      <th>                     </th>     <td> </td>   \n",
       "</tr>\n",
       "<tr>\n",
       "  <th>Covariance Type:</th>      <td>nonrobust</td>    <th>                     </th>     <td> </td>   \n",
       "</tr>\n",
       "</table>\n",
       "<table class=\"simpletable\">\n",
       "<tr>\n",
       "      <td></td>         <th>coef</th>     <th>std err</th>      <th>t</th>      <th>P>|t|</th>  <th>[0.025</th>    <th>0.975]</th>  \n",
       "</tr>\n",
       "<tr>\n",
       "  <th>Intercept</th> <td>   64.7031</td> <td>    8.992</td> <td>    7.195</td> <td> 0.000</td> <td>   46.101</td> <td>   83.305</td>\n",
       "</tr>\n",
       "<tr>\n",
       "  <th>armpower</th>  <td>    0.5545</td> <td>    0.276</td> <td>    2.011</td> <td> 0.056</td> <td>   -0.016</td> <td>    1.125</td>\n",
       "</tr>\n",
       "</table>\n",
       "<table class=\"simpletable\">\n",
       "<tr>\n",
       "  <th>Omnibus:</th>       <td> 1.185</td> <th>  Durbin-Watson:     </th> <td>   1.782</td>\n",
       "</tr>\n",
       "<tr>\n",
       "  <th>Prob(Omnibus):</th> <td> 0.553</td> <th>  Jarque-Bera (JB):  </th> <td>   1.101</td>\n",
       "</tr>\n",
       "<tr>\n",
       "  <th>Skew:</th>          <td>-0.445</td> <th>  Prob(JB):          </th> <td>   0.577</td>\n",
       "</tr>\n",
       "<tr>\n",
       "  <th>Kurtosis:</th>      <td> 2.486</td> <th>  Cond. No.          </th> <td>    110.</td>\n",
       "</tr>\n",
       "</table><br/><br/>Notes:<br/>[1] Standard Errors assume that the covariance matrix of the errors is correctly specified."
      ],
      "text/plain": [
       "<class 'statsmodels.iolib.summary.Summary'>\n",
       "\"\"\"\n",
       "                            OLS Regression Results                            \n",
       "==============================================================================\n",
       "Dep. Variable:              liftpower   R-squared:                       0.150\n",
       "Model:                            OLS   Adj. R-squared:                  0.113\n",
       "Method:                 Least Squares   F-statistic:                     4.045\n",
       "Date:                Tue, 30 Nov 2021   Prob (F-statistic):             0.0562\n",
       "Time:                        15:50:35   Log-Likelihood:                -99.178\n",
       "No. Observations:                  25   AIC:                             202.4\n",
       "Df Residuals:                      23   BIC:                             204.8\n",
       "Df Model:                           1                                         \n",
       "Covariance Type:            nonrobust                                         \n",
       "==============================================================================\n",
       "                 coef    std err          t      P>|t|      [0.025      0.975]\n",
       "------------------------------------------------------------------------------\n",
       "Intercept     64.7031      8.992      7.195      0.000      46.101      83.305\n",
       "armpower       0.5545      0.276      2.011      0.056      -0.016       1.125\n",
       "==============================================================================\n",
       "Omnibus:                        1.185   Durbin-Watson:                   1.782\n",
       "Prob(Omnibus):                  0.553   Jarque-Bera (JB):                1.101\n",
       "Skew:                          -0.445   Prob(JB):                        0.577\n",
       "Kurtosis:                       2.486   Cond. No.                         110.\n",
       "==============================================================================\n",
       "\n",
       "Notes:\n",
       "[1] Standard Errors assume that the covariance matrix of the errors is correctly specified.\n",
       "\"\"\""
      ]
     },
     "execution_count": 74,
     "metadata": {},
     "output_type": "execute_result"
    }
   ],
   "source": [
    "model = ols('liftpower ~ armpower',strong).fit()\n",
    "model.summary()"
   ]
  },
  {
   "cell_type": "markdown",
   "id": "820aea5d",
   "metadata": {},
   "source": [
    "#### 11 a)\n",
    "회귀 직선의 B0, B1 추정\n",
    "\n",
    "\n",
    "Y_hat = B0+B1x\n",
    "\n",
    "B1 = 0.5545\n",
    "\n",
    "B0 = 64.703"
   ]
  },
  {
   "cell_type": "markdown",
   "id": "bcdfca6c",
   "metadata": {},
   "source": [
    "#### 11 b)\n",
    "점추정값  x =30 인 경우\n",
    "\n",
    "식:y = 64.703+0.5545x  , x =30 대입\n",
    " \n",
    "답 :65.2575"
   ]
  },
  {
   "cell_type": "code",
   "execution_count": 75,
   "id": "243e0927",
   "metadata": {
    "ExecuteTime": {
     "end_time": "2021-11-30T06:50:35.309524Z",
     "start_time": "2021-11-30T06:50:35.306647Z"
    }
   },
   "outputs": [
    {
     "name": "stdout",
     "output_type": "stream",
     "text": [
      "65.2575\n"
     ]
    }
   ],
   "source": [
    "# 답:\n",
    "x=1\n",
    "y = 64.703+0.5545*x\n",
    "x=30.0\n",
    "print(round(y,4))"
   ]
  },
  {
   "cell_type": "markdown",
   "id": "30dd23e6",
   "metadata": {},
   "source": [
    "#### 11 c)\n",
    "팔의 힘에 대해 잔차를 표시\n",
    "잔차(residual)의 의미 :  \n",
    "\n",
    "회귀식과 실제 관측값의 차이 작을수록 모델이 정확하다는 근거가 된다.\n",
    "\n",
    "MSE:\n",
    "x  팔의 힘의 대한 잔차제곱의 합의 평균: \n",
    "\n",
    "MSE = sse / ((n-2)=df )\n",
    "\n",
    "MSE : 177.6346"
   ]
  },
  {
   "cell_type": "code",
   "execution_count": 76,
   "id": "9e40cde9",
   "metadata": {
    "ExecuteTime": {
     "end_time": "2021-11-30T06:50:35.323797Z",
     "start_time": "2021-11-30T06:50:35.311395Z"
    }
   },
   "outputs": [
    {
     "data": {
      "text/html": [
       "<div>\n",
       "<style scoped>\n",
       "    .dataframe tbody tr th:only-of-type {\n",
       "        vertical-align: middle;\n",
       "    }\n",
       "\n",
       "    .dataframe tbody tr th {\n",
       "        vertical-align: top;\n",
       "    }\n",
       "\n",
       "    .dataframe thead th {\n",
       "        text-align: right;\n",
       "    }\n",
       "</style>\n",
       "<table border=\"1\" class=\"dataframe\">\n",
       "  <thead>\n",
       "    <tr style=\"text-align: right;\">\n",
       "      <th></th>\n",
       "      <th>df</th>\n",
       "      <th>sum_sq</th>\n",
       "      <th>mean_sq</th>\n",
       "      <th>F</th>\n",
       "      <th>PR(&gt;F)</th>\n",
       "    </tr>\n",
       "  </thead>\n",
       "  <tbody>\n",
       "    <tr>\n",
       "      <th>armpower</th>\n",
       "      <td>1.0</td>\n",
       "      <td>718.569462</td>\n",
       "      <td>718.569462</td>\n",
       "      <td>4.045211</td>\n",
       "      <td>0.056159</td>\n",
       "    </tr>\n",
       "    <tr>\n",
       "      <th>Residual</th>\n",
       "      <td>23.0</td>\n",
       "      <td>4085.596138</td>\n",
       "      <td>177.634615</td>\n",
       "      <td>NaN</td>\n",
       "      <td>NaN</td>\n",
       "    </tr>\n",
       "  </tbody>\n",
       "</table>\n",
       "</div>"
      ],
      "text/plain": [
       "            df       sum_sq     mean_sq         F    PR(>F)\n",
       "armpower   1.0   718.569462  718.569462  4.045211  0.056159\n",
       "Residual  23.0  4085.596138  177.634615       NaN       NaN"
      ]
     },
     "execution_count": 76,
     "metadata": {},
     "output_type": "execute_result"
    }
   ],
   "source": [
    "anova_lm(model) "
   ]
  },
  {
   "cell_type": "code",
   "execution_count": 77,
   "id": "5f606e8a",
   "metadata": {
    "ExecuteTime": {
     "end_time": "2021-11-30T06:50:35.335074Z",
     "start_time": "2021-11-30T06:50:35.326314Z"
    }
   },
   "outputs": [
    {
     "data": {
      "text/html": [
       "<div>\n",
       "<style scoped>\n",
       "    .dataframe tbody tr th:only-of-type {\n",
       "        vertical-align: middle;\n",
       "    }\n",
       "\n",
       "    .dataframe tbody tr th {\n",
       "        vertical-align: top;\n",
       "    }\n",
       "\n",
       "    .dataframe thead th {\n",
       "        text-align: right;\n",
       "    }\n",
       "</style>\n",
       "<table border=\"1\" class=\"dataframe\">\n",
       "  <thead>\n",
       "    <tr style=\"text-align: right;\">\n",
       "      <th></th>\n",
       "      <th>midscroe</th>\n",
       "      <th>final</th>\n",
       "    </tr>\n",
       "  </thead>\n",
       "  <tbody>\n",
       "    <tr>\n",
       "      <th>0</th>\n",
       "      <td>77</td>\n",
       "      <td>82</td>\n",
       "    </tr>\n",
       "    <tr>\n",
       "      <th>1</th>\n",
       "      <td>50</td>\n",
       "      <td>66</td>\n",
       "    </tr>\n",
       "    <tr>\n",
       "      <th>2</th>\n",
       "      <td>71</td>\n",
       "      <td>78</td>\n",
       "    </tr>\n",
       "    <tr>\n",
       "      <th>3</th>\n",
       "      <td>72</td>\n",
       "      <td>34</td>\n",
       "    </tr>\n",
       "    <tr>\n",
       "      <th>4</th>\n",
       "      <td>81</td>\n",
       "      <td>47</td>\n",
       "    </tr>\n",
       "    <tr>\n",
       "      <th>5</th>\n",
       "      <td>94</td>\n",
       "      <td>85</td>\n",
       "    </tr>\n",
       "    <tr>\n",
       "      <th>6</th>\n",
       "      <td>96</td>\n",
       "      <td>99</td>\n",
       "    </tr>\n",
       "    <tr>\n",
       "      <th>7</th>\n",
       "      <td>99</td>\n",
       "      <td>99</td>\n",
       "    </tr>\n",
       "    <tr>\n",
       "      <th>8</th>\n",
       "      <td>67</td>\n",
       "      <td>68</td>\n",
       "    </tr>\n",
       "  </tbody>\n",
       "</table>\n",
       "</div>"
      ],
      "text/plain": [
       "   midscroe  final\n",
       "0        77     82\n",
       "1        50     66\n",
       "2        71     78\n",
       "3        72     34\n",
       "4        81     47\n",
       "5        94     85\n",
       "6        96     99\n",
       "7        99     99\n",
       "8        67     68"
      ]
     },
     "execution_count": 77,
     "metadata": {},
     "output_type": "execute_result"
    }
   ],
   "source": [
    "#11.2\n",
    "x=[77,50,71,72,81,94,96,99,67]\n",
    "y=[82,66,78,34,47,85,99,99,68]\n",
    "score= pd.DataFrame({'midscroe':x,'final':y})\n",
    "score"
   ]
  },
  {
   "cell_type": "code",
   "execution_count": 78,
   "id": "048fdd35",
   "metadata": {
    "ExecuteTime": {
     "end_time": "2021-11-30T06:50:35.353617Z",
     "start_time": "2021-11-30T06:50:35.337989Z"
    }
   },
   "outputs": [
    {
     "data": {
      "text/html": [
       "<table class=\"simpletable\">\n",
       "<caption>OLS Regression Results</caption>\n",
       "<tr>\n",
       "  <th>Dep. Variable:</th>          <td>final</td>      <th>  R-squared:         </th> <td>   0.315</td>\n",
       "</tr>\n",
       "<tr>\n",
       "  <th>Model:</th>                   <td>OLS</td>       <th>  Adj. R-squared:    </th> <td>   0.217</td>\n",
       "</tr>\n",
       "<tr>\n",
       "  <th>Method:</th>             <td>Least Squares</td>  <th>  F-statistic:       </th> <td>   3.215</td>\n",
       "</tr>\n",
       "<tr>\n",
       "  <th>Date:</th>             <td>Tue, 30 Nov 2021</td> <th>  Prob (F-statistic):</th>  <td> 0.116</td> \n",
       "</tr>\n",
       "<tr>\n",
       "  <th>Time:</th>                 <td>15:50:35</td>     <th>  Log-Likelihood:    </th> <td> -38.360</td>\n",
       "</tr>\n",
       "<tr>\n",
       "  <th>No. Observations:</th>      <td>     9</td>      <th>  AIC:               </th> <td>   80.72</td>\n",
       "</tr>\n",
       "<tr>\n",
       "  <th>Df Residuals:</th>          <td>     7</td>      <th>  BIC:               </th> <td>   81.11</td>\n",
       "</tr>\n",
       "<tr>\n",
       "  <th>Df Model:</th>              <td>     1</td>      <th>                     </th>     <td> </td>   \n",
       "</tr>\n",
       "<tr>\n",
       "  <th>Covariance Type:</th>      <td>nonrobust</td>    <th>                     </th>     <td> </td>   \n",
       "</tr>\n",
       "</table>\n",
       "<table class=\"simpletable\">\n",
       "<tr>\n",
       "      <td></td>         <th>coef</th>     <th>std err</th>      <th>t</th>      <th>P>|t|</th>  <th>[0.025</th>    <th>0.975]</th>  \n",
       "</tr>\n",
       "<tr>\n",
       "  <th>Intercept</th> <td>   12.0623</td> <td>   34.661</td> <td>    0.348</td> <td> 0.738</td> <td>  -69.898</td> <td>   94.023</td>\n",
       "</tr>\n",
       "<tr>\n",
       "  <th>midscroe</th>  <td>    0.7771</td> <td>    0.433</td> <td>    1.793</td> <td> 0.116</td> <td>   -0.248</td> <td>    1.802</td>\n",
       "</tr>\n",
       "</table>\n",
       "<table class=\"simpletable\">\n",
       "<tr>\n",
       "  <th>Omnibus:</th>       <td> 4.029</td> <th>  Durbin-Watson:     </th> <td>   1.153</td>\n",
       "</tr>\n",
       "<tr>\n",
       "  <th>Prob(Omnibus):</th> <td> 0.133</td> <th>  Jarque-Bera (JB):  </th> <td>   2.055</td>\n",
       "</tr>\n",
       "<tr>\n",
       "  <th>Skew:</th>          <td>-1.156</td> <th>  Prob(JB):          </th> <td>   0.358</td>\n",
       "</tr>\n",
       "<tr>\n",
       "  <th>Kurtosis:</th>      <td> 2.637</td> <th>  Cond. No.          </th> <td>    427.</td>\n",
       "</tr>\n",
       "</table><br/><br/>Notes:<br/>[1] Standard Errors assume that the covariance matrix of the errors is correctly specified."
      ],
      "text/plain": [
       "<class 'statsmodels.iolib.summary.Summary'>\n",
       "\"\"\"\n",
       "                            OLS Regression Results                            \n",
       "==============================================================================\n",
       "Dep. Variable:                  final   R-squared:                       0.315\n",
       "Model:                            OLS   Adj. R-squared:                  0.217\n",
       "Method:                 Least Squares   F-statistic:                     3.215\n",
       "Date:                Tue, 30 Nov 2021   Prob (F-statistic):              0.116\n",
       "Time:                        15:50:35   Log-Likelihood:                -38.360\n",
       "No. Observations:                   9   AIC:                             80.72\n",
       "Df Residuals:                       7   BIC:                             81.11\n",
       "Df Model:                           1                                         \n",
       "Covariance Type:            nonrobust                                         \n",
       "==============================================================================\n",
       "                 coef    std err          t      P>|t|      [0.025      0.975]\n",
       "------------------------------------------------------------------------------\n",
       "Intercept     12.0623     34.661      0.348      0.738     -69.898      94.023\n",
       "midscroe       0.7771      0.433      1.793      0.116      -0.248       1.802\n",
       "==============================================================================\n",
       "Omnibus:                        4.029   Durbin-Watson:                   1.153\n",
       "Prob(Omnibus):                  0.133   Jarque-Bera (JB):                2.055\n",
       "Skew:                          -1.156   Prob(JB):                        0.358\n",
       "Kurtosis:                       2.637   Cond. No.                         427.\n",
       "==============================================================================\n",
       "\n",
       "Notes:\n",
       "[1] Standard Errors assume that the covariance matrix of the errors is correctly specified.\n",
       "\"\"\""
      ]
     },
     "execution_count": 78,
     "metadata": {},
     "output_type": "execute_result"
    }
   ],
   "source": [
    "model = ols('final ~ midscroe',score).fit()\n",
    "model.summary()"
   ]
  },
  {
   "cell_type": "markdown",
   "id": "3afd19c6",
   "metadata": {},
   "source": [
    "#### 11.2 a)\n",
    "직선 추정\n",
    "y = 12.0623+0.7771*x\n",
    "\n",
    "#### 11.2 b)\n",
    "중간 x = 85 \n",
    "기말 고사 추정 y =78.1158 "
   ]
  },
  {
   "cell_type": "code",
   "execution_count": 79,
   "id": "6b7f58ee",
   "metadata": {
    "ExecuteTime": {
     "end_time": "2021-11-30T06:50:35.358672Z",
     "start_time": "2021-11-30T06:50:35.355874Z"
    }
   },
   "outputs": [
    {
     "name": "stdout",
     "output_type": "stream",
     "text": [
      "78.1158\n"
     ]
    }
   ],
   "source": [
    "x=85.0\n",
    "y = 12.0623+0.7771*x\n",
    "print(round(y,5))"
   ]
  },
  {
   "cell_type": "code",
   "execution_count": 136,
   "id": "34af430e",
   "metadata": {
    "ExecuteTime": {
     "end_time": "2021-11-30T07:22:47.200093Z",
     "start_time": "2021-11-30T07:22:47.190471Z"
    }
   },
   "outputs": [
    {
     "data": {
      "text/html": [
       "<div>\n",
       "<style scoped>\n",
       "    .dataframe tbody tr th:only-of-type {\n",
       "        vertical-align: middle;\n",
       "    }\n",
       "\n",
       "    .dataframe tbody tr th {\n",
       "        vertical-align: top;\n",
       "    }\n",
       "\n",
       "    .dataframe thead th {\n",
       "        text-align: right;\n",
       "    }\n",
       "</style>\n",
       "<table border=\"1\" class=\"dataframe\">\n",
       "  <thead>\n",
       "    <tr style=\"text-align: right;\">\n",
       "      <th></th>\n",
       "      <th>c</th>\n",
       "      <th>grams</th>\n",
       "    </tr>\n",
       "  </thead>\n",
       "  <tbody>\n",
       "    <tr>\n",
       "      <th>0</th>\n",
       "      <td>0</td>\n",
       "      <td>8</td>\n",
       "    </tr>\n",
       "    <tr>\n",
       "      <th>1</th>\n",
       "      <td>0</td>\n",
       "      <td>6</td>\n",
       "    </tr>\n",
       "    <tr>\n",
       "      <th>2</th>\n",
       "      <td>0</td>\n",
       "      <td>8</td>\n",
       "    </tr>\n",
       "    <tr>\n",
       "      <th>3</th>\n",
       "      <td>15</td>\n",
       "      <td>12</td>\n",
       "    </tr>\n",
       "    <tr>\n",
       "      <th>4</th>\n",
       "      <td>15</td>\n",
       "      <td>10</td>\n",
       "    </tr>\n",
       "    <tr>\n",
       "      <th>5</th>\n",
       "      <td>15</td>\n",
       "      <td>14</td>\n",
       "    </tr>\n",
       "    <tr>\n",
       "      <th>6</th>\n",
       "      <td>30</td>\n",
       "      <td>25</td>\n",
       "    </tr>\n",
       "    <tr>\n",
       "      <th>7</th>\n",
       "      <td>30</td>\n",
       "      <td>21</td>\n",
       "    </tr>\n",
       "    <tr>\n",
       "      <th>8</th>\n",
       "      <td>30</td>\n",
       "      <td>24</td>\n",
       "    </tr>\n",
       "    <tr>\n",
       "      <th>9</th>\n",
       "      <td>45</td>\n",
       "      <td>31</td>\n",
       "    </tr>\n",
       "    <tr>\n",
       "      <th>10</th>\n",
       "      <td>45</td>\n",
       "      <td>33</td>\n",
       "    </tr>\n",
       "    <tr>\n",
       "      <th>11</th>\n",
       "      <td>45</td>\n",
       "      <td>28</td>\n",
       "    </tr>\n",
       "    <tr>\n",
       "      <th>12</th>\n",
       "      <td>60</td>\n",
       "      <td>44</td>\n",
       "    </tr>\n",
       "    <tr>\n",
       "      <th>13</th>\n",
       "      <td>60</td>\n",
       "      <td>39</td>\n",
       "    </tr>\n",
       "    <tr>\n",
       "      <th>14</th>\n",
       "      <td>60</td>\n",
       "      <td>42</td>\n",
       "    </tr>\n",
       "    <tr>\n",
       "      <th>15</th>\n",
       "      <td>75</td>\n",
       "      <td>48</td>\n",
       "    </tr>\n",
       "    <tr>\n",
       "      <th>16</th>\n",
       "      <td>75</td>\n",
       "      <td>51</td>\n",
       "    </tr>\n",
       "    <tr>\n",
       "      <th>17</th>\n",
       "      <td>75</td>\n",
       "      <td>44</td>\n",
       "    </tr>\n",
       "  </tbody>\n",
       "</table>\n",
       "</div>"
      ],
      "text/plain": [
       "     c  grams\n",
       "0    0      8\n",
       "1    0      6\n",
       "2    0      8\n",
       "3   15     12\n",
       "4   15     10\n",
       "5   15     14\n",
       "6   30     25\n",
       "7   30     21\n",
       "8   30     24\n",
       "9   45     31\n",
       "10  45     33\n",
       "11  45     28\n",
       "12  60     44\n",
       "13  60     39\n",
       "14  60     42\n",
       "15  75     48\n",
       "16  75     51\n",
       "17  75     44"
      ]
     },
     "execution_count": 136,
     "metadata": {},
     "output_type": "execute_result"
    }
   ],
   "source": [
    "#11.3\n",
    "x=[0,0,0,15,15,15,30,30,30,45,45,45,60,60,60,75,75,75]\n",
    "y=[8,6,8,\n",
    "    12,10,14,\n",
    "    25,21,24,\n",
    "    31,33,28,\n",
    "    44,39,42,\n",
    "    48,51,44]\n",
    "amount= pd.DataFrame({'c':x,'grams':y})\n",
    "amount"
   ]
  },
  {
   "cell_type": "code",
   "execution_count": 138,
   "id": "651179b6",
   "metadata": {
    "ExecuteTime": {
     "end_time": "2021-11-30T07:22:52.935803Z",
     "start_time": "2021-11-30T07:22:52.916813Z"
    }
   },
   "outputs": [
    {
     "data": {
      "text/html": [
       "<table class=\"simpletable\">\n",
       "<caption>OLS Regression Results</caption>\n",
       "<tr>\n",
       "  <th>Dep. Variable:</th>          <td>grams</td>      <th>  R-squared:         </th> <td>   0.973</td>\n",
       "</tr>\n",
       "<tr>\n",
       "  <th>Model:</th>                   <td>OLS</td>       <th>  Adj. R-squared:    </th> <td>   0.971</td>\n",
       "</tr>\n",
       "<tr>\n",
       "  <th>Method:</th>             <td>Least Squares</td>  <th>  F-statistic:       </th> <td>   575.1</td>\n",
       "</tr>\n",
       "<tr>\n",
       "  <th>Date:</th>             <td>Tue, 30 Nov 2021</td> <th>  Prob (F-statistic):</th> <td>5.73e-14</td>\n",
       "</tr>\n",
       "<tr>\n",
       "  <th>Time:</th>                 <td>16:22:52</td>     <th>  Log-Likelihood:    </th> <td> -41.489</td>\n",
       "</tr>\n",
       "<tr>\n",
       "  <th>No. Observations:</th>      <td>    18</td>      <th>  AIC:               </th> <td>   86.98</td>\n",
       "</tr>\n",
       "<tr>\n",
       "  <th>Df Residuals:</th>          <td>    16</td>      <th>  BIC:               </th> <td>   88.76</td>\n",
       "</tr>\n",
       "<tr>\n",
       "  <th>Df Model:</th>              <td>     1</td>      <th>                     </th>     <td> </td>   \n",
       "</tr>\n",
       "<tr>\n",
       "  <th>Covariance Type:</th>      <td>nonrobust</td>    <th>                     </th>     <td> </td>   \n",
       "</tr>\n",
       "</table>\n",
       "<table class=\"simpletable\">\n",
       "<tr>\n",
       "      <td></td>         <th>coef</th>     <th>std err</th>      <th>t</th>      <th>P>|t|</th>  <th>[0.025</th>    <th>0.975]</th>  \n",
       "</tr>\n",
       "<tr>\n",
       "  <th>Intercept</th> <td>    5.8254</td> <td>    1.075</td> <td>    5.419</td> <td> 0.000</td> <td>    3.547</td> <td>    8.104</td>\n",
       "</tr>\n",
       "<tr>\n",
       "  <th>c</th>         <td>    0.5676</td> <td>    0.024</td> <td>   23.980</td> <td> 0.000</td> <td>    0.517</td> <td>    0.618</td>\n",
       "</tr>\n",
       "</table>\n",
       "<table class=\"simpletable\">\n",
       "<tr>\n",
       "  <th>Omnibus:</th>       <td> 1.106</td> <th>  Durbin-Watson:     </th> <td>   2.505</td>\n",
       "</tr>\n",
       "<tr>\n",
       "  <th>Prob(Omnibus):</th> <td> 0.575</td> <th>  Jarque-Bera (JB):  </th> <td>   0.948</td>\n",
       "</tr>\n",
       "<tr>\n",
       "  <th>Skew:</th>          <td>-0.357</td> <th>  Prob(JB):          </th> <td>   0.622</td>\n",
       "</tr>\n",
       "<tr>\n",
       "  <th>Kurtosis:</th>      <td> 2.131</td> <th>  Cond. No.          </th> <td>    80.5</td>\n",
       "</tr>\n",
       "</table><br/><br/>Notes:<br/>[1] Standard Errors assume that the covariance matrix of the errors is correctly specified."
      ],
      "text/plain": [
       "<class 'statsmodels.iolib.summary.Summary'>\n",
       "\"\"\"\n",
       "                            OLS Regression Results                            \n",
       "==============================================================================\n",
       "Dep. Variable:                  grams   R-squared:                       0.973\n",
       "Model:                            OLS   Adj. R-squared:                  0.971\n",
       "Method:                 Least Squares   F-statistic:                     575.1\n",
       "Date:                Tue, 30 Nov 2021   Prob (F-statistic):           5.73e-14\n",
       "Time:                        16:22:52   Log-Likelihood:                -41.489\n",
       "No. Observations:                  18   AIC:                             86.98\n",
       "Df Residuals:                      16   BIC:                             88.76\n",
       "Df Model:                           1                                         \n",
       "Covariance Type:            nonrobust                                         \n",
       "==============================================================================\n",
       "                 coef    std err          t      P>|t|      [0.025      0.975]\n",
       "------------------------------------------------------------------------------\n",
       "Intercept      5.8254      1.075      5.419      0.000       3.547       8.104\n",
       "c              0.5676      0.024     23.980      0.000       0.517       0.618\n",
       "==============================================================================\n",
       "Omnibus:                        1.106   Durbin-Watson:                   2.505\n",
       "Prob(Omnibus):                  0.575   Jarque-Bera (JB):                0.948\n",
       "Skew:                          -0.357   Prob(JB):                        0.622\n",
       "Kurtosis:                       2.131   Cond. No.                         80.5\n",
       "==============================================================================\n",
       "\n",
       "Notes:\n",
       "[1] Standard Errors assume that the covariance matrix of the errors is correctly specified.\n",
       "\"\"\""
      ]
     },
     "execution_count": 138,
     "metadata": {},
     "output_type": "execute_result"
    }
   ],
   "source": [
    "model = ols('grams ~ c',amount).fit()\n",
    "model.summary()"
   ]
  },
  {
   "cell_type": "markdown",
   "id": "c5d67d28",
   "metadata": {},
   "source": [
    "#### 11.3 a)\n",
    "직선 추정\n",
    "y = 5.8254+0.5676*x"
   ]
  },
  {
   "cell_type": "code",
   "execution_count": 137,
   "id": "acdc74be",
   "metadata": {
    "ExecuteTime": {
     "end_time": "2021-11-30T07:22:49.895733Z",
     "start_time": "2021-11-30T07:22:49.606644Z"
    }
   },
   "outputs": [
    {
     "data": {
      "text/plain": [
       "Text(12.085, 0.5, 'Grams')"
      ]
     },
     "execution_count": 137,
     "metadata": {},
     "output_type": "execute_result"
    },
    {
     "data": {
      "image/png": "[encoded data removed]",
      "text/plain": [
       "<Figure size 360x360 with 1 Axes>"
      ]
     },
     "metadata": {},
     "output_type": "display_data"
    }
   ],
   "source": [
    "# 11.3 b)\n",
    "#산점도\n",
    "# ax = sns.scatterplot(x=\"c\",y=\"grams\",data=amount)\n",
    "\n",
    "ax = sns.lmplot(x=\"c\",y=\"grams\",data=amount)\n",
    "\n",
    "ax.set(xlim = (min(x)-10,max(x)+10))\n",
    "plt.xlabel(\"Celsius\")\n",
    "plt.ylabel(\"Grams\",rotation =0)"
   ]
  },
  {
   "cell_type": "markdown",
   "id": "0d3e3c64",
   "metadata": {},
   "source": [
    "#### 11.3 c)\n",
    "\n",
    "온도 x = 50\n",
    "\n",
    "물의양 추정 y =34.21"
   ]
  },
  {
   "cell_type": "code",
   "execution_count": 83,
   "id": "adfb1d61",
   "metadata": {
    "ExecuteTime": {
     "end_time": "2021-11-30T06:50:35.648695Z",
     "start_time": "2021-11-30T06:50:35.645949Z"
    }
   },
   "outputs": [
    {
     "name": "stdout",
     "output_type": "stream",
     "text": [
      "34.2054\n"
     ]
    }
   ],
   "source": [
    "x = 50.0\n",
    "y = 5.8254+0.5676*x\n",
    "print(y)"
   ]
  },
  {
   "cell_type": "code",
   "execution_count": 84,
   "id": "94a990d5",
   "metadata": {
    "ExecuteTime": {
     "end_time": "2021-11-30T06:50:35.659842Z",
     "start_time": "2021-11-30T06:50:35.651212Z"
    }
   },
   "outputs": [
    {
     "data": {
      "text/html": [
       "<div>\n",
       "<style scoped>\n",
       "    .dataframe tbody tr th:only-of-type {\n",
       "        vertical-align: middle;\n",
       "    }\n",
       "\n",
       "    .dataframe tbody tr th {\n",
       "        vertical-align: top;\n",
       "    }\n",
       "\n",
       "    .dataframe thead th {\n",
       "        text-align: right;\n",
       "    }\n",
       "</style>\n",
       "<table border=\"1\" class=\"dataframe\">\n",
       "  <thead>\n",
       "    <tr style=\"text-align: right;\">\n",
       "      <th></th>\n",
       "      <th>press</th>\n",
       "      <th>record</th>\n",
       "    </tr>\n",
       "  </thead>\n",
       "  <tbody>\n",
       "    <tr>\n",
       "      <th>0</th>\n",
       "      <td>10</td>\n",
       "      <td>13</td>\n",
       "    </tr>\n",
       "    <tr>\n",
       "      <th>1</th>\n",
       "      <td>10</td>\n",
       "      <td>18</td>\n",
       "    </tr>\n",
       "    <tr>\n",
       "      <th>2</th>\n",
       "      <td>10</td>\n",
       "      <td>16</td>\n",
       "    </tr>\n",
       "    <tr>\n",
       "      <th>3</th>\n",
       "      <td>10</td>\n",
       "      <td>15</td>\n",
       "    </tr>\n",
       "    <tr>\n",
       "      <th>4</th>\n",
       "      <td>10</td>\n",
       "      <td>20</td>\n",
       "    </tr>\n",
       "    <tr>\n",
       "      <th>5</th>\n",
       "      <td>50</td>\n",
       "      <td>86</td>\n",
       "    </tr>\n",
       "    <tr>\n",
       "      <th>6</th>\n",
       "      <td>50</td>\n",
       "      <td>90</td>\n",
       "    </tr>\n",
       "    <tr>\n",
       "      <th>7</th>\n",
       "      <td>50</td>\n",
       "      <td>88</td>\n",
       "    </tr>\n",
       "    <tr>\n",
       "      <th>8</th>\n",
       "      <td>50</td>\n",
       "      <td>88</td>\n",
       "    </tr>\n",
       "    <tr>\n",
       "      <th>9</th>\n",
       "      <td>50</td>\n",
       "      <td>92</td>\n",
       "    </tr>\n",
       "  </tbody>\n",
       "</table>\n",
       "</div>"
      ],
      "text/plain": [
       "   press  record\n",
       "0     10      13\n",
       "1     10      18\n",
       "2     10      16\n",
       "3     10      15\n",
       "4     10      20\n",
       "5     50      86\n",
       "6     50      90\n",
       "7     50      88\n",
       "8     50      88\n",
       "9     50      92"
      ]
     },
     "execution_count": 84,
     "metadata": {},
     "output_type": "execute_result"
    }
   ],
   "source": [
    "#11.4\n",
    "\n",
    "x=[10,10,10,10,10,50,50,50,50,50]\n",
    "y=[13,18,16,15,20,86,90,88,88,92]\n",
    "record= pd.DataFrame({'press':x,'record':y})\n",
    "record"
   ]
  },
  {
   "cell_type": "code",
   "execution_count": 85,
   "id": "36bea962",
   "metadata": {
    "ExecuteTime": {
     "end_time": "2021-11-30T06:50:35.682349Z",
     "start_time": "2021-11-30T06:50:35.661859Z"
    }
   },
   "outputs": [
    {
     "data": {
      "text/html": [
       "<table class=\"simpletable\">\n",
       "<caption>OLS Regression Results</caption>\n",
       "<tr>\n",
       "  <th>Dep. Variable:</th>         <td>record</td>      <th>  R-squared:         </th> <td>   0.996</td>\n",
       "</tr>\n",
       "<tr>\n",
       "  <th>Model:</th>                   <td>OLS</td>       <th>  Adj. R-squared:    </th> <td>   0.996</td>\n",
       "</tr>\n",
       "<tr>\n",
       "  <th>Method:</th>             <td>Least Squares</td>  <th>  F-statistic:       </th> <td>   2097.</td>\n",
       "</tr>\n",
       "<tr>\n",
       "  <th>Date:</th>             <td>Tue, 30 Nov 2021</td> <th>  Prob (F-statistic):</th> <td>5.72e-11</td>\n",
       "</tr>\n",
       "<tr>\n",
       "  <th>Time:</th>                 <td>15:50:35</td>     <th>  Log-Likelihood:    </th> <td> -22.237</td>\n",
       "</tr>\n",
       "<tr>\n",
       "  <th>No. Observations:</th>      <td>    10</td>      <th>  AIC:               </th> <td>   48.47</td>\n",
       "</tr>\n",
       "<tr>\n",
       "  <th>Df Residuals:</th>          <td>     8</td>      <th>  BIC:               </th> <td>   49.08</td>\n",
       "</tr>\n",
       "<tr>\n",
       "  <th>Df Model:</th>              <td>     1</td>      <th>                     </th>     <td> </td>   \n",
       "</tr>\n",
       "<tr>\n",
       "  <th>Covariance Type:</th>      <td>nonrobust</td>    <th>                     </th>     <td> </td>   \n",
       "</tr>\n",
       "</table>\n",
       "<table class=\"simpletable\">\n",
       "<tr>\n",
       "      <td></td>         <th>coef</th>     <th>std err</th>      <th>t</th>      <th>P>|t|</th>  <th>[0.025</th>    <th>0.975]</th>  \n",
       "</tr>\n",
       "<tr>\n",
       "  <th>Intercept</th> <td>   -1.7000</td> <td>    1.425</td> <td>   -1.193</td> <td> 0.267</td> <td>   -4.987</td> <td>    1.587</td>\n",
       "</tr>\n",
       "<tr>\n",
       "  <th>press</th>     <td>    1.8100</td> <td>    0.040</td> <td>   45.790</td> <td> 0.000</td> <td>    1.719</td> <td>    1.901</td>\n",
       "</tr>\n",
       "</table>\n",
       "<table class=\"simpletable\">\n",
       "<tr>\n",
       "  <th>Omnibus:</th>       <td> 0.565</td> <th>  Durbin-Watson:     </th> <td>   2.639</td>\n",
       "</tr>\n",
       "<tr>\n",
       "  <th>Prob(Omnibus):</th> <td> 0.754</td> <th>  Jarque-Bera (JB):  </th> <td>   0.536</td>\n",
       "</tr>\n",
       "<tr>\n",
       "  <th>Skew:</th>          <td> 0.180</td> <th>  Prob(JB):          </th> <td>   0.765</td>\n",
       "</tr>\n",
       "<tr>\n",
       "  <th>Kurtosis:</th>      <td> 1.925</td> <th>  Cond. No.          </th> <td>    65.0</td>\n",
       "</tr>\n",
       "</table><br/><br/>Notes:<br/>[1] Standard Errors assume that the covariance matrix of the errors is correctly specified."
      ],
      "text/plain": [
       "<class 'statsmodels.iolib.summary.Summary'>\n",
       "\"\"\"\n",
       "                            OLS Regression Results                            \n",
       "==============================================================================\n",
       "Dep. Variable:                 record   R-squared:                       0.996\n",
       "Model:                            OLS   Adj. R-squared:                  0.996\n",
       "Method:                 Least Squares   F-statistic:                     2097.\n",
       "Date:                Tue, 30 Nov 2021   Prob (F-statistic):           5.72e-11\n",
       "Time:                        15:50:35   Log-Likelihood:                -22.237\n",
       "No. Observations:                  10   AIC:                             48.47\n",
       "Df Residuals:                       8   BIC:                             49.08\n",
       "Df Model:                           1                                         \n",
       "Covariance Type:            nonrobust                                         \n",
       "==============================================================================\n",
       "                 coef    std err          t      P>|t|      [0.025      0.975]\n",
       "------------------------------------------------------------------------------\n",
       "Intercept     -1.7000      1.425     -1.193      0.267      -4.987       1.587\n",
       "press          1.8100      0.040     45.790      0.000       1.719       1.901\n",
       "==============================================================================\n",
       "Omnibus:                        0.565   Durbin-Watson:                   2.639\n",
       "Prob(Omnibus):                  0.754   Jarque-Bera (JB):                0.536\n",
       "Skew:                           0.180   Prob(JB):                        0.765\n",
       "Kurtosis:                       1.925   Cond. No.                         65.0\n",
       "==============================================================================\n",
       "\n",
       "Notes:\n",
       "[1] Standard Errors assume that the covariance matrix of the errors is correctly specified.\n",
       "\"\"\""
      ]
     },
     "execution_count": 85,
     "metadata": {},
     "output_type": "execute_result"
    }
   ],
   "source": [
    "model = ols('record~press',record).fit()\n",
    "model.summary()"
   ]
  },
  {
   "cell_type": "markdown",
   "id": "120e851f",
   "metadata": {},
   "source": [
    "#### 11.4 a)\n",
    "직선 추정 y\n",
    "\n",
    "y = -1.7+1.81*x\n",
    "\n",
    "#### 11.4 b)\n",
    "\n",
    "if , 추정 y =  54   \n",
    "\n",
    "Q: x_hat =?\n",
    "\n",
    "x_hat = (54 - B0) / B1\n",
    "\n",
    "B0 = -1.7\n",
    "\n",
    "B1 = 1.81\n",
    "\n",
    "so answ : \n",
    "\n",
    "x_hat = 30.7734"
   ]
  },
  {
   "cell_type": "code",
   "execution_count": 86,
   "id": "4de6f22d",
   "metadata": {
    "ExecuteTime": {
     "end_time": "2021-11-30T06:50:35.688281Z",
     "start_time": "2021-11-30T06:50:35.684607Z"
    }
   },
   "outputs": [
    {
     "name": "stdout",
     "output_type": "stream",
     "text": [
      "30.773480662983427\n"
     ]
    }
   ],
   "source": [
    "B0 = -1.7\n",
    "B1 = 1.81\n",
    "x_hat = (54 - B0) / B1\n",
    "print(x_hat)"
   ]
  },
  {
   "cell_type": "code",
   "execution_count": 87,
   "id": "60f2617e",
   "metadata": {
    "ExecuteTime": {
     "end_time": "2021-11-30T06:50:35.715069Z",
     "start_time": "2021-11-30T06:50:35.690731Z"
    }
   },
   "outputs": [
    {
     "data": {
      "text/html": [
       "<table class=\"simpletable\">\n",
       "<caption>OLS Regression Results</caption>\n",
       "<tr>\n",
       "  <th>Dep. Variable:</th>          <td>sweet</td>      <th>  R-squared:         </th> <td>   0.500</td>\n",
       "</tr>\n",
       "<tr>\n",
       "  <th>Model:</th>                   <td>OLS</td>       <th>  Adj. R-squared:    </th> <td>   0.444</td>\n",
       "</tr>\n",
       "<tr>\n",
       "  <th>Method:</th>             <td>Least Squares</td>  <th>  F-statistic:       </th> <td>   8.996</td>\n",
       "</tr>\n",
       "<tr>\n",
       "  <th>Date:</th>             <td>Tue, 30 Nov 2021</td> <th>  Prob (F-statistic):</th>  <td>0.0150</td> \n",
       "</tr>\n",
       "<tr>\n",
       "  <th>Time:</th>                 <td>15:50:35</td>     <th>  Log-Likelihood:    </th> <td> -9.4677</td>\n",
       "</tr>\n",
       "<tr>\n",
       "  <th>No. Observations:</th>      <td>    11</td>      <th>  AIC:               </th> <td>   22.94</td>\n",
       "</tr>\n",
       "<tr>\n",
       "  <th>Df Residuals:</th>          <td>     9</td>      <th>  BIC:               </th> <td>   23.73</td>\n",
       "</tr>\n",
       "<tr>\n",
       "  <th>Df Model:</th>              <td>     1</td>      <th>                     </th>     <td> </td>   \n",
       "</tr>\n",
       "<tr>\n",
       "  <th>Covariance Type:</th>      <td>nonrobust</td>    <th>                     </th>     <td> </td>   \n",
       "</tr>\n",
       "</table>\n",
       "<table class=\"simpletable\">\n",
       "<tr>\n",
       "      <td></td>         <th>coef</th>     <th>std err</th>      <th>t</th>      <th>P>|t|</th>  <th>[0.025</th>    <th>0.975]</th>  \n",
       "</tr>\n",
       "<tr>\n",
       "  <th>Intercept</th> <td>    6.4136</td> <td>    0.925</td> <td>    6.936</td> <td> 0.000</td> <td>    4.322</td> <td>    8.505</td>\n",
       "</tr>\n",
       "<tr>\n",
       "  <th>tempature</th> <td>    1.8091</td> <td>    0.603</td> <td>    2.999</td> <td> 0.015</td> <td>    0.445</td> <td>    3.174</td>\n",
       "</tr>\n",
       "</table>\n",
       "<table class=\"simpletable\">\n",
       "<tr>\n",
       "  <th>Omnibus:</th>       <td> 1.557</td> <th>  Durbin-Watson:     </th> <td>   2.038</td>\n",
       "</tr>\n",
       "<tr>\n",
       "  <th>Prob(Omnibus):</th> <td> 0.459</td> <th>  Jarque-Bera (JB):  </th> <td>   0.947</td>\n",
       "</tr>\n",
       "<tr>\n",
       "  <th>Skew:</th>          <td> 0.399</td> <th>  Prob(JB):          </th> <td>   0.623</td>\n",
       "</tr>\n",
       "<tr>\n",
       "  <th>Kurtosis:</th>      <td> 1.805</td> <th>  Cond. No.          </th> <td>    10.5</td>\n",
       "</tr>\n",
       "</table><br/><br/>Notes:<br/>[1] Standard Errors assume that the covariance matrix of the errors is correctly specified."
      ],
      "text/plain": [
       "<class 'statsmodels.iolib.summary.Summary'>\n",
       "\"\"\"\n",
       "                            OLS Regression Results                            \n",
       "==============================================================================\n",
       "Dep. Variable:                  sweet   R-squared:                       0.500\n",
       "Model:                            OLS   Adj. R-squared:                  0.444\n",
       "Method:                 Least Squares   F-statistic:                     8.996\n",
       "Date:                Tue, 30 Nov 2021   Prob (F-statistic):             0.0150\n",
       "Time:                        15:50:35   Log-Likelihood:                -9.4677\n",
       "No. Observations:                  11   AIC:                             22.94\n",
       "Df Residuals:                       9   BIC:                             23.73\n",
       "Df Model:                           1                                         \n",
       "Covariance Type:            nonrobust                                         \n",
       "==============================================================================\n",
       "                 coef    std err          t      P>|t|      [0.025      0.975]\n",
       "------------------------------------------------------------------------------\n",
       "Intercept      6.4136      0.925      6.936      0.000       4.322       8.505\n",
       "tempature      1.8091      0.603      2.999      0.015       0.445       3.174\n",
       "==============================================================================\n",
       "Omnibus:                        1.557   Durbin-Watson:                   2.038\n",
       "Prob(Omnibus):                  0.459   Jarque-Bera (JB):                0.947\n",
       "Skew:                           0.399   Prob(JB):                        0.623\n",
       "Kurtosis:                       1.805   Cond. No.                         10.5\n",
       "==============================================================================\n",
       "\n",
       "Notes:\n",
       "[1] Standard Errors assume that the covariance matrix of the errors is correctly specified.\n",
       "\"\"\""
      ]
     },
     "execution_count": 87,
     "metadata": {},
     "output_type": "execute_result"
    }
   ],
   "source": [
    "#11.5\n",
    "x=[1.0,1.1,1.2,1.3,1.4,1.5,1.6,1.7,1.8,1.9,2.0]\n",
    "y=[8.1,7.8,8.5,9.8,9.5,8.9,8.6,10.2,9.3,9.2,10.5]\n",
    "sweet= pd.DataFrame({'tempature':x,'sweet':y})\n",
    "model = ols('sweet~ tempature',sweet).fit()\n",
    "model.summary()"
   ]
  },
  {
   "cell_type": "markdown",
   "id": "b9d15689",
   "metadata": {},
   "source": [
    "#### 11.5 a)\n",
    "회귀 직선 추정 y (y_hat)\n",
    "\n",
    "y = 6.4136 +1.8091*x\n",
    "\n",
    "#### 11.5 b)\n",
    "\n",
    "온도 =1.75 / 당분의 양을 추정 ?\n",
    "\n",
    "y = 6.4136 +1.8091*(1.75)\n",
    "\n",
    "당분 y = 9.6"
   ]
  },
  {
   "cell_type": "code",
   "execution_count": 88,
   "id": "307e6c78",
   "metadata": {
    "ExecuteTime": {
     "end_time": "2021-11-30T06:50:35.721333Z",
     "start_time": "2021-11-30T06:50:35.717379Z"
    }
   },
   "outputs": [
    {
     "data": {
      "text/plain": [
       "9.579525"
      ]
     },
     "execution_count": 88,
     "metadata": {},
     "output_type": "execute_result"
    }
   ],
   "source": [
    "y = 6.4136 +1.8091*(1.75)\n",
    "y"
   ]
  },
  {
   "cell_type": "markdown",
   "id": "68c5545a",
   "metadata": {},
   "source": [
    "#### 11.5 c)\n",
    "잔차표시\n",
    "\n",
    "팔의 힘에 대해 잔차를 표시\n",
    "잔차(residual)의 의미 :  \n",
    "\n",
    "회귀식과 실제 관측값의 차이 작을수록 모델이 정확하다는 근거가 된다.\n",
    "\n",
    "MSE:\n",
    "x  팔의 힘의 대한 잔차제곱의 합의 평균: \n",
    "\n",
    "MSE = sse / ((n-2)=df )\n",
    "\n",
    "MSE : 0.400"
   ]
  },
  {
   "cell_type": "code",
   "execution_count": 89,
   "id": "f964aead",
   "metadata": {
    "ExecuteTime": {
     "end_time": "2021-11-30T06:50:35.736037Z",
     "start_time": "2021-11-30T06:50:35.723468Z"
    }
   },
   "outputs": [
    {
     "data": {
      "text/html": [
       "<div>\n",
       "<style scoped>\n",
       "    .dataframe tbody tr th:only-of-type {\n",
       "        vertical-align: middle;\n",
       "    }\n",
       "\n",
       "    .dataframe tbody tr th {\n",
       "        vertical-align: top;\n",
       "    }\n",
       "\n",
       "    .dataframe thead th {\n",
       "        text-align: right;\n",
       "    }\n",
       "</style>\n",
       "<table border=\"1\" class=\"dataframe\">\n",
       "  <thead>\n",
       "    <tr style=\"text-align: right;\">\n",
       "      <th></th>\n",
       "      <th>df</th>\n",
       "      <th>sum_sq</th>\n",
       "      <th>mean_sq</th>\n",
       "      <th>F</th>\n",
       "      <th>PR(&gt;F)</th>\n",
       "    </tr>\n",
       "  </thead>\n",
       "  <tbody>\n",
       "    <tr>\n",
       "      <th>tempature</th>\n",
       "      <td>1.0</td>\n",
       "      <td>3.600091</td>\n",
       "      <td>3.600091</td>\n",
       "      <td>8.995911</td>\n",
       "      <td>0.014973</td>\n",
       "    </tr>\n",
       "    <tr>\n",
       "      <th>Residual</th>\n",
       "      <td>9.0</td>\n",
       "      <td>3.601727</td>\n",
       "      <td>0.400192</td>\n",
       "      <td>NaN</td>\n",
       "      <td>NaN</td>\n",
       "    </tr>\n",
       "  </tbody>\n",
       "</table>\n",
       "</div>"
      ],
      "text/plain": [
       "            df    sum_sq   mean_sq         F    PR(>F)\n",
       "tempature  1.0  3.600091  3.600091  8.995911  0.014973\n",
       "Residual   9.0  3.601727  0.400192       NaN       NaN"
      ]
     },
     "execution_count": 89,
     "metadata": {},
     "output_type": "execute_result"
    }
   ],
   "source": [
    "anova_lm(model)"
   ]
  },
  {
   "cell_type": "code",
   "execution_count": 139,
   "id": "18a3bc79",
   "metadata": {
    "ExecuteTime": {
     "end_time": "2021-11-30T07:22:57.961254Z",
     "start_time": "2021-11-30T07:22:57.938631Z"
    }
   },
   "outputs": [
    {
     "data": {
      "text/html": [
       "<table class=\"simpletable\">\n",
       "<caption>OLS Regression Results</caption>\n",
       "<tr>\n",
       "  <th>Dep. Variable:</th>          <td>final</td>      <th>  R-squared:         </th> <td>   0.206</td>\n",
       "</tr>\n",
       "<tr>\n",
       "  <th>Model:</th>                   <td>OLS</td>       <th>  Adj. R-squared:    </th> <td>   0.162</td>\n",
       "</tr>\n",
       "<tr>\n",
       "  <th>Method:</th>             <td>Least Squares</td>  <th>  F-statistic:       </th> <td>   4.661</td>\n",
       "</tr>\n",
       "<tr>\n",
       "  <th>Date:</th>             <td>Tue, 30 Nov 2021</td> <th>  Prob (F-statistic):</th>  <td>0.0446</td> \n",
       "</tr>\n",
       "<tr>\n",
       "  <th>Time:</th>                 <td>16:22:57</td>     <th>  Log-Likelihood:    </th> <td> -82.994</td>\n",
       "</tr>\n",
       "<tr>\n",
       "  <th>No. Observations:</th>      <td>    20</td>      <th>  AIC:               </th> <td>   170.0</td>\n",
       "</tr>\n",
       "<tr>\n",
       "  <th>Df Residuals:</th>          <td>    18</td>      <th>  BIC:               </th> <td>   172.0</td>\n",
       "</tr>\n",
       "<tr>\n",
       "  <th>Df Model:</th>              <td>     1</td>      <th>                     </th>     <td> </td>   \n",
       "</tr>\n",
       "<tr>\n",
       "  <th>Covariance Type:</th>      <td>nonrobust</td>    <th>                     </th>     <td> </td>   \n",
       "</tr>\n",
       "</table>\n",
       "<table class=\"simpletable\">\n",
       "<tr>\n",
       "      <td></td>         <th>coef</th>     <th>std err</th>      <th>t</th>      <th>P>|t|</th>  <th>[0.025</th>    <th>0.975]</th>  \n",
       "</tr>\n",
       "<tr>\n",
       "  <th>Intercept</th> <td>   32.5059</td> <td>   12.639</td> <td>    2.572</td> <td> 0.019</td> <td>    5.953</td> <td>   59.059</td>\n",
       "</tr>\n",
       "<tr>\n",
       "  <th>ptest</th>     <td>    0.4711</td> <td>    0.218</td> <td>    2.159</td> <td> 0.045</td> <td>    0.013</td> <td>    0.929</td>\n",
       "</tr>\n",
       "</table>\n",
       "<table class=\"simpletable\">\n",
       "<tr>\n",
       "  <th>Omnibus:</th>       <td> 3.335</td> <th>  Durbin-Watson:     </th> <td>   2.187</td>\n",
       "</tr>\n",
       "<tr>\n",
       "  <th>Prob(Omnibus):</th> <td> 0.189</td> <th>  Jarque-Bera (JB):  </th> <td>   2.117</td>\n",
       "</tr>\n",
       "<tr>\n",
       "  <th>Skew:</th>          <td>-0.796</td> <th>  Prob(JB):          </th> <td>   0.347</td>\n",
       "</tr>\n",
       "<tr>\n",
       "  <th>Kurtosis:</th>      <td> 3.069</td> <th>  Cond. No.          </th> <td>    202.</td>\n",
       "</tr>\n",
       "</table><br/><br/>Notes:<br/>[1] Standard Errors assume that the covariance matrix of the errors is correctly specified."
      ],
      "text/plain": [
       "<class 'statsmodels.iolib.summary.Summary'>\n",
       "\"\"\"\n",
       "                            OLS Regression Results                            \n",
       "==============================================================================\n",
       "Dep. Variable:                  final   R-squared:                       0.206\n",
       "Model:                            OLS   Adj. R-squared:                  0.162\n",
       "Method:                 Least Squares   F-statistic:                     4.661\n",
       "Date:                Tue, 30 Nov 2021   Prob (F-statistic):             0.0446\n",
       "Time:                        16:22:57   Log-Likelihood:                -82.994\n",
       "No. Observations:                  20   AIC:                             170.0\n",
       "Df Residuals:                      18   BIC:                             172.0\n",
       "Df Model:                           1                                         \n",
       "Covariance Type:            nonrobust                                         \n",
       "==============================================================================\n",
       "                 coef    std err          t      P>|t|      [0.025      0.975]\n",
       "------------------------------------------------------------------------------\n",
       "Intercept     32.5059     12.639      2.572      0.019       5.953      59.059\n",
       "ptest          0.4711      0.218      2.159      0.045       0.013       0.929\n",
       "==============================================================================\n",
       "Omnibus:                        3.335   Durbin-Watson:                   2.187\n",
       "Prob(Omnibus):                  0.189   Jarque-Bera (JB):                2.117\n",
       "Skew:                          -0.796   Prob(JB):                        0.347\n",
       "Kurtosis:                       3.069   Cond. No.                         202.\n",
       "==============================================================================\n",
       "\n",
       "Notes:\n",
       "[1] Standard Errors assume that the covariance matrix of the errors is correctly specified.\n",
       "\"\"\""
      ]
     },
     "execution_count": 139,
     "metadata": {},
     "output_type": "execute_result"
    }
   ],
   "source": [
    "#11.8 배치고사 \n",
    "x=[50,35,35,40,55,65,35,60,90,35,90,80,60,60,60,40,55,50,65,50]\n",
    "y=[53,41,61,56,68,36,11,70,79,59,54,91,48,71,71,47,53,68,57,79]\n",
    "score= pd.DataFrame({'ptest':x,'final':y})\n",
    "model = ols('final~ ptest',score).fit()\n",
    "model.summary()"
   ]
  },
  {
   "cell_type": "code",
   "execution_count": 140,
   "id": "5ccdfad3",
   "metadata": {
    "ExecuteTime": {
     "end_time": "2021-11-30T07:23:01.559384Z",
     "start_time": "2021-11-30T07:23:01.409212Z"
    }
   },
   "outputs": [
    {
     "data": {
      "image/png": "[encoded data removed]",
      "text/plain": [
       "<Figure size 432x288 with 1 Axes>"
      ]
     },
     "metadata": {},
     "output_type": "display_data"
    }
   ],
   "source": [
    "## 11.8 a) 산점도\n",
    "ax = sns.scatterplot(x=\"ptest\",y=\"final\",data=score)"
   ]
  },
  {
   "cell_type": "markdown",
   "id": "4938480a",
   "metadata": {
    "ExecuteTime": {
     "end_time": "2021-11-30T07:03:14.782570Z",
     "start_time": "2021-11-30T07:03:14.778471Z"
    }
   },
   "source": [
    "#### 11.8 b) 회귀 직선 y_hat  추정식\n",
    "y = 32.5059+0.4711*x"
   ]
  },
  {
   "cell_type": "code",
   "execution_count": 141,
   "id": "9a94d0df",
   "metadata": {
    "ExecuteTime": {
     "end_time": "2021-11-30T07:23:05.121258Z",
     "start_time": "2021-11-30T07:23:04.824053Z"
    }
   },
   "outputs": [
    {
     "data": {
      "text/plain": [
       "Text(12.085, 0.5, 'FinalExam')"
      ]
     },
     "execution_count": 141,
     "metadata": {},
     "output_type": "execute_result"
    },
    {
     "data": {
      "image/png": "[encoded data removed]",
      "text/plain": [
       "<Figure size 360x360 with 1 Axes>"
      ]
     },
     "metadata": {},
     "output_type": "display_data"
    }
   ],
   "source": [
    "## 11.8 c) 산점도 상에 직선\n",
    "ax = sns.lmplot(x=\"ptest\",y=\"final\",data=score)\n",
    "ax.set(xlim = (min(x)-10,max(x)+10))\n",
    "plt.xlabel(\"placement test\")\n",
    "plt.ylabel(\"FinalExam\",rotation =0)"
   ]
  },
  {
   "cell_type": "markdown",
   "id": "c1883328",
   "metadata": {},
   "source": [
    "#### 11.8 d)\n",
    "\n",
    "추정식에 따라\n",
    "\n",
    "y = 32.5059+0.4711*x 이므로\n",
    "\n",
    "y =60 점 미만 낙제이므로 60점이상이 되는 최소 추정량 x 를 구해야한다.\n",
    "\n",
    "x =(60 - 32.5059) / 0.4711\n",
    "\n",
    "즉 x = 58.3615\n",
    "\n",
    "점수가 1단위 일시\n",
    "\n",
    "배치고사 점수가 최소 59 점 이상이 되어야 한다."
   ]
  },
  {
   "cell_type": "code",
   "execution_count": 142,
   "id": "62399726",
   "metadata": {
    "ExecuteTime": {
     "end_time": "2021-11-30T07:27:14.976432Z",
     "start_time": "2021-11-30T07:27:14.972952Z"
    }
   },
   "outputs": [
    {
     "data": {
      "text/plain": [
       "58.361494374867334"
      ]
     },
     "execution_count": 142,
     "metadata": {},
     "output_type": "execute_result"
    }
   ],
   "source": [
    "x =(60 - 32.5059) / 0.4711\n",
    "x"
   ]
  }
 ],
 "metadata": {
  "kernelspec": {
   "display_name": "Python 3",
   "language": "python",
   "name": "python3"
  },
  "language_info": {
   "codemirror_mode": {
    "name": "ipython",
    "version": 3
   },
   "file_extension": ".py",
   "mimetype": "text/x-python",
   "name": "python",
   "nbconvert_exporter": "python",
   "pygments_lexer": "ipython3",
   "version": "3.7.0"
  },
  "toc": {
   "base_numbering": 1,
   "nav_menu": {},
   "number_sections": true,
   "sideBar": true,
   "skip_h1_title": false,
   "title_cell": "Table of Contents",
   "title_sidebar": "Contents",
   "toc_cell": false,
   "toc_position": {},
   "toc_section_display": true,
   "toc_window_display": false
  },
  "varInspector": {
   "cols": {
    "lenName": 16,
    "lenType": 16,
    "lenVar": 40
   },
   "kernels_config": {
    "python": {
     "delete_cmd_postfix": "",
     "delete_cmd_prefix": "del ",
     "library": "var_list.py",
     "varRefreshCmd": "print(var_dic_list())"
    },
    "r": {
     "delete_cmd_postfix": ") ",
     "delete_cmd_prefix": "rm(",
     "library": "var_list.r",
     "varRefreshCmd": "cat(var_dic_list()) "
    }
   },
   "types_to_exclude": [
    "module",
    "function",
    "builtin_function_or_method",
    "instance",
    "_Feature"
   ],
   "window_display": false
  }
 },
 "nbformat": 4,
 "nbformat_minor": 5
}
