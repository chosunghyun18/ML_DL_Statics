{
 "cells": [
  {
   "cell_type": "code",
   "execution_count": 2,
   "id": "2414976f",
   "metadata": {
    "ExecuteTime": {
     "end_time": "2021-11-21T07:08:40.435908Z",
     "start_time": "2021-11-21T07:08:36.523133Z"
    }
   },
   "outputs": [
    {
     "name": "stdout",
     "output_type": "stream",
     "text": [
      "2.7.0\n"
     ]
    }
   ],
   "source": [
    "import tensorflow as tf\n",
    "import numpy as np\n",
    "\n",
    "print(tf.__version__)\n",
    "\n",
    "tf.random.set_seed(777)  # for reproducibility"
   ]
  },
  {
   "cell_type": "code",
   "execution_count": 3,
   "id": "0f9e4212",
   "metadata": {
    "ExecuteTime": {
     "end_time": "2021-11-21T07:08:40.442092Z",
     "start_time": "2021-11-21T07:08:40.437792Z"
    }
   },
   "outputs": [],
   "source": [
    "x_data = [[1, 2, 1, 1],\n",
    "          [2, 1, 3, 2],\n",
    "          [3, 1, 3, 4],\n",
    "          [4, 1, 5, 5],\n",
    "          [1, 7, 5, 5],\n",
    "          [1, 2, 5, 6],\n",
    "          [1, 6, 6, 6],\n",
    "          [1, 7, 7, 7]]\n",
    "\n",
    "# One-Hot encoding \n",
    "y_data = [[0, 0, 1],\n",
    "          [0, 0, 1],\n",
    "          [0, 0, 1],\n",
    "          [0, 1, 0],\n",
    "          [0, 1, 0],\n",
    "          [0, 1, 0],\n",
    "          [1, 0, 0],\n",
    "          [1, 0, 0]]\n",
    "\n",
    "#convert into numpy and float format\n",
    "x_data = np.asarray(x_data, dtype=np.float32)\n",
    "y_data = np.asarray(y_data, dtype=np.float32)"
   ]
  },
  {
   "cell_type": "code",
   "execution_count": 4,
   "id": "d4568968",
   "metadata": {
    "ExecuteTime": {
     "end_time": "2021-11-21T07:08:40.446118Z",
     "start_time": "2021-11-21T07:08:40.443622Z"
    }
   },
   "outputs": [
    {
     "name": "stdout",
     "output_type": "stream",
     "text": [
      "(8, 4)\n",
      "(8, 3)\n"
     ]
    }
   ],
   "source": [
    "#dataset을 선언합니다.\n",
    "# dataset = tf.data.Dataset.from_tensor_slices((x_data, y_data))\n",
    "# dataset = dataset.repeat().batch(2)\n",
    "\n",
    "nb_classes = 3 #class의 개수입니다.\n",
    "\n",
    "print(x_data.shape)\n",
    "print(y_data.shape)"
   ]
  },
  {
   "cell_type": "code",
   "execution_count": 5,
   "id": "f4cf603d",
   "metadata": {
    "ExecuteTime": {
     "end_time": "2021-11-21T07:08:40.456217Z",
     "start_time": "2021-11-21T07:08:40.447421Z"
    }
   },
   "outputs": [
    {
     "name": "stdout",
     "output_type": "stream",
     "text": [
      "<tf.Variable 'weight:0' shape=(4, 3) dtype=float32, numpy=\n",
      "array([[ 0.7706481 ,  0.37335402, -0.05576323],\n",
      "       [ 0.00358377, -0.5898363 ,  1.5702795 ],\n",
      "       [ 0.2460895 , -0.09918973,  1.4418385 ],\n",
      "       [ 0.3200988 ,  0.526784  , -0.7703731 ]], dtype=float32)> <tf.Variable 'bias:0' shape=(3,) dtype=float32, numpy=array([-1.3080608 , -0.13253094,  0.5513761 ], dtype=float32)>\n"
     ]
    }
   ],
   "source": [
    "#Weight and bias setting\n",
    "W = tf.Variable(tf.random.normal((4, nb_classes)), name='weight')\n",
    "b = tf.Variable(tf.random.normal((nb_classes,)), name='bias')\n",
    "variables = [W, b]\n",
    "print(W,b)"
   ]
  },
  {
   "cell_type": "code",
   "execution_count": 6,
   "id": "9093c174",
   "metadata": {
    "ExecuteTime": {
     "end_time": "2021-11-21T07:08:40.478058Z",
     "start_time": "2021-11-21T07:08:40.457752Z"
    }
   },
   "outputs": [
    {
     "name": "stdout",
     "output_type": "stream",
     "text": [
      "tf.Tensor(\n",
      "[[1.36571964e-02 7.90162385e-03 9.78441238e-01]\n",
      " [3.92597765e-02 1.70347411e-02 9.43705440e-01]\n",
      " [3.80385250e-01 1.67723164e-01 4.51891571e-01]\n",
      " [3.23390484e-01 5.90759404e-02 6.17533624e-01]\n",
      " [3.62997389e-06 6.20727292e-08 9.99996305e-01]\n",
      " [2.62520202e-02 1.07279625e-02 9.63019967e-01]\n",
      " [1.56525111e-05 4.21802753e-07 9.99983907e-01]\n",
      " [2.94076904e-06 3.81133276e-08 9.99997020e-01]], shape=(8, 3), dtype=float32)\n"
     ]
    }
   ],
   "source": [
    "# tf.nn.softmax computes softmax activations\n",
    "# softmax = exp(logits) / reduce_sum(exp(logits), dim)\n",
    "# 다음 코드 동작 안될시 1.업데이트 2. 버퍼크기 설정을 하자.\n",
    "def hypothesis(X):\n",
    "    return tf.nn.softmax(tf.matmul(X, W) + b)\n",
    "print(hypothesis(x_data))"
   ]
  },
  {
   "cell_type": "code",
   "execution_count": 19,
   "id": "8bea39e6",
   "metadata": {
    "ExecuteTime": {
     "end_time": "2021-11-21T07:18:22.531666Z",
     "start_time": "2021-11-21T07:18:22.528064Z"
    }
   },
   "outputs": [
    {
     "data": {
      "text/plain": [
       "'\\n!jupyter --paths\\n#jupyter notebook --generate-config.\\n# check\\n!tree /Users/chosunghyun/.jupyter\\ngedit jupyter_notebook_config.py\\n--------------------------------------------\\nc.NotebookApp.max_buffer_size = 10000000000\\n'"
      ]
     },
     "execution_count": 19,
     "metadata": {},
     "output_type": "execute_result"
    }
   ],
   "source": [
    "\"\"\"\n",
    "!jupyter --paths\n",
    "#jupyter notebook --generate-config.\n",
    "# check\n",
    "!tree /Users/chosunghyun/.jupyter\n",
    "gedit jupyter_notebook_config.py\n",
    "--------------------------------------------\n",
    "c.NotebookApp.max_buffer_size = 10000000000\n",
    "\"\"\""
   ]
  },
  {
   "cell_type": "code",
   "execution_count": 7,
   "id": "4b6557dd",
   "metadata": {
    "ExecuteTime": {
     "end_time": "2021-11-21T07:08:40.484886Z",
     "start_time": "2021-11-21T07:08:40.481166Z"
    }
   },
   "outputs": [
    {
     "name": "stdout",
     "output_type": "stream",
     "text": [
      "tf.Tensor([[0.9302204  0.06200533 0.00777428]], shape=(1, 3), dtype=float32)\n"
     ]
    }
   ],
   "source": [
    "# Softmax onehot test\n",
    "sample_db = [[8,2,1,4]]\n",
    "sample_db = np.asarray(sample_db, dtype=np.float32)\n",
    "\n",
    "print(hypothesis(sample_db))"
   ]
  },
  {
   "cell_type": "code",
   "execution_count": 8,
   "id": "24b004fc",
   "metadata": {
    "ExecuteTime": {
     "end_time": "2021-11-21T07:08:40.491523Z",
     "start_time": "2021-11-21T07:08:40.487314Z"
    }
   },
   "outputs": [
    {
     "name": "stdout",
     "output_type": "stream",
     "text": [
      "tf.Tensor(6.07932, shape=(), dtype=float32)\n"
     ]
    }
   ],
   "source": [
    "def cost_fn(X, Y):\n",
    "    logits = hypothesis(X)\n",
    "    cost = -tf.reduce_sum(Y * tf.math.log(logits), axis=1)\n",
    "    cost_mean = tf.reduce_mean(cost)\n",
    "    \n",
    "    return cost_mean\n",
    "\n",
    "print(cost_fn(x_data, y_data))"
   ]
  },
  {
   "cell_type": "code",
   "execution_count": 9,
   "id": "63cd801e",
   "metadata": {
    "ExecuteTime": {
     "end_time": "2021-11-21T07:08:40.498118Z",
     "start_time": "2021-11-21T07:08:40.493031Z"
    }
   },
   "outputs": [
    {
     "name": "stdout",
     "output_type": "stream",
     "text": [
      "tf.Tensor(6.0, shape=(), dtype=float32)\n"
     ]
    }
   ],
   "source": [
    "x = tf.constant(3.0)\n",
    "with tf.GradientTape() as g:\n",
    "    g.watch(x)\n",
    "    y = x * x # x^2\n",
    "dy_dx = g.gradient(y, x) # Will compute to 6.0\n",
    "print(dy_dx)"
   ]
  },
  {
   "cell_type": "code",
   "execution_count": 10,
   "id": "03da7f41",
   "metadata": {
    "ExecuteTime": {
     "end_time": "2021-11-21T07:08:40.506579Z",
     "start_time": "2021-11-21T07:08:40.499695Z"
    }
   },
   "outputs": [
    {
     "name": "stdout",
     "output_type": "stream",
     "text": [
      "[<tf.Tensor: shape=(4, 3), dtype=float32, numpy=\n",
      "array([[ 0.06914607, -0.6509784 ,  0.5818323 ],\n",
      "       [-1.5221257 , -1.214863  ,  2.7369885 ],\n",
      "       [-1.2473828 , -1.7611003 ,  3.008483  ],\n",
      "       [-1.2014606 , -1.8659233 ,  3.0673838 ]], dtype=float32)>, <tf.Tensor: shape=(3,), dtype=float32, numpy=array([-0.15212913, -0.34219202,  0.4943211 ], dtype=float32)>]\n"
     ]
    }
   ],
   "source": [
    "def grad_fn(X, Y):\n",
    "    with tf.GradientTape() as tape:\n",
    "        loss = cost_fn(X, Y)\n",
    "        grads = tape.gradient(loss, variables)\n",
    "\n",
    "        return grads\n",
    "\n",
    "print(grad_fn(x_data, y_data))"
   ]
  },
  {
   "cell_type": "code",
   "execution_count": 11,
   "id": "e0acb316",
   "metadata": {
    "ExecuteTime": {
     "end_time": "2021-11-21T07:08:44.265813Z",
     "start_time": "2021-11-21T07:08:40.508610Z"
    }
   },
   "outputs": [
    {
     "name": "stdout",
     "output_type": "stream",
     "text": [
      "Loss at epoch 1: 2.849417\n",
      "Loss at epoch 100: 0.684151\n",
      "Loss at epoch 200: 0.613813\n",
      "Loss at epoch 300: 0.558204\n",
      "Loss at epoch 400: 0.508306\n",
      "Loss at epoch 500: 0.461059\n",
      "Loss at epoch 600: 0.415072\n",
      "Loss at epoch 700: 0.369636\n",
      "Loss at epoch 800: 0.324533\n",
      "Loss at epoch 900: 0.280721\n",
      "Loss at epoch 1000: 0.246752\n",
      "Loss at epoch 1100: 0.232798\n",
      "Loss at epoch 1200: 0.221645\n",
      "Loss at epoch 1300: 0.211476\n",
      "Loss at epoch 1400: 0.202164\n",
      "Loss at epoch 1500: 0.193606\n",
      "Loss at epoch 1600: 0.185714\n",
      "Loss at epoch 1700: 0.178415\n",
      "Loss at epoch 1800: 0.171645\n",
      "Loss at epoch 1900: 0.165350\n",
      "Loss at epoch 2000: 0.159483\n"
     ]
    }
   ],
   "source": [
    "def fit(X, Y, epochs=2000, verbose=100):\n",
    "    optimizer =  tf.keras.optimizers.SGD(learning_rate=0.1)\n",
    "\n",
    "    for i in range(epochs):\n",
    "        grads = grad_fn(X, Y)\n",
    "        optimizer.apply_gradients(zip(grads, variables))\n",
    "        if (i==0) | ((i+1)%verbose==0):\n",
    "            print('Loss at epoch %d: %f' %(i+1, cost_fn(X, Y).numpy()))\n",
    "            \n",
    "fit(x_data, y_data)"
   ]
  },
  {
   "cell_type": "markdown",
   "id": "5d0e0b1f",
   "metadata": {},
   "source": [
    "예측 확인\n"
   ]
  },
  {
   "cell_type": "code",
   "execution_count": 12,
   "id": "262a8344",
   "metadata": {
    "ExecuteTime": {
     "end_time": "2021-11-21T07:08:44.273446Z",
     "start_time": "2021-11-21T07:08:44.267726Z"
    }
   },
   "outputs": [
    {
     "name": "stdout",
     "output_type": "stream",
     "text": [
      "tf.Tensor([[0.00112886 0.08154675 0.9173244 ]], shape=(1, 3), dtype=float32)\n",
      "tf.Tensor([2], shape=(1,), dtype=int64)\n"
     ]
    }
   ],
   "source": [
    "sample_data = [[2,1,3,2]] # answer_label [[0,0,1]]\n",
    "sample_data = np.asarray(sample_data, dtype=np.float32)\n",
    "\n",
    "a = hypothesis(sample_data)\n",
    "\n",
    "print(a)\n",
    "print(tf.argmax(a, 1)) #index: 2"
   ]
  },
  {
   "cell_type": "code",
   "execution_count": 13,
   "id": "bad2b9d8",
   "metadata": {
    "ExecuteTime": {
     "end_time": "2021-11-21T07:08:44.279217Z",
     "start_time": "2021-11-21T07:08:44.274770Z"
    }
   },
   "outputs": [
    {
     "name": "stdout",
     "output_type": "stream",
     "text": [
      "tf.Tensor(\n",
      "[[2.1976039e-06 1.2331199e-03 9.9876475e-01]\n",
      " [1.1288616e-03 8.1546709e-02 9.1732442e-01]\n",
      " [2.2205573e-07 1.6418649e-01 8.3581328e-01]\n",
      " [6.3921875e-06 8.5045439e-01 1.4953929e-01]\n",
      " [2.6150796e-01 7.2644740e-01 1.2044559e-02]\n",
      " [1.3783254e-01 8.6214006e-01 2.7417609e-05]\n",
      " [7.4242127e-01 2.5754178e-01 3.6978578e-05]\n",
      " [9.2197549e-01 7.8023903e-02 6.0005982e-07]], shape=(8, 3), dtype=float32)\n",
      "tf.Tensor([2 2 2 1 1 1 0 0], shape=(8,), dtype=int64)\n",
      "tf.Tensor([2 2 2 1 1 1 0 0], shape=(8,), dtype=int64)\n"
     ]
    }
   ],
   "source": [
    "b = hypothesis(x_data)\n",
    "print(b)\n",
    "print(tf.argmax(b, 1))\n",
    "print(tf.argmax(y_data, 1)) # matches with y_data"
   ]
  },
  {
   "cell_type": "code",
   "execution_count": 14,
   "id": "3b8a8971",
   "metadata": {
    "ExecuteTime": {
     "end_time": "2021-11-21T07:08:48.113738Z",
     "start_time": "2021-11-21T07:08:44.280660Z"
    }
   },
   "outputs": [
    {
     "name": "stdout",
     "output_type": "stream",
     "text": [
      "Loss at epoch 1: 2.472669\n",
      "Loss at epoch 500: 0.375229\n",
      "Loss at epoch 1000: 0.229923\n",
      "Loss at epoch 1500: 0.182148\n",
      "Loss at epoch 2000: 0.150633\n"
     ]
    }
   ],
   "source": [
    "# all code change into class\n",
    "class softmax_classifer(tf.keras.Model):\n",
    "    def __init__(self, nb_classes):\n",
    "        super(softmax_classifer, self).__init__()\n",
    "        self.W = tf.Variable(tf.random.normal((4, nb_classes)), name='weight')\n",
    "        self.b = tf.Variable(tf.random.normal((nb_classes,)), name='bias')\n",
    "        \n",
    "    def softmax_regression(self, X):\n",
    "        return tf.nn.softmax(tf.matmul(X, self.W) + self.b)\n",
    "    \n",
    "    def cost_fn(self, X, Y):\n",
    "        logits = self.softmax_regression(X)\n",
    "        cost = tf.reduce_mean(-tf.reduce_sum(Y * tf.math.log(logits), axis=1))        \n",
    "        return cost\n",
    "    \n",
    "    def grad_fn(self, X, Y):\n",
    "        with tf.GradientTape() as tape:\n",
    "            cost = self.cost_fn(x_data, y_data)\n",
    "            grads = tape.gradient(cost, self.variables)            \n",
    "            return grads\n",
    "    \n",
    "    def fit(self, X, Y, epochs=2000, verbose=500):\n",
    "        optimizer =  tf.keras.optimizers.SGD(learning_rate=0.1)\n",
    "\n",
    "        for i in range(epochs):\n",
    "            grads = self.grad_fn(X, Y)\n",
    "            optimizer.apply_gradients(zip(grads, self.variables))\n",
    "            if (i==0) | ((i+1)%verbose==0):\n",
    "                print('Loss at epoch %d: %f' %(i+1, self.cost_fn(X, Y).numpy()))\n",
    "            \n",
    "model = softmax_classifer(nb_classes)\n",
    "model.fit(x_data, y_data)"
   ]
  },
  {
   "cell_type": "markdown",
   "id": "20894c2c",
   "metadata": {},
   "source": [
    "Zoo_classifier"
   ]
  },
  {
   "cell_type": "code",
   "execution_count": 15,
   "id": "c438d210",
   "metadata": {
    "ExecuteTime": {
     "end_time": "2021-11-21T07:13:53.217452Z",
     "start_time": "2021-11-21T07:13:53.210731Z"
    }
   },
   "outputs": [
    {
     "name": "stdout",
     "output_type": "stream",
     "text": [
      "(101, 16) (101, 7)\n"
     ]
    }
   ],
   "source": [
    "# 데이터 호출 및 전처리\n",
    "\n",
    "xy = np.loadtxt('data-04-zoo.csv', delimiter=',', dtype=np.float32)\n",
    "x_data = xy[:, 0:-1]   #마지막컬럼 제외 모든 데이터를 선택\n",
    "\n",
    "y_data = xy[:, -1]  # 마지막 열을  라벨,클래스용으로 선택한다\n",
    "\n",
    "\n",
    "nb_classes = 7  # 0 ~ 6     7종으로 분류\n",
    "\n",
    "# Make Y data as onehot shape\n",
    "Y_one_hot = tf.one_hot(y_data.astype(np.int32), nb_classes)\n",
    "\n",
    "print(x_data.shape, Y_one_hot.shape)"
   ]
  },
  {
   "cell_type": "code",
   "execution_count": 16,
   "id": "d1959893",
   "metadata": {
    "ExecuteTime": {
     "end_time": "2021-11-21T07:14:04.652064Z",
     "start_time": "2021-11-21T07:14:04.643391Z"
    }
   },
   "outputs": [],
   "source": [
    "#Weight and bias setting\n",
    "W = tf.Variable(tf.random.normal((16, nb_classes)), name='weight')\n",
    "b = tf.Variable(tf.random.normal((nb_classes,)), name='bias')\n",
    "variables = [W, b]\n",
    "\n",
    "# tf.nn.softmax computes softmax activations\n",
    "# softmax = exp(logits) / reduce_sum(exp(logits), dim)\n",
    "\n",
    "def logit_fn(X):  #추정식 모델링 , 선형결합   \n",
    "    return tf.matmul(X, W) + b\n",
    "\n",
    "def hypothesis(X):   # 가설 함수 설정 \n",
    "    return tf.nn.softmax(logit_fn(X))\n",
    "\n",
    "\n",
    "def cost_fn(X, Y):\n",
    "    logits = logit_fn(X)\n",
    "    cost_i = tf.keras.losses.categorical_crossentropy(y_true=Y, y_pred=logits,from_logits=True)    \n",
    "    cost = tf.reduce_mean(cost_i)    \n",
    "    return cost\n",
    "\n",
    "# cost -> loss -> gradient 파악\n",
    "# variable  =  파라미터  가중치와 편향\n",
    "def grad_fn(X, Y):\n",
    "    with tf.GradientTape() as tape:\n",
    "        loss = cost_fn(X, Y)\n",
    "        grads = tape.gradient(loss, variables)\n",
    "        return grads\n",
    "\n",
    "# argmax 를 통해 가장 높은 확률을 가진 값을 반환 = 추정하는 값\n",
    "def prediction(X, Y):\n",
    "    pred = tf.argmax(hypothesis(X), 1)\n",
    "    # 추청 =?= 실측 \n",
    "    correct_prediction = tf.equal(pred, tf.argmax(Y, 1))\n",
    "    \n",
    "    accuracy = tf.reduce_mean(tf.cast(correct_prediction, tf.float32))\n",
    "\n",
    "    return accuracy"
   ]
  },
  {
   "cell_type": "code",
   "execution_count": 18,
   "id": "4a416028",
   "metadata": {
    "ExecuteTime": {
     "end_time": "2021-11-21T07:14:41.880625Z",
     "start_time": "2021-11-21T07:14:39.169073Z"
    }
   },
   "outputs": [
    {
     "name": "stdout",
     "output_type": "stream",
     "text": [
      "Steps: 1 Loss: 6.631802082061768, Acc: 0.10891088843345642\n",
      "Steps: 100 Loss: 0.572661817073822, Acc: 0.8514851331710815\n",
      "Steps: 200 Loss: 0.3897223174571991, Acc: 0.9009901285171509\n",
      "Steps: 300 Loss: 0.3014775514602661, Acc: 0.9108911156654358\n",
      "Steps: 400 Loss: 0.24435140192508698, Acc: 0.9306930899620056\n",
      "Steps: 500 Loss: 0.20434372127056122, Acc: 0.9405940771102905\n",
      "Steps: 600 Loss: 0.17501819133758545, Acc: 0.9702970385551453\n",
      "Steps: 700 Loss: 0.15277515351772308, Acc: 0.9900990128517151\n",
      "Steps: 800 Loss: 0.13542766869068146, Acc: 0.9900990128517151\n",
      "Steps: 900 Loss: 0.12156669050455093, Acc: 0.9900990128517151\n",
      "Steps: 1000 Loss: 0.11025162786245346, Acc: 0.9900990128517151\n"
     ]
    }
   ],
   "source": [
    "# 만든 함수들로 훈련\n",
    "def fit(X, Y, epochs=1000, verbose=100):\n",
    "    optimizer =  tf.keras.optimizers.SGD(learning_rate=0.1)\n",
    "\n",
    "    for i in range(epochs):\n",
    "        grads = grad_fn(X, Y)\n",
    "        optimizer.apply_gradients(zip(grads, variables))\n",
    "        if (i==0) | ((i+1)%verbose==0):\n",
    "            #정확도 \n",
    "            acc = prediction(X, Y).numpy()\n",
    "            loss = cost_fn(X, Y).numpy() \n",
    "            print('Steps: {} Loss: {}, Acc: {}'.format(i+1, loss, acc))\n",
    "            #print('Loss at epoch %d: %f' %(i+1, cost_fn(X, Y).numpy()))\n",
    "            \n",
    "            \n",
    "fit(x_data, Y_one_hot)"
   ]
  }
 ],
 "metadata": {
  "kernelspec": {
   "display_name": "Python 3",
   "language": "python",
   "name": "python3"
  },
  "language_info": {
   "codemirror_mode": {
    "name": "ipython",
    "version": 3
   },
   "file_extension": ".py",
   "mimetype": "text/x-python",
   "name": "python",
   "nbconvert_exporter": "python",
   "pygments_lexer": "ipython3",
   "version": "3.7.0"
  },
  "toc": {
   "base_numbering": 1,
   "nav_menu": {},
   "number_sections": true,
   "sideBar": true,
   "skip_h1_title": false,
   "title_cell": "Table of Contents",
   "title_sidebar": "Contents",
   "toc_cell": false,
   "toc_position": {},
   "toc_section_display": true,
   "toc_window_display": false
  },
  "varInspector": {
   "cols": {
    "lenName": 16,
    "lenType": 16,
    "lenVar": 40
   },
   "kernels_config": {
    "python": {
     "delete_cmd_postfix": "",
     "delete_cmd_prefix": "del ",
     "library": "var_list.py",
     "varRefreshCmd": "print(var_dic_list())"
    },
    "r": {
     "delete_cmd_postfix": ") ",
     "delete_cmd_prefix": "rm(",
     "library": "var_list.r",
     "varRefreshCmd": "cat(var_dic_list()) "
    }
   },
   "types_to_exclude": [
    "module",
    "function",
    "builtin_function_or_method",
    "instance",
    "_Feature"
   ],
   "window_display": false
  }
 },
 "nbformat": 4,
 "nbformat_minor": 5
}
