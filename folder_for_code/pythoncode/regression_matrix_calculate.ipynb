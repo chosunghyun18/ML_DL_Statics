{
 "cells": [
  {
   "cell_type": "code",
   "execution_count": 5,
   "id": "7420ae85",
   "metadata": {
    "ExecuteTime": {
     "end_time": "2021-10-30T03:12:16.755347Z",
     "start_time": "2021-10-30T03:12:16.752852Z"
    }
   },
   "outputs": [],
   "source": [
    "import math \n",
    "import numpy as np\n",
    "import pandas as pd "
   ]
  },
  {
   "cell_type": "code",
   "execution_count": 30,
   "id": "f9cf1768",
   "metadata": {
    "ExecuteTime": {
     "end_time": "2021-10-30T05:30:04.599621Z",
     "start_time": "2021-10-30T05:30:04.596245Z"
    }
   },
   "outputs": [],
   "source": [
    "x = np.array([[1,2],[1,4],[1,6],[1,8],[1,10]])\n",
    "y = np.array([ [7],[5],[4],[2],[1] ])"
   ]
  },
  {
   "cell_type": "code",
   "execution_count": 10,
   "id": "95d3df75",
   "metadata": {
    "ExecuteTime": {
     "end_time": "2021-10-30T03:14:25.281821Z",
     "start_time": "2021-10-30T03:14:25.278807Z"
    }
   },
   "outputs": [
    {
     "name": "stdout",
     "output_type": "stream",
     "text": [
      "[[7]\n",
      " [5]\n",
      " [4]\n",
      " [2]\n",
      " [1]]\n"
     ]
    }
   ],
   "source": [
    "print(y)"
   ]
  },
  {
   "cell_type": "code",
   "execution_count": 40,
   "id": "47ac7d57",
   "metadata": {
    "ExecuteTime": {
     "end_time": "2021-10-30T05:39:51.989301Z",
     "start_time": "2021-10-30T05:39:51.986899Z"
    }
   },
   "outputs": [],
   "source": [
    "xt=(x.T)"
   ]
  },
  {
   "cell_type": "code",
   "execution_count": 41,
   "id": "b2764ccf",
   "metadata": {
    "ExecuteTime": {
     "end_time": "2021-10-30T05:39:55.525926Z",
     "start_time": "2021-10-30T05:39:55.523390Z"
    }
   },
   "outputs": [],
   "source": [
    "arr_inv=np.linalg.inv(xt@x)"
   ]
  },
  {
   "cell_type": "code",
   "execution_count": 42,
   "id": "95e89147",
   "metadata": {
    "ExecuteTime": {
     "end_time": "2021-10-30T05:40:01.843498Z",
     "start_time": "2021-10-30T05:40:01.840166Z"
    }
   },
   "outputs": [
    {
     "name": "stdout",
     "output_type": "stream",
     "text": [
      "[[ 1.1   -0.15 ]\n",
      " [-0.15   0.025]]\n"
     ]
    }
   ],
   "source": [
    "print(arr_inv)"
   ]
  },
  {
   "cell_type": "code",
   "execution_count": 24,
   "id": "c7f15b02",
   "metadata": {
    "ExecuteTime": {
     "end_time": "2021-10-30T05:00:35.035156Z",
     "start_time": "2021-10-30T05:00:35.032732Z"
    }
   },
   "outputs": [],
   "source": [
    "p=arr_inv@xt"
   ]
  },
  {
   "cell_type": "code",
   "execution_count": 25,
   "id": "03344c87",
   "metadata": {
    "ExecuteTime": {
     "end_time": "2021-10-30T05:00:47.867691Z",
     "start_time": "2021-10-30T05:00:47.862860Z"
    }
   },
   "outputs": [
    {
     "data": {
      "text/plain": [
       "array([[ 8.3 ],\n",
       "       [-0.75]])"
      ]
     },
     "execution_count": 25,
     "metadata": {},
     "output_type": "execute_result"
    }
   ],
   "source": [
    "p@y"
   ]
  },
  {
   "cell_type": "code",
   "execution_count": 26,
   "id": "eec1034c",
   "metadata": {
    "ExecuteTime": {
     "end_time": "2021-10-30T05:27:08.305204Z",
     "start_time": "2021-10-30T05:27:08.300960Z"
    }
   },
   "outputs": [
    {
     "data": {
      "text/plain": [
       "array([[95]])"
      ]
     },
     "execution_count": 26,
     "metadata": {},
     "output_type": "execute_result"
    }
   ],
   "source": [
    "y.T@y"
   ]
  },
  {
   "cell_type": "code",
   "execution_count": 35,
   "id": "3c5e2129",
   "metadata": {
    "ExecuteTime": {
     "end_time": "2021-10-30T05:30:43.248440Z",
     "start_time": "2021-10-30T05:30:43.244839Z"
    }
   },
   "outputs": [
    {
     "name": "stdout",
     "output_type": "stream",
     "text": [
      "[[ 0.8  -0.1 ]\n",
      " [ 0.5  -0.05]\n",
      " [ 0.2   0.  ]\n",
      " [-0.1   0.05]\n",
      " [-0.4   0.1 ]]\n"
     ]
    }
   ],
   "source": [
    "x1=x@arr_inv\n",
    "print(x1)"
   ]
  },
  {
   "cell_type": "code",
   "execution_count": 38,
   "id": "d0df525a",
   "metadata": {
    "ExecuteTime": {
     "end_time": "2021-10-30T05:32:30.709155Z",
     "start_time": "2021-10-30T05:32:30.706636Z"
    }
   },
   "outputs": [],
   "source": [
    "p1=x1@x.T"
   ]
  },
  {
   "cell_type": "code",
   "execution_count": 39,
   "id": "43731edc",
   "metadata": {
    "ExecuteTime": {
     "end_time": "2021-10-30T05:32:51.793425Z",
     "start_time": "2021-10-30T05:32:51.789000Z"
    }
   },
   "outputs": [
    {
     "data": {
      "text/plain": [
       "array([[94.7]])"
      ]
     },
     "execution_count": 39,
     "metadata": {},
     "output_type": "execute_result"
    }
   ],
   "source": [
    "y.T@p1@y"
   ]
  }
 ],
 "metadata": {
  "kernelspec": {
   "display_name": "Python 3",
   "language": "python",
   "name": "python3"
  },
  "language_info": {
   "codemirror_mode": {
    "name": "ipython",
    "version": 3
   },
   "file_extension": ".py",
   "mimetype": "text/x-python",
   "name": "python",
   "nbconvert_exporter": "python",
   "pygments_lexer": "ipython3",
   "version": "3.7.0"
  },
  "toc": {
   "base_numbering": 1,
   "nav_menu": {},
   "number_sections": true,
   "sideBar": true,
   "skip_h1_title": false,
   "title_cell": "Table of Contents",
   "title_sidebar": "Contents",
   "toc_cell": false,
   "toc_position": {},
   "toc_section_display": true,
   "toc_window_display": false
  },
  "varInspector": {
   "cols": {
    "lenName": 16,
    "lenType": 16,
    "lenVar": 40
   },
   "kernels_config": {
    "python": {
     "delete_cmd_postfix": "",
     "delete_cmd_prefix": "del ",
     "library": "var_list.py",
     "varRefreshCmd": "print(var_dic_list())"
    },
    "r": {
     "delete_cmd_postfix": ") ",
     "delete_cmd_prefix": "rm(",
     "library": "var_list.r",
     "varRefreshCmd": "cat(var_dic_list()) "
    }
   },
   "types_to_exclude": [
    "module",
    "function",
    "builtin_function_or_method",
    "instance",
    "_Feature"
   ],
   "window_display": false
  }
 },
 "nbformat": 4,
 "nbformat_minor": 5
}
