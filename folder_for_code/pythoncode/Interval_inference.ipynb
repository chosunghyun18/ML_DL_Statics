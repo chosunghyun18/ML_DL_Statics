{
 "cells": [
  {
   "cell_type": "code",
   "execution_count": 36,
   "id": "526ff090",
   "metadata": {
    "ExecuteTime": {
     "end_time": "2021-10-31T07:20:01.254663Z",
     "start_time": "2021-10-31T07:20:01.251869Z"
    }
   },
   "outputs": [],
   "source": [
    "import numpy as np\n",
    "import pandas as pd\n",
    "import math\n",
    "import scipy.stats as st"
   ]
  },
  {
   "cell_type": "code",
   "execution_count": 27,
   "id": "3b247f07",
   "metadata": {
    "ExecuteTime": {
     "end_time": "2021-10-31T07:09:34.262072Z",
     "start_time": "2021-10-31T07:09:34.252733Z"
    }
   },
   "outputs": [
    {
     "name": "stdout",
     "output_type": "stream",
     "text": [
      "this is sample 평균 0    65.84\n",
      "dtype: float64\n",
      "this is sample 분산 세타 제곱 0    3.796\n",
      "dtype: float64\n",
      "this is samle 분산 세타 : 표준 편차 s 0    1.948333\n",
      "dtype: float64\n"
     ]
    },
    {
     "data": {
      "text/plain": [
       "'\\nprint(np.std(a))\\nprint(np.var(a))\\n'"
      ]
     },
     "execution_count": 27,
     "metadata": {},
     "output_type": "execute_result"
    }
   ],
   "source": [
    "a = [64,64.8,66,63.5,65,68,67,63.6,67.6,68.9]\n",
    "dfa = pd.DataFrame(a)\n",
    "\n",
    "\n",
    "print(\"this is sample 평균\",dfa.mean())\n",
    "print(\"this is sample 분산 세타 제곱\",dfa.var())\n",
    "pandas_std=dfa.std()\n",
    "print(\"this is samle 분산 세타 : 표준 편차 s\",pandas_std)\n",
    "# 작은수가 나온다  나누는 수가  더작다 ==   n-1  \n",
    "\n",
    "\"\"\"\n",
    "print(np.std(a))\n",
    "print(np.var(a))\n",
    "\"\"\""
   ]
  },
  {
   "cell_type": "code",
   "execution_count": 33,
   "id": "d3f97b9b",
   "metadata": {
    "ExecuteTime": {
     "end_time": "2021-10-31T07:12:11.566633Z",
     "start_time": "2021-10-31T07:12:11.559403Z"
    }
   },
   "outputs": [
    {
     "name": "stdout",
     "output_type": "stream",
     "text": [
      "this is sample 평균 0    1.005556\n",
      "dtype: float64\n",
      "this is sample (세타 제곱) 분산  0    0.000603\n",
      "dtype: float64\n",
      "this is samle (분산 루트) : 표준 편차 s 0    0.024552\n",
      "dtype: float64\n"
     ]
    }
   ],
   "source": [
    "# for test \n",
    "b =[1.01,0.97,1.03,1.04,0.99,0.98,0.99,1.01,1.03]\n",
    "dfa = pd.DataFrame(b)\n",
    "\n",
    "print(\"this is sample 평균\",dfa.mean())\n",
    "print(\"this is sample (세타 제곱) 분산 \",dfa.var())\n",
    "print(\"this is samle (분산 루트) : 표준 편차 s\",dfa.std())\n",
    "# 작은수가 나온다  나누는 수가  더작다 ==   n-1  "
   ]
  },
  {
   "cell_type": "code",
   "execution_count": 42,
   "id": "f9247839",
   "metadata": {
    "ExecuteTime": {
     "end_time": "2021-10-31T07:21:54.743922Z",
     "start_time": "2021-10-31T07:21:54.739473Z"
    }
   },
   "outputs": [
    {
     "name": "stdout",
     "output_type": "stream",
     "text": [
      "667.1\n",
      "692.9\n"
     ]
    }
   ],
   "source": [
    "#1번 문제\n",
    "# 표본분산 , 평균알면\n",
    "m=680\n",
    "s=30\n",
    "n=36\n",
    "#90\n",
    "# z = 1.65 \n",
    "# 95\n",
    "#z = 1.96\n",
    "# 99\n",
    "z = 2.58\n",
    "print(m - (z*(s/math.sqrt(n))))\n",
    "print(m + (z*(s/math.sqrt(n))))"
   ]
  },
  {
   "cell_type": "code",
   "execution_count": 47,
   "id": "41a8d7fa",
   "metadata": {
    "ExecuteTime": {
     "end_time": "2021-10-31T07:31:45.947118Z",
     "start_time": "2021-10-31T07:31:45.941365Z"
    }
   },
   "outputs": [
    {
     "name": "stdout",
     "output_type": "stream",
     "text": [
      "119.0\n",
      "25.45584412271571\n",
      "648.0\n",
      "100.47974082254787\n",
      "137.52025917745215\n"
     ]
    }
   ],
   "source": [
    "# 표본 수가 적고, 모집단이 정규 분포를 따를때\n",
    "b=[94,105,135,88,115,128,168]\n",
    "dfa = pd.DataFrame(b)\n",
    "print(np.mean(b))\n",
    "print(np.std(b))\n",
    "print(np.var(b))\n",
    "# 작은수가 나온다  나누는 수가  더작다 ==   n-1  \n",
    "m=np.mean(b)\n",
    "s=25 \n",
    "#np.std(b) = 25.42\n",
    "n=7\n",
    "#z = 1.65 #90\n",
    "z = 1.96# 95\n",
    "#z = 2.58# 99\n",
    "print(m - (z*(s/math.sqrt(n))))\n",
    "print(m + (z*(s/math.sqrt(n))))"
   ]
  },
  {
   "cell_type": "code",
   "execution_count": null,
   "id": "50446c7c",
   "metadata": {},
   "outputs": [],
   "source": [
    "# 표본 수가 적고,모분산을 알아,  모집단이 정규 분포를 따를때, \n",
    "b=[94,105,135,88,115,128,168]\n",
    "dfa = pd.DataFrame(b)\n",
    "print(np.mean(b))\n",
    "print(np.std(b))   # 모분산   자유도 \n",
    "print(np.var(b))\n",
    "# 작은수가 나온다  나누는 수가  더작다 ==   n-1  \n",
    "m=np.mean(b)\n",
    "s=25  # 루트 모분산, 표준편차 s 이 주어진거 이용\n",
    "\n",
    "n=7\n",
    "#z = 1.65 #90\n",
    "z = 1.96# 95\n",
    "#z = 2.58# 99\n",
    "print(m - (z*(s/math.sqrt(n))))\n",
    "print(m + (z*(s/math.sqrt(n))))"
   ]
  },
  {
   "cell_type": "code",
   "execution_count": 55,
   "id": "8f01843b",
   "metadata": {
    "ExecuteTime": {
     "end_time": "2021-10-31T07:46:58.762782Z",
     "start_time": "2021-10-31T07:46:58.751801Z"
    }
   },
   "outputs": [
    {
     "name": "stdout",
     "output_type": "stream",
     "text": [
      "this is sample 평균 0    119.333333\n",
      "dtype: float64\n",
      "this is sample (세타 제곱) 분산  0    178.666667\n",
      "dtype: float64\n",
      "this is samle (분산 루트) : 표준 편차 s 0    13.366625\n",
      "dtype: float64\n",
      "6\n",
      "하한 0    97.331105\n",
      "dtype: float64\n",
      "상한 0    141.335562\n",
      "dtype: float64\n"
     ]
    }
   ],
   "source": [
    "# 전체:norm, 자료 소표본 \n",
    "\n",
    "b=[126,98,134,116,130,112]\n",
    "dfa = pd.DataFrame(b)\n",
    "print(\"this is sample 평균\",dfa.mean())\n",
    "print(\"this is sample (세타 제곱) 분산 \",dfa.var())\n",
    "print(\"this is samle (분산 루트) : 표준 편차 s\",dfa.std())\n",
    "\n",
    "m=dfa.mean()\n",
    "s=dfa.std()\n",
    "\n",
    "n= len(b)   #t(n-1) 0.00\n",
    "\n",
    "z=4.032  # 책 뒤에  표\n",
    "\n",
    "print(\"하한\",m - (z*(s/math.sqrt(n))))\n",
    "print(\"상한\",m + (z*(s/math.sqrt(n))))"
   ]
  },
  {
   "cell_type": "code",
   "execution_count": 73,
   "id": "64a066c5",
   "metadata": {
    "ExecuteTime": {
     "end_time": "2021-10-31T08:12:28.782317Z",
     "start_time": "2021-10-31T08:12:28.778139Z"
    }
   },
   "outputs": [
    {
     "name": "stdout",
     "output_type": "stream",
     "text": [
      "46.7092967364\n",
      "2401.0\n"
     ]
    }
   ],
   "source": [
    "#소표본의 크기 오차 한계        99%의 오차 한계를 500원으로 잡을떼   소표본 , 모표준편차 따름\n",
    "#z = 1.65 #90\n",
    "#z = 1.96# 95\n",
    "z = 2.58# 99 \n",
    "t=1324.5\n",
    "d=500     # 원하는 양\n",
    "print(((z*t)/d)**2)   # 나오는 수에서 무조건 올림\n",
    "\n",
    "\n",
    "# 대표본\n",
    "#z = 1.65 #90\n",
    "z = 1.96# 95\n",
    "#z = 2.58# 99 \n",
    "d=0.02     # 원하는 양\n",
    "print((1/4)*(((z)/d)**2))   # 나오는 수에서 무조건 올림"
   ]
  },
  {
   "cell_type": "code",
   "execution_count": 74,
   "id": "896297bd",
   "metadata": {
    "ExecuteTime": {
     "end_time": "2021-10-31T08:15:06.851974Z",
     "start_time": "2021-10-31T08:15:06.847781Z"
    }
   },
   "outputs": [
    {
     "name": "stdout",
     "output_type": "stream",
     "text": [
      "0.26\n",
      "하한 0.213914003423385\n",
      "상한 0.306085996576615\n"
     ]
    }
   ],
   "source": [
    "##################### 모비율 추정\n",
    "# 대표본 -> 정규\n",
    "n= 348\n",
    "x=92\n",
    "p= x/n\n",
    "p=round(p,2)\n",
    "print(p)\n",
    "#z = 1.65 #90\n",
    "z = 1.96# 95\n",
    "#z = 2.58# 99\n",
    "print(\"하한\",p - (z*math.sqrt(((p*(1-p))/n))))\n",
    "print(\"상한\",p + (z*math.sqrt(((p*(1-p))/n))))"
   ]
  },
  {
   "cell_type": "code",
   "execution_count": 77,
   "id": "08040453",
   "metadata": {
    "ExecuteTime": {
     "end_time": "2021-10-31T08:20:53.565212Z",
     "start_time": "2021-10-31T08:20:53.560646Z"
    }
   },
   "outputs": [
    {
     "name": "stdout",
     "output_type": "stream",
     "text": [
      "2.6527286513433985\n",
      "5.747271348656607\n"
     ]
    }
   ],
   "source": [
    "########################   대표본 모평균 차이 추정\n",
    "\n",
    "n_1=56\n",
    "m_1=41.7\n",
    "v_1=9.3\n",
    "\n",
    "n_2=78\n",
    "m_2=37.5\n",
    "v_2=15.1\n",
    "\n",
    "#z = 1.65 #90\n",
    "#z = 1.96# 95\n",
    "z = 2.58# 99\n",
    "\n",
    "print((m_1-m_2) - z*(math.sqrt( (v_1/n_1) +  (v_2/n_2))))\n",
    "print((m_1-m_2) + z*(math.sqrt( (v_1/n_1) +  (v_2/n_2))))"
   ]
  },
  {
   "cell_type": "code",
   "execution_count": null,
   "id": "3fe49ed5",
   "metadata": {},
   "outputs": [],
   "source": []
  },
  {
   "cell_type": "code",
   "execution_count": null,
   "id": "b7c64f47",
   "metadata": {},
   "outputs": [],
   "source": []
  },
  {
   "cell_type": "code",
   "execution_count": null,
   "id": "193ca3e1",
   "metadata": {},
   "outputs": [],
   "source": []
  },
  {
   "cell_type": "code",
   "execution_count": null,
   "id": "2a103ce5",
   "metadata": {},
   "outputs": [],
   "source": []
  },
  {
   "cell_type": "code",
   "execution_count": null,
   "id": "ca8422e6",
   "metadata": {},
   "outputs": [],
   "source": []
  }
 ],
 "metadata": {
  "kernelspec": {
   "display_name": "Python 3",
   "language": "python",
   "name": "python3"
  },
  "language_info": {
   "codemirror_mode": {
    "name": "ipython",
    "version": 3
   },
   "file_extension": ".py",
   "mimetype": "text/x-python",
   "name": "python",
   "nbconvert_exporter": "python",
   "pygments_lexer": "ipython3",
   "version": "3.7.0"
  },
  "toc": {
   "base_numbering": 1,
   "nav_menu": {},
   "number_sections": true,
   "sideBar": true,
   "skip_h1_title": false,
   "title_cell": "Table of Contents",
   "title_sidebar": "Contents",
   "toc_cell": false,
   "toc_position": {},
   "toc_section_display": true,
   "toc_window_display": false
  },
  "varInspector": {
   "cols": {
    "lenName": 16,
    "lenType": 16,
    "lenVar": 40
   },
   "kernels_config": {
    "python": {
     "delete_cmd_postfix": "",
     "delete_cmd_prefix": "del ",
     "library": "var_list.py",
     "varRefreshCmd": "print(var_dic_list())"
    },
    "r": {
     "delete_cmd_postfix": ") ",
     "delete_cmd_prefix": "rm(",
     "library": "var_list.r",
     "varRefreshCmd": "cat(var_dic_list()) "
    }
   },
   "types_to_exclude": [
    "module",
    "function",
    "builtin_function_or_method",
    "instance",
    "_Feature"
   ],
   "window_display": false
  }
 },
 "nbformat": 4,
 "nbformat_minor": 5
}
