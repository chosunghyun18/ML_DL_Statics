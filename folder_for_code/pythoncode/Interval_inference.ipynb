{
 "cells": [
  {
   "cell_type": "code",
   "execution_count": 1,
   "id": "526ff090",
   "metadata": {
    "ExecuteTime": {
     "end_time": "2021-11-01T01:52:07.279521Z",
     "start_time": "2021-11-01T01:52:06.697917Z"
    }
   },
   "outputs": [],
   "source": [
    "import numpy as np\n",
    "import pandas as pd\n",
    "import math\n",
    "import scipy.stats as st"
   ]
  },
  {
   "cell_type": "code",
   "execution_count": 2,
   "id": "3b247f07",
   "metadata": {
    "ExecuteTime": {
     "end_time": "2021-11-01T01:52:08.288320Z",
     "start_time": "2021-11-01T01:52:08.272589Z"
    }
   },
   "outputs": [
    {
     "name": "stdout",
     "output_type": "stream",
     "text": [
      "this is sample 평균 0    65.84\n",
      "dtype: float64\n",
      "this is sample 분산 세타 제곱 0    3.796\n",
      "dtype: float64\n",
      "this is samle 분산 세타 : 표준 편차 s 0    1.948333\n",
      "dtype: float64\n"
     ]
    },
    {
     "data": {
      "text/plain": [
       "'\\nprint(np.std(a))\\nprint(np.var(a))\\n'"
      ]
     },
     "execution_count": 2,
     "metadata": {},
     "output_type": "execute_result"
    }
   ],
   "source": [
    "a = [64,64.8,66,63.5,65,68,67,63.6,67.6,68.9]\n",
    "dfa = pd.DataFrame(a)\n",
    "print(\"this is sample 평균\",dfa.mean())\n",
    "print(\"this is sample 분산 세타 제곱\",dfa.var())\n",
    "pandas_std=dfa.std()\n",
    "print(\"this is samle 분산 세타 : 표준 편차 s\",pandas_std)\n",
    "# 작은수가 나온다  나누는 수가  더작다 ==   n-1  /////. sampling dfa pandas, \n",
    "\"\"\"\n",
    "print(np.std(a))\n",
    "print(np.var(a))\n",
    "\"\"\""
   ]
  },
  {
   "cell_type": "code",
   "execution_count": 42,
   "id": "41a8d7fa",
   "metadata": {
    "ExecuteTime": {
     "end_time": "2021-11-01T02:50:13.197291Z",
     "start_time": "2021-11-01T02:50:13.192953Z"
    }
   },
   "outputs": [
    {
     "name": "stdout",
     "output_type": "stream",
     "text": [
      "5.763318189934651\n",
      "18.23668181006535\n"
     ]
    }
   ],
   "source": [
    "#2 표본 수가 많, 모분산을 알때.   >>>> 정규 분포\n",
    "#3 표본 수가 적고, 모분산을 알때.   >>>> 정규 분포\n",
    "\n",
    "b=[11,12,14,41,51,13,14,15,12,321,132,13,14,51,51]\n",
    "\n",
    "# dfa = pd.DataFrame(b)\n",
    "# m=dfa.mean()\n",
    "# s=dfa.std()\n",
    "# n= len(b)   \n",
    "\n",
    "m=12 \n",
    "s=9\n",
    "n=8\n",
    "\n",
    "#z = 1.65 #90\n",
    "z = 1.96# 95\n",
    "#z = 2.58# 99\n",
    "\n",
    "print(m - (z*(s/math.sqrt(n))))\n",
    "print(m + (z*(s/math.sqrt(n))))"
   ]
  },
  {
   "cell_type": "code",
   "execution_count": 69,
   "id": "8f01843b",
   "metadata": {
    "ExecuteTime": {
     "end_time": "2021-11-01T03:06:25.976094Z",
     "start_time": "2021-11-01T03:06:25.967009Z"
    }
   },
   "outputs": [
    {
     "name": "stdout",
     "output_type": "stream",
     "text": [
      "0    0.986684\n",
      "dtype: float64\n",
      "0    1.024428\n",
      "dtype: float64\n"
     ]
    }
   ],
   "source": [
    "#  자료 소표본 + 모분산 모를때  > [t 분포 ] \n",
    "\n",
    "b =[1.01,0.97,1.03,1.04,0.99,0.98,0.99,1.01,1.03]\n",
    "#b=[126,98,134,116,130,112]\n",
    "\n",
    "dfa = pd.DataFrame(b)\n",
    "m=dfa.mean()\n",
    "s=dfa.std()\n",
    "n= len(b)   \n",
    "\n",
    "\n",
    "# m=-1.49\n",
    "# s=1.92\n",
    "# n=8\n",
    "\n",
    "#a = 1-0.05       # 90%0.9    0.1 , 0.05\n",
    "a = 1-0.025       # 0.95 / 0.05 / 0.025\n",
    "#a = 1-0.005       # 0.99 / 0.01 /0.005\n",
    "df =  n-1    # 자유도 \n",
    "t_=st.t(df)\n",
    "tv=t_.ppf(a)\n",
    "tv = round(tv,3)\n",
    "\n",
    "\n",
    "print(m - (tv*(s/math.sqrt(n))))\n",
    "print(m + (tv*(s/math.sqrt(n))))"
   ]
  },
  {
   "cell_type": "code",
   "execution_count": 70,
   "id": "64a066c5",
   "metadata": {
    "ExecuteTime": {
     "end_time": "2021-11-01T03:06:28.771246Z",
     "start_time": "2021-11-01T03:06:28.766536Z"
    }
   },
   "outputs": [
    {
     "name": "stdout",
     "output_type": "stream",
     "text": [
      "2401.0\n",
      "2401.0\n",
      "1536.6400000000003\n"
     ]
    }
   ],
   "source": [
    "# 표본의 크기 추정    표준 편차를 알때 \n",
    "#z = 1.65 #90\n",
    "z = 1.96# 95\n",
    "#z = 2.58# 99 \n",
    "s=5\n",
    "d=0.2     # 원하는 한계  (허용 오차) //// >>>>>>    (신뢰구간의 폭 / 2 )\n",
    "print(((z*s)/d)**2)   # 나오는 수에서 무조건 올림\n",
    "\n",
    "\n",
    "# 모비율 모를때\n",
    "#z = 1.65 #90\n",
    "z = 1.96# 95\n",
    "#z = 2.58# 99 \n",
    "d=0.02     # 원하는 양\n",
    "print((1/4)*(((z)/d)**2))   # 나오는 수에서 무조건 올림\n",
    "\n",
    "# 모비율 알때\n",
    "#z = 1.65 #90\n",
    "z = 1.96# 95\n",
    "#z = 2.58# 99\n",
    "p=0.2\n",
    "d=0.02     # 원하는 양\n",
    "print((p*(1-p))*(((z)/d)**2))   # 나오는 수에서 무조건 올림"
   ]
  },
  {
   "cell_type": "code",
   "execution_count": 22,
   "id": "896297bd",
   "metadata": {
    "ExecuteTime": {
     "end_time": "2021-10-31T12:01:45.199983Z",
     "start_time": "2021-10-31T12:01:45.195723Z"
    }
   },
   "outputs": [
    {
     "name": "stdout",
     "output_type": "stream",
     "text": [
      "0.288\n",
      "하한 0.2510549765408113\n",
      "상한 0.32494502345918863\n"
     ]
    }
   ],
   "source": [
    "##################### 모비율 추정\n",
    "# 대표본 -> 정규\n",
    "n= 1000\n",
    "x=288\n",
    "p= x/n\n",
    "p=round(p,4)\n",
    "print(p)\n",
    "#z = 1.65 #90\n",
    "#z = 1.96# 95\n",
    "z = 2.58# 99\n",
    "print(\"하한\",p - (z*math.sqrt(((p*(1-p))/n))))\n",
    "print(\"상한\",p + (z*math.sqrt(((p*(1-p))/n))))"
   ]
  },
  {
   "cell_type": "code",
   "execution_count": 71,
   "id": "08040453",
   "metadata": {
    "ExecuteTime": {
     "end_time": "2021-11-01T03:06:30.338790Z",
     "start_time": "2021-11-01T03:06:30.334451Z"
    }
   },
   "outputs": [
    {
     "name": "stdout",
     "output_type": "stream",
     "text": [
      "2.6527286513433985\n",
      "5.747271348656607\n"
     ]
    }
   ],
   "source": [
    "########################   대표본 모평균 차이 추정 ,독립\n",
    "\n",
    "n_1=56\n",
    "m_1=41.7\n",
    "# \n",
    "v_1=9.3\n",
    "\n",
    "n_2=78\n",
    "m_2=37.5\n",
    "v_2=15.1\n",
    "\n",
    "#z = 1.65 #90\n",
    "#z = 1.96# 95\n",
    "z = 2.58# 99\n",
    "\n",
    "print((m_1-m_2) - z*(math.sqrt( (v_1/n_1) +  (v_2/n_2))))\n",
    "print((m_1-m_2) + z*(math.sqrt( (v_1/n_1) +  (v_2/n_2))))"
   ]
  },
  {
   "cell_type": "code",
   "execution_count": 72,
   "id": "3fe49ed5",
   "metadata": {
    "ExecuteTime": {
     "end_time": "2021-11-01T03:06:31.979679Z",
     "start_time": "2021-11-01T03:06:31.972675Z"
    }
   },
   "outputs": [
    {
     "name": "stdout",
     "output_type": "stream",
     "text": [
      "-0.43148462454685177\n",
      "1.4914846245468514\n"
     ]
    }
   ],
   "source": [
    "########################   소표본 모평균 차이 추정    독립인경우\n",
    "\n",
    "n_1=10\n",
    "m_1=3.67\n",
    "# s =0..8\n",
    "v_1=0.8*0.8\n",
    "\n",
    "n_2=10\n",
    "m_2=3.14\n",
    "v_2=(0.69*0.69)\n",
    "\n",
    "spsq =  (((n_1-1)*v_1) +((n_2-1)*v_2)) /(n_1+n_2 -2)\n",
    "#print(spsq)\n",
    "\n",
    "#  t (n1+n2-2) 0.005 (a/2)  99 퍼\n",
    "\n",
    "#a = 1-0.05       # 90%0.9    0.1 , 0.05\n",
    "#a = 1-0.025       # 0.95 / 0.05 / 0.025\n",
    "a = 1-0.005       # 0.99 / 0.01 /0.005\n",
    "n = len(b)\n",
    "df =  (n_1+n_2)-2    # 자유도 \n",
    "t_=st.t(df)\n",
    "tv=t_.ppf(a)\n",
    "tv = round(tv,3)\n",
    "\n",
    "print((m_1-m_2) - tv*(math.sqrt(spsq) )*(math.sqrt( (1/n_1) +  (1/n_2))))\n",
    "print((m_1-m_2) + tv*(math.sqrt(spsq) )*(math.sqrt( (1/n_1) +  (1/n_2))))"
   ]
  },
  {
   "cell_type": "code",
   "execution_count": 67,
   "id": "b7c64f47",
   "metadata": {
    "ExecuteTime": {
     "end_time": "2021-11-01T03:05:39.053197Z",
     "start_time": "2021-11-01T03:05:39.040171Z"
    }
   },
   "outputs": [
    {
     "name": "stdout",
     "output_type": "stream",
     "text": [
      "2.131\n",
      "0   -2.111155\n",
      "dtype: float64\n",
      "0    4.499726\n",
      "dtype: float64\n"
     ]
    }
   ],
   "source": [
    "########################   소표본 모평균 차이 추정  독립인경우 \n",
    "\n",
    "a1=[15.3,7.3,8.8,9.3,12.9,6.9,7.5]\n",
    "a2=[12.5,8.5,14,7.5,4.9,8.2,4.7,6,11,7.9]\n",
    "\n",
    "dfa1 = pd.DataFrame(a1)\n",
    "dfa2 = pd.DataFrame(a2)\n",
    "\n",
    "\n",
    "n_1=len(dfa1)\n",
    "m_1=round(dfa1.mean(),2)\n",
    "v_1=round(dfa1.var(),2)\n",
    "\n",
    "n_2=len(dfa2)\n",
    "m_2=round(dfa2.mean(),2)\n",
    "v_2=round(dfa2.var(),2)\n",
    "\n",
    "\n",
    "# n_1=12\n",
    "# m_1=36300\n",
    "# v_1=5000**2\n",
    "\n",
    "# n_2=12\n",
    "# m_2=38100\n",
    "# v_2=6100**2\n",
    "\n",
    "spsq =  (((n_1-1)*v_1) +((n_2-1)*v_2)) /(n_1+n_2 -2)\n",
    "\n",
    "#a = 1-0.05       # 90%0.9    0.1 , 0.05\n",
    "a = 1-0.025       # 0.95 / 0.05 / 0.025\n",
    "#a = 1-0.005       # 0.99 / 0.01 /0.005\n",
    "df =  n_1+n_2-2    # 자유도 \n",
    "t_=st.t(df)\n",
    "tv=t_.ppf(a)\n",
    "\n",
    "z = round(tv,3)\n",
    "print(z)\n",
    "\n",
    "print((m_1-m_2) - (z*(math.sqrt(spsq) )*(math.sqrt( (1/n_1) +  (1/n_2) ))))\n",
    "print((m_1-m_2) + (z*(math.sqrt(spsq) )*(math.sqrt( (1/n_1) +  (1/n_2)))))"
   ]
  },
  {
   "cell_type": "code",
   "execution_count": 81,
   "id": "193ca3e1",
   "metadata": {
    "ExecuteTime": {
     "end_time": "2021-11-01T03:15:33.052757Z",
     "start_time": "2021-11-01T03:15:33.046434Z"
    }
   },
   "outputs": [
    {
     "ename": "SyntaxError",
     "evalue": "invalid syntax (<ipython-input-81-7c454a2b27f5>, line 15)",
     "output_type": "error",
     "traceback": [
      "\u001b[0;36m  File \u001b[0;32m\"<ipython-input-81-7c454a2b27f5>\"\u001b[0;36m, line \u001b[0;32m15\u001b[0m\n\u001b[0;31m    n=\u001b[0m\n\u001b[0m      ^\u001b[0m\n\u001b[0;31mSyntaxError\u001b[0m\u001b[0;31m:\u001b[0m invalid syntax\n"
     ]
    }
   ],
   "source": [
    "# 종속 , 대응 비교 , 신약 개발 , 몸무게 변화등 , 소표본인경우  t 분포, 대표본인 경우 정규 분포를 이용\n",
    "\n",
    "x=[42.6,37.2,50.0,43.9,53.6,32.5,46.5,39.3]\n",
    "y=[43.8,41.3,49.7,45.7,52.5,36.8,47.0,40.7]\n",
    "dif=[]\n",
    "for k in range(len(x)):\n",
    "    dif.append(round((x[k]-y[k]),4))\n",
    "print(dif)\n",
    "dfa1 = pd.DataFrame(dif)\n",
    "n=len(dfa1)\n",
    "m=round(dfa1.mean(),2)\n",
    "s=round(dfa1.std(),2)\n",
    "\n",
    "# n=\n",
    "# m=\n",
    "# s=\n",
    "\n",
    "\n",
    "#a = 1-0.05       # 90%0.9    0.1 , 0.05\n",
    "a = 1-0.025       # 0.95 / 0.05 / 0.025\n",
    "#a = 1-0.005       # 0.99 / 0.01 /0.005\n",
    "df = n-1   # 자유도 \n",
    "t_=st.t(df)\n",
    "tv=t_.ppf(a)\n",
    "z = round(tv,3)\n",
    "print(z)\n",
    "\n",
    "################################################\n",
    "print(m - z*(s/math.sqrt(n)))\n",
    "print(m + z*(s/math.sqrt(n)))"
   ]
  },
  {
   "cell_type": "code",
   "execution_count": 11,
   "id": "ca8422e6",
   "metadata": {
    "ExecuteTime": {
     "end_time": "2021-10-31T11:45:03.446625Z",
     "start_time": "2021-10-31T11:45:03.440666Z"
    }
   },
   "outputs": [
    {
     "name": "stdout",
     "output_type": "stream",
     "text": [
      "점 추정치 0.41\n",
      "하한 0.28531257000001964\n",
      "상한 0.5346874299999804\n"
     ]
    }
   ],
   "source": [
    "# 모비율 차이 \n",
    "n1= 100\n",
    "x1= 78\n",
    "p1= x1/n1\n",
    "p1=round(p1,2)\n",
    "\n",
    "n2= 100\n",
    "x2=37\n",
    "p2= x2/n2\n",
    "p2=round(p2,2)\n",
    "\n",
    "print(\"점 추정치\",round((p1-p2),5))\n",
    "#z = 1.65 #90\n",
    "z = 1.96# 95\n",
    "#z = 2.58# 99\n",
    "\n",
    "print(\"하한\",(p1-p2) - (z*math.sqrt(((p1*(1-p1))/n1)+((p2*(1-p2))/n2) )))\n",
    "print(\"상한\",(p1-p2) + (z*math.sqrt(((p1*(1-p1))/n1)+((p2*(1-p2))/n2) )))"
   ]
  },
  {
   "cell_type": "code",
   "execution_count": 84,
   "id": "4a32fa84",
   "metadata": {
    "ExecuteTime": {
     "end_time": "2021-11-01T03:28:38.725041Z",
     "start_time": "2021-11-01T03:28:38.716502Z"
    }
   },
   "outputs": [
    {
     "name": "stdout",
     "output_type": "stream",
     "text": [
      "0    2.143761\n",
      "dtype: float64\n",
      "2.262\n"
     ]
    }
   ],
   "source": [
    "##################################\n",
    "###################\n",
    "# 가설검정, # 가설 검정은  검정 통계  량을 생각\n",
    "\n",
    "\n",
    "# 소표본인 경우 ->  t 분포 와 비교\n",
    "a = [20,15,30,26,40,24,25,18,20,35]\n",
    "dfa = pd.DataFrame(a)\n",
    "x_bar=dfa.mean()\n",
    "s=dfa.std()\n",
    "u =20\n",
    "n=len(a)\n",
    "\n",
    "z0=(x_bar-u)/ (s/math.sqrt(n))\n",
    "print(z0)\n",
    "\n",
    "\n",
    "\n",
    "n = 10      \n",
    "#a = 1-0.05       # 90%0.9    0.1 , 0.05     # both side \n",
    "a = 1-0.025       # 0.95 / 0.05 / 0.025\n",
    "#a = 1-0.005       # 0.99 / 0.01 /0.005\n",
    "df = n-1   # 자유도 \n",
    "t_=st.t(df)\n",
    "tv=t_.ppf(a)\n",
    "tv = round(tv,3)\n",
    "\n",
    "\n",
    "print(tv)\n"
   ]
  },
  {
   "cell_type": "code",
   "execution_count": 35,
   "id": "ead8e676",
   "metadata": {
    "ExecuteTime": {
     "end_time": "2021-10-31T15:12:40.731484Z",
     "start_time": "2021-10-31T15:12:40.727677Z"
    }
   },
   "outputs": [
    {
     "name": "stdout",
     "output_type": "stream",
     "text": [
      "-2.1908902300206643\n"
     ]
    }
   ],
   "source": [
    "# n >30\n",
    "\n",
    "x_bar=356\n",
    "s=10\n",
    "u =360\n",
    "n=30\n",
    "z0=(x_bar-u)/ (s/math.sqrt(n))\n",
    "print(z0)\n",
    "\n"
   ]
  },
  {
   "cell_type": "code",
   "execution_count": 37,
   "id": "b458d3b3",
   "metadata": {
    "ExecuteTime": {
     "end_time": "2021-10-31T15:16:27.395094Z",
     "start_time": "2021-10-31T15:16:27.391644Z"
    }
   },
   "outputs": [
    {
     "name": "stdout",
     "output_type": "stream",
     "text": [
      "2.3904572186687876\n"
     ]
    }
   ],
   "source": [
    "#  대표본 모비율\n",
    "p = 0.7   # 주장 하는 값\n",
    "p_h = 27/30    # 표본 추청\n",
    "n = 30\n",
    "z0 =  (p_h - p) / math.sqrt(  (p*(1-p))/30)\n",
    "print(z0)"
   ]
  },
  {
   "cell_type": "code",
   "execution_count": 85,
   "id": "81d85c9a",
   "metadata": {
    "ExecuteTime": {
     "end_time": "2021-11-01T03:30:19.414879Z",
     "start_time": "2021-11-01T03:30:19.409987Z"
    }
   },
   "outputs": [
    {
     "name": "stdout",
     "output_type": "stream",
     "text": [
      "1.833\n"
     ]
    }
   ],
   "source": [
    "# one side > >.    95 %   >>>>.  t(0.05) \n",
    "\n",
    "n = 10\n",
    "#a = 1-(0.05*2)       # 90%0.9    0.1 , 0.05\n",
    "a = 1-(0.025*2)       # 0.95 / 0.05 / 0.025\n",
    "#a = 1-(0.005*2)       # 0.99 / 0.01 /0.005\n",
    "df = n-1   # 자유도 \n",
    "t_=st.t(df)\n",
    "tv=t_.ppf(a)\n",
    "tv = round(tv,3)\n",
    "\n",
    "\n",
    "print(tv)"
   ]
  }
 ],
 "metadata": {
  "kernelspec": {
   "display_name": "Python 3",
   "language": "python",
   "name": "python3"
  },
  "language_info": {
   "codemirror_mode": {
    "name": "ipython",
    "version": 3
   },
   "file_extension": ".py",
   "mimetype": "text/x-python",
   "name": "python",
   "nbconvert_exporter": "python",
   "pygments_lexer": "ipython3",
   "version": "3.7.0"
  },
  "toc": {
   "base_numbering": 1,
   "nav_menu": {},
   "number_sections": true,
   "sideBar": true,
   "skip_h1_title": false,
   "title_cell": "Table of Contents",
   "title_sidebar": "Contents",
   "toc_cell": false,
   "toc_position": {},
   "toc_section_display": true,
   "toc_window_display": false
  },
  "varInspector": {
   "cols": {
    "lenName": 16,
    "lenType": 16,
    "lenVar": 40
   },
   "kernels_config": {
    "python": {
     "delete_cmd_postfix": "",
     "delete_cmd_prefix": "del ",
     "library": "var_list.py",
     "varRefreshCmd": "print(var_dic_list())"
    },
    "r": {
     "delete_cmd_postfix": ") ",
     "delete_cmd_prefix": "rm(",
     "library": "var_list.r",
     "varRefreshCmd": "cat(var_dic_list()) "
    }
   },
   "types_to_exclude": [
    "module",
    "function",
    "builtin_function_or_method",
    "instance",
    "_Feature"
   ],
   "window_display": false
  }
 },
 "nbformat": 4,
 "nbformat_minor": 5
}
