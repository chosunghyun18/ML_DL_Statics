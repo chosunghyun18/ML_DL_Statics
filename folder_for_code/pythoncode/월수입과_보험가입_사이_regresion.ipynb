{
 "cells": [
  {
   "cell_type": "markdown",
   "id": "97b662bd",
   "metadata": {},
   "source": [
    "##### 문제)\n",
    "\n",
    "다음은 월수입과 보험 가입금액과의 관계를 알아보기 위해 조사에서 얻은 데이터의 일부이다. python을 이용하여 다음에 답하시오. \n",
    "\n",
    "(단위 : 월 수입-만원, 보험가입금액-천만원)\n",
    "\n",
    "\n",
    "|||||||||||||||\n",
    "|:---:|:---:|:---:|:---:|:---:|:---:|:---:|:---:|:---:|:---:|:---:|:---:|:---:|:---:|\n",
    "|월 수입 (만원)|\t160\t|55|\t80|\t60|\t85|\t77|\t100|\t63|\t45|\t50|72|60|150|\n",
    "|보험가입금액 (천만원)|\t20|\t3.5|\t3.5|\t5|\t10|\t6.5|\t3|\t2.5|\t1.5|\t2|\t2|\t2.5|\t15|\n",
    "|||||||||||||||\n"
   ]
  },
  {
   "cell_type": "markdown",
   "id": "db139050",
   "metadata": {},
   "source": [
    "\n",
    "##### 1.\t\n",
    "산점도를 그리고, 표본상관계수를 추정하고 상관관계가 존재하는지 유의수준 1% 하에서 검정하시오.\n",
    "\n",
    "\n",
    "귀무 가설(H0): 월 수입과 보험 가입 금액 간의 상관 관계가 없다."
   ]
  },
  {
   "cell_type": "code",
   "execution_count": 4,
   "id": "190e7a60",
   "metadata": {},
   "outputs": [],
   "source": [
    "import pandas as pd\n",
    "import numpy as np\n",
    "import warnings\n",
    "import seaborn as sns\n",
    "import matplotlib.pyplot as plt\n",
    "warnings.filterwarnings(action='ignore')"
   ]
  },
  {
   "cell_type": "code",
   "execution_count": 36,
   "id": "5cc35b0a",
   "metadata": {},
   "outputs": [],
   "source": [
    "#monthly incomce ,insuared amount\n",
    "mi = [160,55,80,60,85,77,100,63,45,50,72,60,150]\n",
    "ia =[]\n",
    "iab= [20,3.5,3.5,5,10,6.5,3,2.5,1.5,2,2,2.5,15]\n",
    "for x in iab:\n",
    "    ia.append(x*1000) \n",
    "# 1000 만원 단위 낮추기  "
   ]
  },
  {
   "cell_type": "code",
   "execution_count": 37,
   "id": "c33ce8ca",
   "metadata": {},
   "outputs": [
    {
     "data": {
      "text/html": [
       "<div>\n",
       "<style scoped>\n",
       "    .dataframe tbody tr th:only-of-type {\n",
       "        vertical-align: middle;\n",
       "    }\n",
       "\n",
       "    .dataframe tbody tr th {\n",
       "        vertical-align: top;\n",
       "    }\n",
       "\n",
       "    .dataframe thead th {\n",
       "        text-align: right;\n",
       "    }\n",
       "</style>\n",
       "<table border=\"1\" class=\"dataframe\">\n",
       "  <thead>\n",
       "    <tr style=\"text-align: right;\">\n",
       "      <th></th>\n",
       "      <th>income</th>\n",
       "      <th>amount</th>\n",
       "    </tr>\n",
       "  </thead>\n",
       "  <tbody>\n",
       "    <tr>\n",
       "      <th>0</th>\n",
       "      <td>160</td>\n",
       "      <td>20000.0</td>\n",
       "    </tr>\n",
       "    <tr>\n",
       "      <th>1</th>\n",
       "      <td>55</td>\n",
       "      <td>3500.0</td>\n",
       "    </tr>\n",
       "    <tr>\n",
       "      <th>2</th>\n",
       "      <td>80</td>\n",
       "      <td>3500.0</td>\n",
       "    </tr>\n",
       "    <tr>\n",
       "      <th>3</th>\n",
       "      <td>60</td>\n",
       "      <td>5000.0</td>\n",
       "    </tr>\n",
       "    <tr>\n",
       "      <th>4</th>\n",
       "      <td>85</td>\n",
       "      <td>10000.0</td>\n",
       "    </tr>\n",
       "  </tbody>\n",
       "</table>\n",
       "</div>"
      ],
      "text/plain": [
       "   income   amount\n",
       "0     160  20000.0\n",
       "1      55   3500.0\n",
       "2      80   3500.0\n",
       "3      60   5000.0\n",
       "4      85  10000.0"
      ]
     },
     "execution_count": 37,
     "metadata": {},
     "output_type": "execute_result"
    }
   ],
   "source": [
    "money = pd.DataFrame({'income':mi,'amount':ia})\n",
    "money.head()"
   ]
  },
  {
   "cell_type": "code",
   "execution_count": 28,
   "id": "4ad54340",
   "metadata": {},
   "outputs": [
    {
     "data": {
      "image/png": "[encoded data removed]",
      "text/plain": [
       "<Figure size 432x288 with 1 Axes>"
      ]
     },
     "metadata": {
      "needs_background": "light"
     },
     "output_type": "display_data"
    }
   ],
   "source": [
    "plt.scatter(mi,ia)\n",
    "plt.xlabel('mi:moneyincome')\n",
    "plt.ylabel('ia:insuared amount')\n",
    "plt.grid()\n",
    "plt.show()"
   ]
  },
  {
   "cell_type": "code",
   "execution_count": 29,
   "id": "e9038fa4",
   "metadata": {},
   "outputs": [
    {
     "data": {
      "text/plain": [
       "(0.9013934713000634, 2.5728289827309316e-05)"
      ]
     },
     "execution_count": 29,
     "metadata": {},
     "output_type": "execute_result"
    }
   ],
   "source": [
    "# 피어슨 상관계수 분석 두번째 값이 P- value\n",
    "import scipy.stats as stats\n",
    "corr =stats.pearsonr(mi,ia)\n",
    "corr"
   ]
  },
  {
   "cell_type": "markdown",
   "id": "f5cfe3a5",
   "metadata": {},
   "source": [
    "상관계수:0.901\n",
    "P-value:0.0002~\n",
    "\n",
    "결론 : 유의 수준 1%인 0.01 보다 유의 확률이 작다.\n",
    "\n",
    "귀무 가설 기각한다.\n",
    "\n",
    "강한 양의 상관관계를 갖는것을 알 수 있다."
   ]
  },
  {
   "cell_type": "code",
   "execution_count": 26,
   "id": "9a5d2d63",
   "metadata": {},
   "outputs": [
    {
     "name": "stdout",
     "output_type": "stream",
     "text": [
      "          income    amount\n",
      "income  1.000000  0.901393\n",
      "amount  0.901393  1.000000\n"
     ]
    }
   ],
   "source": [
    "#Pearson correlation\n",
    "corr_m = money.corr(method='pearson')\n",
    "print(corr_m)"
   ]
  },
  {
   "cell_type": "code",
   "execution_count": 15,
   "id": "5a5d696b",
   "metadata": {},
   "outputs": [
    {
     "data": {
      "text/plain": [
       "0.9013934713000639"
      ]
     },
     "execution_count": 15,
     "metadata": {},
     "output_type": "execute_result"
    }
   ],
   "source": [
    "np.corrcoef(ia,mi)[0,1]"
   ]
  },
  {
   "cell_type": "markdown",
   "id": "44c62211",
   "metadata": {},
   "source": [
    "Strong correlation in positive way "
   ]
  },
  {
   "cell_type": "markdown",
   "id": "32e6e148",
   "metadata": {},
   "source": [
    "##### 2.\t\n",
    "\n",
    "분산분석표를 작성하고 추정된 회귀직선이 유의한지 유의수준 5% 하에서 검정하시오\n",
    "\n",
    "귀무 가설 : 회귀 추정식이 유의 하지 않으며, 추정된 자료에서 멀다."
   ]
  },
  {
   "cell_type": "code",
   "execution_count": 34,
   "id": "837dffbd",
   "metadata": {},
   "outputs": [
    {
     "data": {
      "text/html": [
       "<div>\n",
       "<style scoped>\n",
       "    .dataframe tbody tr th:only-of-type {\n",
       "        vertical-align: middle;\n",
       "    }\n",
       "\n",
       "    .dataframe tbody tr th {\n",
       "        vertical-align: top;\n",
       "    }\n",
       "\n",
       "    .dataframe thead th {\n",
       "        text-align: right;\n",
       "    }\n",
       "</style>\n",
       "<table border=\"1\" class=\"dataframe\">\n",
       "  <thead>\n",
       "    <tr style=\"text-align: right;\">\n",
       "      <th></th>\n",
       "      <th>df</th>\n",
       "      <th>sum_sq</th>\n",
       "      <th>mean_sq</th>\n",
       "      <th>F</th>\n",
       "      <th>PR(&gt;F)</th>\n",
       "    </tr>\n",
       "  </thead>\n",
       "  <tbody>\n",
       "    <tr>\n",
       "      <th>mi</th>\n",
       "      <td>1.0</td>\n",
       "      <td>3.188477e+08</td>\n",
       "      <td>3.188477e+08</td>\n",
       "      <td>47.669855</td>\n",
       "      <td>0.000026</td>\n",
       "    </tr>\n",
       "    <tr>\n",
       "      <th>Residual</th>\n",
       "      <td>11.0</td>\n",
       "      <td>7.357533e+07</td>\n",
       "      <td>6.688666e+06</td>\n",
       "      <td>NaN</td>\n",
       "      <td>NaN</td>\n",
       "    </tr>\n",
       "  </tbody>\n",
       "</table>\n",
       "</div>"
      ],
      "text/plain": [
       "            df        sum_sq       mean_sq          F    PR(>F)\n",
       "mi         1.0  3.188477e+08  3.188477e+08  47.669855  0.000026\n",
       "Residual  11.0  7.357533e+07  6.688666e+06        NaN       NaN"
      ]
     },
     "execution_count": 34,
     "metadata": {},
     "output_type": "execute_result"
    }
   ],
   "source": [
    "from statsmodels.formula.api import ols\n",
    "from statsmodels.stats.anova import anova_lm\n",
    "model = ols('ia~ mi',money).fit()\n",
    "anova_lm(model)"
   ]
  },
  {
   "cell_type": "markdown",
   "id": "9d3b6023",
   "metadata": {},
   "source": [
    "유의확률(0.000026)이 유의수준 5%인 0.05 보다 작다"
   ]
  },
  {
   "cell_type": "code",
   "execution_count": 32,
   "id": "f1b49828",
   "metadata": {},
   "outputs": [
    {
     "data": {
      "text/html": [
       "<table class=\"simpletable\">\n",
       "<caption>OLS Regression Results</caption>\n",
       "<tr>\n",
       "  <th>Dep. Variable:</th>           <td>mi</td>        <th>  R-squared:         </th> <td>   0.813</td>\n",
       "</tr>\n",
       "<tr>\n",
       "  <th>Model:</th>                   <td>OLS</td>       <th>  Adj. R-squared:    </th> <td>   0.795</td>\n",
       "</tr>\n",
       "<tr>\n",
       "  <th>Method:</th>             <td>Least Squares</td>  <th>  F-statistic:       </th> <td>   47.67</td>\n",
       "</tr>\n",
       "<tr>\n",
       "  <th>Date:</th>             <td>Mon, 09 Aug 2021</td> <th>  Prob (F-statistic):</th> <td>2.57e-05</td>\n",
       "</tr>\n",
       "<tr>\n",
       "  <th>Time:</th>                 <td>16:42:56</td>     <th>  Log-Likelihood:    </th> <td> -53.657</td>\n",
       "</tr>\n",
       "<tr>\n",
       "  <th>No. Observations:</th>      <td>    13</td>      <th>  AIC:               </th> <td>   111.3</td>\n",
       "</tr>\n",
       "<tr>\n",
       "  <th>Df Residuals:</th>          <td>    11</td>      <th>  BIC:               </th> <td>   112.4</td>\n",
       "</tr>\n",
       "<tr>\n",
       "  <th>Df Model:</th>              <td>     1</td>      <th>                     </th>     <td> </td>   \n",
       "</tr>\n",
       "<tr>\n",
       "  <th>Covariance Type:</th>      <td>nonrobust</td>    <th>                     </th>     <td> </td>   \n",
       "</tr>\n",
       "</table>\n",
       "<table class=\"simpletable\">\n",
       "<tr>\n",
       "      <td></td>         <th>coef</th>     <th>std err</th>      <th>t</th>      <th>P>|t|</th>  <th>[0.025</th>    <th>0.975]</th>  \n",
       "</tr>\n",
       "<tr>\n",
       "  <th>Intercept</th> <td>   47.6292</td> <td>    6.653</td> <td>    7.159</td> <td> 0.000</td> <td>   32.985</td> <td>   62.273</td>\n",
       "</tr>\n",
       "<tr>\n",
       "  <th>ia</th>        <td>    0.0057</td> <td>    0.001</td> <td>    6.904</td> <td> 0.000</td> <td>    0.004</td> <td>    0.007</td>\n",
       "</tr>\n",
       "</table>\n",
       "<table class=\"simpletable\">\n",
       "<tr>\n",
       "  <th>Omnibus:</th>       <td> 2.964</td> <th>  Durbin-Watson:     </th> <td>   2.030</td>\n",
       "</tr>\n",
       "<tr>\n",
       "  <th>Prob(Omnibus):</th> <td> 0.227</td> <th>  Jarque-Bera (JB):  </th> <td>   1.544</td>\n",
       "</tr>\n",
       "<tr>\n",
       "  <th>Skew:</th>          <td> 0.844</td> <th>  Prob(JB):          </th> <td>   0.462</td>\n",
       "</tr>\n",
       "<tr>\n",
       "  <th>Kurtosis:</th>      <td> 2.963</td> <th>  Cond. No.          </th> <td>1.19e+04</td>\n",
       "</tr>\n",
       "</table><br/><br/>Notes:<br/>[1] Standard Errors assume that the covariance matrix of the errors is correctly specified.<br/>[2] The condition number is large, 1.19e+04. This might indicate that there are<br/>strong multicollinearity or other numerical problems."
      ],
      "text/plain": [
       "<class 'statsmodels.iolib.summary.Summary'>\n",
       "\"\"\"\n",
       "                            OLS Regression Results                            \n",
       "==============================================================================\n",
       "Dep. Variable:                     mi   R-squared:                       0.813\n",
       "Model:                            OLS   Adj. R-squared:                  0.795\n",
       "Method:                 Least Squares   F-statistic:                     47.67\n",
       "Date:                Mon, 09 Aug 2021   Prob (F-statistic):           2.57e-05\n",
       "Time:                        16:42:56   Log-Likelihood:                -53.657\n",
       "No. Observations:                  13   AIC:                             111.3\n",
       "Df Residuals:                      11   BIC:                             112.4\n",
       "Df Model:                           1                                         \n",
       "Covariance Type:            nonrobust                                         \n",
       "==============================================================================\n",
       "                 coef    std err          t      P>|t|      [0.025      0.975]\n",
       "------------------------------------------------------------------------------\n",
       "Intercept     47.6292      6.653      7.159      0.000      32.985      62.273\n",
       "ia             0.0057      0.001      6.904      0.000       0.004       0.007\n",
       "==============================================================================\n",
       "Omnibus:                        2.964   Durbin-Watson:                   2.030\n",
       "Prob(Omnibus):                  0.227   Jarque-Bera (JB):                1.544\n",
       "Skew:                           0.844   Prob(JB):                        0.462\n",
       "Kurtosis:                       2.963   Cond. No.                     1.19e+04\n",
       "==============================================================================\n",
       "\n",
       "Notes:\n",
       "[1] Standard Errors assume that the covariance matrix of the errors is correctly specified.\n",
       "[2] The condition number is large, 1.19e+04. This might indicate that there are\n",
       "strong multicollinearity or other numerical problems.\n",
       "\"\"\""
      ]
     },
     "execution_count": 32,
     "metadata": {},
     "output_type": "execute_result"
    }
   ],
   "source": [
    "model.summary()"
   ]
  },
  {
   "cell_type": "code",
   "execution_count": 33,
   "id": "2046fd1e",
   "metadata": {},
   "outputs": [
    {
     "name": "stdout",
     "output_type": "stream",
     "text": [
      "142.8973 -5695.5693\n"
     ]
    }
   ],
   "source": [
    "x=mi\n",
    "y=ia\n",
    "A = np.vstack([x, np.ones(len(x))]).T\n",
    "m, c = np.linalg.lstsq(A, y, rcond=None)[0]\n",
    "m=m.round(4)\n",
    "c=c.round(4)\n",
    "print(m,c)"
   ]
  },
  {
   "cell_type": "code",
   "execution_count": 39,
   "id": "0f1b76ba",
   "metadata": {},
   "outputs": [
    {
     "data": {
      "text/plain": [
       "<seaborn.axisgrid.PairGrid at 0x7f80b8113450>"
      ]
     },
     "execution_count": 39,
     "metadata": {},
     "output_type": "execute_result"
    },
    {
     "data": {
      "image/png": "[encoded data removed]",
      "text/plain": [
       "<Figure size 432x288 with 1 Axes>"
      ]
     },
     "metadata": {
      "needs_background": "light"
     },
     "output_type": "display_data"
    },
    {
     "data": {
      "image/png": "[encoded data removed]",
      "text/plain": [
       "<Figure size 576x576 with 6 Axes>"
      ]
     },
     "metadata": {
      "needs_background": "light"
     },
     "output_type": "display_data"
    }
   ],
   "source": [
    "plt.scatter(money.income,money.amount)\n",
    "sns.pairplot(money,kind='reg',height=4)"
   ]
  },
  {
   "cell_type": "markdown",
   "id": "dd27fdf3",
   "metadata": {},
   "source": [
    "\n",
    "##### 5.\n",
    "회귀모형에서 오차에 대한 가정을 쓰고, 자료가 회귀모형을 적용하기에 적절한지 설명하시오\n",
    "\n",
    "가정)\n",
    "\n",
    "오차= 잔차= 관측값-회귀식에서의 추정값\n",
    "\n",
    "오차에 대한 가정으로 정규성 등분산성을 검정 한다."
   ]
  },
  {
   "cell_type": "code",
   "execution_count": 62,
   "id": "7cb26bc0",
   "metadata": {},
   "outputs": [
    {
     "data": {
      "text/plain": [
       "0     2832.008158\n",
       "1     1336.220147\n",
       "2    -2236.211279\n",
       "3     2121.733861\n",
       "4     3549.302436\n",
       "5     1192.480492\n",
       "6    -5594.156420\n",
       "7     -806.957910\n",
       "8      765.192717\n",
       "9      550.706432\n",
       "10   -2593.033223\n",
       "11    -378.266139\n",
       "12    -739.019272\n",
       "dtype: float64"
      ]
     },
     "execution_count": 62,
     "metadata": {},
     "output_type": "execute_result"
    }
   ],
   "source": [
    "#잔차의 정규성 검정\n",
    "fitted = model.predict(money)\n",
    "residual = money['amount'] - fitted #y = amoun SO OBSERVATION - PREDICT\n",
    "residual"
   ]
  },
  {
   "cell_type": "code",
   "execution_count": 59,
   "id": "2dab2cbb",
   "metadata": {},
   "outputs": [
    {
     "data": {
      "text/plain": [
       "[<matplotlib.lines.Line2D at 0x7f8089b0f750>]"
      ]
     },
     "execution_count": 59,
     "metadata": {},
     "output_type": "execute_result"
    },
    {
     "data": {
      "image/png": "[encoded data removed]",
      "text/plain": [
       "<Figure size 432x288 with 1 Axes>"
      ]
     },
     "metadata": {
      "needs_background": "light"
     },
     "output_type": "display_data"
    }
   ],
   "source": [
    "sns.regplot(fitted, residual, lowess=True, line_kws={'color': 'red'})\n",
    "plt.plot([fitted.min(), fitted.max()], [0, 0], '--', color='grey')"
   ]
  },
  {
   "cell_type": "code",
   "execution_count": 60,
   "id": "69afb6a9",
   "metadata": {},
   "outputs": [
    {
     "data": {
      "text/plain": [
       "[<matplotlib.lines.Line2D at 0x7f8089b4aed0>]"
      ]
     },
     "execution_count": 60,
     "metadata": {},
     "output_type": "execute_result"
    },
    {
     "data": {
      "image/png": "[encoded data removed]",
      "text/plain": [
       "<Figure size 432x288 with 1 Axes>"
      ]
     },
     "metadata": {
      "needs_background": "light"
     },
     "output_type": "display_data"
    }
   ],
   "source": [
    "import scipy.stats\n",
    "sr = scipy.stats.zscore(residual)\n",
    "(x, y), _ = scipy.stats.probplot(sr)\n",
    "sns.scatterplot(x, y)\n",
    "plt.plot([-3, 3], [-3, 3], '--', color='grey')"
   ]
  },
  {
   "cell_type": "markdown",
   "id": "89b82169",
   "metadata": {},
   "source": [
    "잔차의 정규성 검정, 샤피로 검정을 이용한다. 유의 수준은 5%로 검정한다.\n",
    "\n",
    "귀무 가설: 잔차는 정규성을 따른다.\n"
   ]
  },
  {
   "cell_type": "markdown",
   "id": "17116c32",
   "metadata": {},
   "source": [
    "아래 분석에서 두 번째 값이 p값이다."
   ]
  },
  {
   "cell_type": "code",
   "execution_count": 63,
   "id": "964fa4a9",
   "metadata": {},
   "outputs": [
    {
     "data": {
      "text/plain": [
       "ShapiroResult(statistic=0.9576632380485535, pvalue=0.7172977924346924)"
      ]
     },
     "execution_count": 63,
     "metadata": {},
     "output_type": "execute_result"
    }
   ],
   "source": [
    "scipy.stats.shapiro(residual)"
   ]
  },
  {
   "cell_type": "markdown",
   "id": "06e8bfe0",
   "metadata": {},
   "source": [
    "유의 확률 p-value = 0.72 > 0.05 이므로 귀무 가설을 기각하지 않는다.\n",
    "\n",
    "그렇므로 잔차의 등분산성과 정규성을 따른다는 가정할 수 있다."
   ]
  },
  {
   "cell_type": "code",
   "execution_count": 64,
   "id": "56eda0c9",
   "metadata": {},
   "outputs": [
    {
     "data": {
      "text/plain": [
       "<AxesSubplot:>"
      ]
     },
     "execution_count": 64,
     "metadata": {},
     "output_type": "execute_result"
    },
    {
     "data": {
      "image/png": "[encoded data removed]",
      "text/plain": [
       "<Figure size 432x288 with 1 Axes>"
      ]
     },
     "metadata": {
      "needs_background": "light"
     },
     "output_type": "display_data"
    }
   ],
   "source": [
    "sns.regplot(fitted, np.sqrt(np.abs(sr)), lowess=True, line_kws={'color': 'red'})"
   ]
  },
  {
   "cell_type": "markdown",
   "id": "adc415f7",
   "metadata": {},
   "source": [
    "1번 그림(Q-Q plot)\n",
    "잔차의 정규성을 만족 하는것을 보여준다\n",
    "\n",
    "2번 그림좌측에 잔차가 선에따라모여 있는 것을 확인할 수있다. \n",
    "\n",
    "오차 즉 잔차가 정규성과 등분산 성을 만족 하는것으로 보이므로, 자료가 회귀 모형에 적절 하다고 할 수 있다.\n",
    "\n",
    "\n"
   ]
  },
  {
   "cell_type": "markdown",
   "id": "80a16ed7",
   "metadata": {},
   "source": [
    "##### 6\n",
    "월 수입이 70만원일 때, 예상되는 보험가입금액을 구하시오. "
   ]
  },
  {
   "cell_type": "code",
   "execution_count": 41,
   "id": "21e41417",
   "metadata": {},
   "outputs": [
    {
     "name": "stdout",
     "output_type": "stream",
     "text": [
      "4307.4\n"
     ]
    }
   ],
   "source": [
    "\n",
    "#월 수입 70 만원을 추정한 회귀식에 대입한다\n",
    "x = 70\n",
    "y= -5695.6 + 142.9*x\n",
    "print(y)"
   ]
  }
 ],
 "metadata": {
  "kernelspec": {
   "display_name": "Python 3",
   "language": "python",
   "name": "python3"
  },
  "language_info": {
   "codemirror_mode": {
    "name": "ipython",
    "version": 3
   },
   "file_extension": ".py",
   "mimetype": "text/x-python",
   "name": "python",
   "nbconvert_exporter": "python",
   "pygments_lexer": "ipython3",
   "version": "3.7.6"
  }
 },
 "nbformat": 4,
 "nbformat_minor": 5
}
