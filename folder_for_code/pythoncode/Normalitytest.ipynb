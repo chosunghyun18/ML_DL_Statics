{
 "cells": [
  {
   "cell_type": "code",
   "execution_count": 2,
   "id": "6c1082e8",
   "metadata": {},
   "outputs": [],
   "source": [
    "import pandas as pd\n",
    "import numpy as np\n",
    "import warnings\n",
    "import seaborn as sns\n",
    "warnings.filterwarnings(action='ignore')"
   ]
  },
  {
   "cell_type": "markdown",
   "id": "22f4d1da",
   "metadata": {},
   "source": [
    "### 1.\n",
    "어느공장에서 생산하는 부품에 대하여 무게를 측정하여 다음과 같은자료를 얻었다. 평균, 중앙값, 표준편차,왜도,첨도를 구하는 프로그램을 작성하여 값들을 구하시오.\n",
    " \n",
    "    10.21\t10.53\t9.99\t11.11\t10.47\t10.48\t10.25\t10.63\t11.07\t10.61\n",
    "    10.33\t10.01\t11.20\t10.41\t10.33\t10.12\t10.78\t10.91\t10.37\t9.58"
   ]
  },
  {
   "cell_type": "code",
   "execution_count": 3,
   "id": "335a1183",
   "metadata": {},
   "outputs": [],
   "source": [
    "a = [10.21,10.53,9.99,11.11,10.47,10.48,10.25,10.63,11.07,10.61,10.33,10.01,11.20,10.41,10.33,10.12,10.78,10.91,10.37,9.58]\n",
    "dsw = pd.DataFrame(a,columns = ['weight'] ) "
   ]
  },
  {
   "cell_type": "code",
   "execution_count": 4,
   "id": "b6406eb0",
   "metadata": {},
   "outputs": [
    {
     "data": {
      "text/html": [
       "<div>\n",
       "<style scoped>\n",
       "    .dataframe tbody tr th:only-of-type {\n",
       "        vertical-align: middle;\n",
       "    }\n",
       "\n",
       "    .dataframe tbody tr th {\n",
       "        vertical-align: top;\n",
       "    }\n",
       "\n",
       "    .dataframe thead th {\n",
       "        text-align: right;\n",
       "    }\n",
       "</style>\n",
       "<table border=\"1\" class=\"dataframe\">\n",
       "  <thead>\n",
       "    <tr style=\"text-align: right;\">\n",
       "      <th></th>\n",
       "      <th>weight</th>\n",
       "    </tr>\n",
       "  </thead>\n",
       "  <tbody>\n",
       "    <tr>\n",
       "      <th>0</th>\n",
       "      <td>10.21</td>\n",
       "    </tr>\n",
       "    <tr>\n",
       "      <th>1</th>\n",
       "      <td>10.53</td>\n",
       "    </tr>\n",
       "    <tr>\n",
       "      <th>2</th>\n",
       "      <td>9.99</td>\n",
       "    </tr>\n",
       "    <tr>\n",
       "      <th>3</th>\n",
       "      <td>11.11</td>\n",
       "    </tr>\n",
       "    <tr>\n",
       "      <th>4</th>\n",
       "      <td>10.47</td>\n",
       "    </tr>\n",
       "  </tbody>\n",
       "</table>\n",
       "</div>"
      ],
      "text/plain": [
       "   weight\n",
       "0   10.21\n",
       "1   10.53\n",
       "2    9.99\n",
       "3   11.11\n",
       "4   10.47"
      ]
     },
     "execution_count": 4,
     "metadata": {},
     "output_type": "execute_result"
    }
   ],
   "source": [
    "dsw.head()"
   ]
  },
  {
   "cell_type": "code",
   "execution_count": 5,
   "id": "2d5fe720",
   "metadata": {},
   "outputs": [
    {
     "data": {
      "text/plain": [
       "count    20.000000\n",
       "mean     10.469500\n",
       "std       0.408237\n",
       "min       9.580000\n",
       "25%      10.240000\n",
       "50%      10.440000\n",
       "75%      10.667500\n",
       "max      11.200000\n",
       "Name: weight, dtype: float64"
      ]
     },
     "execution_count": 5,
     "metadata": {},
     "output_type": "execute_result"
    }
   ],
   "source": [
    "dsw.weight.describe()"
   ]
  },
  {
   "cell_type": "markdown",
   "id": "23ab10a0",
   "metadata": {},
   "source": [
    "왜도 (Skewness)\n",
    "- 분포의 비대칭도.\n",
    "\n",
    "- 정규분포 = 왜도 0\n",
    "\n",
    "- 왼쪽으로 치우침 = 왜도 > 0\n",
    "\n",
    "- 오른쪽으로 치우침 = 왜도 < 0"
   ]
  },
  {
   "cell_type": "code",
   "execution_count": 6,
   "id": "df931ba5",
   "metadata": {},
   "outputs": [
    {
     "data": {
      "text/plain": [
       "0.002573709859693571"
      ]
     },
     "execution_count": 6,
     "metadata": {},
     "output_type": "execute_result"
    }
   ],
   "source": [
    "from scipy.stats import skew\n",
    "# 왜도  : 분포의 비대칭한 정도 왜도 0 이면 정규분포 \n",
    "skew(dsw.weight)"
   ]
  },
  {
   "cell_type": "markdown",
   "id": "dc27883e",
   "metadata": {},
   "source": [
    "첨도 (Kurtosis)\n",
    "- 확률분포의 뾰족한 정도.\n",
    "\n",
    "- 정규분포 = 첨도 0(Pearson 첨도 = 3)\n",
    "\n",
    "- 위로 뾰족함 = 첨도 > 0(Pearson 첨도 >3)\n",
    "\n",
    "- 아래로 뾰족함 = 첨도 < 0 (Pearson 첨도 < 3)\n"
   ]
  },
  {
   "cell_type": "code",
   "execution_count": 7,
   "id": "a6d9ea20",
   "metadata": {},
   "outputs": [
    {
     "data": {
      "text/plain": [
       "-0.25292022513764234"
      ]
     },
     "execution_count": 7,
     "metadata": {},
     "output_type": "execute_result"
    }
   ],
   "source": [
    "from scipy.stats import kurtosis\n",
    "# 첨도\n",
    "kurtosis(dsw.weight, fisher=True)"
   ]
  },
  {
   "cell_type": "markdown",
   "id": "d07c7894",
   "metadata": {},
   "source": [
    "\n",
    "* Fisher = True \n",
    "\n",
    "   - 첨도 기준이 Fisher (normal ==> 0.0) 이다.\n",
    "\n",
    "   - 정규분포의 첨도 = 0이다. \n",
    "\n",
    " \n",
    "\n",
    "* Fisher = False\n",
    "\n",
    "   - 첨도 기준이 Pearson (normal ==> 3.0)\n",
    "\n",
    "   - 정규분포의 첨도 = 3이다.\n",
    "\n"
   ]
  },
  {
   "cell_type": "markdown",
   "id": "e2350b74",
   "metadata": {},
   "source": [
    "## 2.\n",
    "다음은 어느대학에서 개설된 교양 통계학 강좌를 수강한 학생들의 학년별 성적자료이다. \n",
    "성적의 변수명은 score, 학년의 변수명은 level (L=1학년, H=2,3,4학년)로 지정하여 다음 문제를 해결하시오 \n",
    "\n",
    "    1학년: 88,67,77,75,84,90,95,73,69,80,79,82,95,62\n",
    "    2학년: 82,86,88,92,77,72,96,75,68,96,85,86,76,89,83\n"
   ]
  },
  {
   "cell_type": "markdown",
   "id": "fbe49049",
   "metadata": {},
   "source": [
    "학년별 성적자료에 대한 기술통계량을 산출하시오."
   ]
  },
  {
   "cell_type": "code",
   "execution_count": 8,
   "id": "0b503003",
   "metadata": {},
   "outputs": [
    {
     "data": {
      "text/html": [
       "<div>\n",
       "<style scoped>\n",
       "    .dataframe tbody tr th:only-of-type {\n",
       "        vertical-align: middle;\n",
       "    }\n",
       "\n",
       "    .dataframe tbody tr th {\n",
       "        vertical-align: top;\n",
       "    }\n",
       "\n",
       "    .dataframe thead th {\n",
       "        text-align: right;\n",
       "    }\n",
       "</style>\n",
       "<table border=\"1\" class=\"dataframe\">\n",
       "  <thead>\n",
       "    <tr style=\"text-align: right;\">\n",
       "      <th></th>\n",
       "      <th>score</th>\n",
       "    </tr>\n",
       "  </thead>\n",
       "  <tbody>\n",
       "    <tr>\n",
       "      <th>count</th>\n",
       "      <td>14.000000</td>\n",
       "    </tr>\n",
       "    <tr>\n",
       "      <th>mean</th>\n",
       "      <td>79.714286</td>\n",
       "    </tr>\n",
       "    <tr>\n",
       "      <th>std</th>\n",
       "      <td>10.117985</td>\n",
       "    </tr>\n",
       "    <tr>\n",
       "      <th>min</th>\n",
       "      <td>62.000000</td>\n",
       "    </tr>\n",
       "    <tr>\n",
       "      <th>25%</th>\n",
       "      <td>73.500000</td>\n",
       "    </tr>\n",
       "    <tr>\n",
       "      <th>50%</th>\n",
       "      <td>79.500000</td>\n",
       "    </tr>\n",
       "    <tr>\n",
       "      <th>75%</th>\n",
       "      <td>87.000000</td>\n",
       "    </tr>\n",
       "    <tr>\n",
       "      <th>max</th>\n",
       "      <td>95.000000</td>\n",
       "    </tr>\n",
       "  </tbody>\n",
       "</table>\n",
       "</div>"
      ],
      "text/plain": [
       "           score\n",
       "count  14.000000\n",
       "mean   79.714286\n",
       "std    10.117985\n",
       "min    62.000000\n",
       "25%    73.500000\n",
       "50%    79.500000\n",
       "75%    87.000000\n",
       "max    95.000000"
      ]
     },
     "execution_count": 8,
     "metadata": {},
     "output_type": "execute_result"
    }
   ],
   "source": [
    "first = [88,67,77,75,84,90,95,73,69,80,79,82,95,62]\n",
    "dssf = pd.DataFrame(first,columns = ['score'] )\n",
    "dssf.describe()"
   ]
  },
  {
   "cell_type": "code",
   "execution_count": 21,
   "id": "d4943aac",
   "metadata": {},
   "outputs": [
    {
     "data": {
      "text/html": [
       "<div>\n",
       "<style scoped>\n",
       "    .dataframe tbody tr th:only-of-type {\n",
       "        vertical-align: middle;\n",
       "    }\n",
       "\n",
       "    .dataframe tbody tr th {\n",
       "        vertical-align: top;\n",
       "    }\n",
       "\n",
       "    .dataframe thead th {\n",
       "        text-align: right;\n",
       "    }\n",
       "</style>\n",
       "<table border=\"1\" class=\"dataframe\">\n",
       "  <thead>\n",
       "    <tr style=\"text-align: right;\">\n",
       "      <th></th>\n",
       "      <th>scoref</th>\n",
       "    </tr>\n",
       "  </thead>\n",
       "  <tbody>\n",
       "    <tr>\n",
       "      <th>count</th>\n",
       "      <td>15.000000</td>\n",
       "    </tr>\n",
       "    <tr>\n",
       "      <th>mean</th>\n",
       "      <td>83.400000</td>\n",
       "    </tr>\n",
       "    <tr>\n",
       "      <th>std</th>\n",
       "      <td>8.432929</td>\n",
       "    </tr>\n",
       "    <tr>\n",
       "      <th>min</th>\n",
       "      <td>68.000000</td>\n",
       "    </tr>\n",
       "    <tr>\n",
       "      <th>25%</th>\n",
       "      <td>76.500000</td>\n",
       "    </tr>\n",
       "    <tr>\n",
       "      <th>50%</th>\n",
       "      <td>85.000000</td>\n",
       "    </tr>\n",
       "    <tr>\n",
       "      <th>75%</th>\n",
       "      <td>88.500000</td>\n",
       "    </tr>\n",
       "    <tr>\n",
       "      <th>max</th>\n",
       "      <td>96.000000</td>\n",
       "    </tr>\n",
       "  </tbody>\n",
       "</table>\n",
       "</div>"
      ],
      "text/plain": [
       "          scoref\n",
       "count  15.000000\n",
       "mean   83.400000\n",
       "std     8.432929\n",
       "min    68.000000\n",
       "25%    76.500000\n",
       "50%    85.000000\n",
       "75%    88.500000\n",
       "max    96.000000"
      ]
     },
     "execution_count": 21,
     "metadata": {},
     "output_type": "execute_result"
    }
   ],
   "source": [
    "second = [82,86,88,92,77,72,96,75,68,96,85,86,76,89,83]\n",
    "dsss = pd.DataFrame(second,columns = ['scoref'] )\n",
    "dsss.describe()"
   ]
  },
  {
   "cell_type": "markdown",
   "id": "4f604e5e",
   "metadata": {},
   "source": [
    "학년 각각의 히스토그램과 상자그림을 작성하시오."
   ]
  },
  {
   "cell_type": "code",
   "execution_count": 22,
   "id": "8ddff980",
   "metadata": {},
   "outputs": [
    {
     "data": {
      "image/png": "[encoded data removed]",
      "text/plain": [
       "<Figure size 432x288 with 1 Axes>"
      ]
     },
     "metadata": {
      "needs_background": "light"
     },
     "output_type": "display_data"
    }
   ],
   "source": [
    "#히스토 그램\n",
    "#first grade histogam shown\n",
    "import matplotlib.pyplot as plt\n",
    "plt.hist(first)\n",
    "plt.show()"
   ]
  },
  {
   "cell_type": "code",
   "execution_count": 23,
   "id": "ea1d762b",
   "metadata": {},
   "outputs": [
    {
     "data": {
      "image/png": "[encoded data removed]",
      "text/plain": [
       "<Figure size 432x288 with 1 Axes>"
      ]
     },
     "metadata": {
      "needs_background": "light"
     },
     "output_type": "display_data"
    }
   ],
   "source": [
    "#second grade histogram show n\n",
    "plt.hist(dsss)\n",
    "plt.show()"
   ]
  },
  {
   "cell_type": "code",
   "execution_count": null,
   "id": "d4448ffe",
   "metadata": {},
   "outputs": [],
   "source": [
    "dssall = pd.concat([dssf,dsss],axis=1)\n",
    "dssall"
   ]
  },
  {
   "cell_type": "code",
   "execution_count": 25,
   "id": "11a0f144",
   "metadata": {},
   "outputs": [
    {
     "data": {
      "image/png": "[encoded data removed]",
      "text/plain": [
       "<Figure size 432x288 with 1 Axes>"
      ]
     },
     "metadata": {
      "needs_background": "light"
     },
     "output_type": "display_data"
    }
   ],
   "source": [
    "plt.hist(dssall)\n",
    "plt.show()"
   ]
  },
  {
   "cell_type": "code",
   "execution_count": 29,
   "id": "61b4ec1b",
   "metadata": {},
   "outputs": [
    {
     "data": {
      "image/png": "[encoded data removed]",
      "text/plain": [
       "<Figure size 432x288 with 1 Axes>"
      ]
     },
     "metadata": {
      "needs_background": "light"
     },
     "output_type": "display_data"
    }
   ],
   "source": [
    "#상자 그림 이상치 확인\n",
    "#first grade\n",
    "plt.boxplot(dssf)\n",
    "plt.show()"
   ]
  },
  {
   "cell_type": "code",
   "execution_count": 30,
   "id": "02f35419",
   "metadata": {},
   "outputs": [
    {
     "data": {
      "image/png": "[encoded data removed]",
      "text/plain": [
       "<Figure size 432x288 with 1 Axes>"
      ]
     },
     "metadata": {
      "needs_background": "light"
     },
     "output_type": "display_data"
    }
   ],
   "source": [
    "plt.boxplot(dsss)\n",
    "plt.show()"
   ]
  },
  {
   "cell_type": "markdown",
   "id": "f9697b1d",
   "metadata": {},
   "source": [
    "3) 위의 자료가 정규분포를 따른다고 할수 있는지 설명하시오.  \n",
    "\n",
    "먼저 1학년의 자료와 2~ 4학년의 자료의 점규성 검정을 한다고 하면,\n",
    "\n",
    "1학년과 2~4학년의 자료의 수가 각각 100 개를 넘지 못하는 소표본 이다."
   ]
  },
  {
   "cell_type": "markdown",
   "id": "92fa74dc",
   "metadata": {},
   "source": [
    "자료가 정규 분포를 따른 다는 귀무 가설을 가정하자. Shapiro-Wilk normality test 와 Anderson-Darling 정규성 검정법을 사용한다."
   ]
  },
  {
   "cell_type": "code",
   "execution_count": 37,
   "id": "f69ff0d6",
   "metadata": {},
   "outputs": [],
   "source": [
    "from scipy import stats\n",
    "#1 학년 자료 shapiro-wilk 파악\n",
    "shapiro_test_1 = stats.shapiro(first)\n",
    "#2~4학년 자료 p-value 파악\n",
    "shapiro_test_2 = stats.shapiro(second)"
   ]
  },
  {
   "cell_type": "code",
   "execution_count": 38,
   "id": "406dc8e3",
   "metadata": {},
   "outputs": [
    {
     "name": "stdout",
     "output_type": "stream",
     "text": [
      "ShapiroResult(statistic=0.9732428193092346, pvalue=0.9167655110359192) ShapiroResult(statistic=0.9658416509628296, pvalue=0.7924318313598633)\n"
     ]
    }
   ],
   "source": [
    "print(shapiro_test_1,shapiro_test_2)"
   ]
  },
  {
   "cell_type": "code",
   "execution_count": 33,
   "id": "b785b3c4",
   "metadata": {},
   "outputs": [
    {
     "data": {
      "text/plain": [
       "29"
      ]
     },
     "execution_count": 33,
     "metadata": {},
     "output_type": "execute_result"
    }
   ],
   "source": [
    "alldata =first + second\n",
    "len(alldata)"
   ]
  },
  {
   "cell_type": "code",
   "execution_count": 36,
   "id": "d3d7e39f",
   "metadata": {},
   "outputs": [
    {
     "data": {
      "text/plain": [
       "ShapiroResult(statistic=0.9720022678375244, pvalue=0.6151293516159058)"
      ]
     },
     "execution_count": 36,
     "metadata": {},
     "output_type": "execute_result"
    }
   ],
   "source": [
    "shapiro_test = stats.shapiro(alldata)\n",
    "shapiro_test"
   ]
  },
  {
   "cell_type": "markdown",
   "id": "071a3d7b",
   "metadata": {},
   "source": [
    "1학년 자료의 p-value 는 0.916 이며, 2~4 학년의 p-value 는 0.792이다. ,모든 학년의 p-value 는 0.615이다\n",
    "\n",
    "자료 모두 통계랑(W)과 p 값인(p-value) 유의 확률이 모두 0.05 보다 크다.\n",
    "\n",
    " p 값인(p-value) 유의 확률이 모두 0.05 보다 크다.\n",
    "\n",
    "그렇므로 검정통계량으로 확인한 바에 따라 귀무 가설을 채택한다.\n",
    "\n",
    "따라서 자료 모두 정규성을 따르며 정규분포를 따른다.\n"
   ]
  },
  {
   "cell_type": "code",
   "execution_count": 40,
   "id": "529aaea9",
   "metadata": {},
   "outputs": [
    {
     "name": "stdout",
     "output_type": "stream",
     "text": [
      "Statistic: 0.195\n"
     ]
    }
   ],
   "source": [
    "result =stats.anderson(alldata)\n",
    "print('Statistic: %.3f' % result.statistic)"
   ]
  },
  {
   "cell_type": "code",
   "execution_count": 42,
   "id": "de6e039b",
   "metadata": {},
   "outputs": [
    {
     "name": "stdout",
     "output_type": "stream",
     "text": [
      "15.000: 0.520, data looks normal (fail to reject H0)\n",
      "10.000: 0.592, data looks normal (fail to reject H0)\n",
      "5.000: 0.710, data looks normal (fail to reject H0)\n",
      "2.500: 0.828, data looks normal (fail to reject H0)\n",
      "1.000: 0.985, data looks normal (fail to reject H0)\n"
     ]
    }
   ],
   "source": [
    "for i in range(len(result.critical_values)):\n",
    "\tsl, cv = result.significance_level[i], result.critical_values[i]\n",
    "\tif result.statistic < result.critical_values[i]:\n",
    "\t\tprint('%.3f: %.3f, data looks normal (fail to reject H0)' % (sl, cv))\n",
    "\telse:\n",
    "\t\tprint('%.3f: %.3f, data does not look normal (reject H0)' % (sl, cv))"
   ]
  },
  {
   "cell_type": "markdown",
   "id": "3044bc09",
   "metadata": {},
   "source": [
    "다음은 점들이 직선에 유사할때 정규성을 보이는지 확인하는 QQ plot 이다."
   ]
  },
  {
   "cell_type": "code",
   "execution_count": 49,
   "id": "7b6aff8a",
   "metadata": {},
   "outputs": [
    {
     "data": {
      "image/png": "[encoded data removed]",
      "text/plain": [
       "<Figure size 864x432 with 6 Axes>"
      ]
     },
     "metadata": {
      "needs_background": "light"
     },
     "output_type": "display_data"
    }
   ],
   "source": [
    "#example\n",
    "np.random.seed(0)\n",
    "\n",
    "n = 100\n",
    "x1 = np.random.normal(0, 1, n)\n",
    "x2 = np.random.exponential(2, n)\n",
    "x3 = np.log1p(x2)\n",
    "\n",
    "f, axes = plt.subplots(2, 3, figsize=(12, 6))\n",
    "axes[0][0].boxplot(x1)\n",
    "stats.probplot(x1, plot=axes[1][0]) #scipy.stats.probplot\n",
    "axes[0][1].boxplot(x2)\n",
    "stats.probplot(x2, plot=axes[1][1]) #scipy.stats.probplot\n",
    "axes[0][2].boxplot(x3)\n",
    "stats.probplot(x3, plot=axes[1][2]) #scipy.stats.probplot\n",
    "plt.axis(\"equal\")\n",
    "plt.show()"
   ]
  },
  {
   "cell_type": "code",
   "execution_count": 50,
   "id": "a76a99ac",
   "metadata": {},
   "outputs": [
    {
     "data": {
      "text/plain": [
       "((array([-1.9841736 , -1.57788426, -1.33248614, -1.14838713, -0.99668573,\n",
       "         -0.86502445, -0.74688387, -0.63835602, -0.53688038, -0.44066086,\n",
       "         -0.34836401, -0.25894831, -0.17156005, -0.08546501,  0.        ,\n",
       "          0.08546501,  0.17156005,  0.25894831,  0.34836401,  0.44066086,\n",
       "          0.53688038,  0.63835602,  0.74688387,  0.86502445,  0.99668573,\n",
       "          1.14838713,  1.33248614,  1.57788426,  1.9841736 ]),\n",
       "  array([62, 67, 68, 69, 72, 73, 75, 75, 76, 77, 77, 79, 80, 82, 82, 83, 84,\n",
       "         85, 86, 86, 88, 88, 89, 90, 92, 95, 95, 96, 96])),\n",
       " (9.598332464914407, 81.62068965517241, 0.9914309763877579))"
      ]
     },
     "execution_count": 50,
     "metadata": {},
     "output_type": "execute_result"
    },
    {
     "data": {
      "image/png": "[encoded data removed]",
      "text/plain": [
       "<Figure size 432x288 with 1 Axes>"
      ]
     },
     "metadata": {
      "needs_background": "light"
     },
     "output_type": "display_data"
    }
   ],
   "source": [
    "# students of all\n",
    "stats.probplot(alldata,plot=plt)"
   ]
  },
  {
   "cell_type": "markdown",
   "id": "a7d0a33c",
   "metadata": {},
   "source": [
    "Central limit theorem\n",
    "\n",
    "* 평균과 분산이 같은 여러 개의 독립변수(X1…Xn)가 있을 때\n",
    "* 이 독립변수의 합으로 만든 새로운 독립변수를 Xsum이라고 하고,\n",
    "* Xsum의 분포를 norm(0, 1)을 따르도록 표준화시켜주었을 때(이건 생략도 가능합니다)\n",
    "* Xsum은 n이 커질수록 가우시안분포를 따른다는 것"
   ]
  },
  {
   "cell_type": "markdown",
   "id": "ba750c30",
   "metadata": {},
   "source": [
    "학년별 평균, 표준편차, 최대값, 최소값을 구하시오.  -> 상단에 descibe() check"
   ]
  },
  {
   "cell_type": "markdown",
   "id": "4995ff51",
   "metadata": {},
   "source": [
    "## 3.\n",
    "어느 대기업에서는 특정 중소기업으로부터 부품을 납품받고 있다. 이 부품의 납품서에 의하면 부품의 평균 지름은 12.5cm 라고 한다. 이 대기업에서는 부품의 지름이 실제로 납품서에 적혀 있는 값과 동일한 지를 검사하기 위해서 30개의 부품을 임으로 추출하여 지름을 측정한 결과, 다음과 같은 결과를 얻었다.\n",
    "\n",
    "    12.5  12.6  12.5  12.4  12.6    12.8    12.3  12.6  12.4    12.5\n",
    "    12.8  12.5  12.4    12.6  12.7  12.5    12.4  12.5  12.3    12.6\n",
    "    12.6  12.4  12.7  12.5  12.5    12.6    12.5  12.7  12.4    12.6\n",
    "\n",
    "\n",
    "부품의 평균지름이 납품서와 같다고 할 수 있는지를 유의수준 5%에서 검정하시오."
   ]
  },
  {
   "cell_type": "markdown",
   "id": "22fc4da6",
   "metadata": {},
   "source": [
    "30 개의 자료를 가진 표본이므로 정규성을 먼저 검사한다. Shapiro-Wilk normality test를 사용하며 자료가 정규성을 가진다는 귀무 가설을 가정한다"
   ]
  },
  {
   "cell_type": "code",
   "execution_count": 53,
   "id": "fc06e91a",
   "metadata": {},
   "outputs": [],
   "source": [
    "diameter =[12.5,12.6,12.5,12.4,12.6,12.8,\t12.3,\t12.6,\t12.4,12.5,12.8,\t12.5,\t12.4,\t12.6,12.7,12.5,\t12.4,\t12.5,\t12.3,\t12.6,12.6,\t12.4,\t12.7,12.5,12.5,12.6,\t12.5,\t12.7,\t12.4,\t12.6]"
   ]
  },
  {
   "cell_type": "code",
   "execution_count": 60,
   "id": "79268a3f",
   "metadata": {},
   "outputs": [],
   "source": [
    "dsdia=pd.DataFrame(diameter,columns=['diameter'])"
   ]
  },
  {
   "cell_type": "code",
   "execution_count": 62,
   "id": "297ee1f4",
   "metadata": {},
   "outputs": [
    {
     "data": {
      "text/plain": [
       "ShapiroResult(statistic=0.9408271312713623, pvalue=0.09574711322784424)"
      ]
     },
     "execution_count": 62,
     "metadata": {},
     "output_type": "execute_result"
    }
   ],
   "source": [
    "#shapiro_wilk\n",
    "shapiro_test_dia = stats.shapiro(dsdia.diameter)\n",
    "shapiro_test_dia"
   ]
  },
  {
   "cell_type": "markdown",
   "id": "c38e43d8",
   "metadata": {},
   "source": [
    "p-value 가 0.05 를 넘으므로 귀무가설을 기각하지 못한다\n",
    "\n",
    "위자료가 정규성을 가진다는 사실을 알았으니 유의수준 5%에서 T-검정을 한다. 먼저 다음과 같은 가설을 세운다.\n",
    "\n",
    "귀무 가설 : 부품의 납품서에 의한 부품지름과 30개를 임의 추출한 지름의 평균(12.5cm)이 같다\n",
    "\n",
    "H(0): μ = 12.5"
   ]
  },
  {
   "cell_type": "code",
   "execution_count": 63,
   "id": "4aa7b335",
   "metadata": {},
   "outputs": [
    {
     "data": {
      "text/plain": [
       "Ttest_1sampResult(statistic=1.4093620435726293, pvalue=0.16936210287100165)"
      ]
     },
     "execution_count": 63,
     "metadata": {},
     "output_type": "execute_result"
    }
   ],
   "source": [
    "#one sample ttest\n",
    "#scipy.stats.ttest_1samp(a, popmean, axis=0, nan_policy='propagate', alternative='two-sided')\n",
    "onesam_test_dia = stats.ttest_1samp(dsdia.diameter,popmean=12.5,)\n",
    "onesam_test_dia"
   ]
  },
  {
   "cell_type": "markdown",
   "id": "cb14b43a",
   "metadata": {},
   "source": [
    "95 percent confidence interval: <- 95% 신뢰 구간 안에 귀무가설의 값 12.5 를 포함한다.\n",
    "\n",
    "그렇므로 귀무가설을 기각하지 않고, 체택한다.\n",
    "\n",
    "그렇므로 결론:\n",
    "\n",
    "부품의 평균지름이 납품서와 같다"
   ]
  }
 ],
 "metadata": {
  "kernelspec": {
   "display_name": "Python 3",
   "language": "python",
   "name": "python3"
  },
  "language_info": {
   "codemirror_mode": {
    "name": "ipython",
    "version": 3
   },
   "file_extension": ".py",
   "mimetype": "text/x-python",
   "name": "python",
   "nbconvert_exporter": "python",
   "pygments_lexer": "ipython3",
   "version": "3.7.6"
  }
 },
 "nbformat": 4,
 "nbformat_minor": 5
}
