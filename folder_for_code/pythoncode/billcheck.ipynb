{
 "cells": [
  {
   "cell_type": "code",
   "execution_count": 1,
   "id": "29826800",
   "metadata": {
    "ExecuteTime": {
     "end_time": "2022-01-29T06:24:51.563293Z",
     "start_time": "2022-01-29T06:24:49.839269Z"
    }
   },
   "outputs": [],
   "source": [
    "import pandas as pd\n",
    "import numpy as np"
   ]
  },
  {
   "cell_type": "code",
   "execution_count": 7,
   "id": "f5e94c8b",
   "metadata": {
    "ExecuteTime": {
     "end_time": "2022-01-29T06:35:01.090989Z",
     "start_time": "2022-01-29T06:35:01.077073Z"
    }
   },
   "outputs": [
    {
     "data": {
      "text/html": [
       "<div>\n",
       "<style scoped>\n",
       "    .dataframe tbody tr th:only-of-type {\n",
       "        vertical-align: middle;\n",
       "    }\n",
       "\n",
       "    .dataframe tbody tr th {\n",
       "        vertical-align: top;\n",
       "    }\n",
       "\n",
       "    .dataframe thead th {\n",
       "        text-align: right;\n",
       "    }\n",
       "</style>\n",
       "<table border=\"1\" class=\"dataframe\">\n",
       "  <thead>\n",
       "    <tr style=\"text-align: right;\">\n",
       "      <th></th>\n",
       "      <th>거래일시\\t</th>\n",
       "      <th>구분</th>\n",
       "      <th>거래금액</th>\n",
       "      <th>거래 후 잔액</th>\n",
       "      <th>이름</th>\n",
       "    </tr>\n",
       "  </thead>\n",
       "  <tbody>\n",
       "    <tr>\n",
       "      <th>0</th>\n",
       "      <td>2021.02.28 15:41:36</td>\n",
       "      <td>입금</td>\n",
       "      <td>30,000</td>\n",
       "      <td>30,000</td>\n",
       "      <td>류지원</td>\n",
       "    </tr>\n",
       "    <tr>\n",
       "      <th>1</th>\n",
       "      <td>2021.02.28 16:40:00</td>\n",
       "      <td>입금</td>\n",
       "      <td>20,000</td>\n",
       "      <td>50,000</td>\n",
       "      <td>장예림</td>\n",
       "    </tr>\n",
       "    <tr>\n",
       "      <th>2</th>\n",
       "      <td>2021.03.01 12:20:32</td>\n",
       "      <td>입금</td>\n",
       "      <td>30,000</td>\n",
       "      <td>80,000</td>\n",
       "      <td>김태현</td>\n",
       "    </tr>\n",
       "    <tr>\n",
       "      <th>3</th>\n",
       "      <td>2021.03.01 17:36:07</td>\n",
       "      <td>입금</td>\n",
       "      <td>20,000</td>\n",
       "      <td>100,000</td>\n",
       "      <td>조성현</td>\n",
       "    </tr>\n",
       "    <tr>\n",
       "      <th>4</th>\n",
       "      <td>2021.03.01 17:36:18</td>\n",
       "      <td>입금</td>\n",
       "      <td>20,000</td>\n",
       "      <td>120,000</td>\n",
       "      <td>반정민</td>\n",
       "    </tr>\n",
       "    <tr>\n",
       "      <th>5</th>\n",
       "      <td>2021.03.02 01:25:00</td>\n",
       "      <td>입금</td>\n",
       "      <td>20,000</td>\n",
       "      <td>140,000</td>\n",
       "      <td>유현주</td>\n",
       "    </tr>\n",
       "    <tr>\n",
       "      <th>6</th>\n",
       "      <td>2021.03.02 09:13:06</td>\n",
       "      <td>입금</td>\n",
       "      <td>20,000</td>\n",
       "      <td>160,000</td>\n",
       "      <td>남서현</td>\n",
       "    </tr>\n",
       "    <tr>\n",
       "      <th>7</th>\n",
       "      <td>2021.03.02 10:03:24</td>\n",
       "      <td>입금</td>\n",
       "      <td>20,000</td>\n",
       "      <td>180,000</td>\n",
       "      <td>정서원</td>\n",
       "    </tr>\n",
       "    <tr>\n",
       "      <th>8</th>\n",
       "      <td>2021.03.02 12:33:25</td>\n",
       "      <td>입금</td>\n",
       "      <td>20,000</td>\n",
       "      <td>200,000</td>\n",
       "      <td>유동혁</td>\n",
       "    </tr>\n",
       "    <tr>\n",
       "      <th>9</th>\n",
       "      <td>2021.03.02 12:47:26</td>\n",
       "      <td>입금</td>\n",
       "      <td>20,000</td>\n",
       "      <td>220,000</td>\n",
       "      <td>손승혜</td>\n",
       "    </tr>\n",
       "    <tr>\n",
       "      <th>10</th>\n",
       "      <td>2021.03.02 13:25:33</td>\n",
       "      <td>입금</td>\n",
       "      <td>30,000</td>\n",
       "      <td>250,000</td>\n",
       "      <td>김규동</td>\n",
       "    </tr>\n",
       "    <tr>\n",
       "      <th>11</th>\n",
       "      <td>2021.03.02 13:26:03</td>\n",
       "      <td>입금</td>\n",
       "      <td>20,000</td>\n",
       "      <td>270,000</td>\n",
       "      <td>조상현</td>\n",
       "    </tr>\n",
       "    <tr>\n",
       "      <th>12</th>\n",
       "      <td>2021.03.02 15:30:03</td>\n",
       "      <td>입금</td>\n",
       "      <td>30,000</td>\n",
       "      <td>300,000</td>\n",
       "      <td>김유진</td>\n",
       "    </tr>\n",
       "    <tr>\n",
       "      <th>13</th>\n",
       "      <td>2021.03.02 15:30:44</td>\n",
       "      <td>입금</td>\n",
       "      <td>20,000</td>\n",
       "      <td>320,000</td>\n",
       "      <td>서유리</td>\n",
       "    </tr>\n",
       "    <tr>\n",
       "      <th>14</th>\n",
       "      <td>2021.03.03 11:08:50</td>\n",
       "      <td>입금</td>\n",
       "      <td>30,000</td>\n",
       "      <td>350,000</td>\n",
       "      <td>전정현</td>\n",
       "    </tr>\n",
       "  </tbody>\n",
       "</table>\n",
       "</div>"
      ],
      "text/plain": [
       "                 거래일시\\t  구분    거래금액  거래 후 잔액   이름\n",
       "0   2021.02.28 15:41:36  입금  30,000   30,000  류지원\n",
       "1   2021.02.28 16:40:00  입금  20,000   50,000  장예림\n",
       "2   2021.03.01 12:20:32  입금  30,000   80,000  김태현\n",
       "3   2021.03.01 17:36:07  입금  20,000  100,000  조성현\n",
       "4   2021.03.01 17:36:18  입금  20,000  120,000  반정민\n",
       "5   2021.03.02 01:25:00  입금  20,000  140,000  유현주\n",
       "6   2021.03.02 09:13:06  입금  20,000  160,000  남서현\n",
       "7   2021.03.02 10:03:24  입금  20,000  180,000  정서원\n",
       "8   2021.03.02 12:33:25  입금  20,000  200,000  유동혁\n",
       "9   2021.03.02 12:47:26  입금  20,000  220,000  손승혜\n",
       "10  2021.03.02 13:25:33  입금  30,000  250,000  김규동\n",
       "11  2021.03.02 13:26:03  입금  20,000  270,000  조상현\n",
       "12  2021.03.02 15:30:03  입금  30,000  300,000  김유진\n",
       "13  2021.03.02 15:30:44  입금  20,000  320,000  서유리\n",
       "14  2021.03.03 11:08:50  입금  30,000  350,000  전정현"
      ]
     },
     "execution_count": 7,
     "metadata": {},
     "output_type": "execute_result"
    }
   ],
   "source": [
    "csv_info = pd.read_csv('/Users/chosunghyun/Desktop/kakaobankdata1.csv')\n",
    "csv_info.head(15)"
   ]
  },
  {
   "cell_type": "code",
   "execution_count": 8,
   "id": "f5e70b46",
   "metadata": {
    "ExecuteTime": {
     "end_time": "2022-01-29T06:35:13.775271Z",
     "start_time": "2022-01-29T06:35:13.773081Z"
    }
   },
   "outputs": [],
   "source": [
    "df = csv_info"
   ]
  },
  {
   "cell_type": "code",
   "execution_count": 10,
   "id": "a6ace8b6",
   "metadata": {
    "ExecuteTime": {
     "end_time": "2022-01-29T06:36:57.128568Z",
     "start_time": "2022-01-29T06:36:57.100882Z"
    }
   },
   "outputs": [
    {
     "ename": "KeyError",
     "evalue": "(False, '서울택시_개인영세_', '이채영')",
     "output_type": "error",
     "traceback": [
      "\u001b[0;31m---------------------------------------------------------------------------\u001b[0m",
      "\u001b[0;31mKeyError\u001b[0m                                  Traceback (most recent call last)",
      "\u001b[0;32m~/opt/anaconda3/envs/summer/lib/python3.7/site-packages/pandas/core/indexes/base.py\u001b[0m in \u001b[0;36mget_loc\u001b[0;34m(self, key, method, tolerance)\u001b[0m\n\u001b[1;32m   3360\u001b[0m             \u001b[0;32mtry\u001b[0m\u001b[0;34m:\u001b[0m\u001b[0;34m\u001b[0m\u001b[0m\n\u001b[0;32m-> 3361\u001b[0;31m                 \u001b[0;32mreturn\u001b[0m \u001b[0mself\u001b[0m\u001b[0;34m.\u001b[0m\u001b[0m_engine\u001b[0m\u001b[0;34m.\u001b[0m\u001b[0mget_loc\u001b[0m\u001b[0;34m(\u001b[0m\u001b[0mcasted_key\u001b[0m\u001b[0;34m)\u001b[0m\u001b[0;34m\u001b[0m\u001b[0m\n\u001b[0m\u001b[1;32m   3362\u001b[0m             \u001b[0;32mexcept\u001b[0m \u001b[0mKeyError\u001b[0m \u001b[0;32mas\u001b[0m \u001b[0merr\u001b[0m\u001b[0;34m:\u001b[0m\u001b[0;34m\u001b[0m\u001b[0m\n",
      "\u001b[0;32m~/opt/anaconda3/envs/summer/lib/python3.7/site-packages/pandas/_libs/index.pyx\u001b[0m in \u001b[0;36mpandas._libs.index.IndexEngine.get_loc\u001b[0;34m()\u001b[0m\n",
      "\u001b[0;32m~/opt/anaconda3/envs/summer/lib/python3.7/site-packages/pandas/_libs/index.pyx\u001b[0m in \u001b[0;36mpandas._libs.index.IndexEngine.get_loc\u001b[0;34m()\u001b[0m\n",
      "\u001b[0;32mpandas/_libs/hashtable_class_helper.pxi\u001b[0m in \u001b[0;36mpandas._libs.hashtable.PyObjectHashTable.get_item\u001b[0;34m()\u001b[0m\n",
      "\u001b[0;32mpandas/_libs/hashtable_class_helper.pxi\u001b[0m in \u001b[0;36mpandas._libs.hashtable.PyObjectHashTable.get_item\u001b[0;34m()\u001b[0m\n",
      "\u001b[0;31mKeyError\u001b[0m: (False, '서울택시_개인영세_', '이채영')",
      "\nThe above exception was the direct cause of the following exception:\n",
      "\u001b[0;31mKeyError\u001b[0m                                  Traceback (most recent call last)",
      "\u001b[0;32m<ipython-input-10-8770cf49e79b>\u001b[0m in \u001b[0;36m<module>\u001b[0;34m\u001b[0m\n\u001b[0;32m----> 1\u001b[0;31m \u001b[0mdf\u001b[0m\u001b[0;34m[\u001b[0m\u001b[0;34m'이름'\u001b[0m \u001b[0;34m==\u001b[0m \u001b[0;34m'후불교통대금'\u001b[0m\u001b[0;34m,\u001b[0m\u001b[0;34m'서울택시_개인영세_'\u001b[0m\u001b[0;34m,\u001b[0m\u001b[0;34m'이채영'\u001b[0m\u001b[0;34m]\u001b[0m\u001b[0;34m\u001b[0m\u001b[0m\n\u001b[0m",
      "\u001b[0;32m~/opt/anaconda3/envs/summer/lib/python3.7/site-packages/pandas/core/frame.py\u001b[0m in \u001b[0;36m__getitem__\u001b[0;34m(self, key)\u001b[0m\n\u001b[1;32m   3453\u001b[0m             \u001b[0;32mif\u001b[0m \u001b[0mself\u001b[0m\u001b[0;34m.\u001b[0m\u001b[0mcolumns\u001b[0m\u001b[0;34m.\u001b[0m\u001b[0mnlevels\u001b[0m \u001b[0;34m>\u001b[0m \u001b[0;36m1\u001b[0m\u001b[0;34m:\u001b[0m\u001b[0;34m\u001b[0m\u001b[0m\n\u001b[1;32m   3454\u001b[0m                 \u001b[0;32mreturn\u001b[0m \u001b[0mself\u001b[0m\u001b[0;34m.\u001b[0m\u001b[0m_getitem_multilevel\u001b[0m\u001b[0;34m(\u001b[0m\u001b[0mkey\u001b[0m\u001b[0;34m)\u001b[0m\u001b[0;34m\u001b[0m\u001b[0m\n\u001b[0;32m-> 3455\u001b[0;31m             \u001b[0mindexer\u001b[0m \u001b[0;34m=\u001b[0m \u001b[0mself\u001b[0m\u001b[0;34m.\u001b[0m\u001b[0mcolumns\u001b[0m\u001b[0;34m.\u001b[0m\u001b[0mget_loc\u001b[0m\u001b[0;34m(\u001b[0m\u001b[0mkey\u001b[0m\u001b[0;34m)\u001b[0m\u001b[0;34m\u001b[0m\u001b[0m\n\u001b[0m\u001b[1;32m   3456\u001b[0m             \u001b[0;32mif\u001b[0m \u001b[0mis_integer\u001b[0m\u001b[0;34m(\u001b[0m\u001b[0mindexer\u001b[0m\u001b[0;34m)\u001b[0m\u001b[0;34m:\u001b[0m\u001b[0;34m\u001b[0m\u001b[0m\n\u001b[1;32m   3457\u001b[0m                 \u001b[0mindexer\u001b[0m \u001b[0;34m=\u001b[0m \u001b[0;34m[\u001b[0m\u001b[0mindexer\u001b[0m\u001b[0;34m]\u001b[0m\u001b[0;34m\u001b[0m\u001b[0m\n",
      "\u001b[0;32m~/opt/anaconda3/envs/summer/lib/python3.7/site-packages/pandas/core/indexes/base.py\u001b[0m in \u001b[0;36mget_loc\u001b[0;34m(self, key, method, tolerance)\u001b[0m\n\u001b[1;32m   3361\u001b[0m                 \u001b[0;32mreturn\u001b[0m \u001b[0mself\u001b[0m\u001b[0;34m.\u001b[0m\u001b[0m_engine\u001b[0m\u001b[0;34m.\u001b[0m\u001b[0mget_loc\u001b[0m\u001b[0;34m(\u001b[0m\u001b[0mcasted_key\u001b[0m\u001b[0;34m)\u001b[0m\u001b[0;34m\u001b[0m\u001b[0m\n\u001b[1;32m   3362\u001b[0m             \u001b[0;32mexcept\u001b[0m \u001b[0mKeyError\u001b[0m \u001b[0;32mas\u001b[0m \u001b[0merr\u001b[0m\u001b[0;34m:\u001b[0m\u001b[0;34m\u001b[0m\u001b[0m\n\u001b[0;32m-> 3363\u001b[0;31m                 \u001b[0;32mraise\u001b[0m \u001b[0mKeyError\u001b[0m\u001b[0;34m(\u001b[0m\u001b[0mkey\u001b[0m\u001b[0;34m)\u001b[0m \u001b[0;32mfrom\u001b[0m \u001b[0merr\u001b[0m\u001b[0;34m\u001b[0m\u001b[0m\n\u001b[0m\u001b[1;32m   3364\u001b[0m \u001b[0;34m\u001b[0m\u001b[0m\n\u001b[1;32m   3365\u001b[0m         \u001b[0;32mif\u001b[0m \u001b[0mis_scalar\u001b[0m\u001b[0;34m(\u001b[0m\u001b[0mkey\u001b[0m\u001b[0;34m)\u001b[0m \u001b[0;32mand\u001b[0m \u001b[0misna\u001b[0m\u001b[0;34m(\u001b[0m\u001b[0mkey\u001b[0m\u001b[0;34m)\u001b[0m \u001b[0;32mand\u001b[0m \u001b[0;32mnot\u001b[0m \u001b[0mself\u001b[0m\u001b[0;34m.\u001b[0m\u001b[0mhasnans\u001b[0m\u001b[0;34m:\u001b[0m\u001b[0;34m\u001b[0m\u001b[0m\n",
      "\u001b[0;31mKeyError\u001b[0m: (False, '서울택시_개인영세_', '이채영')"
     ]
    }
   ],
   "source": [
    "df['이름' == '후불교통대금','서울택시_개인영세_','이채영']"
   ]
  },
  {
   "cell_type": "code",
   "execution_count": null,
   "id": "f2920c05",
   "metadata": {},
   "outputs": [],
   "source": []
  },
  {
   "cell_type": "code",
   "execution_count": null,
   "id": "7e6e46df",
   "metadata": {},
   "outputs": [],
   "source": []
  },
  {
   "cell_type": "code",
   "execution_count": null,
   "id": "71d1a62e",
   "metadata": {},
   "outputs": [],
   "source": []
  },
  {
   "cell_type": "code",
   "execution_count": null,
   "id": "5a578901",
   "metadata": {},
   "outputs": [],
   "source": []
  },
  {
   "cell_type": "code",
   "execution_count": null,
   "id": "3a3516f0",
   "metadata": {},
   "outputs": [],
   "source": []
  },
  {
   "cell_type": "code",
   "execution_count": null,
   "id": "b64bcf7e",
   "metadata": {},
   "outputs": [],
   "source": []
  }
 ],
 "metadata": {
  "kernelspec": {
   "display_name": "Python 3",
   "language": "python",
   "name": "python3"
  },
  "language_info": {
   "codemirror_mode": {
    "name": "ipython",
    "version": 3
   },
   "file_extension": ".py",
   "mimetype": "text/x-python",
   "name": "python",
   "nbconvert_exporter": "python",
   "pygments_lexer": "ipython3",
   "version": "3.7.0"
  },
  "toc": {
   "base_numbering": 1,
   "nav_menu": {},
   "number_sections": true,
   "sideBar": true,
   "skip_h1_title": false,
   "title_cell": "Table of Contents",
   "title_sidebar": "Contents",
   "toc_cell": false,
   "toc_position": {},
   "toc_section_display": true,
   "toc_window_display": false
  },
  "varInspector": {
   "cols": {
    "lenName": 16,
    "lenType": 16,
    "lenVar": 40
   },
   "kernels_config": {
    "python": {
     "delete_cmd_postfix": "",
     "delete_cmd_prefix": "del ",
     "library": "var_list.py",
     "varRefreshCmd": "print(var_dic_list())"
    },
    "r": {
     "delete_cmd_postfix": ") ",
     "delete_cmd_prefix": "rm(",
     "library": "var_list.r",
     "varRefreshCmd": "cat(var_dic_list()) "
    }
   },
   "types_to_exclude": [
    "module",
    "function",
    "builtin_function_or_method",
    "instance",
    "_Feature"
   ],
   "window_display": false
  }
 },
 "nbformat": 4,
 "nbformat_minor": 5
}
