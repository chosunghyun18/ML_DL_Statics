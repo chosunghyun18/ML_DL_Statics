{
 "cells": [
  {
   "cell_type": "markdown",
   "id": "d31b0c70",
   "metadata": {},
   "source": [
    "어느 병원에서 흡연자들을 대상으로 하루 흡연량이 폐암 발생 후 사망시점에 미치는 영향을 알아보기 위해 조사한 것이다.\n",
    "    \n",
    "||||||||||||\n",
    "|:---:|:---:|:---:|:---:|:---:|:---:|:---:|:---:|:---:|:---:|:---:|\n",
    "|하루 흡 연 수(daily)|5|7|9|11|13|15|17|19|21|23|\n",
    "|기간(단위: 월)(period)|36|30|25|23|20|15|12|9|5|3|\n",
    "||||||||||||\n"
   ]
  },
  {
   "cell_type": "code",
   "execution_count": 8,
   "id": "27e06d46",
   "metadata": {},
   "outputs": [],
   "source": [
    "import pandas as pd\n",
    "import numpy as np\n",
    "import warnings\n",
    "import seaborn as sns\n",
    "warnings.filterwarnings(action='ignore')"
   ]
  },
  {
   "cell_type": "code",
   "execution_count": 9,
   "id": "e19354f4",
   "metadata": {},
   "outputs": [
    {
     "data": {
      "text/html": [
       "<div>\n",
       "<style scoped>\n",
       "    .dataframe tbody tr th:only-of-type {\n",
       "        vertical-align: middle;\n",
       "    }\n",
       "\n",
       "    .dataframe tbody tr th {\n",
       "        vertical-align: top;\n",
       "    }\n",
       "\n",
       "    .dataframe thead th {\n",
       "        text-align: right;\n",
       "    }\n",
       "</style>\n",
       "<table border=\"1\" class=\"dataframe\">\n",
       "  <thead>\n",
       "    <tr style=\"text-align: right;\">\n",
       "      <th></th>\n",
       "      <th>daily</th>\n",
       "      <th>period</th>\n",
       "    </tr>\n",
       "  </thead>\n",
       "  <tbody>\n",
       "    <tr>\n",
       "      <th>0</th>\n",
       "      <td>5</td>\n",
       "      <td>36</td>\n",
       "    </tr>\n",
       "    <tr>\n",
       "      <th>1</th>\n",
       "      <td>7</td>\n",
       "      <td>30</td>\n",
       "    </tr>\n",
       "    <tr>\n",
       "      <th>2</th>\n",
       "      <td>9</td>\n",
       "      <td>25</td>\n",
       "    </tr>\n",
       "    <tr>\n",
       "      <th>3</th>\n",
       "      <td>11</td>\n",
       "      <td>23</td>\n",
       "    </tr>\n",
       "    <tr>\n",
       "      <th>4</th>\n",
       "      <td>13</td>\n",
       "      <td>20</td>\n",
       "    </tr>\n",
       "  </tbody>\n",
       "</table>\n",
       "</div>"
      ],
      "text/plain": [
       "   daily  period\n",
       "0      5      36\n",
       "1      7      30\n",
       "2      9      25\n",
       "3     11      23\n",
       "4     13      20"
      ]
     },
     "execution_count": 9,
     "metadata": {},
     "output_type": "execute_result"
    }
   ],
   "source": [
    "#make a data set, \n",
    "daily =[5,7,9,11,13,15,17,19,21,23]\n",
    "period=[36,30,25,23,20,15,12,9,5,3]\n",
    "smoke= pd.DataFrame({'daily':daily,'period':period})\n",
    "smoke.head()"
   ]
  },
  {
   "cell_type": "markdown",
   "id": "bcf9a29a",
   "metadata": {},
   "source": [
    "1.\n",
    "산점도를 그리고, 표본상관계수를 추정하고 상관관계가 존재하는지 검정하시오"
   ]
  },
  {
   "cell_type": "code",
   "execution_count": 15,
   "id": "123d6103",
   "metadata": {},
   "outputs": [
    {
     "data": {
      "image/png": "[encoded data removed]",
      "text/plain": [
       "<Figure size 432x288 with 1 Axes>"
      ]
     },
     "metadata": {
      "needs_background": "light"
     },
     "output_type": "display_data"
    }
   ],
   "source": [
    "#산점도\n",
    "import matplotlib.pyplot as plt\n",
    "plt.scatter(daily,period)\n",
    "plt.xlabel('daily')\n",
    "plt.ylabel('period')\n",
    "plt.show()"
   ]
  },
  {
   "cell_type": "markdown",
   "id": "0130c36b",
   "metadata": {},
   "source": [
    "일반적으로 상관계수라고 하면 피어슨 상관계수를 말한다.\n",
    "np.corrcoef(x,y)"
   ]
  },
  {
   "cell_type": "code",
   "execution_count": 16,
   "id": "be814fa6",
   "metadata": {},
   "outputs": [
    {
     "data": {
      "text/plain": [
       "-0.9949423927596839"
      ]
     },
     "execution_count": 16,
     "metadata": {},
     "output_type": "execute_result"
    }
   ],
   "source": [
    "#두변수의 상관계수 확인 (correalation)\n",
    "np.corrcoef(daily,period)[0,1]"
   ]
  },
  {
   "cell_type": "markdown",
   "id": "d5ec460e",
   "metadata": {},
   "source": [
    "음의 상관 관계를 갖는다, 이는 Daily 가 증가 할수록 PERIOD 가 작아진다."
   ]
  },
  {
   "cell_type": "markdown",
   "id": "384125da",
   "metadata": {},
   "source": [
    "2.\n",
    "분산분석표를 작성하고 추정된 회귀직선이 유의한지 유의수준 5% 하에서 검정하시오."
   ]
  },
  {
   "cell_type": "code",
   "execution_count": 14,
   "id": "ccc2b9a7",
   "metadata": {},
   "outputs": [
    {
     "data": {
      "image/png": "[encoded data removed]",
      "text/plain": [
       "<Figure size 432x288 with 1 Axes>"
      ]
     },
     "metadata": {
      "needs_background": "light"
     },
     "output_type": "display_data"
    }
   ],
   "source": [
    "plot_data =[daily,period]\n",
    "plt.boxplot(plot_data)\n",
    "plt.show()"
   ]
  },
  {
   "cell_type": "markdown",
   "id": "114ea5ce",
   "metadata": {},
   "source": [
    "* 평균 값의 차이가 의미가 있어 보이나?"
   ]
  },
  {
   "cell_type": "code",
   "execution_count": 7,
   "id": "5ea68ec2",
   "metadata": {},
   "outputs": [
    {
     "data": {
      "text/plain": [
       "array([[ 36.66666667, -65.55555556],\n",
       "       [-65.55555556, 118.4       ]])"
      ]
     },
     "execution_count": 7,
     "metadata": {},
     "output_type": "execute_result"
    }
   ],
   "source": [
    "np.cov(daily,period) # 공분산"
   ]
  },
  {
   "cell_type": "markdown",
   "id": "c6c09b00",
   "metadata": {},
   "source": [
    "두 변수가 같은 방향으로 변화 한다."
   ]
  },
  {
   "cell_type": "code",
   "execution_count": 13,
   "id": "3845bde1",
   "metadata": {},
   "outputs": [
    {
     "data": {
      "text/plain": [
       "array(36.66666667)"
      ]
     },
     "execution_count": 13,
     "metadata": {},
     "output_type": "execute_result"
    }
   ],
   "source": [
    "np.cov(daily)"
   ]
  },
  {
   "cell_type": "code",
   "execution_count": 24,
   "id": "cc7317d9",
   "metadata": {},
   "outputs": [
    {
     "data": {
      "text/html": [
       "<div>\n",
       "<style scoped>\n",
       "    .dataframe tbody tr th:only-of-type {\n",
       "        vertical-align: middle;\n",
       "    }\n",
       "\n",
       "    .dataframe tbody tr th {\n",
       "        vertical-align: top;\n",
       "    }\n",
       "\n",
       "    .dataframe thead th {\n",
       "        text-align: right;\n",
       "    }\n",
       "</style>\n",
       "<table border=\"1\" class=\"dataframe\">\n",
       "  <thead>\n",
       "    <tr style=\"text-align: right;\">\n",
       "      <th></th>\n",
       "      <th>df</th>\n",
       "      <th>sum_sq</th>\n",
       "      <th>mean_sq</th>\n",
       "      <th>F</th>\n",
       "      <th>PR(&gt;F)</th>\n",
       "    </tr>\n",
       "  </thead>\n",
       "  <tbody>\n",
       "    <tr>\n",
       "      <th>daily</th>\n",
       "      <td>1.0</td>\n",
       "      <td>1054.848485</td>\n",
       "      <td>1054.848485</td>\n",
       "      <td>784.892897</td>\n",
       "      <td>2.845249e-09</td>\n",
       "    </tr>\n",
       "    <tr>\n",
       "      <th>Residual</th>\n",
       "      <td>8.0</td>\n",
       "      <td>10.751515</td>\n",
       "      <td>1.343939</td>\n",
       "      <td>NaN</td>\n",
       "      <td>NaN</td>\n",
       "    </tr>\n",
       "  </tbody>\n",
       "</table>\n",
       "</div>"
      ],
      "text/plain": [
       "           df       sum_sq      mean_sq           F        PR(>F)\n",
       "daily     1.0  1054.848485  1054.848485  784.892897  2.845249e-09\n",
       "Residual  8.0    10.751515     1.343939         NaN           NaN"
      ]
     },
     "execution_count": 24,
     "metadata": {},
     "output_type": "execute_result"
    }
   ],
   "source": [
    "# 분산 분석표를 작성 \n",
    "from statsmodels.formula.api import ols\n",
    "from statsmodels.stats.anova import anova_lm\n",
    "model = ols('period ~ daily',smoke).fit()\n",
    "anova_lm(model)"
   ]
  },
  {
   "cell_type": "markdown",
   "id": "1ff284b3",
   "metadata": {},
   "source": [
    "p-value 가 0.05 보다 작다."
   ]
  },
  {
   "cell_type": "code",
   "execution_count": 27,
   "id": "50f32be3",
   "metadata": {},
   "outputs": [
    {
     "data": {
      "text/html": [
       "<table class=\"simpletable\">\n",
       "<caption>OLS Regression Results</caption>\n",
       "<tr>\n",
       "  <th>Dep. Variable:</th>         <td>period</td>      <th>  R-squared:         </th> <td>   0.990</td>\n",
       "</tr>\n",
       "<tr>\n",
       "  <th>Model:</th>                   <td>OLS</td>       <th>  Adj. R-squared:    </th> <td>   0.989</td>\n",
       "</tr>\n",
       "<tr>\n",
       "  <th>Method:</th>             <td>Least Squares</td>  <th>  F-statistic:       </th> <td>   784.9</td>\n",
       "</tr>\n",
       "<tr>\n",
       "  <th>Date:</th>             <td>Mon, 09 Aug 2021</td> <th>  Prob (F-statistic):</th> <td>2.85e-09</td>\n",
       "</tr>\n",
       "<tr>\n",
       "  <th>Time:</th>                 <td>15:24:27</td>     <th>  Log-Likelihood:    </th> <td> -14.552</td>\n",
       "</tr>\n",
       "<tr>\n",
       "  <th>No. Observations:</th>      <td>    10</td>      <th>  AIC:               </th> <td>   33.10</td>\n",
       "</tr>\n",
       "<tr>\n",
       "  <th>Df Residuals:</th>          <td>     8</td>      <th>  BIC:               </th> <td>   33.71</td>\n",
       "</tr>\n",
       "<tr>\n",
       "  <th>Df Model:</th>              <td>     1</td>      <th>                     </th>     <td> </td>   \n",
       "</tr>\n",
       "<tr>\n",
       "  <th>Covariance Type:</th>      <td>nonrobust</td>    <th>                     </th>     <td> </td>   \n",
       "</tr>\n",
       "</table>\n",
       "<table class=\"simpletable\">\n",
       "<tr>\n",
       "      <td></td>         <th>coef</th>     <th>std err</th>      <th>t</th>      <th>P>|t|</th>  <th>[0.025</th>    <th>0.975]</th>  \n",
       "</tr>\n",
       "<tr>\n",
       "  <th>Intercept</th> <td>   42.8303</td> <td>    0.966</td> <td>   44.351</td> <td> 0.000</td> <td>   40.603</td> <td>   45.057</td>\n",
       "</tr>\n",
       "<tr>\n",
       "  <th>daily</th>     <td>   -1.7879</td> <td>    0.064</td> <td>  -28.016</td> <td> 0.000</td> <td>   -1.935</td> <td>   -1.641</td>\n",
       "</tr>\n",
       "</table>\n",
       "<table class=\"simpletable\">\n",
       "<tr>\n",
       "  <th>Omnibus:</th>       <td> 1.157</td> <th>  Durbin-Watson:     </th> <td>   1.495</td>\n",
       "</tr>\n",
       "<tr>\n",
       "  <th>Prob(Omnibus):</th> <td> 0.561</td> <th>  Jarque-Bera (JB):  </th> <td>   0.368</td>\n",
       "</tr>\n",
       "<tr>\n",
       "  <th>Skew:</th>          <td> 0.463</td> <th>  Prob(JB):          </th> <td>   0.832</td>\n",
       "</tr>\n",
       "<tr>\n",
       "  <th>Kurtosis:</th>      <td> 2.842</td> <th>  Cond. No.          </th> <td>    40.0</td>\n",
       "</tr>\n",
       "</table><br/><br/>Notes:<br/>[1] Standard Errors assume that the covariance matrix of the errors is correctly specified."
      ],
      "text/plain": [
       "<class 'statsmodels.iolib.summary.Summary'>\n",
       "\"\"\"\n",
       "                            OLS Regression Results                            \n",
       "==============================================================================\n",
       "Dep. Variable:                 period   R-squared:                       0.990\n",
       "Model:                            OLS   Adj. R-squared:                  0.989\n",
       "Method:                 Least Squares   F-statistic:                     784.9\n",
       "Date:                Mon, 09 Aug 2021   Prob (F-statistic):           2.85e-09\n",
       "Time:                        15:24:27   Log-Likelihood:                -14.552\n",
       "No. Observations:                  10   AIC:                             33.10\n",
       "Df Residuals:                       8   BIC:                             33.71\n",
       "Df Model:                           1                                         \n",
       "Covariance Type:            nonrobust                                         \n",
       "==============================================================================\n",
       "                 coef    std err          t      P>|t|      [0.025      0.975]\n",
       "------------------------------------------------------------------------------\n",
       "Intercept     42.8303      0.966     44.351      0.000      40.603      45.057\n",
       "daily         -1.7879      0.064    -28.016      0.000      -1.935      -1.641\n",
       "==============================================================================\n",
       "Omnibus:                        1.157   Durbin-Watson:                   1.495\n",
       "Prob(Omnibus):                  0.561   Jarque-Bera (JB):                0.368\n",
       "Skew:                           0.463   Prob(JB):                        0.832\n",
       "Kurtosis:                       2.842   Cond. No.                         40.0\n",
       "==============================================================================\n",
       "\n",
       "Notes:\n",
       "[1] Standard Errors assume that the covariance matrix of the errors is correctly specified.\n",
       "\"\"\""
      ]
     },
     "execution_count": 27,
     "metadata": {},
     "output_type": "execute_result"
    }
   ],
   "source": [
    "#회귀 모델 확인\n",
    "model.summary()"
   ]
  },
  {
   "cell_type": "markdown",
   "id": "530a6193",
   "metadata": {},
   "source": [
    "R-squared 0.99 :모형의 적합도, Period 의 분산을 daily가 약 99%를 설명한다.\n",
    "\n",
    "Prob(F-stattics) :2.85e-09\n",
    "회귀 모형의 유의미 정도 이며 0.05 인 5% 보다 작으므로, 회귀 모형이 유의미 하다라는것을 보여준다."
   ]
  },
  {
   "cell_type": "markdown",
   "id": "4aa8304d",
   "metadata": {},
   "source": [
    "Adj. R-squared:0.989\n",
    "\n",
    "독립변수가 여러 개인 다중회귀분석에서 사용\n",
    "독립변수의 개수와 표본의 크기를 고려하여 R-squared를 보정\n",
    "서로 다른 모형을 비교할 때는 이 지표가 높은 쪽은 선택한다"
   ]
  },
  {
   "cell_type": "markdown",
   "id": "452d3977",
   "metadata": {},
   "source": [
    "About Coefficients : 절편 추정 42.83 daily가 0일때 period 값\n",
    "Daily 의 계수 추정치 : 기울기 -1.7 즉  daily 1 증가 할때 마다 -1.7 로 period 감소"
   ]
  },
  {
   "cell_type": "markdown",
   "id": "c2ae8108",
   "metadata": {},
   "source": [
    "* Period =   42.83 -1.788*daily "
   ]
  },
  {
   "cell_type": "markdown",
   "id": "0f6262f7",
   "metadata": {},
   "source": [
    "결정 계수 ( R squared ) : 0.99\n",
    "\n",
    "회귀분석을 통해 구한 결정계수는, 추정된 회귀식이  자료를 99% 설명한다 라는 의미를 보여준다.\n",
    "\n",
    "회귀모형 추정식을 쓰고, 의미를 설명하시오.\n",
    "\n",
    "추정식:\n",
    "y = 42.83 - 1.788x \n",
    "(y=period(폐암 발생 후 사망 시점), x = daily(하루 흡연 수))"
   ]
  },
  {
   "cell_type": "markdown",
   "id": "17e98a24",
   "metadata": {},
   "source": [
    "* 하루 흡연 수가 10인 경우, 폐암 발생 후 예상되는 사망시점은? \n"
   ]
  },
  {
   "cell_type": "code",
   "execution_count": 30,
   "id": "5939cecc",
   "metadata": {},
   "outputs": [
    {
     "name": "stdout",
     "output_type": "stream",
     "text": [
      "24.95\n"
     ]
    }
   ],
   "source": [
    "x = 10\n",
    "y = 42.83 - 1.788 * x \n",
    "print(y)"
   ]
  },
  {
   "cell_type": "code",
   "execution_count": 31,
   "id": "768f045a",
   "metadata": {},
   "outputs": [
    {
     "name": "stdout",
     "output_type": "stream",
     "text": [
      "28.89615\n"
     ]
    }
   ],
   "source": [
    "# y = 24.95 (1 month)\n",
    "\n",
    "# 1year 12 month =  365 day , 1 month estimate 30.417 days\n",
    "\n",
    "#if 1 month = 30.417days\n",
    "#    0.95 month =  30.417 *0.95 days\n",
    "\n",
    "print(0.95 * 30.417)"
   ]
  },
  {
   "cell_type": "markdown",
   "id": "fa9860d8",
   "metadata": {},
   "source": [
    "예상되는 사망시점\n",
    "\n",
    "폐암 발생 후 24.95 월후 \n",
    "\n",
    "폐암 발생 후 약 2 년 28일 \n"
   ]
  }
 ],
 "metadata": {
  "kernelspec": {
   "display_name": "Python 3",
   "language": "python",
   "name": "python3"
  },
  "language_info": {
   "codemirror_mode": {
    "name": "ipython",
    "version": 3
   },
   "file_extension": ".py",
   "mimetype": "text/x-python",
   "name": "python",
   "nbconvert_exporter": "python",
   "pygments_lexer": "ipython3",
   "version": "3.7.6"
  }
 },
 "nbformat": 4,
 "nbformat_minor": 5
}
