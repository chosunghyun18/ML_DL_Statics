{
 "cells": [
  {
   "cell_type": "code",
   "execution_count": 69,
   "id": "da06b57d",
   "metadata": {
    "ExecuteTime": {
     "end_time": "2021-12-09T04:42:09.333345Z",
     "start_time": "2021-12-09T04:42:09.329595Z"
    }
   },
   "outputs": [],
   "source": [
    "import pandas as pd\n",
    "import numpy as np\n",
    "import math\n",
    "import scipy.stats as st\n",
    "import warnings\n",
    "import seaborn as sns; sns.set()\n",
    "import matplotlib.pyplot as plt\n",
    "from statsmodels.formula.api import ols\n",
    "from statsmodels.stats.anova import anova_lm\n",
    "warnings.filterwarnings(action='ignore')"
   ]
  },
  {
   "cell_type": "code",
   "execution_count": 70,
   "id": "f0dde421",
   "metadata": {
    "ExecuteTime": {
     "end_time": "2021-12-09T04:42:09.341741Z",
     "start_time": "2021-12-09T04:42:09.335383Z"
    }
   },
   "outputs": [
    {
     "name": "stdout",
     "output_type": "stream",
     "text": [
      "E: [307.5 102.5]\n",
      "검정 통계량 0.029268292682926828\n",
      "기각역 3.841458820694124\n",
      "H0 기각 x\n",
      "P_value 0.8641610311132468\n"
     ]
    }
   ],
   "source": [
    "# 적합도 검정 \n",
    "#   p = 기존에 알려진\n",
    "\n",
    "\n",
    "o = [\n",
    "o = np.array(o)\n",
    "\n",
    "p = [3/4,1/4]\n",
    "\n",
    "p = np.array(p)\n",
    "e = p*o.sum()\n",
    "print(\"E:\",e)\n",
    "\n",
    "\n",
    "df = len(o)-1\n",
    "\n",
    "# 검정 통계 값\n",
    "T = (((o-e)**2)/e).sum()\n",
    "\n",
    "print(\"검정 통계량\",T)\n",
    "\n",
    "# 카이 제곱\n",
    "# t_a  5% 유의 확률\n",
    "a =1- 0.05\n",
    "t_a = st.chi2.ppf(a,df)\n",
    "print(\"기각역\",t_a)\n",
    "\n",
    "if t_a > T :\n",
    "    print(\"H0 기각 x\")\n",
    "else: \n",
    "    print(\"H0 기각 o\")\n",
    "\n",
    "\n",
    "\n",
    "# 검정 통계량 관측\n",
    "t0 = T\n",
    "print(\"P_value\",(1-st.chi2.cdf(abs(t0),df)))\n",
    "\n",
    "\n"
   ]
  },
  {
   "cell_type": "code",
   "execution_count": 71,
   "id": "2c801b1e",
   "metadata": {
    "ExecuteTime": {
     "end_time": "2021-12-09T04:42:09.350681Z",
     "start_time": "2021-12-09T04:42:09.344382Z"
    }
   },
   "outputs": [
    {
     "name": "stdout",
     "output_type": "stream",
     "text": [
      "[[ 5.08695652 12.52173913 12.52173913  5.86956522]\n",
      " [ 4.09782609 10.08695652 10.08695652  4.72826087]\n",
      " [ 3.81521739  9.39130435  9.39130435  4.40217391]] 4\n",
      "검정 통계: 10.527\n",
      "6\n",
      "기각역: 12.591587243743977\n",
      "H0 기각 x\n",
      "유의 확률 0.1041\n"
     ]
    }
   ],
   "source": [
    "# 독립성 검정     소득 분위 A,B,C  / 찬 반 x y \n",
    "\n",
    "\n",
    "# H0 : 독립이다\n",
    "\n",
    "\n",
    "#    A.   B.  C \n",
    "x = [6,14,11,5]\n",
    "y = [5,11,12,1]\n",
    "z = [2,7,9,9]\n",
    "\n",
    "obs = np.array([x,y,z])\n",
    "chi2, p, dof, ex =st.chi2_contingency(obs)\n",
    "\n",
    "print(ex,4)\n",
    "\n",
    "print(\"검정 통계:\",round(chi2,4)) # 검정 통계\n",
    "\n",
    "print(round(dof,4))\n",
    "\n",
    "a =1- 0.05\n",
    "t_a = st.chi2.ppf(a,dof)\n",
    "print(\"기각역:\",t_a)\n",
    "\n",
    "T = round(chi2,4 ) \n",
    "\n",
    "if t_a > T :\n",
    "    print(\"H0 기각 x\")\n",
    "else:\n",
    "    print(\"H0 기각 O\")\n",
    "    \n",
    "\n",
    "print(\"유의 확률\",round(p,4))  # 유의 확률 보다 작으면  기각\n",
    "    \n"
   ]
  },
  {
   "cell_type": "code",
   "execution_count": 72,
   "id": "78177ae9",
   "metadata": {
    "ExecuteTime": {
     "end_time": "2021-12-09T04:42:09.358315Z",
     "start_time": "2021-12-09T04:42:09.352720Z"
    }
   },
   "outputs": [
    {
     "name": "stdout",
     "output_type": "stream",
     "text": [
      "[[16.  16.5 11.5  6. ]\n",
      " [16.  16.5 11.5  6. ]] 4\n",
      "검정 통계: 3.8615\n",
      "3\n",
      "기각역: 7.814727903251179\n",
      "H0 기각 x\n",
      "유의 확률 0.2768\n"
     ]
    }
   ],
   "source": [
    "# 동일성성 검정    번주혀어 , 3개 이상 모집단의 비율이 서로 동일 한가?\n",
    "\n",
    "#H0 : 동일하다\n",
    "\n",
    "#    A.   B.  C \n",
    "x = [19,18,8,5]\n",
    "y = [13,15,15,7]\n",
    "\n",
    "\n",
    "obs = np.array([x,y])\n",
    "chi2, p, dof, ex =st.chi2_contingency(obs)\n",
    "\n",
    "print(ex,4)\n",
    "\n",
    "print(\"검정 통계:\",round(chi2,4)) # 검정 통계\n",
    "\n",
    "print(round(dof,4))\n",
    "\n",
    "a =1- 0.05\n",
    "t_a = st.chi2.ppf(a,dof)\n",
    "print(\"기각역:\",t_a)\n",
    "\n",
    "T = round(chi2,4 ) \n",
    "\n",
    "if t_a > T :\n",
    "    print(\"H0 기각 x\")\n",
    "else:\n",
    "    print(\"H0 기각 O\")\n",
    "    \n",
    "\n",
    "print(\"유의 확률\",round(p,4))  # 유의 확률 보다 작으면  기각\n",
    "    "
   ]
  },
  {
   "cell_type": "code",
   "execution_count": null,
   "id": "be9524cd",
   "metadata": {},
   "outputs": [],
   "source": []
  },
  {
   "cell_type": "markdown",
   "id": "5f98006b",
   "metadata": {},
   "source": [
    "* 상관 계수의, 추정 "
   ]
  },
  {
   "cell_type": "code",
   "execution_count": 73,
   "id": "4cbe99d4",
   "metadata": {
    "ExecuteTime": {
     "end_time": "2021-12-09T04:42:09.369474Z",
     "start_time": "2021-12-09T04:42:09.359758Z"
    }
   },
   "outputs": [
    {
     "name": "stdout",
     "output_type": "stream",
     "text": [
      "내장 함수 이용시 r : 0.5871789742549423\n",
      "표본 상관계수 r:  0.78447\n",
      "=======================================\n",
      "검정 통계량의 관측값 T: 3.346690896328029\n",
      "\n",
      "--기각역--\n",
      "t0 > 2.3646242510102993 를 만족시 H0를 기각\n",
      "------------------\n",
      "결론 : H0 기각 O 상관 관계 존재\n"
     ]
    }
   ],
   "source": [
    "# 상관계수 0 에가깝다 == > 선형 관계 어렵, 독립이라는 뜻 x \n",
    "# 상관 계수 : r\n",
    "# 상관 검정\n",
    "\n",
    "\n",
    "weight=[2.75,2.15,4.41,5.52,3.21,4.32,2.31,4.30,3.71]\n",
    "length=[29.5,26.3,32.2,36.5,27.2,27.7,28.3,30.3,28.7]\n",
    "\n",
    "print(\"내장 함수 이용시 r :\",np.corrcoef(x, y)[0,1])\n",
    "\n",
    "size= pd.DataFrame({'weight':weight,'length':length})\n",
    "#표본의 크기 저장\n",
    "n = len(weight) \n",
    "# 표본 상관계수를 구하자\n",
    "x = np.array(weight)\n",
    "y = np.array(length)\n",
    "# x와 y의 각각의 평균\n",
    "xbar = np.mean(x)\n",
    "ybar = np.mean(y)\n",
    "# 공식에 따라\n",
    "Sxx =((x-xbar)**2).sum()\n",
    "Sxy=((x-xbar)*(y-ybar)).sum() \n",
    "Syy=((y-ybar)**2).sum() \n",
    "\n",
    "r  = Sxy / (math.sqrt(Sxx) * math.sqrt(Syy) )\n",
    "print(\"표본 상관계수 r: \" ,round(r,5))\n",
    "\n",
    "print(\"=======================================\")\n",
    "T = math.sqrt(n-2) * (r / math.sqrt(1-r**2)) \n",
    "print(\"검정 통계량의 관측값 T:\",T)\n",
    "print(\"\")\n",
    "\n",
    "\n",
    "# 유의 확률 ~5%    그냥 상관 -> 양측 ,   양 또는 음의 상관 -> 단측\n",
    "a = 1-(0.05/2)\n",
    "df = n-2    # 자유도 \n",
    "ts = st.t.ppf(a,df)\n",
    "print(\"--기각역--\")\n",
    "print(\"t0 >\",ts,\"를 만족시 H0를 기각\")\n",
    "\n",
    "print(\"------------------\")\n",
    "if abs(T) > ts :\n",
    "    print(\"결론 : H0 기각 O 상관 관계 존재\")\n",
    "else:\n",
    "    print(\"결론 : H0 기각 x ,상관 관계  없다 \")"
   ]
  },
  {
   "cell_type": "markdown",
   "id": "9c824d20",
   "metadata": {},
   "source": [
    "* 회귀분선"
   ]
  },
  {
   "cell_type": "code",
   "execution_count": 144,
   "id": "901185e2",
   "metadata": {
    "ExecuteTime": {
     "end_time": "2021-12-09T06:54:57.640879Z",
     "start_time": "2021-12-09T06:54:57.611163Z"
    }
   },
   "outputs": [
    {
     "name": "stdout",
     "output_type": "stream",
     "text": [
      "\n",
      "표본 상관계수, r = 0.9013\n",
      "--------------\n",
      "--------------\n",
      "\n",
      "y= 0.795 x + 20.717\n",
      "\n",
      "\n",
      "SST 1487.5\n",
      "SSR 1208.368\n",
      "SSE 279.132\n",
      "MSE 46.522\n",
      "R^2 0.812\n",
      "---------------------------------------------------------------\n",
      "요인     |     제곱합      |      자유도    |     평균제곱   |     F값\n",
      "---------------------------------------------------------------\n",
      "회귀     | 1208.3682    |      1          |  1208.3682 | 25.9741\n",
      "---------------------------------------------------------------\n",
      "잔차     | 279.1318      |      6          |  46.52197    |\n",
      "---------------------------------------------------------------\n",
      "계      | 1487.5       |      7          | \n",
      "---------------------------------------------------------------\n",
      "기울기의 95% 신뢰도 구간:\n",
      "0.4133 , 1.1767\n",
      "절편의 95% 신뢰도 구간:\n",
      "-7.7643 , 49.1974\n",
      "\n",
      "F 검정\n",
      "F값 기각역  5.987\n",
      "기울기가 0이 아니다 회귀 직선이 유의하다, 귀무 가설 기각\n",
      "\n",
      "하단부 T 검정----\n",
      "검정 통계 절편 B0 : 2\n",
      "검정 통계 기울기 B1 : 5.0965\n",
      "기울기 t-test 검정통계량 관측값 5.0965\n",
      "   \n",
      "   \n",
      "기각역  2.4469\n",
      "H0 기각 , 기울기 0이 아님\n",
      " \n",
      "기각역  2.4469\n",
      "H0 기각 x , 절편 0 이다\n",
      "2.4469118487916806\n",
      " x=20일 때 Y의 95% 신뢰구간은 다음과 같다.\n",
      "64.8582 95.8217\n"
     ]
    }
   ],
   "source": [
    "########################회귀\n",
    "#################################    \n",
    "\n",
    "\n",
    "# 독립\n",
    "x = [78, 80, 66,92,90,57,99,80,70,82]\n",
    "# 종속\n",
    "y = [60, 80, 72,100,88,80,70,92,99,90]\n",
    "\n",
    "\n",
    "\n",
    "x = [56,89,72,99,67,50,68,83] \n",
    "y = [70,95,70,95,70,55,85,90]\n",
    "\n",
    "\n",
    "n = len(x) \n",
    "# 표본 상관계수를 구하자\n",
    "x = np.array(x)\n",
    "y = np.array(y)\n",
    "# x와 y의 각각의 평균\n",
    "xbar = np.mean(x)\n",
    "ybar = np.mean(y)\n",
    "# 공식에 따라\n",
    "Sxx =((x-xbar)**2).sum()\n",
    "Sxy=((x-xbar)*(y-ybar)).sum() \n",
    "Syy=((y-ybar)**2).sum() \n",
    "\n",
    "r  = Sxy / (math.sqrt(Sxx) * math.sqrt(Syy) )\n",
    "print(\"\")\n",
    "print(\"표본 상관계수, r =\" ,round(r,5))\n",
    "\n",
    "\n",
    "print(\"--------------\")\n",
    "print(\"--------------\")\n",
    "\n",
    "\n",
    "\n",
    "## 최소제곱추정량 공식을 적용한다.\n",
    "\n",
    "b1 = np.sum( ((x-xbar)*(y-ybar)) / np.sum((x-xbar)*(x-xbar)))\n",
    "b0 = ybar - b1*xbar\n",
    "\n",
    "print(\"\")\n",
    "print(\"y=\",round(b1,3),\"x +\",round(b0,3))\n",
    "print(\"\")\n",
    "print(\"\")\n",
    "\n",
    "avg_y= ybar # ybar\n",
    "array_reg = x*b1+b0\n",
    "array_y = y\n",
    "SSR =((array_reg-avg_y)**2).sum()\n",
    "SSE =((array_y-array_reg)**2).sum()      #Syy - b1*Sxy\n",
    "SST =SSR+SSE\n",
    "MSR = SSR / 1\n",
    "MSE = SSE / ( n-2 )\n",
    "\n",
    "print(\"SST\",round(SST,3))\n",
    "print(\"SSR\",round(SSR,3))\n",
    "print(\"SSE\",round(SSE,3))\n",
    "print(\"MSE\",round(MSE,3))\n",
    "print(\"R^2\",round(SSR/SST,3))\n",
    "print(\"---------------------------------------------------------------\")\n",
    "print(\"요인     |     제곱합      |      자유도    |     평균제곱   |     F값\")\n",
    "print(\"---------------------------------------------------------------\")\n",
    "print(\"회귀     |\",round(SSR,5),\"   |     \",1,\"         | \",round(MSR,5),\"|\",round((MSR/MSE) ,4))\n",
    "print(\"---------------------------------------------------------------\")\n",
    "print(\"잔차     |\",round(SSE,5),\"     |     \",n-2,\"         | \",round(MSE,5),\"   |\")\n",
    "print(\"---------------------------------------------------------------\")\n",
    "print(\"계      |\",round(SST,5),\"      |     \",n-1,\"         | \")\n",
    "print(\"---------------------------------------------------------------\")\n",
    "\n",
    "\n",
    "#################################################################################################\n",
    "# 신뢰구간 계산용\n",
    "a = 1-(0.05/2)\n",
    "df = n-2    # 자유도 \n",
    "ts = st.t.ppf(a,df)\n",
    "# print(\"t 기준:\",ts)\n",
    "\n",
    "s = math.sqrt(MSE)\n",
    "b1d =b1 - ((s*ts)/ math.sqrt(Sxx))\n",
    "b1u = b1 + ((s*ts)/ math.sqrt(Sxx))  # upper\n",
    "\n",
    "print(\"기울기의 95% 신뢰도 구간:\")\n",
    "print(round(b1d,4),\",\",round(b1u,4))\n",
    "\n",
    "xd= (x**2).sum()\n",
    "b0d = b0 - ((s*ts*math.sqrt(xd))/ math.sqrt(n*Sxx))\n",
    "b0u = b0 + ((s*ts*math.sqrt(xd))/ math.sqrt(n*Sxx))\n",
    "\n",
    "print(\"절편의 95% 신뢰도 구간:\")\n",
    "print(round(b0d,4),\",\",round(b0u,4))\n",
    "#################################################################################################\n",
    "\n",
    "print(\"\")\n",
    "print(\"F 검정\")\n",
    "a = 1-(0.05) #F 검정   = 단측  \n",
    "f_a = st.f.ppf(a,1,n-2)\n",
    "print(\"F값 기각역 \",round(f_a,3))\n",
    "\n",
    "if round((MSR/MSE) ,4) > f_a:\n",
    "    print(\"기울기가 0이 아니다 회귀 직선이 유의하다, 귀무 가설 기각\")\n",
    "else : \n",
    "    print(\"기울기가 0이  , 귀무 가설 기각 x\")\n",
    "print(\"\")\n",
    "\n",
    "\n",
    "\n",
    "print(\"하단부 T 검정----\")\n",
    "\n",
    "# 추론 하고자 하는 절편 B0 = 0\n",
    "B0 = 0\n",
    "Tb0 =float(b0-B0)/float(math.sqrt(float(MSE)*( float(1/n) + (float(xbar**2 ) / float(Sxx)   ))))\n",
    "print(\"검정 통계 절편 B0 :\",round(Tb0))\n",
    "\n",
    "\n",
    "# 추론 하고자 하는 기울기 B1 = 0\n",
    "B1 = 0\n",
    "Tb1 = round((b1-B1)/math.sqrt(MSE/Sxx),4)\n",
    "print(\"검정 통계 기울기 B1 :\",Tb1)\n",
    "print(\"기울기 t-test 검정통계량 관측값\",(round((b1-B0)/math.sqrt(MSE/Sxx),4)))\n",
    "\n",
    "\n",
    "print(\"   \")\n",
    "print(\"   \")\n",
    "# t 검정 계산용\n",
    "a = 1-(0.05/2)\n",
    "df = n-2    # 자유도 \n",
    "ts = st.t.ppf(a,df)\n",
    "print(\"기각역 \",round(ts,4))\n",
    "\n",
    "if abs(Tb1) > ts:\n",
    "    print(\"H0 기각 , 기울기 0이 아님\")\n",
    "else:\n",
    "    print(\"H0 기각 x , 기울기 0 이다\")\n",
    "    \n",
    "print(\" \")\n",
    "\n",
    "a = 1-(0.05/2)\n",
    "df = n-2    # 자유도 \n",
    "ts = st.t.ppf(a,df)\n",
    "print(\"기각역 \",round(ts,4))\n",
    "\n",
    "if abs(Tb0) > ts:\n",
    "    print(\"H0 기각 , 절편 0이 아님\")\n",
    "else:\n",
    "    print(\"H0 기각 x , 절편 0 이다\")\n",
    "    \n",
    "    \n",
    "\n",
    "# t_a  5% 유의 확률, 양측 검정을 이용한다.\n",
    "a = 1-(0.05/2) # 양쪽 검정시 유의 수준 -> 0.005\n",
    "df = int(n-2)    # 자유도 \n",
    "t_a = st.t.ppf(a,df)\n",
    "print(t_a)\n",
    "\n",
    "Gx = 75\n",
    "x_bar = x_sum / n\n",
    "\n",
    "    # = (x2_sum - n*(x_sum/n)**2)\n",
    "print(\" x=20일 때 Y의 95% 신뢰구간은 다음과 같다.\")\n",
    "down = (b0 + b1 * Gx) - t_a * math.sqrt(MSE * ( (1/n)+ ( (Gx - x_bar)**2)/(Sxx)))\n",
    "up = (b0 + b1 * Gx) + t_a * math.sqrt(MSE * ( (1/n)+ ( (Gx - x_bar)**2)/(Sxx)))\n",
    "\n",
    "print(round(down,4),round(up,4))"
   ]
  },
  {
   "cell_type": "code",
   "execution_count": 146,
   "id": "9159ff07",
   "metadata": {
    "ExecuteTime": {
     "end_time": "2021-12-09T07:00:25.427666Z",
     "start_time": "2021-12-09T07:00:25.406944Z"
    }
   },
   "outputs": [
    {
     "data": {
      "text/html": [
       "<table class=\"simpletable\">\n",
       "<caption>OLS Regression Results</caption>\n",
       "<tr>\n",
       "  <th>Dep. Variable:</th>         <td>period</td>      <th>  R-squared:         </th> <td>   0.708</td>\n",
       "</tr>\n",
       "<tr>\n",
       "  <th>Model:</th>                   <td>OLS</td>       <th>  Adj. R-squared:    </th> <td>   0.672</td>\n",
       "</tr>\n",
       "<tr>\n",
       "  <th>Method:</th>             <td>Least Squares</td>  <th>  F-statistic:       </th> <td>   19.41</td>\n",
       "</tr>\n",
       "<tr>\n",
       "  <th>Date:</th>             <td>Thu, 09 Dec 2021</td> <th>  Prob (F-statistic):</th>  <td>0.00227</td>\n",
       "</tr>\n",
       "<tr>\n",
       "  <th>Time:</th>                 <td>16:00:25</td>     <th>  Log-Likelihood:    </th> <td> -12.324</td>\n",
       "</tr>\n",
       "<tr>\n",
       "  <th>No. Observations:</th>      <td>    10</td>      <th>  AIC:               </th> <td>   28.65</td>\n",
       "</tr>\n",
       "<tr>\n",
       "  <th>Df Residuals:</th>          <td>     8</td>      <th>  BIC:               </th> <td>   29.25</td>\n",
       "</tr>\n",
       "<tr>\n",
       "  <th>Df Model:</th>              <td>     1</td>      <th>                     </th>     <td> </td>   \n",
       "</tr>\n",
       "<tr>\n",
       "  <th>Covariance Type:</th>      <td>nonrobust</td>    <th>                     </th>     <td> </td>   \n",
       "</tr>\n",
       "</table>\n",
       "<table class=\"simpletable\">\n",
       "<tr>\n",
       "      <td></td>         <th>coef</th>     <th>std err</th>      <th>t</th>      <th>P>|t|</th>  <th>[0.025</th>    <th>0.975]</th>  \n",
       "</tr>\n",
       "<tr>\n",
       "  <th>Intercept</th> <td>   28.9144</td> <td>    5.254</td> <td>    5.503</td> <td> 0.001</td> <td>   16.799</td> <td>   41.030</td>\n",
       "</tr>\n",
       "<tr>\n",
       "  <th>기울기b1</th>     <td>   -0.0015</td> <td>    0.000</td> <td>   -4.406</td> <td> 0.002</td> <td>   -0.002</td> <td>   -0.001</td>\n",
       "</tr>\n",
       "</table>\n",
       "<table class=\"simpletable\">\n",
       "<tr>\n",
       "  <th>Omnibus:</th>       <td> 1.598</td> <th>  Durbin-Watson:     </th> <td>   1.590</td>\n",
       "</tr>\n",
       "<tr>\n",
       "  <th>Prob(Omnibus):</th> <td> 0.450</td> <th>  Jarque-Bera (JB):  </th> <td>   0.613</td>\n",
       "</tr>\n",
       "<tr>\n",
       "  <th>Skew:</th>          <td>-0.601</td> <th>  Prob(JB):          </th> <td>   0.736</td>\n",
       "</tr>\n",
       "<tr>\n",
       "  <th>Kurtosis:</th>      <td> 2.836</td> <th>  Cond. No.          </th> <td>2.71e+05</td>\n",
       "</tr>\n",
       "</table><br/><br/>Notes:<br/>[1] Standard Errors assume that the covariance matrix of the errors is correctly specified.<br/>[2] The condition number is large, 2.71e+05. This might indicate that there are<br/>strong multicollinearity or other numerical problems."
      ],
      "text/plain": [
       "<class 'statsmodels.iolib.summary.Summary'>\n",
       "\"\"\"\n",
       "                            OLS Regression Results                            \n",
       "==============================================================================\n",
       "Dep. Variable:                 period   R-squared:                       0.708\n",
       "Model:                            OLS   Adj. R-squared:                  0.672\n",
       "Method:                 Least Squares   F-statistic:                     19.41\n",
       "Date:                Thu, 09 Dec 2021   Prob (F-statistic):            0.00227\n",
       "Time:                        16:00:25   Log-Likelihood:                -12.324\n",
       "No. Observations:                  10   AIC:                             28.65\n",
       "Df Residuals:                       8   BIC:                             29.25\n",
       "Df Model:                           1                                         \n",
       "Covariance Type:            nonrobust                                         \n",
       "==============================================================================\n",
       "                 coef    std err          t      P>|t|      [0.025      0.975]\n",
       "------------------------------------------------------------------------------\n",
       "Intercept     28.9144      5.254      5.503      0.001      16.799      41.030\n",
       "기울기b1         -0.0015      0.000     -4.406      0.002      -0.002      -0.001\n",
       "==============================================================================\n",
       "Omnibus:                        1.598   Durbin-Watson:                   1.590\n",
       "Prob(Omnibus):                  0.450   Jarque-Bera (JB):                0.613\n",
       "Skew:                          -0.601   Prob(JB):                        0.736\n",
       "Kurtosis:                       2.836   Cond. No.                     2.71e+05\n",
       "==============================================================================\n",
       "\n",
       "Notes:\n",
       "[1] Standard Errors assume that the covariance matrix of the errors is correctly specified.\n",
       "[2] The condition number is large, 2.71e+05. This might indicate that there are\n",
       "strong multicollinearity or other numerical problems.\n",
       "\"\"\""
      ]
     },
     "execution_count": 146,
     "metadata": {},
     "output_type": "execute_result"
    }
   ],
   "source": [
    "y =[4,4,4,5,5,6,7,7,8,8]\n",
    "x =[16200,15700,16800,15600,14500,14900,14600,14300,14200,14500]\n",
    "\n",
    "n = len(x)\n",
    "\n",
    "# x=[77,50,71,72,81,94,96,99,67]\n",
    "# y=[82,53,78,61,67,85,99,97,68]\n",
    "\n",
    "smoke= pd.DataFrame({'기울기b1':x,'period':y})\n",
    "model = ols('period~기울기b1',smoke).fit()\n",
    "model.summary()\n",
    "# anova_lm(model)"
   ]
  },
  {
   "cell_type": "code",
   "execution_count": 140,
   "id": "2372bbe1",
   "metadata": {
    "ExecuteTime": {
     "end_time": "2021-12-09T06:47:37.780012Z",
     "start_time": "2021-12-09T06:47:37.776241Z"
    }
   },
   "outputs": [
    {
     "name": "stdout",
     "output_type": "stream",
     "text": [
      "2.3060041350333704\n"
     ]
    }
   ],
   "source": [
    "a = 1-(0.05/2) # 양쪽 검정시 유의 수준 -> 0.005\n",
    "df = int(n-2)    # 자유도 \n",
    "t_a = st.t.ppf(a,df)\n",
    "print(t_a)\n",
    "\n",
    "#if abs(T) > ts :\n",
    " #   print(\"결론 : H0 기각 O 상관 관계 존재\")\n",
    "#else:\n",
    " #   print(\"결론 : H0 기각 x ,상관 관계  없다 \")"
   ]
  },
  {
   "cell_type": "code",
   "execution_count": 104,
   "id": "b4ca3d51",
   "metadata": {
    "ExecuteTime": {
     "end_time": "2021-12-09T05:10:25.005140Z",
     "start_time": "2021-12-09T05:10:24.995668Z"
    }
   },
   "outputs": [
    {
     "name": "stdout",
     "output_type": "stream",
     "text": [
      "기울기 추정 b1: 0.5625\n",
      "절편 추정값 b0: 4.5625\n",
      "SST 83.2\n",
      "SSR 50.625\n",
      "SSE 32.575\n",
      "MSE 1.81\n",
      "2.10092204024096\n",
      " x=20일 때 Y의 95% 신뢰구간은 다음과 같다.\n",
      "14.528949750641083\n",
      "17.096050249358917\n"
     ]
    }
   ],
   "source": [
    "# 주어진 값들을 실수형으로 전환                              x =20 일때  #. Given x = 20 \n",
    "n = 20.0\n",
    "x_sum = 300.0\n",
    "y_sum = 260.0\n",
    "x2_sum = 4660.0\n",
    "y2_sum = 3463.2\n",
    "xy_sum = 3990.0\n",
    "\n",
    "b1 = (xy_sum - (x_sum*y_sum)/n) / (x2_sum - (x_sum**2)/n)\n",
    "b0 = (y_sum/n) -(b1*(x_sum/n))\n",
    "\n",
    "print(\"기울기 추정 b1:\",b1)\n",
    "print(\"절편 추정값 b0:\",b0)\n",
    "SST  = y2_sum - ((y_sum**2)/n)\n",
    "SSR = (xy_sum - (x_sum*y_sum)/n)**2 / (x2_sum-((x_sum)**2)/n)\n",
    "SSE = SST - SSR\n",
    "MSE = SSE / (n-2)\n",
    "\n",
    "print(\"SST\",round(SST,3))\n",
    "print(\"SSR\",round(SSR,3))\n",
    "print(\"SSE\",round(SSE,3))\n",
    "print(\"MSE\",round(MSE,3))\n",
    "\n",
    "\n",
    "\n",
    "# t_a  5% 유의 확률, 양측 검정을 이용한다.\n",
    "a = 1-(0.05/2) # 양쪽 검정시 유의 수준 -> 0.005\n",
    "df = int(n-2)    # 자유도 \n",
    "t_a = st.t.ppf(a,df)\n",
    "print(t_a)\n",
    "\n",
    "\n",
    "# 신뢰도 구간 C.I  x =20 일때  #. Given x = 20 \n",
    "\n",
    "Gx = 20\n",
    "x_bar = x_sum / n\n",
    "Sxx = x2_sum - (2 * x_sum*x_bar) + n*(x_bar)**2\n",
    "\n",
    "\n",
    "    # = (x2_sum - n*(x_sum/n)**2)\n",
    "print(\" x=20일 때 Y의 95% 신뢰구간은 다음과 같다.\")\n",
    "print ( (b0 + b1 * Gx) - t_a * math.sqrt(MSE * ( (1/n)+ ( (Gx - x_bar)**2)/(Sxx))))    \n",
    "print ( (b0 + b1 * Gx) + t_a * math.sqrt(MSE * ( (1/n)+ ( (Gx - x_bar)**2)/(Sxx))))"
   ]
  },
  {
   "cell_type": "code",
   "execution_count": null,
   "id": "4062900c",
   "metadata": {},
   "outputs": [],
   "source": []
  },
  {
   "cell_type": "code",
   "execution_count": null,
   "id": "a8d5730e",
   "metadata": {},
   "outputs": [],
   "source": []
  },
  {
   "cell_type": "code",
   "execution_count": null,
   "id": "22ebf473",
   "metadata": {},
   "outputs": [],
   "source": []
  },
  {
   "cell_type": "markdown",
   "id": "4d4e02e5",
   "metadata": {},
   "source": [
    "###   비교 같아?"
   ]
  },
  {
   "cell_type": "code",
   "execution_count": 149,
   "id": "7f50f447",
   "metadata": {
    "ExecuteTime": {
     "end_time": "2021-12-09T07:12:56.357151Z",
     "start_time": "2021-12-09T07:12:56.352158Z"
    }
   },
   "outputs": [
    {
     "data": {
      "text/plain": [
       "F_onewayResult(statistic=0.001951219512195122, pvalue=0.9662002117032984)"
      ]
     },
     "execution_count": 149,
     "metadata": {},
     "output_type": "execute_result"
    }
   ],
   "source": [
    "# 성능 차이 파악\n",
    "# A = [17,21,8,6]\n",
    "# B = [3,912,14]\n",
    "\n",
    "\n",
    "\n",
    "\n",
    "A = [87,80,60,60]\n",
    "B = [90,60,54,85]\n",
    "C = [84,68,48,79]\n",
    "\n",
    "st.f_oneway(A,B) \n",
    "\n",
    "\n",
    "#유의 확률 5%  ,1% \n",
    "# pvalue < 0.05 ==  기각역 속 O == 귀무가설 H0를 기각 . 차이가 있다.\n",
    "# pvalue > 0.05 ==  기각역 속 x == 귀무가설 H0를 기각 x. 차이가 없다\n"
   ]
  },
  {
   "cell_type": "code",
   "execution_count": null,
   "id": "0f9cba17",
   "metadata": {},
   "outputs": [],
   "source": []
  },
  {
   "cell_type": "code",
   "execution_count": 150,
   "id": "132c485e",
   "metadata": {
    "ExecuteTime": {
     "end_time": "2021-12-09T07:13:29.454846Z",
     "start_time": "2021-12-09T07:13:29.442490Z"
    }
   },
   "outputs": [
    {
     "name": "stdout",
     "output_type": "stream",
     "text": [
      "-----------------------------------------------------------------\n",
      "요인     |     제곱합      |      자유도    |     평균제곱   |     F값\n",
      "-----------------------------------------------------------------\n",
      "처리     | 14.0         |       2       |  7.0      |   0.0274\n",
      "-----------------------------------------------------------------\n",
      "잔차     | 2302.25          |         9     |  255.806      |    \n",
      "-----------------------------------------------------------------\n",
      "계      | 2316.25         |        11    | \n",
      "-----------------------------------------------------------------\n",
      "4.256\n",
      "기각 x, 차이가 없다\n"
     ]
    }
   ],
   "source": [
    "A = [87,80,60,60]\n",
    "B = [90,60,54,85]\n",
    "C = [84,68,48,79]\n",
    "#st.f_oneway(A,B,C) 내장 모듈\n",
    "\n",
    "all_data=A+B+C\n",
    "\n",
    "x = np.array(A)\n",
    "y = np.array(B)\n",
    "z = np.array(C)\n",
    "a_d = np.array(all_data)\n",
    "\n",
    "ybar_x = x.mean()\n",
    "ybar_y = y.mean()\n",
    "ybar_z = z.mean()\n",
    "\n",
    "ybar = a_d.mean()\n",
    "\n",
    "k = 3\n",
    "\n",
    "N = len(a_d)\n",
    "n_x = len(x)\n",
    "n_y = len(y)\n",
    "n_z = len(z)\n",
    "\n",
    "SSX = ((x - ybar_x)**2).sum()\n",
    "SSY = ((y - ybar_y)**2).sum()\n",
    "SSZ = ((z - ybar_z)**2).sum()\n",
    "\n",
    "SSE = SSX+SSY+SSZ\n",
    "SStr = n_x*((ybar_x - ybar)**2) + n_y*((ybar_y - ybar)**2) + n_z*((ybar_z - ybar)**2)\n",
    "SST = SStr+SSE\n",
    "MSE = SSE / (N-k)\n",
    "MStr = SStr / (k-1)\n",
    "f_0 = MStr / MSE\n",
    "\n",
    "print(\"-----------------------------------------------------------------\")\n",
    "print(\"요인     |     제곱합      |      자유도    |     평균제곱   |     F값\")\n",
    "print(\"-----------------------------------------------------------------\")\n",
    "print(\"처리     |\",round(SStr,3),\"        |      \",k-1,\"      | \",round(MStr,3),\"     |  \",round(f_0 ,4))\n",
    "print(\"-----------------------------------------------------------------\")\n",
    "print(\"잔차     |\",round(SSE,3),\"         |        \",N-k,\"    | \",round(MSE,3),\"     |    \")\n",
    "print(\"-----------------------------------------------------------------\")\n",
    "print(\"계      |\",round(SST,3),\"        |       \",N-1,\"   | \")\n",
    "print(\"-----------------------------------------------------------------\")\n",
    "\n",
    "\n",
    "\n",
    "a = 1-(0.05) # 단측 검정시 유의 수준 -> 0.005\n",
    "f_a = st.f.ppf(a,k-1,N-k)\n",
    "print(round(f_a,3))\n",
    "\n",
    "\n",
    "if f_a > round(f_0 ,4) :\n",
    "    print(\"기각 x, 차이가 없다\")\n",
    "else:\n",
    "    print(\"귀무 기각 , 차이가 있다\")"
   ]
  },
  {
   "cell_type": "code",
   "execution_count": null,
   "id": "70371a8d",
   "metadata": {},
   "outputs": [],
   "source": []
  },
  {
   "cell_type": "code",
   "execution_count": 109,
   "id": "7b1f8622",
   "metadata": {
    "ExecuteTime": {
     "end_time": "2021-12-09T05:17:23.590333Z",
     "start_time": "2021-12-09T05:17:23.576129Z"
    }
   },
   "outputs": [
    {
     "name": "stdout",
     "output_type": "stream",
     "text": [
      "-----------------------------------------------------------------\n",
      "요인     |     제곱합      |      자유도    |     평균제곱   |     F값\n",
      "-----------------------------------------------------------------\n",
      "처리     | 1840.742      |       3       |  613.581    |   6.1728\n",
      "-----------------------------------------------------------------\n",
      "잔차     | 1590.416      |      16       |  99.401     |    \n",
      "-----------------------------------------------------------------\n",
      "계      | 3431.158      |      19        | \n",
      "-----------------------------------------------------------------\n",
      " F 0.05(3,16): 4.066\n",
      "귀무 기각 , 차이가 있다\n"
     ]
    }
   ],
   "source": [
    "A1 = [46.8, 58.0, 51.4, 61.0, 45.8]\n",
    "A2 = [51.2, 62.4, 30.6, 46.0, 48.8]\n",
    "A3 = [50.2, 38.2, 46.8, 26.7, 22.7]\n",
    "A4 = [21.4, 22.1, 28.2, 42.7, 25.2]\n",
    "\n",
    "df = pd.DataFrame({'A1': A1,'A2':A2,'A3':A3,'A4':A4})\n",
    "df\n",
    "\n",
    "# 코드는 2 번문제와 매우 같다. A4의 인장강도에 관한것을 q 에 추가한다.\n",
    "all_data=A1+A2+A3+A4\n",
    "\n",
    "x = np.array(A1)\n",
    "y = np.array(A2)\n",
    "z = np.array(A3)\n",
    "q = np.array(A4)\n",
    "\n",
    "a_d = np.array(all_data)\n",
    "\n",
    "ybar_x = x.mean()\n",
    "ybar_y = y.mean()\n",
    "ybar_z = z.mean()\n",
    "ybar_q = q.mean()\n",
    "\n",
    "\n",
    "ybar = a_d.mean()\n",
    "\n",
    "k = 4\n",
    "\n",
    "n = len(a_d)\n",
    "n_x = len(x)\n",
    "n_y = len(y)\n",
    "n_z = len(z)\n",
    "n_q = len(q)\n",
    "\n",
    "SSX = ((x - ybar_x)**2).sum()\n",
    "SSY = ((y - ybar_y)**2).sum()\n",
    "SSZ = ((z - ybar_z)**2).sum()\n",
    "SSq = ((q - ybar_q)**2).sum()\n",
    "\n",
    "SSE = SSX+SSY+SSZ+SSq\n",
    "SStr = n_x*((ybar_x - ybar)**2) + n_y*((ybar_y - ybar)**2) + n_z*((ybar_z - ybar)**2)+ n_q*((ybar_q - ybar)**2)\n",
    "SST = SStr+SSE\n",
    "MSE = SSE / (n-k)\n",
    "MStr = SStr / (k-1)\n",
    "f_0 = MStr / MSE # 검정통계량\n",
    "\n",
    "\n",
    "print(\"-----------------------------------------------------------------\")\n",
    "print(\"요인     |     제곱합      |      자유도    |     평균제곱   |     F값\")\n",
    "print(\"-----------------------------------------------------------------\")\n",
    "print(\"처리     |\",round(SStr,3),\"     |      \",k-1,\"      | \",round(MStr,3),\"   |  \",round(f_0 ,4))\n",
    "print(\"-----------------------------------------------------------------\")\n",
    "print(\"잔차     |\",round(SSE,3),\"     |     \",n-k,\"      | \",round(MSE,3),\"    |    \")\n",
    "print(\"-----------------------------------------------------------------\")\n",
    "print(\"계      |\",round(SST,3),\"     |     \",n-1,\"       | \")\n",
    "print(\"-----------------------------------------------------------------\")\n",
    "\n",
    "a = 1-(0.05) # 단측 검정시 유의 수준 -> 0.005\n",
    "f_a = st.f.ppf(a,k-1,N-k)\n",
    "print(\" F 0.05(3,16):\",round(f_a,3))\n",
    "\n",
    "if f_a > round(f_0 ,4) :\n",
    "    print(\"기각 x, 차이가 없다\")\n",
    "else:\n",
    "    print(\"귀무 기각 , 차이가 있다\")"
   ]
  },
  {
   "cell_type": "code",
   "execution_count": 151,
   "id": "d0a93635",
   "metadata": {
    "ExecuteTime": {
     "end_time": "2021-12-09T07:16:31.608715Z",
     "start_time": "2021-12-09T07:16:31.605574Z"
    }
   },
   "outputs": [
    {
     "name": "stdout",
     "output_type": "stream",
     "text": [
      "0.6\n"
     ]
    }
   ],
   "source": [
    "print(120/ (math.sqrt(400)*math.sqrt(100)))"
   ]
  }
 ],
 "metadata": {
  "kernelspec": {
   "display_name": "Python 3",
   "language": "python",
   "name": "python3"
  },
  "language_info": {
   "codemirror_mode": {
    "name": "ipython",
    "version": 3
   },
   "file_extension": ".py",
   "mimetype": "text/x-python",
   "name": "python",
   "nbconvert_exporter": "python",
   "pygments_lexer": "ipython3",
   "version": "3.7.0"
  },
  "toc": {
   "base_numbering": 1,
   "nav_menu": {},
   "number_sections": true,
   "sideBar": true,
   "skip_h1_title": false,
   "title_cell": "Table of Contents",
   "title_sidebar": "Contents",
   "toc_cell": false,
   "toc_position": {},
   "toc_section_display": true,
   "toc_window_display": false
  },
  "varInspector": {
   "cols": {
    "lenName": 16,
    "lenType": 16,
    "lenVar": 40
   },
   "kernels_config": {
    "python": {
     "delete_cmd_postfix": "",
     "delete_cmd_prefix": "del ",
     "library": "var_list.py",
     "varRefreshCmd": "print(var_dic_list())"
    },
    "r": {
     "delete_cmd_postfix": ") ",
     "delete_cmd_prefix": "rm(",
     "library": "var_list.r",
     "varRefreshCmd": "cat(var_dic_list()) "
    }
   },
   "types_to_exclude": [
    "module",
    "function",
    "builtin_function_or_method",
    "instance",
    "_Feature"
   ],
   "window_display": false
  }
 },
 "nbformat": 4,
 "nbformat_minor": 5
}
