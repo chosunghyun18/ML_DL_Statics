{
 "cells": [
  {
   "cell_type": "code",
   "execution_count": 3,
   "id": "6ebaa828",
   "metadata": {},
   "outputs": [],
   "source": [
    "import pandas as pd\n",
    "import numpy as np\n",
    "import seaborn as sns"
   ]
  },
  {
   "cell_type": "markdown",
   "id": "2022975d",
   "metadata": {},
   "source": [
    "구구단 9단을 짝수번째만 출력하시오.\n",
    "\n",
    "<답안 예시>\n",
    "\n",
    "9x2=18 9x4=36 9x6=54 9x8=72"
   ]
  },
  {
   "cell_type": "code",
   "execution_count": 4,
   "id": "0f6b6a0f",
   "metadata": {},
   "outputs": [
    {
     "name": "stdout",
     "output_type": "stream",
     "text": [
      "9x2=18 9x4=36 9x6=54 9x8=72 "
     ]
    }
   ],
   "source": [
    "n =9\n",
    "for i in range (1,n+1):\n",
    "    if i %2 ==0 :\n",
    "        print(n,end=\"\")\n",
    "        print(\"x\",end=\"\")\n",
    "        print(i, end=\"\")\n",
    "        print(\"=\", end=\"\")\n",
    "        print(i*n,end=\" \")\n",
    "\n",
    "\n",
    "    #9x2=18\n"
   ]
  },
  {
   "cell_type": "markdown",
   "id": "db18757f",
   "metadata": {},
   "source": [
    "문제 2\n",
    "다음 데이터를 사용하여 각 문항에 답하시오."
   ]
  },
  {
   "cell_type": "code",
   "execution_count": 5,
   "id": "8a8ac0b9",
   "metadata": {},
   "outputs": [
    {
     "data": {
      "text/html": [
       "<div>\n",
       "<style scoped>\n",
       "    .dataframe tbody tr th:only-of-type {\n",
       "        vertical-align: middle;\n",
       "    }\n",
       "\n",
       "    .dataframe tbody tr th {\n",
       "        vertical-align: top;\n",
       "    }\n",
       "\n",
       "    .dataframe thead th {\n",
       "        text-align: right;\n",
       "    }\n",
       "</style>\n",
       "<table border=\"1\" class=\"dataframe\">\n",
       "  <thead>\n",
       "    <tr style=\"text-align: right;\">\n",
       "      <th></th>\n",
       "      <th>sepal_length</th>\n",
       "      <th>sepal_width</th>\n",
       "      <th>petal_length</th>\n",
       "      <th>petal_width</th>\n",
       "      <th>species</th>\n",
       "    </tr>\n",
       "  </thead>\n",
       "  <tbody>\n",
       "    <tr>\n",
       "      <th>0</th>\n",
       "      <td>5.1</td>\n",
       "      <td>3.5</td>\n",
       "      <td>1.4</td>\n",
       "      <td>0.2</td>\n",
       "      <td>setosa</td>\n",
       "    </tr>\n",
       "    <tr>\n",
       "      <th>1</th>\n",
       "      <td>4.9</td>\n",
       "      <td>3.0</td>\n",
       "      <td>1.4</td>\n",
       "      <td>0.2</td>\n",
       "      <td>setosa</td>\n",
       "    </tr>\n",
       "    <tr>\n",
       "      <th>2</th>\n",
       "      <td>4.7</td>\n",
       "      <td>3.2</td>\n",
       "      <td>1.3</td>\n",
       "      <td>0.2</td>\n",
       "      <td>setosa</td>\n",
       "    </tr>\n",
       "    <tr>\n",
       "      <th>3</th>\n",
       "      <td>4.6</td>\n",
       "      <td>3.1</td>\n",
       "      <td>1.5</td>\n",
       "      <td>0.2</td>\n",
       "      <td>setosa</td>\n",
       "    </tr>\n",
       "    <tr>\n",
       "      <th>4</th>\n",
       "      <td>5.0</td>\n",
       "      <td>3.6</td>\n",
       "      <td>1.4</td>\n",
       "      <td>0.2</td>\n",
       "      <td>setosa</td>\n",
       "    </tr>\n",
       "  </tbody>\n",
       "</table>\n",
       "</div>"
      ],
      "text/plain": [
       "   sepal_length  sepal_width  petal_length  petal_width species\n",
       "0           5.1          3.5           1.4          0.2  setosa\n",
       "1           4.9          3.0           1.4          0.2  setosa\n",
       "2           4.7          3.2           1.3          0.2  setosa\n",
       "3           4.6          3.1           1.5          0.2  setosa\n",
       "4           5.0          3.6           1.4          0.2  setosa"
      ]
     },
     "execution_count": 5,
     "metadata": {},
     "output_type": "execute_result"
    }
   ],
   "source": [
    "iris=sns.load_dataset('iris')\n",
    "iris.head()"
   ]
  },
  {
   "cell_type": "markdown",
   "id": "165f0102",
   "metadata": {},
   "source": [
    "문제 [2-1] (10점)\n",
    "iris의 species 열 값 분포를 확인하시오."
   ]
  },
  {
   "cell_type": "code",
   "execution_count": 6,
   "id": "fc3a7e45",
   "metadata": {},
   "outputs": [
    {
     "data": {
      "text/plain": [
       "count           150\n",
       "unique            3\n",
       "top       virginica\n",
       "freq             50\n",
       "Name: species, dtype: object"
      ]
     },
     "execution_count": 6,
     "metadata": {},
     "output_type": "execute_result"
    }
   ],
   "source": [
    "# 분포파악\n",
    "iris[\"species\"].value_counts()\n",
    "\n",
    "# 추가확인\n",
    "iris[\"species\"].describe()"
   ]
  },
  {
   "cell_type": "markdown",
   "id": "1dbba5e6",
   "metadata": {},
   "source": [
    "문제 [2-2] (10점)\n",
    "species 별로 각 변수의 최댓값을 구하시오."
   ]
  },
  {
   "cell_type": "code",
   "execution_count": 9,
   "id": "318c91b0",
   "metadata": {},
   "outputs": [
    {
     "name": "stdout",
     "output_type": "stream",
     "text": [
      "sepal_length       5.8\n",
      "sepal_width        4.4\n",
      "petal_length       1.9\n",
      "petal_width        0.6\n",
      "species         setosa\n",
      "dtype: object sepal_length           7.0\n",
      "sepal_width            3.4\n",
      "petal_length           5.1\n",
      "petal_width            1.8\n",
      "species         versicolor\n",
      "dtype: object sepal_length          7.9\n",
      "sepal_width           3.8\n",
      "petal_length          6.9\n",
      "petal_width           2.5\n",
      "species         virginica\n",
      "dtype: object\n"
     ]
    }
   ],
   "source": [
    "#species 별로 각 변수의 최댓값을 구하시오.\n",
    "\n",
    "iris_s=iris[iris[\"species\"] == 'setosa']\n",
    "iris_va=iris[iris[\"species\"] == 'virginica']\n",
    "iris_vr=iris[iris[\"species\"] == 'versicolor']\n",
    "\n",
    "print(iris_s.max(),iris_vr.max(),iris_va.max())"
   ]
  },
  {
   "cell_type": "markdown",
   "id": "123d04b6",
   "metadata": {},
   "source": [
    "문제 [2-3] (10점)\n",
    "iris의 species 열 값을 setosa는 1, 그 외의 값들은 0으로 변환하시오. (apply, lambda 사용)"
   ]
  },
  {
   "cell_type": "code",
   "execution_count": 10,
   "id": "530c0696",
   "metadata": {},
   "outputs": [
    {
     "data": {
      "text/plain": [
       "0    100\n",
       "1     50\n",
       "Name: species, dtype: int64"
      ]
     },
     "execution_count": 10,
     "metadata": {},
     "output_type": "execute_result"
    }
   ],
   "source": [
    "iris[\"species\"] = iris[\"species\"].apply(lambda x : 1 if x =='setosa' else 0)\n",
    "#확인\n",
    "iris[\"species\"].value_counts()"
   ]
  },
  {
   "cell_type": "markdown",
   "id": "470e856e",
   "metadata": {},
   "source": [
    "문제 3\n",
    "다음 데이터에 사용하여 각 문항에 따라 답하시오."
   ]
  },
  {
   "cell_type": "code",
   "execution_count": 11,
   "id": "ba5b85a6",
   "metadata": {},
   "outputs": [
    {
     "data": {
      "text/html": [
       "<div>\n",
       "<style scoped>\n",
       "    .dataframe tbody tr th:only-of-type {\n",
       "        vertical-align: middle;\n",
       "    }\n",
       "\n",
       "    .dataframe tbody tr th {\n",
       "        vertical-align: top;\n",
       "    }\n",
       "\n",
       "    .dataframe thead th {\n",
       "        text-align: right;\n",
       "    }\n",
       "</style>\n",
       "<table border=\"1\" class=\"dataframe\">\n",
       "  <thead>\n",
       "    <tr style=\"text-align: right;\">\n",
       "      <th></th>\n",
       "      <th>survived</th>\n",
       "      <th>pclass</th>\n",
       "      <th>sex</th>\n",
       "      <th>age</th>\n",
       "      <th>sibsp</th>\n",
       "      <th>parch</th>\n",
       "      <th>fare</th>\n",
       "      <th>embarked</th>\n",
       "      <th>class</th>\n",
       "      <th>who</th>\n",
       "      <th>adult_male</th>\n",
       "      <th>deck</th>\n",
       "      <th>embark_town</th>\n",
       "      <th>alive</th>\n",
       "      <th>alone</th>\n",
       "    </tr>\n",
       "  </thead>\n",
       "  <tbody>\n",
       "    <tr>\n",
       "      <th>0</th>\n",
       "      <td>0</td>\n",
       "      <td>3</td>\n",
       "      <td>male</td>\n",
       "      <td>22.0</td>\n",
       "      <td>1</td>\n",
       "      <td>0</td>\n",
       "      <td>7.2500</td>\n",
       "      <td>S</td>\n",
       "      <td>Third</td>\n",
       "      <td>man</td>\n",
       "      <td>True</td>\n",
       "      <td>NaN</td>\n",
       "      <td>Southampton</td>\n",
       "      <td>no</td>\n",
       "      <td>False</td>\n",
       "    </tr>\n",
       "    <tr>\n",
       "      <th>1</th>\n",
       "      <td>1</td>\n",
       "      <td>1</td>\n",
       "      <td>female</td>\n",
       "      <td>38.0</td>\n",
       "      <td>1</td>\n",
       "      <td>0</td>\n",
       "      <td>71.2833</td>\n",
       "      <td>C</td>\n",
       "      <td>First</td>\n",
       "      <td>woman</td>\n",
       "      <td>False</td>\n",
       "      <td>C</td>\n",
       "      <td>Cherbourg</td>\n",
       "      <td>yes</td>\n",
       "      <td>False</td>\n",
       "    </tr>\n",
       "    <tr>\n",
       "      <th>2</th>\n",
       "      <td>1</td>\n",
       "      <td>3</td>\n",
       "      <td>female</td>\n",
       "      <td>26.0</td>\n",
       "      <td>0</td>\n",
       "      <td>0</td>\n",
       "      <td>7.9250</td>\n",
       "      <td>S</td>\n",
       "      <td>Third</td>\n",
       "      <td>woman</td>\n",
       "      <td>False</td>\n",
       "      <td>NaN</td>\n",
       "      <td>Southampton</td>\n",
       "      <td>yes</td>\n",
       "      <td>True</td>\n",
       "    </tr>\n",
       "    <tr>\n",
       "      <th>3</th>\n",
       "      <td>1</td>\n",
       "      <td>1</td>\n",
       "      <td>female</td>\n",
       "      <td>35.0</td>\n",
       "      <td>1</td>\n",
       "      <td>0</td>\n",
       "      <td>53.1000</td>\n",
       "      <td>S</td>\n",
       "      <td>First</td>\n",
       "      <td>woman</td>\n",
       "      <td>False</td>\n",
       "      <td>C</td>\n",
       "      <td>Southampton</td>\n",
       "      <td>yes</td>\n",
       "      <td>False</td>\n",
       "    </tr>\n",
       "    <tr>\n",
       "      <th>4</th>\n",
       "      <td>0</td>\n",
       "      <td>3</td>\n",
       "      <td>male</td>\n",
       "      <td>35.0</td>\n",
       "      <td>0</td>\n",
       "      <td>0</td>\n",
       "      <td>8.0500</td>\n",
       "      <td>S</td>\n",
       "      <td>Third</td>\n",
       "      <td>man</td>\n",
       "      <td>True</td>\n",
       "      <td>NaN</td>\n",
       "      <td>Southampton</td>\n",
       "      <td>no</td>\n",
       "      <td>True</td>\n",
       "    </tr>\n",
       "  </tbody>\n",
       "</table>\n",
       "</div>"
      ],
      "text/plain": [
       "   survived  pclass     sex   age  sibsp  parch     fare embarked  class  \\\n",
       "0         0       3    male  22.0      1      0   7.2500        S  Third   \n",
       "1         1       1  female  38.0      1      0  71.2833        C  First   \n",
       "2         1       3  female  26.0      0      0   7.9250        S  Third   \n",
       "3         1       1  female  35.0      1      0  53.1000        S  First   \n",
       "4         0       3    male  35.0      0      0   8.0500        S  Third   \n",
       "\n",
       "     who  adult_male deck  embark_town alive  alone  \n",
       "0    man        True  NaN  Southampton    no  False  \n",
       "1  woman       False    C    Cherbourg   yes  False  \n",
       "2  woman       False  NaN  Southampton   yes   True  \n",
       "3  woman       False    C  Southampton   yes  False  \n",
       "4    man        True  NaN  Southampton    no   True  "
      ]
     },
     "execution_count": 11,
     "metadata": {},
     "output_type": "execute_result"
    }
   ],
   "source": [
    "titanic=sns.load_dataset('titanic')\n",
    "titanic.head()"
   ]
  },
  {
   "cell_type": "markdown",
   "id": "5dcf13de",
   "metadata": {},
   "source": [
    "문제 [3-1] (10점)\n",
    "titanic에서 pclass, age, sibsp, fare, class 열만 뽑아 df에 저장하시오."
   ]
  },
  {
   "cell_type": "code",
   "execution_count": 12,
   "id": "006a425a",
   "metadata": {},
   "outputs": [],
   "source": [
    "df =titanic[   ['pclass', 'age', 'sibsp', 'fare','class']]"
   ]
  },
  {
   "cell_type": "markdown",
   "id": "733c1d25",
   "metadata": {},
   "source": [
    "문제 [3-2] (5점)\n",
    "df의 열 별 결측치 개수를 구하시오."
   ]
  },
  {
   "cell_type": "code",
   "execution_count": 13,
   "id": "dae96f5f",
   "metadata": {},
   "outputs": [
    {
     "data": {
      "text/plain": [
       "pclass      0\n",
       "age       177\n",
       "sibsp       0\n",
       "fare        0\n",
       "class       0\n",
       "dtype: int64"
      ]
     },
     "execution_count": 13,
     "metadata": {},
     "output_type": "execute_result"
    }
   ],
   "source": [
    "df.isnull().sum()"
   ]
  },
  {
   "cell_type": "markdown",
   "id": "de63642c",
   "metadata": {},
   "source": [
    "문제 [3-3] (10점)\n",
    "df에 결측치가 있다면, 해당 열의 평균값으로 채우시오."
   ]
  },
  {
   "cell_type": "code",
   "execution_count": 15,
   "id": "9fb19955",
   "metadata": {},
   "outputs": [
    {
     "data": {
      "text/plain": [
       "0      22.000000\n",
       "1      38.000000\n",
       "2      26.000000\n",
       "3      35.000000\n",
       "4      35.000000\n",
       "         ...    \n",
       "886    27.000000\n",
       "887    19.000000\n",
       "888    29.699118\n",
       "889    26.000000\n",
       "890    32.000000\n",
       "Name: age, Length: 891, dtype: float64"
      ]
     },
     "execution_count": 15,
     "metadata": {},
     "output_type": "execute_result"
    }
   ],
   "source": [
    "mean=df.age.mean()\n",
    "df.age.fillna(mean)"
   ]
  },
  {
   "cell_type": "markdown",
   "id": "af3babdf",
   "metadata": {},
   "source": [
    "문제 [3-4] (5점)\n",
    "survived.csv를 불러와 survived에 저장하시오.\n"
   ]
  },
  {
   "cell_type": "code",
   "execution_count": 16,
   "id": "eea81bec",
   "metadata": {},
   "outputs": [],
   "source": [
    "survived = pd.read_csv('survived.csv')"
   ]
  },
  {
   "cell_type": "markdown",
   "id": "90565cf6",
   "metadata": {},
   "source": [
    "문제 [3-5] (10점)\n",
    "기존에 생성한 df와 survived 데이터프레임을 병합해 df2에 저장하시오"
   ]
  },
  {
   "cell_type": "code",
   "execution_count": 17,
   "id": "7cde6ee6",
   "metadata": {},
   "outputs": [],
   "source": [
    "df2 = pd.concat([df,survived],axis=1)"
   ]
  },
  {
   "cell_type": "markdown",
   "id": "ba83af10",
   "metadata": {},
   "source": [
    "문제 [3-6] (20점)\n",
    "df2 데이터에서 각 class 별 생존율을 구하시오"
   ]
  },
  {
   "cell_type": "code",
   "execution_count": 19,
   "id": "be7fd206",
   "metadata": {},
   "outputs": [
    {
     "name": "stdout",
     "output_type": "stream",
     "text": [
      "0.47282608695652173 0.6296296296296297 0.24236252545824846\n"
     ]
    }
   ],
   "source": [
    "t = df2.loc[(df2['class'] == \"Third\")]\n",
    "f = df2.loc[(df2['class'] == \"Second\")]\n",
    "s = df2.loc[(df2['class'] == \"First\")]\n",
    "def survived(seriess):\n",
    "    s =0\n",
    "    d =0\n",
    "    for x in seriess :\n",
    "        if x == 1:\n",
    "            s+=1\n",
    "        else: d+=1\n",
    "\n",
    "    result= s/(s+d)\n",
    "    return result\n",
    "print(survived(f.survived),survived(s.survived),survived(t.survived))"
   ]
  }
 ],
 "metadata": {
  "kernelspec": {
   "display_name": "Python 3",
   "language": "python",
   "name": "python3"
  },
  "language_info": {
   "codemirror_mode": {
    "name": "ipython",
    "version": 3
   },
   "file_extension": ".py",
   "mimetype": "text/x-python",
   "name": "python",
   "nbconvert_exporter": "python",
   "pygments_lexer": "ipython3",
   "version": "3.7.6"
  }
 },
 "nbformat": 4,
 "nbformat_minor": 5
}
