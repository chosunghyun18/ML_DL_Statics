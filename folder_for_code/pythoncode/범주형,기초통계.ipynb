{
 "cells": [
  {
   "cell_type": "markdown",
   "id": "dc64316c",
   "metadata": {},
   "source": [
    "### 1.\n",
    "멘델 이론에 의하면 노란색 완두와 녹색 완두를 교배시키면 노란색과 녹색의 비가 3:1 이 된다고 한다. \n",
    "아래 표를 통해서 교배실험 결과가 멘델 법칙을 잘 따르고 있는지 유의수준 5% 하에서 검정하시오 \n",
    "\n",
    "\n",
    "\n",
    "|노란색 완두 |녹색 완두|\n",
    "|:---:|:---:|\n",
    "|306|104|"
   ]
  },
  {
   "cell_type": "code",
   "execution_count": null,
   "id": "807d4566",
   "metadata": {},
   "outputs": [],
   "source": []
  },
  {
   "cell_type": "markdown",
   "id": "881519a2",
   "metadata": {},
   "source": [
    "자료 분석:\n",
    "교배실험의 결과인 완두들을 두가지 색상의 완두로 나누는 범주형자료이다 멘델 이론에 맞는지 적합도 검정이 필요하다.\n",
    "\n",
    "귀무가설 H0 :교배실험 결과 노란 색상, 초록 색상의 완두 비가 멘델의 이론에 따라 3:1의 비를 따른다 . \n",
    "\n",
    "대립가설 H1:노란 색상 초록 색상의 완두비가 완두 비가 3:1 을 따르지 않는다. "
   ]
  },
  {
   "cell_type": "markdown",
   "id": "bb0957f3",
   "metadata": {},
   "source": [
    "### 2.\n",
    "\n",
    "어느 교양 수업에 들어오는 학생들을 대상으로 운동(축구)을 잘하는 것과 학업성적이 \n",
    "관련이 있는지에 대한 검정을 하고자 한다. 여기서, 성적은 총학점을 상, 중, 하로 나누었다.\n",
    "유의수준 5% 하에서 검정하시오\n",
    "\n",
    "|성적\\운동|상|중|하|계|\n",
    "|:---:|:---:|:---:|:---:|:---:|\n",
    "|상|3|2|5|10|\n",
    "|중|26|10|4|40|\n",
    "|하|5|20|5|30|\n",
    "|계|34|32|14|80|"
   ]
  },
  {
   "cell_type": "markdown",
   "id": "302aa40d",
   "metadata": {},
   "source": []
  },
  {
   "cell_type": "markdown",
   "id": "9c0bb89f",
   "metadata": {},
   "source": [
    "### 3.\n",
    "어느학과 3학년 학생들의 과대표에 대한만족도를 조사해보았다. 남녀 간의 만족도에 차이가 있는지를 유의수준 1% 하에서 검정하시오\n",
    "\n",
    "\n",
    "|성별 / 만족도|만족|보통|불만족|\n",
    "|:---:|:---:|:---:|:---:|\n",
    "|남|15|4|1|\n",
    "|여|10|8|3|\n",
    "\n"
   ]
  },
  {
   "cell_type": "code",
   "execution_count": null,
   "id": "611288ba",
   "metadata": {},
   "outputs": [],
   "source": []
  },
  {
   "cell_type": "code",
   "execution_count": null,
   "id": "75319d2e",
   "metadata": {},
   "outputs": [],
   "source": []
  }
 ],
 "metadata": {
  "kernelspec": {
   "display_name": "Python 3",
   "language": "python",
   "name": "python3"
  },
  "language_info": {
   "codemirror_mode": {
    "name": "ipython",
    "version": 3
   },
   "file_extension": ".py",
   "mimetype": "text/x-python",
   "name": "python",
   "nbconvert_exporter": "python",
   "pygments_lexer": "ipython3",
   "version": "3.7.6"
  }
 },
 "nbformat": 4,
 "nbformat_minor": 5
}
