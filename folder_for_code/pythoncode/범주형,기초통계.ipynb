{
 "cells": [
  {
   "cell_type": "markdown",
   "id": "f15fbbf7",
   "metadata": {},
   "source": [
    "### 1.\n",
    "멘델 이론에 의하면 노란색 완두와 녹색 완두를 교배시키면 노란색과 녹색의 비가 3:1 이 된다고 한다. \n",
    "아래 표를 통해서 교배실험 결과가 멘델 법칙을 잘 따르고 있는지 유의수준 5% 하에서 검정하시오 \n",
    "\n",
    "\n",
    "\n",
    "|노란색 완두 |녹색 완두|\n",
    "|:---:|:---:|\n",
    "|306|104|"
   ]
  },
  {
   "cell_type": "code",
   "execution_count": 3,
   "id": "1217867d",
   "metadata": {},
   "outputs": [],
   "source": [
    "import pandas as pd\n",
    "import numpy as np\n",
    "import warnings\n",
    "import seaborn as sns\n",
    "warnings.filterwarnings(action='ignore')"
   ]
  },
  {
   "cell_type": "code",
   "execution_count": 4,
   "id": "7289555a",
   "metadata": {},
   "outputs": [
    {
     "data": {
      "text/html": [
       "<div>\n",
       "<style scoped>\n",
       "    .dataframe tbody tr th:only-of-type {\n",
       "        vertical-align: middle;\n",
       "    }\n",
       "\n",
       "    .dataframe tbody tr th {\n",
       "        vertical-align: top;\n",
       "    }\n",
       "\n",
       "    .dataframe thead th {\n",
       "        text-align: right;\n",
       "    }\n",
       "</style>\n",
       "<table border=\"1\" class=\"dataframe\">\n",
       "  <thead>\n",
       "    <tr style=\"text-align: right;\">\n",
       "      <th></th>\n",
       "      <th>본</th>\n",
       "      <th>이론</th>\n",
       "    </tr>\n",
       "  </thead>\n",
       "  <tbody>\n",
       "    <tr>\n",
       "      <th>yellow</th>\n",
       "      <td>306</td>\n",
       "      <td>300</td>\n",
       "    </tr>\n",
       "    <tr>\n",
       "      <th>green</th>\n",
       "      <td>104</td>\n",
       "      <td>100</td>\n",
       "    </tr>\n",
       "  </tbody>\n",
       "</table>\n",
       "</div>"
      ],
      "text/plain": [
       "          본   이론\n",
       "yellow  306  300\n",
       "green   104  100"
      ]
     },
     "execution_count": 4,
     "metadata": {},
     "output_type": "execute_result"
    }
   ],
   "source": [
    "obs = pd.DataFrame({'본':[306,104],'이론':[300,100]})\n",
    "obs.index = ['yellow','green']\n",
    "obs.head()"
   ]
  },
  {
   "cell_type": "markdown",
   "id": "85e17c18",
   "metadata": {},
   "source": [
    "자료 분석:\n",
    "교배실험의 결과인 완두들을 두가지 색상의 완두로 나누는 범주형자료이다 멘델 이론에 맞는지 적합도 검정이 필요하다. /독립성 검정을 이용한다.\n",
    "\n",
    "귀무가설 H0 :교배실험 결과 노란 색상, 초록 색상의 완두 비가 멘델의 이론에 따라 3:1의 비를 따른다 . \n",
    "\n",
    "대립가설 H1:노란 색상 초록 색상의 완두비가 완두 비가 3:1 을 따르지 않는다. "
   ]
  },
  {
   "cell_type": "code",
   "execution_count": 5,
   "id": "0e3c67f7",
   "metadata": {},
   "outputs": [
    {
     "name": "stdout",
     "output_type": "stream",
     "text": [
      "Chi square: 0.014382715172521963\n",
      "p-value: 0.9045402168203751\n"
     ]
    }
   ],
   "source": [
    "# 멘델의 이론에 따라 노란색과 초록색 완두의 비가 3:1 이므로 교배후 나올 노란색 완두의 비는 3/4 이다.\n",
    "# one sample. chisquared test\n",
    "from scipy.stats import chi2_contingency\n",
    "\n",
    "chiresult = chi2_contingency(obs,correction = False)\n",
    "print('Chi square: {}'.format(chiresult[0]))\n",
    "print('p-value: {}'.format(chiresult[1]))"
   ]
  },
  {
   "cell_type": "markdown",
   "id": "389ef794",
   "metadata": {},
   "source": [
    "### 2.\n",
    "\n",
    "어느 교양 수업에 들어오는 학생들을 대상으로 운동(축구)을 잘하는 것과 학업성적이 \n",
    "관련이 있는지에 대한 검정을 하고자 한다. 여기서, 성적은 총학점을 상, 중, 하로 나누었다.\n",
    "유의수준 5% 하에서 검정하시오\n",
    "\n",
    "|성적\\운동|상|중|하|계|\n",
    "|:---:|:---:|:---:|:---:|:---:|\n",
    "|상|3|2|5|10|\n",
    "|중|26|10|4|40|\n",
    "|하|5|20|5|30|\n",
    "|계|34|32|14|80|"
   ]
  },
  {
   "cell_type": "code",
   "execution_count": 66,
   "id": "16c5f20e",
   "metadata": {},
   "outputs": [
    {
     "data": {
      "text/html": [
       "<div>\n",
       "<style scoped>\n",
       "    .dataframe tbody tr th:only-of-type {\n",
       "        vertical-align: middle;\n",
       "    }\n",
       "\n",
       "    .dataframe tbody tr th {\n",
       "        vertical-align: top;\n",
       "    }\n",
       "\n",
       "    .dataframe thead th {\n",
       "        text-align: right;\n",
       "    }\n",
       "</style>\n",
       "<table border=\"1\" class=\"dataframe\">\n",
       "  <thead>\n",
       "    <tr style=\"text-align: right;\">\n",
       "      <th></th>\n",
       "      <th>ah</th>\n",
       "      <th>am</th>\n",
       "      <th>al</th>\n",
       "    </tr>\n",
       "  </thead>\n",
       "  <tbody>\n",
       "    <tr>\n",
       "      <th>gh</th>\n",
       "      <td>3</td>\n",
       "      <td>2</td>\n",
       "      <td>5</td>\n",
       "    </tr>\n",
       "    <tr>\n",
       "      <th>gm</th>\n",
       "      <td>26</td>\n",
       "      <td>10</td>\n",
       "      <td>4</td>\n",
       "    </tr>\n",
       "    <tr>\n",
       "      <th>gl</th>\n",
       "      <td>5</td>\n",
       "      <td>20</td>\n",
       "      <td>5</td>\n",
       "    </tr>\n",
       "  </tbody>\n",
       "</table>\n",
       "</div>"
      ],
      "text/plain": [
       "    ah  am  al\n",
       "gh   3   2   5\n",
       "gm  26  10   4\n",
       "gl   5  20   5"
      ]
     },
     "execution_count": 66,
     "metadata": {},
     "output_type": "execute_result"
    }
   ],
   "source": [
    "#cross tab 없이\n",
    "gh,gm,gl = [3,2,5] , [26,10,4] ,[5,20,5]\n",
    "student =pd.DataFrame([gh,gm,gl], columns = ['ah','am','al'] , index =['gh','gm','gl'] )\n",
    "student"
   ]
  },
  {
   "cell_type": "markdown",
   "id": "74cdf476",
   "metadata": {},
   "source": [
    "자료 분석: 3개의 범주를 가진 두가지의 특성(학업성적, 운동 성적)이 서로 영향이 있는지 독립성 검정을 한다.\n",
    "\n",
    "귀무가설 H0 :운동을 잘하는것과 학업성적은 관련성이 없다(독립이다)\n",
    "\n",
    "대립가설 H1:운동을 잘하는 것과 학업성적릐 관련성이 있다(독립이 아니다)"
   ]
  },
  {
   "cell_type": "code",
   "execution_count": 65,
   "id": "78fa5613",
   "metadata": {},
   "outputs": [
    {
     "name": "stdout",
     "output_type": "stream",
     "text": [
      "Test Statistic: 25.759803921568626\n",
      "p-value: 3.537659661329406e-05\n",
      "Degree of Freedom: 4\n",
      "[[ 4.25  4.    1.75]\n",
      " [17.   16.    7.  ]\n",
      " [12.75 12.    5.25]]\n"
     ]
    }
   ],
   "source": [
    "chi2, p, dof, expected = chi2_contingency([gh,gm,gl])\n",
    "\n",
    "msg = 'Test Statistic: {}\\np-value: {}\\nDegree of Freedom: {}'\n",
    "print(msg.format(chi2, p, dof))\n",
    "print(expected)"
   ]
  },
  {
   "cell_type": "code",
   "execution_count": 51,
   "id": "4eaebdf5",
   "metadata": {},
   "outputs": [
    {
     "data": {
      "text/html": [
       "<div>\n",
       "<style scoped>\n",
       "    .dataframe tbody tr th:only-of-type {\n",
       "        vertical-align: middle;\n",
       "    }\n",
       "\n",
       "    .dataframe tbody tr th {\n",
       "        vertical-align: top;\n",
       "    }\n",
       "\n",
       "    .dataframe thead th {\n",
       "        text-align: right;\n",
       "    }\n",
       "</style>\n",
       "<table border=\"1\" class=\"dataframe\">\n",
       "  <thead>\n",
       "    <tr style=\"text-align: right;\">\n",
       "      <th>col_0</th>\n",
       "      <th>gh</th>\n",
       "      <th>gl</th>\n",
       "      <th>gm</th>\n",
       "    </tr>\n",
       "    <tr>\n",
       "      <th>row_0</th>\n",
       "      <th></th>\n",
       "      <th></th>\n",
       "      <th></th>\n",
       "    </tr>\n",
       "  </thead>\n",
       "  <tbody>\n",
       "    <tr>\n",
       "      <th>ah</th>\n",
       "      <td>1</td>\n",
       "      <td>0</td>\n",
       "      <td>0</td>\n",
       "    </tr>\n",
       "    <tr>\n",
       "      <th>al</th>\n",
       "      <td>0</td>\n",
       "      <td>1</td>\n",
       "      <td>0</td>\n",
       "    </tr>\n",
       "    <tr>\n",
       "      <th>am</th>\n",
       "      <td>0</td>\n",
       "      <td>0</td>\n",
       "      <td>1</td>\n",
       "    </tr>\n",
       "  </tbody>\n",
       "</table>\n",
       "</div>"
      ],
      "text/plain": [
       "col_0  gh  gl  gm\n",
       "row_0            \n",
       "ah      1   0   0\n",
       "al      0   1   0\n",
       "am      0   0   1"
      ]
     },
     "execution_count": 51,
     "metadata": {},
     "output_type": "execute_result"
    }
   ],
   "source": [
    "data = pd.crosstab(student.columns,student.index)\n",
    "data"
   ]
  },
  {
   "cell_type": "code",
   "execution_count": 53,
   "id": "cdbec1db",
   "metadata": {},
   "outputs": [
    {
     "data": {
      "text/html": [
       "<div>\n",
       "<style scoped>\n",
       "    .dataframe tbody tr th:only-of-type {\n",
       "        vertical-align: middle;\n",
       "    }\n",
       "\n",
       "    .dataframe tbody tr th {\n",
       "        vertical-align: top;\n",
       "    }\n",
       "\n",
       "    .dataframe thead th {\n",
       "        text-align: right;\n",
       "    }\n",
       "</style>\n",
       "<table border=\"1\" class=\"dataframe\">\n",
       "  <thead>\n",
       "    <tr style=\"text-align: right;\">\n",
       "      <th></th>\n",
       "      <th>grade</th>\n",
       "      <th>athle</th>\n",
       "    </tr>\n",
       "  </thead>\n",
       "  <tbody>\n",
       "    <tr>\n",
       "      <th>0</th>\n",
       "      <td>gh</td>\n",
       "      <td>ah</td>\n",
       "    </tr>\n",
       "    <tr>\n",
       "      <th>1</th>\n",
       "      <td>gh</td>\n",
       "      <td>ah</td>\n",
       "    </tr>\n",
       "    <tr>\n",
       "      <th>2</th>\n",
       "      <td>gh</td>\n",
       "      <td>ah</td>\n",
       "    </tr>\n",
       "    <tr>\n",
       "      <th>3</th>\n",
       "      <td>gh</td>\n",
       "      <td>am</td>\n",
       "    </tr>\n",
       "    <tr>\n",
       "      <th>4</th>\n",
       "      <td>gh</td>\n",
       "      <td>am</td>\n",
       "    </tr>\n",
       "    <tr>\n",
       "      <th>5</th>\n",
       "      <td>gh</td>\n",
       "      <td>al</td>\n",
       "    </tr>\n",
       "    <tr>\n",
       "      <th>6</th>\n",
       "      <td>gh</td>\n",
       "      <td>al</td>\n",
       "    </tr>\n",
       "    <tr>\n",
       "      <th>7</th>\n",
       "      <td>gh</td>\n",
       "      <td>al</td>\n",
       "    </tr>\n",
       "    <tr>\n",
       "      <th>8</th>\n",
       "      <td>gh</td>\n",
       "      <td>al</td>\n",
       "    </tr>\n",
       "    <tr>\n",
       "      <th>9</th>\n",
       "      <td>gh</td>\n",
       "      <td>al</td>\n",
       "    </tr>\n",
       "  </tbody>\n",
       "</table>\n",
       "</div>"
      ],
      "text/plain": [
       "  grade athle\n",
       "0    gh    ah\n",
       "1    gh    ah\n",
       "2    gh    ah\n",
       "3    gh    am\n",
       "4    gh    am\n",
       "5    gh    al\n",
       "6    gh    al\n",
       "7    gh    al\n",
       "8    gh    al\n",
       "9    gh    al"
      ]
     },
     "execution_count": 53,
     "metadata": {},
     "output_type": "execute_result"
    }
   ],
   "source": [
    "dtaset =  {'grade':['gh','gh','gh','gh','gh','gh','gh','gh','gh','gh'] ,\n",
    "           'athle':['ah','ah','ah','am','am','al','al','al','al','al'] }\n",
    "\n",
    "student_data = pd.DataFrame(dtaset,columns=['grade','athle'])\n",
    "student_data"
   ]
  },
  {
   "cell_type": "code",
   "execution_count": 61,
   "id": "c01d669d",
   "metadata": {},
   "outputs": [],
   "source": [
    "for x in range(10,36):\n",
    "    student_data.loc[x] =['gm','ah']\n",
    "for x in range(36,46):\n",
    "    student_data.loc[x] =['gm','am']\n",
    "for x in range(46,50):\n",
    "    student_data.loc[x] =['gm','al']\n",
    "    \n",
    "for x in range(50,55):\n",
    "    student_data.loc[x] =['gl','ah']\n",
    "for x in range(55,75):\n",
    "    student_data.loc[x] =['gl','am']\n",
    "for x in range(75,80):\n",
    "    student_data.loc[x] =['gl','al']    "
   ]
  },
  {
   "cell_type": "code",
   "execution_count": 70,
   "id": "fcc89c03",
   "metadata": {},
   "outputs": [
    {
     "data": {
      "text/html": [
       "<div>\n",
       "<style scoped>\n",
       "    .dataframe tbody tr th:only-of-type {\n",
       "        vertical-align: middle;\n",
       "    }\n",
       "\n",
       "    .dataframe tbody tr th {\n",
       "        vertical-align: top;\n",
       "    }\n",
       "\n",
       "    .dataframe thead th {\n",
       "        text-align: right;\n",
       "    }\n",
       "</style>\n",
       "<table border=\"1\" class=\"dataframe\">\n",
       "  <thead>\n",
       "    <tr style=\"text-align: right;\">\n",
       "      <th>athle</th>\n",
       "      <th>ah</th>\n",
       "      <th>al</th>\n",
       "      <th>am</th>\n",
       "    </tr>\n",
       "    <tr>\n",
       "      <th>grade</th>\n",
       "      <th></th>\n",
       "      <th></th>\n",
       "      <th></th>\n",
       "    </tr>\n",
       "  </thead>\n",
       "  <tbody>\n",
       "    <tr>\n",
       "      <th>gh</th>\n",
       "      <td>3</td>\n",
       "      <td>5</td>\n",
       "      <td>2</td>\n",
       "    </tr>\n",
       "    <tr>\n",
       "      <th>gl</th>\n",
       "      <td>5</td>\n",
       "      <td>5</td>\n",
       "      <td>20</td>\n",
       "    </tr>\n",
       "    <tr>\n",
       "      <th>gm</th>\n",
       "      <td>26</td>\n",
       "      <td>4</td>\n",
       "      <td>10</td>\n",
       "    </tr>\n",
       "  </tbody>\n",
       "</table>\n",
       "</div>"
      ],
      "text/plain": [
       "athle  ah  al  am\n",
       "grade            \n",
       "gh      3   5   2\n",
       "gl      5   5  20\n",
       "gm     26   4  10"
      ]
     },
     "execution_count": 70,
     "metadata": {},
     "output_type": "execute_result"
    }
   ],
   "source": [
    "result = pd.crosstab(student_data.grade,student_data.athle)\n",
    "result"
   ]
  },
  {
   "cell_type": "code",
   "execution_count": 71,
   "id": "7643ec78",
   "metadata": {},
   "outputs": [
    {
     "data": {
      "text/plain": [
       "(25.759803921568626,\n",
       " 3.537659661329406e-05,\n",
       " 4,\n",
       " array([[ 4.25,  1.75,  4.  ],\n",
       "        [12.75,  5.25, 12.  ],\n",
       "        [17.  ,  7.  , 16.  ]]))"
      ]
     },
     "execution_count": 71,
     "metadata": {},
     "output_type": "execute_result"
    }
   ],
   "source": [
    "# two sample chi-squared test\n",
    "chi2_contingency(observed=result)"
   ]
  },
  {
   "cell_type": "markdown",
   "id": "43674d9b",
   "metadata": {},
   "source": [
    "두가지 형식의로 카이제곱 검정을 돌려봄.\n",
    "\n",
    "유의 확률 5 퍼인 0.05 보다 주어진 p-value 가 작으므로 유의하지 않다.\n",
    "유의 확률(p-value) : 3.538e-05 = 3.538^-5=0.002\n",
    "\n",
    "검정통계량(X-squared): 25.76 (자유도 df =4)\n",
    "\n",
    "귀무가설 H0 :운동을 잘하는것과 학업성적은 관련성이 없다(독립이다)을기각한다.\n",
    "\n",
    "운동을 잘하는것과 학업성적은 관련성이 있으므로 독립이 아니다 라고 할 수 있다."
   ]
  },
  {
   "cell_type": "markdown",
   "id": "222f804c",
   "metadata": {},
   "source": [
    "### 3.\n",
    "어느학과 3학년 학생들의 과대표에 대한만족도를 조사해보았다. 남녀 간의 만족도에 차이가 있는지를 유의수준 1% 하에서 검정하시오\n",
    "\n",
    "\n",
    "|성별 / 만족도|만족|보통|불만족|\n",
    "|:---:|:---:|:---:|:---:|\n",
    "|남|15|4|1|\n",
    "|여|10|8|3|\n",
    "\n"
   ]
  },
  {
   "cell_type": "markdown",
   "id": "6b0402f4",
   "metadata": {},
   "source": [
    "자료 분석: 속성 남,여를 가진 부모집단(subpopulation) 각각으로부터 만족도의 자료를 추출한 경우이며 분할표에서 부모집단의 비율이 동일한가를 검정한다.(동일성 검정)\n",
    "\n",
    "귀무가설 H0 :남성과 여성의 만족도는 차이가 없다(동일하다) (p1j = p2j, j = 만족, 보통, 불만족)\n",
    "\n",
    "대립가설 H1:H0가 아니다\n"
   ]
  },
  {
   "cell_type": "code",
   "execution_count": 73,
   "id": "2fb88ef4",
   "metadata": {},
   "outputs": [
    {
     "data": {
      "text/html": [
       "<div>\n",
       "<style scoped>\n",
       "    .dataframe tbody tr th:only-of-type {\n",
       "        vertical-align: middle;\n",
       "    }\n",
       "\n",
       "    .dataframe tbody tr th {\n",
       "        vertical-align: top;\n",
       "    }\n",
       "\n",
       "    .dataframe thead th {\n",
       "        text-align: right;\n",
       "    }\n",
       "</style>\n",
       "<table border=\"1\" class=\"dataframe\">\n",
       "  <thead>\n",
       "    <tr style=\"text-align: right;\">\n",
       "      <th></th>\n",
       "      <th>good</th>\n",
       "      <th>normal</th>\n",
       "      <th>notgood</th>\n",
       "    </tr>\n",
       "  </thead>\n",
       "  <tbody>\n",
       "    <tr>\n",
       "      <th>boy</th>\n",
       "      <td>15</td>\n",
       "      <td>4</td>\n",
       "      <td>1</td>\n",
       "    </tr>\n",
       "    <tr>\n",
       "      <th>girl</th>\n",
       "      <td>10</td>\n",
       "      <td>8</td>\n",
       "      <td>3</td>\n",
       "    </tr>\n",
       "  </tbody>\n",
       "</table>\n",
       "</div>"
      ],
      "text/plain": [
       "      good  normal  notgood\n",
       "boy     15       4        1\n",
       "girl    10       8        3"
      ]
     },
     "execution_count": 73,
     "metadata": {},
     "output_type": "execute_result"
    }
   ],
   "source": [
    "boy,girl = [15,4,1] , [10,8,3]\n",
    "student =pd.DataFrame([boy,girl], columns = ['good','normal','notgood'] ,\n",
    "                      index =['boy','girl'] )\n",
    "student"
   ]
  },
  {
   "cell_type": "code",
   "execution_count": 74,
   "id": "91528baa",
   "metadata": {},
   "outputs": [
    {
     "name": "stdout",
     "output_type": "stream",
     "text": [
      "Test Statistic: 3.310912698412698\n",
      "p-value: 0.19100487089237705\n",
      "Degree of Freedom: 2\n",
      "[[12.19512195  5.85365854  1.95121951]\n",
      " [12.80487805  6.14634146  2.04878049]]\n"
     ]
    }
   ],
   "source": [
    "chi2, p, dof, expected = chi2_contingency([boy,girl])\n",
    "\n",
    "msg = 'Test Statistic: {}\\np-value: {}\\nDegree of Freedom: {}'\n",
    "print(msg.format(chi2, p, dof))\n",
    "print(expected)"
   ]
  },
  {
   "cell_type": "markdown",
   "id": "d4f869d4",
   "metadata": {},
   "source": [
    "\n",
    "통계량 확인:\n",
    "\n",
    "검정통계량(X-squared): 3.311 (자유도 df =2)\n",
    "\n",
    "유의 확률(p-value) : 0.191\n",
    "\n",
    "결론: 유의 확률인 0.191는 유의수준 1% = 0.01 보다 크므로 유의하다.\n",
    "\n",
    "그렇므로 귀무 가설(H0)을 기각하지 않는다.\n",
    "\n",
    "따라서, 남성과 여성의 만족도는 차이가 없다(동일하다) 라고 할 수있다.\n"
   ]
  }
 ],
 "metadata": {
  "kernelspec": {
   "display_name": "Python 3",
   "language": "python",
   "name": "python3"
  },
  "language_info": {
   "codemirror_mode": {
    "name": "ipython",
    "version": 3
   },
   "file_extension": ".py",
   "mimetype": "text/x-python",
   "name": "python",
   "nbconvert_exporter": "python",
   "pygments_lexer": "ipython3",
   "version": "3.7.6"
  }
 },
 "nbformat": 4,
 "nbformat_minor": 5
}
