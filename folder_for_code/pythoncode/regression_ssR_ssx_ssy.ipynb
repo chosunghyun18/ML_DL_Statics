{
 "cells": [
  {
   "cell_type": "code",
   "execution_count": 161,
   "id": "a889a4d6",
   "metadata": {
    "ExecuteTime": {
     "end_time": "2021-12-06T11:56:32.900585Z",
     "start_time": "2021-12-06T11:56:32.896660Z"
    }
   },
   "outputs": [],
   "source": [
    "import pandas as pd\n",
    "import numpy as np\n",
    "import math\n",
    "import scipy.stats as st\n",
    "\n",
    "import warnings\n",
    "import seaborn as sns; sns.set()\n",
    "import matplotlib.pyplot as plt\n",
    "from statsmodels.formula.api import ols\n",
    "from statsmodels.stats.anova import anova_lm\n",
    "warnings.filterwarnings(action='ignore')"
   ]
  },
  {
   "cell_type": "markdown",
   "id": "249569a2",
   "metadata": {
    "ExecuteTime": {
     "end_time": "2021-12-02T12:05:12.289605Z",
     "start_time": "2021-12-02T12:05:12.280170Z"
    }
   },
   "source": [
    "## 11.1\n",
    "\n",
    "다음의 자료는 몸무게와 가슴둘레의 연관성을 알아보기 위해 랜덤하게 뽑은 신생아로부터 얻은 자료이다. 물음에 답하여라\n"
   ]
  },
  {
   "cell_type": "code",
   "execution_count": 162,
   "id": "02d337ba",
   "metadata": {
    "ExecuteTime": {
     "end_time": "2021-12-06T11:56:33.077961Z",
     "start_time": "2021-12-06T11:56:32.902713Z"
    }
   },
   "outputs": [
    {
     "data": {
      "text/plain": [
       "<matplotlib.collections.PathCollection at 0x7fc3203248d0>"
      ]
     },
     "execution_count": 162,
     "metadata": {},
     "output_type": "execute_result"
    },
    {
     "data": {
      "image/png": "[encoded data removed]",
      "text/plain": [
       "<Figure size 432x288 with 1 Axes>"
      ]
     },
     "metadata": {},
     "output_type": "display_data"
    }
   ],
   "source": [
    "#dataloab\n",
    "weight=[2.75,2.15,4.41,5.52,3.21,4.32,2.31,4.30,3.71]\n",
    "length=[29.5,26.3,32.2,36.5,27.2,27.7,28.3,30.3,28.7]\n",
    "size= pd.DataFrame({'weight':weight,'length':length})\n",
    "plt.scatter(weight,length)"
   ]
  },
  {
   "cell_type": "markdown",
   "id": "ecd657b8",
   "metadata": {},
   "source": [
    "### 표본 상관계수를 구하여라"
   ]
  },
  {
   "cell_type": "code",
   "execution_count": 163,
   "id": "a16f6e41",
   "metadata": {
    "ExecuteTime": {
     "end_time": "2021-12-06T11:56:33.084806Z",
     "start_time": "2021-12-06T11:56:33.080117Z"
    }
   },
   "outputs": [
    {
     "name": "stdout",
     "output_type": "stream",
     "text": [
      "표본 상관계수 r:  0.78447\n"
     ]
    }
   ],
   "source": [
    "#표본의 크기 저장\n",
    "n = len(weight) \n",
    "# 표본 상관계수를 구하자\n",
    "x = np.array(weight)\n",
    "y = np.array(length)\n",
    "# x와 y의 각각의 평균\n",
    "xbar = np.mean(x)\n",
    "ybar = np.mean(y)\n",
    "# 공식에 따라\n",
    "Sxx =((x-xbar)**2).sum()\n",
    "Sxy=((x-xbar)*(y-ybar)).sum() \n",
    "Syy=((y-ybar)**2).sum() \n",
    "\n",
    "r  = Sxy / (math.sqrt(Sxx) * math.sqrt(Syy) )\n",
    "print(\"표본 상관계수 r: \" ,round(r,5))"
   ]
  },
  {
   "cell_type": "code",
   "execution_count": 164,
   "id": "d33c3926",
   "metadata": {
    "ExecuteTime": {
     "end_time": "2021-12-06T11:56:33.089814Z",
     "start_time": "2021-12-06T11:56:33.086925Z"
    }
   },
   "outputs": [
    {
     "name": "stdout",
     "output_type": "stream",
     "text": [
      "내장 함수 이용시 r : 0.7844691194903474\n"
     ]
    }
   ],
   "source": [
    "# 파이썬도 r  과같은 계산이 있다!\n",
    "print(\"내장 함수 이용시 r :\",np.corrcoef(x, y)[0,1])"
   ]
  },
  {
   "cell_type": "markdown",
   "id": "f5a31b42",
   "metadata": {},
   "source": [
    "### 두 변수간에 양의 상관관계가 있다고 할 수 있는지 유의수준 1%에서 검정하여라."
   ]
  },
  {
   "cell_type": "markdown",
   "id": "90daa222",
   "metadata": {},
   "source": [
    " 두 변수간의 양의 상관관계 만족 a = 0.01 로 검정\n",
    " \n",
    " \n",
    " p =/= 0 일시 선형관계가 없으며\n",
    " p > 0 일시 양의 상관관계 ,    p < 0 일시 음의 상관관계를 갖는다라고 볼수 있다.\n",
    " p= Corr(x,y)\n",
    " \n",
    " 1)\n",
    " 귀무 가설 H0, 대립가설 H1 일시\n",
    " \n",
    " H0 : p = 0 vs H1 : p > 0 \n",
    " \n",
    " 2) \n",
    " Under H0  ~ 검정 통계량 T 의 관측값은 다음과 같다. \n",
    " \n",
    " 자료가 n<= 30 인 소표본이며 n-2 인 t 분포를 따른다. \n",
    " 또한 P>0 임을 확인하는 한쪽 꼬리 검정을 이용한다."
   ]
  },
  {
   "cell_type": "code",
   "execution_count": 165,
   "id": "e7c8204b",
   "metadata": {
    "ExecuteTime": {
     "end_time": "2021-12-06T11:56:33.095838Z",
     "start_time": "2021-12-06T11:56:33.091876Z"
    }
   },
   "outputs": [
    {
     "name": "stdout",
     "output_type": "stream",
     "text": [
      "검정 통계량의 관측값 T: 3.346690896328029\n",
      "\n",
      "--기각역--\n",
      "t0 > 2.9979515668685277 를 만족시 H0를 기각\n"
     ]
    }
   ],
   "source": [
    "T = math.sqrt(n-2) * (r / math.sqrt(1-r**2)) \n",
    "print(\"검정 통계량의 관측값 T:\",T)\n",
    "print(\"\")\n",
    "\n",
    "\n",
    "# 유의 확률 ~1%\n",
    "a = 1-(0.01)\n",
    "df = n-2    # 자유도 \n",
    "ts = st.t.ppf(a,df)\n",
    "print(\"--기각역--\")\n",
    "print(\"t0 >\",ts,\"를 만족시 H0를 기각\")"
   ]
  },
  {
   "cell_type": "markdown",
   "id": "a9303b09",
   "metadata": {},
   "source": [
    "t0 = T = 3.34 > 2.99 을 만족함으로 , 귀무 가설을 기각한다.\n",
    "* 결론 )\n",
    "\n",
    "귀무가설(H0)하 관측값이 기각역에 속하므로 , 유의 수준 1% 하에 두변수 간의 양의 상관관계가 존재한다고 할 \n",
    "근거가 있다."
   ]
  },
  {
   "cell_type": "code",
   "execution_count": 166,
   "id": "e9bd818f",
   "metadata": {
    "ExecuteTime": {
     "end_time": "2021-12-06T11:56:33.099662Z",
     "start_time": "2021-12-06T11:56:33.097045Z"
    }
   },
   "outputs": [
    {
     "name": "stdout",
     "output_type": "stream",
     "text": [
      "P_value 0.006153189532095316\n"
     ]
    }
   ],
   "source": [
    "#추가 p-value check  <0.01\n",
    "t0 = T\n",
    "print(\"P_value\",(1-st.t.cdf(abs(t0),df)))"
   ]
  },
  {
   "cell_type": "markdown",
   "id": "70880174",
   "metadata": {},
   "source": [
    "##  11.2"
   ]
  },
  {
   "cell_type": "code",
   "execution_count": 167,
   "id": "8be94fcf",
   "metadata": {
    "ExecuteTime": {
     "end_time": "2021-12-06T11:56:33.258088Z",
     "start_time": "2021-12-06T11:56:33.101176Z"
    }
   },
   "outputs": [
    {
     "data": {
      "text/plain": [
       "<matplotlib.collections.PathCollection at 0x7fc310330eb8>"
      ]
     },
     "execution_count": 167,
     "metadata": {},
     "output_type": "execute_result"
    },
    {
     "data": {
      "image/png": "[encoded data removed]",
      "text/plain": [
       "<Figure size 432x288 with 1 Axes>"
      ]
     },
     "metadata": {},
     "output_type": "display_data"
    }
   ],
   "source": [
    "# 이해력 테스트 점수를 n_s ,  수학 점수를 m_s 라 하면 산점도는 다음과 같다.\n",
    "n_s = [65 ,50 ,55 , 65, 55, 70, 65, 70, 55, 70, 50, 55]\n",
    "m_s = [85, 74, 76, 90, 85, 87, 94, 98, 81, 91, 76, 74]\n",
    "plt.scatter(n_s,m_s)"
   ]
  },
  {
   "cell_type": "markdown",
   "id": "edaea3ed",
   "metadata": {},
   "source": [
    "### \n",
    "표본 상관계수 r:  0.86245"
   ]
  },
  {
   "cell_type": "code",
   "execution_count": 168,
   "id": "5410965c",
   "metadata": {
    "ExecuteTime": {
     "end_time": "2021-12-06T11:56:33.265966Z",
     "start_time": "2021-12-06T11:56:33.261589Z"
    }
   },
   "outputs": [
    {
     "name": "stdout",
     "output_type": "stream",
     "text": [
      "표본 상관계수 r:  0.86245\n"
     ]
    }
   ],
   "source": [
    "# 두점수 사의 표본 상관 계수를 구한다. 방법은 1번 문제와 동일하다.\n",
    "#표본의 크기 저장\n",
    "n = len(n_s) \n",
    "# 표본 상관계수를 구하자\n",
    "x = np.array(n_s)\n",
    "y = np.array(m_s)\n",
    "# x와 y의 각각의 평균\n",
    "xbar = np.mean(x)\n",
    "ybar = np.mean(y)\n",
    "# 공식에 따라\n",
    "Sxx =((x-xbar)**2).sum()\n",
    "Sxy=((x-xbar)*(y-ybar)).sum() \n",
    "Syy=((y-ybar)**2).sum() \n",
    "\n",
    "r  = Sxy / (math.sqrt(Sxx) * math.sqrt(Syy) )\n",
    "print(\"표본 상관계수 r: \" ,round(r,5))"
   ]
  },
  {
   "cell_type": "markdown",
   "id": "53f6f111",
   "metadata": {},
   "source": [
    "### \n",
    "\n",
    "다음을 유의 수준 1% 에서 검정하자\n",
    "\n",
    "가설:\n",
    "\n",
    "귀무 가설 H0: p =0 , 대립가설 H1 : p=/= 0\n",
    " \n",
    "Under H0  ~ 검정 통계량 T 의 관측값은 다음과 같다. \n",
    " \n",
    " 자료가 n<= 30 인 소표본이며 n-2 인 t 분포를 따른다. \n",
    " \n",
    " 또한 P=/=0 임을 확인하는 양쪽 꼬리 검정을 이용한다."
   ]
  },
  {
   "cell_type": "code",
   "execution_count": 169,
   "id": "b161d0b2",
   "metadata": {
    "ExecuteTime": {
     "end_time": "2021-12-06T11:56:33.273222Z",
     "start_time": "2021-12-06T11:56:33.269017Z"
    }
   },
   "outputs": [
    {
     "name": "stdout",
     "output_type": "stream",
     "text": [
      "검정 통계량의 관측값 t0:  5.388531251010297\n",
      " \n",
      "--기각역--\n",
      "|t0| > 3.1693 를 만족시 H0를 기각\n"
     ]
    }
   ],
   "source": [
    "# 검정 통계량 의 관측값\n",
    "T = math.sqrt(n-2) * (r / math.sqrt(1-r**2)) \n",
    "print(\"검정 통계량의 관측값 t0: \",T)\n",
    "print(\" \")\n",
    "# 유의 확률 ~1% 양쪽 검정일시\n",
    "a = 1-(0.01/2) # 양쪽 검정시 유의 수준 -> 0.005\n",
    "\n",
    "df = n-2    # 자유도 \n",
    "ts = st.t.ppf(a,df)\n",
    "print(\"--기각역--\")\n",
    "print(\"|t0| >\",round(ts,4),\"를 만족시 H0를 기각\")"
   ]
  },
  {
   "cell_type": "markdown",
   "id": "3a85fcc3",
   "metadata": {},
   "source": [
    "* 결론 )\n",
    "\n",
    "귀무 가설하 검정통계량이 t0 = 5.38 >  3.1693  을 만족함으로 유의수준 1%에서 두 변수 간의 상관관계가 존재한다고 할 수 있다."
   ]
  },
  {
   "cell_type": "markdown",
   "id": "e7156955",
   "metadata": {},
   "source": [
    "## 11.3"
   ]
  },
  {
   "cell_type": "code",
   "execution_count": 170,
   "id": "8647f458",
   "metadata": {
    "ExecuteTime": {
     "end_time": "2021-12-06T11:56:33.277385Z",
     "start_time": "2021-12-06T11:56:33.274924Z"
    }
   },
   "outputs": [],
   "source": [
    "# 중간 고사를 x ,기말 고사를 y라 하면\n",
    "x = [78, 80, 66,92,90,57,99,80,70,82]\n",
    "y = [60, 80, 72,100,88,80,70,92,99,90]"
   ]
  },
  {
   "cell_type": "markdown",
   "id": "fd839d84",
   "metadata": {},
   "source": [
    "### 산점도를 그리고 선형 관계를 검토하여라.\n"
   ]
  },
  {
   "cell_type": "code",
   "execution_count": 171,
   "id": "d5a7a1a2",
   "metadata": {
    "ExecuteTime": {
     "end_time": "2021-12-06T11:56:33.428560Z",
     "start_time": "2021-12-06T11:56:33.278736Z"
    }
   },
   "outputs": [
    {
     "data": {
      "text/plain": [
       "Text(0, 0.5, 'final term score')"
      ]
     },
     "execution_count": 171,
     "metadata": {},
     "output_type": "execute_result"
    },
    {
     "data": {
      "image/png": "[encoded data removed]",
      "text/plain": [
       "<Figure size 432x288 with 1 Axes>"
      ]
     },
     "metadata": {},
     "output_type": "display_data"
    }
   ],
   "source": [
    "plt.scatter(x,y)\n",
    "plt.xlabel(\"mid term score\")\n",
    "plt.ylabel(\"final term score\")"
   ]
  },
  {
   "cell_type": "markdown",
   "id": "c6613e49",
   "metadata": {},
   "source": [
    "선형 관계가 눈에띄게 보이지는 않는다."
   ]
  },
  {
   "cell_type": "markdown",
   "id": "2ef28403",
   "metadata": {},
   "source": [
    "### 표본 상관계수를 구하여라."
   ]
  },
  {
   "cell_type": "code",
   "execution_count": 172,
   "id": "e108fd2d",
   "metadata": {
    "ExecuteTime": {
     "end_time": "2021-12-06T11:56:33.436792Z",
     "start_time": "2021-12-06T11:56:33.431132Z"
    }
   },
   "outputs": [
    {
     "name": "stdout",
     "output_type": "stream",
     "text": [
      "\n",
      "표본 상관계수, r = 0.08796\n"
     ]
    }
   ],
   "source": [
    "# 두점수 사의 표본 상관 계수를 구한다. 방법은 1번 문제와 동일하다.\n",
    "#표본의 크기 저장\n",
    "n = len(x) \n",
    "# 표본 상관계수를 구하자\n",
    "x = np.array(x)\n",
    "y = np.array(y)\n",
    "# x와 y의 각각의 평균\n",
    "xbar = np.mean(x)\n",
    "ybar = np.mean(y)\n",
    "# 공식에 따라\n",
    "Sxx =((x-xbar)**2).sum()\n",
    "Sxy=((x-xbar)*(y-ybar)).sum() \n",
    "Syy=((y-ybar)**2).sum() \n",
    "\n",
    "r  = Sxy / (math.sqrt(Sxx) * math.sqrt(Syy) )\n",
    "print(\"\")\n",
    "print(\"표본 상관계수, r =\" ,round(r,5))"
   ]
  },
  {
   "cell_type": "markdown",
   "id": "e7f3be28",
   "metadata": {},
   "source": [
    "###  단순선형회귀모형을 가정할 때, 회귀계수의 최소제곱추정치를 구하고 회귀식을 추정하여라.\n"
   ]
  },
  {
   "cell_type": "code",
   "execution_count": 173,
   "id": "8b1bdaf8",
   "metadata": {
    "ExecuteTime": {
     "end_time": "2021-12-06T11:56:33.443093Z",
     "start_time": "2021-12-06T11:56:33.439404Z"
    }
   },
   "outputs": [
    {
     "name": "stdout",
     "output_type": "stream",
     "text": [
      "0.091 75.871\n"
     ]
    }
   ],
   "source": [
    "## 최소제곱추정량 공식을 적용한다.\n",
    "\n",
    "b1 = np.sum( ((x-xbar)*(y-ybar)) / np.sum((x-xbar)*(x-xbar)))\n",
    "b0 = ybar - b1*xbar\n",
    "print(round(b1,3),round(b0,3))"
   ]
  },
  {
   "cell_type": "markdown",
   "id": "e09866f5",
   "metadata": {},
   "source": [
    "* 추정 회귀식  y_hat = y\n",
    "\n",
    "    y= 75.871 + 0.091x"
   ]
  },
  {
   "cell_type": "code",
   "execution_count": 174,
   "id": "992c513c",
   "metadata": {
    "ExecuteTime": {
     "end_time": "2021-12-06T11:56:33.452465Z",
     "start_time": "2021-12-06T11:56:33.444563Z"
    }
   },
   "outputs": [
    {
     "name": "stdout",
     "output_type": "stream",
     "text": [
      "Intercept    75.870747\n",
      "x             0.091049\n",
      "dtype: float64\n"
     ]
    }
   ],
   "source": [
    "# 내장 함수 이용시  회귀 계수만 출력시\n",
    "df= pd.DataFrame({'x':x,'y':y})\n",
    "model = ols('y ~ x',df).fit()\n",
    "print(model.params)"
   ]
  },
  {
   "cell_type": "markdown",
   "id": "e03b8711",
   "metadata": {},
   "source": [
    "## 11.4\n",
    "\n",
    "다음 주어진 자료를 이용하여 물음에 답하여라\n",
    "\n",
    "n = 20\n",
    "\n",
    "function sum() is sum of all to i = 20\n",
    "\n",
    "sum(x) = 300\n",
    "\n",
    "sum(y) = 260\n",
    "\n",
    "sum(x^2) = 4660\n",
    "\n",
    "sum(y^2) = 3463.2\n",
    "\n",
    "sum(x*y) = 3990"
   ]
  },
  {
   "cell_type": "code",
   "execution_count": 175,
   "id": "580eb94e",
   "metadata": {
    "ExecuteTime": {
     "end_time": "2021-12-06T11:56:33.458463Z",
     "start_time": "2021-12-06T11:56:33.455261Z"
    }
   },
   "outputs": [],
   "source": [
    "# 주어진 값들을 실수형으로 전환\n",
    "n = 20.0\n",
    "x_sum = 300.0\n",
    "y_sum = 260.0\n",
    "x2_sum = 4660.0\n",
    "y2_sum = 3463.2\n",
    "xy_sum = 3990.0"
   ]
  },
  {
   "cell_type": "markdown",
   "id": "b8eb3381",
   "metadata": {},
   "source": [
    "###  단순선형회귀모형을 가정할 때, 회귀직선을 추정하여라.\n",
    "\n",
    "추정 회귀식 \n",
    "\n",
    "y = b0 + b1x"
   ]
  },
  {
   "cell_type": "code",
   "execution_count": 176,
   "id": "8afd1fc5",
   "metadata": {
    "ExecuteTime": {
     "end_time": "2021-12-06T11:56:33.463691Z",
     "start_time": "2021-12-06T11:56:33.460540Z"
    }
   },
   "outputs": [
    {
     "name": "stdout",
     "output_type": "stream",
     "text": [
      "기울기 추정 b1: 0.5625\n",
      "절편 추정값 b0: 4.5625\n"
     ]
    }
   ],
   "source": [
    "b1 = (xy_sum - (x_sum*y_sum)/n) / (x2_sum - (x_sum**2)/n)\n",
    "b0 = (y_sum/n) -(b1*(x_sum/n))\n",
    "\n",
    "print(\"기울기 추정 b1:\",b1)\n",
    "print(\"절편 추정값 b0:\",b0)"
   ]
  },
  {
   "cell_type": "markdown",
   "id": "47d9542b",
   "metadata": {},
   "source": [
    "그렇므로 추정식 y_hat 는 다음과 같다.\n",
    "\n",
    "y_hat = 4.5625 + 0.5625x"
   ]
  },
  {
   "cell_type": "markdown",
   "id": "034db364",
   "metadata": {},
   "source": [
    "### x=20일 때 Y의 95% 신뢰구간을 구하여라\n"
   ]
  },
  {
   "cell_type": "markdown",
   "id": "79fbc4ab",
   "metadata": {},
   "source": [
    "* 평균 반응치에 대한 추론\n",
    "\n",
    "(a+b*(20)) ± (tα/2)(n−2)* √{MSE(1/n+(20−x_bar)^2 / ∑(x−x_bar)^2)}"
   ]
  },
  {
   "cell_type": "code",
   "execution_count": 177,
   "id": "45e9e545",
   "metadata": {
    "ExecuteTime": {
     "end_time": "2021-12-06T11:56:33.469003Z",
     "start_time": "2021-12-06T11:56:33.465160Z"
    }
   },
   "outputs": [
    {
     "name": "stdout",
     "output_type": "stream",
     "text": [
      "SST 83.2\n",
      "SSR 50.625\n",
      "SSE 32.575\n",
      "MSE 1.81\n"
     ]
    }
   ],
   "source": [
    "SST  = y2_sum - ((y_sum**2)/n)\n",
    "SSR = (xy_sum - (x_sum*y_sum)/n)**2 / (x2_sum-((x_sum)**2)/n)\n",
    "SSE = SST - SSR\n",
    "MSE = SSE / (n-2)\n",
    "\n",
    "print(\"SST\",round(SST,3))\n",
    "print(\"SSR\",round(SSR,3))\n",
    "print(\"SSE\",round(SSE,3))\n",
    "print(\"MSE\",round(MSE,3))"
   ]
  },
  {
   "cell_type": "code",
   "execution_count": 178,
   "id": "ea7521f9",
   "metadata": {
    "ExecuteTime": {
     "end_time": "2021-12-06T11:56:33.474225Z",
     "start_time": "2021-12-06T11:56:33.470708Z"
    }
   },
   "outputs": [
    {
     "name": "stdout",
     "output_type": "stream",
     "text": [
      "2.10092204024096\n"
     ]
    }
   ],
   "source": [
    "# t_a  5% 유의 확률, 양측 검정을 이용한다.\n",
    "a = 1-(0.05/2) # 양쪽 검정시 유의 수준 -> 0.005\n",
    "df = int(n-2)    # 자유도 \n",
    "t_a = st.t.ppf(a,df)\n",
    "print(t_a)"
   ]
  },
  {
   "cell_type": "code",
   "execution_count": 179,
   "id": "82148295",
   "metadata": {
    "ExecuteTime": {
     "end_time": "2021-12-06T11:56:33.480864Z",
     "start_time": "2021-12-06T11:56:33.476179Z"
    }
   },
   "outputs": [
    {
     "name": "stdout",
     "output_type": "stream",
     "text": [
      "14.528949750641083\n",
      "17.096050249358917\n"
     ]
    }
   ],
   "source": [
    "# 신뢰도 구간 C.I  x =20 일때\n",
    "x_bar = x_sum / n\n",
    "\n",
    "Sxx = x2_sum - (2 * x_sum*x_bar) + n*(x_bar)**2\n",
    "    # = (x2_sum - n*(x_sum/n)**2)\n",
    "    \n",
    "print ( (b0 + b1 * 20) - t_a * math.sqrt(MSE * ( (1/n)+ ( (20 - x_bar)**2)/(Sxx))))    \n",
    "print ( (b0 + b1 * 20) + t_a * math.sqrt(MSE * ( (1/n)+ ( (20 - x_bar)**2)/(Sxx))))"
   ]
  },
  {
   "cell_type": "markdown",
   "id": "4f687136",
   "metadata": {},
   "source": [
    " x=20일 때 Y의 95% 신뢰구간은 다음과 같다.\n",
    " \n",
    " (14.529,17.096)"
   ]
  },
  {
   "cell_type": "markdown",
   "id": "ad9e2e0d",
   "metadata": {},
   "source": [
    "## 11.5\n",
    "\n",
    "어느 병원에서 흡연자들을 대상으로 하루 흡연량이 폐암 발생 후 사망시점에 미치는 영향을 알아보기 위해 조사한 것이다."
   ]
  },
  {
   "cell_type": "code",
   "execution_count": 180,
   "id": "8d6cf34c",
   "metadata": {
    "ExecuteTime": {
     "end_time": "2021-12-06T11:56:33.487612Z",
     "start_time": "2021-12-06T11:56:33.483453Z"
    }
   },
   "outputs": [
    {
     "name": "stdout",
     "output_type": "stream",
     "text": [
      "하루 흡연수 (x): [ 5  7  9 11 13 15 17 19 21 23]\n",
      "기간 단위 월 (y): [36 30 25 23 20 15 12  9  5  3]\n"
     ]
    }
   ],
   "source": [
    "# y = 기간 , x = 하루 흡연수\n",
    "y  = [36, 30, 25, 23, 20, 15, 12, 9, 5, 3]\n",
    "x =[]\n",
    "for i in range(2,len(y)+2):\n",
    "    x.append(i*2+1)\n",
    "x = np.array(x)\n",
    "y = np.array(y)\n",
    "\n",
    "print(\"하루 흡연수 (x):\",x)\n",
    "print(\"기간 단위 월 (y):\",y)"
   ]
  },
  {
   "cell_type": "markdown",
   "id": "13ca6302",
   "metadata": {},
   "source": [
    "### 회귀직선 적합을 위해 회귀계수의 추정치를 구하여라."
   ]
  },
  {
   "cell_type": "code",
   "execution_count": 181,
   "id": "682386fa",
   "metadata": {
    "ExecuteTime": {
     "end_time": "2021-12-06T11:56:33.493711Z",
     "start_time": "2021-12-06T11:56:33.489164Z"
    }
   },
   "outputs": [
    {
     "name": "stdout",
     "output_type": "stream",
     "text": [
      "-1.788 42.83\n"
     ]
    }
   ],
   "source": [
    "## 최소제곱추정량 공식을 적용한다.\n",
    "n=len(x)\n",
    "xbar = np.mean(x)\n",
    "ybar = np.mean(y)\n",
    "b1 = np.sum( ((x-xbar)*(y-ybar)) / np.sum((x-xbar)*(x-xbar)))\n",
    "b0 = ybar - b1*xbar\n",
    "print(round(b1,3),round(b0,3))"
   ]
  },
  {
   "cell_type": "markdown",
   "id": "d2334123",
   "metadata": {},
   "source": [
    "* 추정 회귀식 \n",
    "\n",
    "y_hat = 42.830−1.788x"
   ]
  },
  {
   "cell_type": "markdown",
   "id": "9a2f47e0",
   "metadata": {},
   "source": [
    "### 분산분석표를 작성하고 추정된 회귀직선이 유의한지 유의수준 5%에서 검정하여라."
   ]
  },
  {
   "cell_type": "code",
   "execution_count": 182,
   "id": "e79a0fa5",
   "metadata": {
    "ExecuteTime": {
     "end_time": "2021-12-06T11:56:33.499259Z",
     "start_time": "2021-12-06T11:56:33.495744Z"
    }
   },
   "outputs": [],
   "source": [
    "avg_y= ybar # ybar\n",
    "array_reg = x*b1+b0\n",
    "array_y = y\n",
    "SSR =((array_reg-avg_y)**2).sum()\n",
    "SSE =((array_y-array_reg)**2).sum()      #Syy - b1*Sxy\n",
    "SST =SSR+SSE\n",
    "\n",
    "\n",
    "MSR = SSR / 1\n",
    "MSE = SSE / ( n-2 )"
   ]
  },
  {
   "cell_type": "code",
   "execution_count": 183,
   "id": "4fb4487c",
   "metadata": {
    "ExecuteTime": {
     "end_time": "2021-12-06T11:56:33.516794Z",
     "start_time": "2021-12-06T11:56:33.511750Z"
    }
   },
   "outputs": [
    {
     "name": "stdout",
     "output_type": "stream",
     "text": [
      "---------------------------------------------------------------\n",
      "요인     |     제곱합      |      자유도    |     평균제곱   |     F값\n",
      "---------------------------------------------------------------\n",
      "회귀     | 1054.84848    |     1         |  1054.84848 | 784.8929\n",
      "---------------------------------------------------------------\n",
      "잔차     | 10.75152      |     8         |  1.34394    |\n",
      "---------------------------------------------------------------\n",
      "계      | 1065.6       |     9         | \n",
      "---------------------------------------------------------------\n"
     ]
    }
   ],
   "source": [
    "print(\"---------------------------------------------------------------\")\n",
    "print(\"요인     |     제곱합      |      자유도    |     평균제곱   |     F값\")\n",
    "print(\"---------------------------------------------------------------\")\n",
    "print(\"회귀     |\",round(SSR,5),\"   |     1         | \",round(MSR,5),\"|\",round((MSR/MSE) ,4))\n",
    "print(\"---------------------------------------------------------------\")\n",
    "print(\"잔차     |\",round(SSE,5),\"     |     8         | \",round(MSE,5),\"   |\")\n",
    "print(\"---------------------------------------------------------------\")\n",
    "print(\"계      |\",round(SST,5),\"      |     9         | \")\n",
    "print(\"---------------------------------------------------------------\")\n",
    "\n"
   ]
  },
  {
   "cell_type": "code",
   "execution_count": 184,
   "id": "dd6d6238",
   "metadata": {
    "ExecuteTime": {
     "end_time": "2021-12-06T11:56:33.523441Z",
     "start_time": "2021-12-06T11:56:33.521436Z"
    }
   },
   "outputs": [],
   "source": [
    "# 내장 함수 이용 가능\n",
    "# smoke= pd.DataFrame({'smoke':x,'period':y})\n",
    "# model = ols('period~ smoke',smoke).fit()\n",
    "# model.summary()\n",
    "# anova_lm(model)"
   ]
  },
  {
   "cell_type": "markdown",
   "id": "09263f93",
   "metadata": {},
   "source": [
    "회귀모형의 직선이 유의성을 검정한다.\n",
    "\n",
    "기울기를  b 라고 하면 귀무 가서 H0 및 대립 가설 H1 은 다음과 같다.\n",
    "\n",
    "가설 \n",
    "H0 : B =0  vs H1 : B =/= 0\n",
    "\n",
    "\n",
    "기각역:\n",
    "F0 > F0.05(1,8) 일 시 H0 를 기각한다."
   ]
  },
  {
   "cell_type": "code",
   "execution_count": 185,
   "id": "313a68a5",
   "metadata": {
    "ExecuteTime": {
     "end_time": "2021-12-06T11:56:33.529354Z",
     "start_time": "2021-12-06T11:56:33.525878Z"
    }
   },
   "outputs": [
    {
     "name": "stdout",
     "output_type": "stream",
     "text": [
      "5.318\n"
     ]
    }
   ],
   "source": [
    "a = 1-(0.05) # 단측 검정시 유의 수준 -> 0.005\n",
    "f_a = st.f.ppf(a,1,8)\n",
    "print(round(f_a,3))"
   ]
  },
  {
   "cell_type": "markdown",
   "id": "d015813c",
   "metadata": {},
   "source": [
    "결론 )\n",
    "\n",
    "분산 분석표와 구한 기각역에 따라   784.8929 > 5.318 이므로\n",
    "\n",
    "귀무가설하 검정통계량의 관측값이 기각역에 속하므로 귀무가설을 기각한다.\n",
    "\n",
    "따라서 회귀직선이 유의하다고 할 충분한 근거가 있다."
   ]
  },
  {
   "cell_type": "code",
   "execution_count": 186,
   "id": "fee3703c",
   "metadata": {
    "ExecuteTime": {
     "end_time": "2021-12-06T11:56:33.534884Z",
     "start_time": "2021-12-06T11:56:33.531145Z"
    }
   },
   "outputs": [
    {
     "name": "stdout",
     "output_type": "stream",
     "text": [
      "one way p_value = 2.845248590052884e-09 < a= 0.05\n"
     ]
    }
   ],
   "source": [
    "z0 = 784.8929\n",
    "df1 = 1\n",
    "df2 = 8\n",
    "print(\"one way p_value =\",st.f.sf(abs(z0),df1,df2),\"< a= 0.05\")"
   ]
  },
  {
   "cell_type": "markdown",
   "id": "4116e7e3",
   "metadata": {},
   "source": [
    "### 결정계수를 구하고 그 의미를 설명하여라."
   ]
  },
  {
   "cell_type": "markdown",
   "id": "f6bce370",
   "metadata": {},
   "source": [
    "결정계수 R^2 는 추정된 회귀선이 얼마 주어진 데이터에 대하여 설명이 가능한지 신뢰 정도를 알려준다.\n",
    "\n",
    "1에 가까울 수록 회귀 직선의 model 이 의미가 있다.\n",
    "\n",
    "단순 선형회귀에서는 {cor(y,y_hat)}^2 으로 나타낼수있다."
   ]
  },
  {
   "cell_type": "code",
   "execution_count": 187,
   "id": "35715834",
   "metadata": {
    "ExecuteTime": {
     "end_time": "2021-12-06T11:56:33.540548Z",
     "start_time": "2021-12-06T11:56:33.537151Z"
    }
   },
   "outputs": [
    {
     "name": "stdout",
     "output_type": "stream",
     "text": [
      " 결정계수 R^2 : 0.99\n"
     ]
    }
   ],
   "source": [
    "# R^2 = (SSR/SST) = (1 -(SSE / SST))\n",
    "#print(SSR/SST)\n",
    "print(\" 결정계수 R^2 :\", round(1-(SSE / SST),3))"
   ]
  },
  {
   "cell_type": "markdown",
   "id": "23288a23",
   "metadata": {},
   "source": [
    "\n",
    "즉 구한 결정계수의 따르면 총 변동의 99%를 회귀 직선이 설명 가능하다.\n",
    " "
   ]
  },
  {
   "cell_type": "markdown",
   "id": "70f64423",
   "metadata": {},
   "source": [
    "## 11.8 \n",
    "다음은 어떤 제품에 대하여 광고비에 따른 판매량의 변화를 조사한 자료이다. 물음에 답하여라."
   ]
  },
  {
   "cell_type": "code",
   "execution_count": 188,
   "id": "3ff999a1",
   "metadata": {
    "ExecuteTime": {
     "end_time": "2021-12-06T11:56:33.545871Z",
     "start_time": "2021-12-06T11:56:33.542812Z"
    }
   },
   "outputs": [],
   "source": [
    "x =[30, 30, 25, 20, 40, 35, 20, 50, 45, 20]\n",
    "y =[300, 350, 400, 280, 470, 380, 300, 500, 540, 340]"
   ]
  },
  {
   "cell_type": "markdown",
   "id": "4bdcd930",
   "metadata": {},
   "source": [
    "### 회귀식을 추정하고, α와 β의 95% 신뢰구간을 구하여라"
   ]
  },
  {
   "cell_type": "code",
   "execution_count": 189,
   "id": "82bdd2cd",
   "metadata": {
    "ExecuteTime": {
     "end_time": "2021-12-06T11:56:33.552045Z",
     "start_time": "2021-12-06T11:56:33.547657Z"
    }
   },
   "outputs": [
    {
     "name": "stdout",
     "output_type": "stream",
     "text": [
      "회귀 직선 추정\n",
      "y =  155.24940617577195 + 7.32541567695962 x\n"
     ]
    }
   ],
   "source": [
    "x = np.array(x)\n",
    "y = np.array(y)\n",
    "\n",
    "\n",
    "xbar = np.mean(x)\n",
    "ybar = np.mean(y)\n",
    "\n",
    "b1 = np.sum( ((x-xbar)*(y-ybar)) / np.sum((x-xbar)*(x-xbar)))\n",
    "b0 = ybar - b1*xbar\n",
    "\n",
    "print(\"회귀 직선 추정\")\n",
    "print(\"y = \",b0,\"+\",b1,\"x\")"
   ]
  },
  {
   "cell_type": "code",
   "execution_count": 190,
   "id": "61c2cb02",
   "metadata": {
    "ExecuteTime": {
     "end_time": "2021-12-06T11:56:33.562729Z",
     "start_time": "2021-12-06T11:56:33.553889Z"
    }
   },
   "outputs": [
    {
     "name": "stdout",
     "output_type": "stream",
     "text": [
      "기울기의 95% 신뢰도 구간:\n",
      "4.0525 , 10.5983\n",
      "절편의 95% 신뢰도 구간:\n",
      "46.8236 , 263.6752\n"
     ]
    }
   ],
   "source": [
    "avg_y= ybar # ybar\n",
    "array_reg = x*b1+b0\n",
    "array_y = y\n",
    "\n",
    "SSE =((array_y-array_reg)**2).sum()      #Syy - b1*Sxy\n",
    "SST =((avg_y-array_reg)**2).sum()\n",
    "Total =((array_y-avg_y)**2).sum()       #Syy\n",
    "\n",
    "MSE = SSE/(n-2)\n",
    "s = math.sqrt(MSE)\n",
    "# print(s)\n",
    "\n",
    "\n",
    "Sxx =((x-xbar)**2).sum()\n",
    "Sxy=((x-xbar)*(y-ybar)).sum() # (Total-SSE)/b1\n",
    "Syy=((y-ybar)**2).sum()   # total\n",
    "\n",
    "# 유의 확률 \n",
    "a = 1-(0.05/2)\n",
    "df = n-2    # 자유도 \n",
    "ts = st.t.ppf(a,df)\n",
    "# print(\"t 기준:\",ts)\n",
    "\n",
    "\n",
    "\n",
    "b1d =b1 - ((s*ts)/ math.sqrt(Sxx))\n",
    "b1u = b1 + ((s*ts)/ math.sqrt(Sxx))  # upper\n",
    "\n",
    "print(\"기울기의 95% 신뢰도 구간:\")\n",
    "print(round(b1d,4),\",\",round(b1u,4))\n",
    "\n",
    "xd= (x**2).sum()\n",
    "b0d = b0 - ((s*ts*math.sqrt(xd))/ math.sqrt(n*Sxx))\n",
    "b0u = b0 + ((s*ts*math.sqrt(xd))/ math.sqrt(n*Sxx))\n",
    "\n",
    "print(\"절편의 95% 신뢰도 구간:\")\n",
    "print(round(b0d,4),\",\",round(b0u,4))"
   ]
  },
  {
   "cell_type": "markdown",
   "id": "32828e01",
   "metadata": {},
   "source": [
    "### 분산분석표를 작성하여라.\n"
   ]
  },
  {
   "cell_type": "code",
   "execution_count": 191,
   "id": "1a8b8dde",
   "metadata": {
    "ExecuteTime": {
     "end_time": "2021-12-06T11:56:33.567572Z",
     "start_time": "2021-12-06T11:56:33.564672Z"
    }
   },
   "outputs": [],
   "source": [
    "SSR =((array_reg-avg_y)**2).sum()\n",
    "SSE =((array_y-array_reg)**2).sum()      #Syy - b1*Sxy\n",
    "SST =SSR+SSE\n",
    "\n",
    "MSR = SSR / 1\n",
    "MSE = SSE / ( n-2 )"
   ]
  },
  {
   "cell_type": "code",
   "execution_count": 192,
   "id": "5287a8d1",
   "metadata": {
    "ExecuteTime": {
     "end_time": "2021-12-06T11:56:33.574778Z",
     "start_time": "2021-12-06T11:56:33.569136Z"
    }
   },
   "outputs": [
    {
     "name": "stdout",
     "output_type": "stream",
     "text": [
      "-----------------------------------------------------------------\n",
      "요인     |     제곱합      |      자유도    |     평균제곱   |     F값\n",
      "-----------------------------------------------------------------\n",
      "회귀     | 56478.95487    |     1       |  56478.95487 | 26.6394\n",
      "-----------------------------------------------------------------\n",
      "잔차     | 16961.04513    |     8       |  2120.13064  |\n",
      "-----------------------------------------------------------------\n",
      "계      | 73440.0        |     9        | \n",
      "-----------------------------------------------------------------\n"
     ]
    }
   ],
   "source": [
    "print(\"-----------------------------------------------------------------\")\n",
    "print(\"요인     |     제곱합      |      자유도    |     평균제곱   |     F값\")\n",
    "print(\"-----------------------------------------------------------------\")\n",
    "print(\"회귀     |\",round(SSR,5),\"   |     1       | \",round(MSR,5),\"|\",round((MSR/MSE) ,4))\n",
    "print(\"-----------------------------------------------------------------\")\n",
    "print(\"잔차     |\",round(SSE,5),\"   |     8       | \",round(MSE,5),\" |\")\n",
    "print(\"-----------------------------------------------------------------\")\n",
    "print(\"계      |\",round(SST,5),\"       |     9        | \")\n",
    "print(\"-----------------------------------------------------------------\")\n",
    "\n"
   ]
  },
  {
   "cell_type": "markdown",
   "id": "e36dc342",
   "metadata": {},
   "source": [
    "### \n",
    "\n",
    "가설)\n",
    "\n",
    "H0:β=0 vs. H1:β≠0라는 가설을 유의수준 5%에서 검정하여라.\n",
    "\n",
    "기각역)\n",
    " \n",
    "F0>F0.05(1,8) 이면 H0 기각"
   ]
  },
  {
   "cell_type": "code",
   "execution_count": 193,
   "id": "007e4d9c",
   "metadata": {
    "ExecuteTime": {
     "end_time": "2021-12-06T11:57:54.135119Z",
     "start_time": "2021-12-06T11:57:54.131605Z"
    }
   },
   "outputs": [
    {
     "name": "stdout",
     "output_type": "stream",
     "text": [
      "5.318\n"
     ]
    }
   ],
   "source": [
    "a = 1-(0.05) # 단측 검정시 유의 수준 -> 0.005\n",
    "f_a = st.f.ppf(a,1,8)\n",
    "print(round(f_a,3))"
   ]
  },
  {
   "cell_type": "markdown",
   "id": "ac8f4fcf",
   "metadata": {},
   "source": [
    "결론)\n",
    "\n",
    "26.639 > 5.318 즉, 귀무가설하 검정통계량의 관측값이 기각역에 속하므로 귀무가설을 기각한다. \n",
    "\n",
    "따라서 기울기가 0이 아니라고 할 충분한 근거가 있다."
   ]
  },
  {
   "cell_type": "markdown",
   "id": "c6aa8efc",
   "metadata": {},
   "source": [
    "\n",
    "\n",
    "\n",
    "\n",
    "\n",
    "\n",
    "\n",
    "\n",
    "\n",
    "\n",
    "\n"
   ]
  },
  {
   "cell_type": "markdown",
   "id": "ccfe3999",
   "metadata": {},
   "source": [
    " \n",
    " \n",
    " "
   ]
  },
  {
   "cell_type": "markdown",
   "id": "667e3807",
   "metadata": {},
   "source": [
    "\n",
    "\n",
    "\n",
    "\n",
    "\n",
    "\n"
   ]
  }
 ],
 "metadata": {
  "kernelspec": {
   "display_name": "Python 3",
   "language": "python",
   "name": "python3"
  },
  "language_info": {
   "codemirror_mode": {
    "name": "ipython",
    "version": 3
   },
   "file_extension": ".py",
   "mimetype": "text/x-python",
   "name": "python",
   "nbconvert_exporter": "python",
   "pygments_lexer": "ipython3",
   "version": "3.7.0"
  },
  "toc": {
   "base_numbering": 1,
   "nav_menu": {},
   "number_sections": true,
   "sideBar": true,
   "skip_h1_title": false,
   "title_cell": "Table of Contents",
   "title_sidebar": "Contents",
   "toc_cell": false,
   "toc_position": {},
   "toc_section_display": true,
   "toc_window_display": false
  },
  "varInspector": {
   "cols": {
    "lenName": 16,
    "lenType": 16,
    "lenVar": 40
   },
   "kernels_config": {
    "python": {
     "delete_cmd_postfix": "",
     "delete_cmd_prefix": "del ",
     "library": "var_list.py",
     "varRefreshCmd": "print(var_dic_list())"
    },
    "r": {
     "delete_cmd_postfix": ") ",
     "delete_cmd_prefix": "rm(",
     "library": "var_list.r",
     "varRefreshCmd": "cat(var_dic_list()) "
    }
   },
   "types_to_exclude": [
    "module",
    "function",
    "builtin_function_or_method",
    "instance",
    "_Feature"
   ],
   "window_display": false
  }
 },
 "nbformat": 4,
 "nbformat_minor": 5
}
