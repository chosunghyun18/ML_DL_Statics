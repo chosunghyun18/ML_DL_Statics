{
 "cells": [
  {
   "cell_type": "code",
   "execution_count": 15,
   "id": "911e9068",
   "metadata": {
    "ExecuteTime": {
     "end_time": "2021-12-08T14:03:40.517331Z",
     "start_time": "2021-12-08T14:03:40.513409Z"
    }
   },
   "outputs": [],
   "source": [
    "import pandas as pd\n",
    "import numpy as np\n",
    "import math\n",
    "import scipy.stats as st\n",
    "import warnings\n",
    "import seaborn as sns; sns.set()\n",
    "import matplotlib.pyplot as plt\n",
    "from statsmodels.formula.api import ols\n",
    "from statsmodels.stats.anova import anova_lm\n",
    "warnings.filterwarnings(action='ignore')"
   ]
  },
  {
   "cell_type": "code",
   "execution_count": 24,
   "id": "2b4c0bc4",
   "metadata": {
    "ExecuteTime": {
     "end_time": "2021-12-09T01:33:28.280505Z",
     "start_time": "2021-12-09T01:33:28.278537Z"
    }
   },
   "outputs": [],
   "source": [
    "# 동일성 검정, 독립성 검정 "
   ]
  },
  {
   "cell_type": "code",
   "execution_count": 20,
   "id": "07a6cf5a",
   "metadata": {
    "ExecuteTime": {
     "end_time": "2021-12-08T14:05:48.480484Z",
     "start_time": "2021-12-08T14:05:48.475843Z"
    }
   },
   "outputs": [
    {
     "name": "stdout",
     "output_type": "stream",
     "text": [
      "20.0\n",
      "1.8\n"
     ]
    }
   ],
   "source": [
    "# 적합도 검정 \n",
    "# 주사위\n",
    "a = [1,2,3,4,5,6,]\n",
    "b = [18,17,23,21,18,23]\n",
    "\n",
    "a = np.array(a)\n",
    "b = np.array(b)\n",
    "\n",
    "p = 1/6\n",
    "df = len(a)-1\n",
    "E =  b.sum() *(p)\n",
    "print(E)\n",
    "\n",
    "# 검정 통계 값\n",
    "T = (((b-E)**2)/E).sum()\n",
    "\n",
    "print(T)"
   ]
  },
  {
   "cell_type": "code",
   "execution_count": 21,
   "id": "ef91703c",
   "metadata": {
    "ExecuteTime": {
     "end_time": "2021-12-08T14:05:50.909026Z",
     "start_time": "2021-12-08T14:05:50.905610Z"
    }
   },
   "outputs": [
    {
     "name": "stdout",
     "output_type": "stream",
     "text": [
      "P_value 0.87606840032466\n"
     ]
    }
   ],
   "source": [
    "# 검정 통계량 관측\n",
    "t0 = T\n",
    "print(\"P_value\",(1-st.chi2.cdf(abs(t0),df)))"
   ]
  },
  {
   "cell_type": "code",
   "execution_count": 23,
   "id": "2885e4ff",
   "metadata": {
    "ExecuteTime": {
     "end_time": "2021-12-08T14:07:07.544994Z",
     "start_time": "2021-12-08T14:07:07.541440Z"
    }
   },
   "outputs": [
    {
     "name": "stdout",
     "output_type": "stream",
     "text": [
      "11.070497693516351\n",
      "H0 기각 x\n"
     ]
    }
   ],
   "source": [
    "# 카이 제곱\n",
    "# t_a  5% 유의 확률\n",
    "a =1- 0.05\n",
    "t_a = st.chi2.ppf(a,df)\n",
    "print(t_a)\n",
    "\n",
    "\n",
    "if t_a > T :\n",
    "    print(\"H0 기각 x\")"
   ]
  },
  {
   "cell_type": "code",
   "execution_count": 43,
   "id": "dfce04d0",
   "metadata": {
    "ExecuteTime": {
     "end_time": "2021-12-09T02:49:42.414166Z",
     "start_time": "2021-12-09T02:49:42.407251Z"
    }
   },
   "outputs": [
    {
     "name": "stdout",
     "output_type": "stream",
     "text": [
      "[[204.941 216.961 179.098]\n",
      " [136.059 144.039 118.902]] 4\n",
      "검정 통계: 9.8751\n",
      "2\n",
      "기각역: 5.991464547107979\n",
      "H0 기각 O\n",
      "유의 확률 0.0072\n"
     ]
    }
   ],
   "source": [
    "# 독립성 검정     소득 분위 A,B,C  / 찬 반 x y \n",
    "\n",
    "\n",
    "#    A.   B.  C \n",
    "x = [185,218,198]\n",
    "y = [156,143,100]\n",
    "\n",
    "\n",
    "obs = np.array([x,y])\n",
    "chi2, p, dof, ex =st.chi2_contingency(obs)\n",
    "\n",
    "print(ex,4)\n",
    "\n",
    "print(\"검정 통계:\",round(chi2,4)) # 검정 통계\n",
    "\n",
    "print(round(dof,4))\n",
    "\n",
    "a =1- 0.05\n",
    "t_a = st.chi2.ppf(a,dof)\n",
    "print(\"기각역:\",t_a)\n",
    "\n",
    "T = round(chi2,4 ) \n",
    "\n",
    "if t_a > T :\n",
    "    print(\"H0 기각 x\")\n",
    "else:\n",
    "    print(\"H0 기각 O\")\n",
    "    \n",
    "\n",
    "print(\"유의 확률\",round(p,4))  # 유의 확률 보다 작으면  기각\n",
    "    \n"
   ]
  },
  {
   "cell_type": "code",
   "execution_count": 44,
   "id": "f451ea69",
   "metadata": {
    "ExecuteTime": {
     "end_time": "2021-12-09T02:54:22.499464Z",
     "start_time": "2021-12-09T02:54:22.492594Z"
    }
   },
   "outputs": [
    {
     "name": "stdout",
     "output_type": "stream",
     "text": [
      "[[ 24.375  19.5    21.125]\n",
      " [125.625 100.5   108.875]] 4\n",
      "검정 통계: 3.9919\n",
      "2\n",
      "기각역: 5.991464547107979\n",
      "H0 기각 x\n",
      "유의 확률 0.1359\n"
     ]
    }
   ],
   "source": [
    "# 동일성성 검정    번주혀어 , 3개 이상 모집단의 비율이 서로 동일 한가?\n",
    "\n",
    "\n",
    "#    A.   B.  C \n",
    "x = [25,25,15]\n",
    "y = [125,95,115]\n",
    "\n",
    "\n",
    "obs = np.array([x,y])\n",
    "chi2, p, dof, ex =st.chi2_contingency(obs)\n",
    "\n",
    "print(ex,4)\n",
    "\n",
    "print(\"검정 통계:\",round(chi2,4)) # 검정 통계\n",
    "\n",
    "print(round(dof,4))\n",
    "\n",
    "a =1- 0.05\n",
    "t_a = st.chi2.ppf(a,dof)\n",
    "print(\"기각역:\",t_a)\n",
    "\n",
    "T = round(chi2,4 ) \n",
    "\n",
    "if t_a > T :\n",
    "    print(\"H0 기각 x\")\n",
    "else:\n",
    "    print(\"H0 기각 O\")\n",
    "    \n",
    "\n",
    "print(\"유의 확률\",round(p,4))  # 유의 확률 보다 작으면  기각\n",
    "    "
   ]
  },
  {
   "cell_type": "code",
   "execution_count": null,
   "id": "2cbf4e8a",
   "metadata": {},
   "outputs": [],
   "source": []
  }
 ],
 "metadata": {
  "kernelspec": {
   "display_name": "Python 3",
   "language": "python",
   "name": "python3"
  },
  "language_info": {
   "codemirror_mode": {
    "name": "ipython",
    "version": 3
   },
   "file_extension": ".py",
   "mimetype": "text/x-python",
   "name": "python",
   "nbconvert_exporter": "python",
   "pygments_lexer": "ipython3",
   "version": "3.7.0"
  },
  "toc": {
   "base_numbering": 1,
   "nav_menu": {},
   "number_sections": true,
   "sideBar": true,
   "skip_h1_title": false,
   "title_cell": "Table of Contents",
   "title_sidebar": "Contents",
   "toc_cell": false,
   "toc_position": {},
   "toc_section_display": true,
   "toc_window_display": false
  },
  "varInspector": {
   "cols": {
    "lenName": 16,
    "lenType": 16,
    "lenVar": 40
   },
   "kernels_config": {
    "python": {
     "delete_cmd_postfix": "",
     "delete_cmd_prefix": "del ",
     "library": "var_list.py",
     "varRefreshCmd": "print(var_dic_list())"
    },
    "r": {
     "delete_cmd_postfix": ") ",
     "delete_cmd_prefix": "rm(",
     "library": "var_list.r",
     "varRefreshCmd": "cat(var_dic_list()) "
    }
   },
   "types_to_exclude": [
    "module",
    "function",
    "builtin_function_or_method",
    "instance",
    "_Feature"
   ],
   "window_display": false
  }
 },
 "nbformat": 4,
 "nbformat_minor": 5
}
