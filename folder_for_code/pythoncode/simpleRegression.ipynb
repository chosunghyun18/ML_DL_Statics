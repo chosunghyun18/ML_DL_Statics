{
 "cells": [
  {
   "cell_type": "code",
   "execution_count": 107,
   "id": "e2f99dc2",
   "metadata": {
    "ExecuteTime": {
     "end_time": "2021-12-06T07:07:52.808957Z",
     "start_time": "2021-12-06T07:07:52.805008Z"
    }
   },
   "outputs": [],
   "source": [
    "# 선형회귀\n",
    "import pandas as pd\n",
    "import numpy as np\n",
    "import math\n",
    "import scipy.stats as st\n",
    "\n",
    "import seaborn as sns; sns.set()\n",
    "import matplotlib.pyplot as plt\n",
    "\n",
    "from statsmodels.formula.api import ols\n",
    "from statsmodels.stats.anova import anova_lm\n",
    "warnings.filterwarnings(action='ignore')"
   ]
  },
  {
   "cell_type": "code",
   "execution_count": 125,
   "id": "9666b7d7",
   "metadata": {
    "ExecuteTime": {
     "end_time": "2021-12-06T07:16:10.314674Z",
     "start_time": "2021-12-06T07:16:10.294200Z"
    }
   },
   "outputs": [
    {
     "data": {
      "text/html": [
       "<table class=\"simpletable\">\n",
       "<caption>OLS Regression Results</caption>\n",
       "<tr>\n",
       "  <th>Dep. Variable:</th>            <td>y</td>        <th>  R-squared:         </th> <td>   0.315</td>\n",
       "</tr>\n",
       "<tr>\n",
       "  <th>Model:</th>                   <td>OLS</td>       <th>  Adj. R-squared:    </th> <td>   0.217</td>\n",
       "</tr>\n",
       "<tr>\n",
       "  <th>Method:</th>             <td>Least Squares</td>  <th>  F-statistic:       </th> <td>   3.215</td>\n",
       "</tr>\n",
       "<tr>\n",
       "  <th>Date:</th>             <td>Mon, 06 Dec 2021</td> <th>  Prob (F-statistic):</th>  <td> 0.116</td> \n",
       "</tr>\n",
       "<tr>\n",
       "  <th>Time:</th>                 <td>16:16:10</td>     <th>  Log-Likelihood:    </th> <td> -38.360</td>\n",
       "</tr>\n",
       "<tr>\n",
       "  <th>No. Observations:</th>      <td>     9</td>      <th>  AIC:               </th> <td>   80.72</td>\n",
       "</tr>\n",
       "<tr>\n",
       "  <th>Df Residuals:</th>          <td>     7</td>      <th>  BIC:               </th> <td>   81.11</td>\n",
       "</tr>\n",
       "<tr>\n",
       "  <th>Df Model:</th>              <td>     1</td>      <th>                     </th>     <td> </td>   \n",
       "</tr>\n",
       "<tr>\n",
       "  <th>Covariance Type:</th>      <td>nonrobust</td>    <th>                     </th>     <td> </td>   \n",
       "</tr>\n",
       "</table>\n",
       "<table class=\"simpletable\">\n",
       "<tr>\n",
       "      <td></td>         <th>coef</th>     <th>std err</th>      <th>t</th>      <th>P>|t|</th>  <th>[0.025</th>    <th>0.975]</th>  \n",
       "</tr>\n",
       "<tr>\n",
       "  <th>Intercept</th> <td>   12.0623</td> <td>   34.661</td> <td>    0.348</td> <td> 0.738</td> <td>  -69.898</td> <td>   94.023</td>\n",
       "</tr>\n",
       "<tr>\n",
       "  <th>x</th>         <td>    0.7771</td> <td>    0.433</td> <td>    1.793</td> <td> 0.116</td> <td>   -0.248</td> <td>    1.802</td>\n",
       "</tr>\n",
       "</table>\n",
       "<table class=\"simpletable\">\n",
       "<tr>\n",
       "  <th>Omnibus:</th>       <td> 4.029</td> <th>  Durbin-Watson:     </th> <td>   1.153</td>\n",
       "</tr>\n",
       "<tr>\n",
       "  <th>Prob(Omnibus):</th> <td> 0.133</td> <th>  Jarque-Bera (JB):  </th> <td>   2.055</td>\n",
       "</tr>\n",
       "<tr>\n",
       "  <th>Skew:</th>          <td>-1.156</td> <th>  Prob(JB):          </th> <td>   0.358</td>\n",
       "</tr>\n",
       "<tr>\n",
       "  <th>Kurtosis:</th>      <td> 2.637</td> <th>  Cond. No.          </th> <td>    427.</td>\n",
       "</tr>\n",
       "</table><br/><br/>Notes:<br/>[1] Standard Errors assume that the covariance matrix of the errors is correctly specified."
      ],
      "text/plain": [
       "<class 'statsmodels.iolib.summary.Summary'>\n",
       "\"\"\"\n",
       "                            OLS Regression Results                            \n",
       "==============================================================================\n",
       "Dep. Variable:                      y   R-squared:                       0.315\n",
       "Model:                            OLS   Adj. R-squared:                  0.217\n",
       "Method:                 Least Squares   F-statistic:                     3.215\n",
       "Date:                Mon, 06 Dec 2021   Prob (F-statistic):              0.116\n",
       "Time:                        16:16:10   Log-Likelihood:                -38.360\n",
       "No. Observations:                   9   AIC:                             80.72\n",
       "Df Residuals:                       7   BIC:                             81.11\n",
       "Df Model:                           1                                         \n",
       "Covariance Type:            nonrobust                                         \n",
       "==============================================================================\n",
       "                 coef    std err          t      P>|t|      [0.025      0.975]\n",
       "------------------------------------------------------------------------------\n",
       "Intercept     12.0623     34.661      0.348      0.738     -69.898      94.023\n",
       "x              0.7771      0.433      1.793      0.116      -0.248       1.802\n",
       "==============================================================================\n",
       "Omnibus:                        4.029   Durbin-Watson:                   1.153\n",
       "Prob(Omnibus):                  0.133   Jarque-Bera (JB):                2.055\n",
       "Skew:                          -1.156   Prob(JB):                        0.358\n",
       "Kurtosis:                       2.637   Cond. No.                         427.\n",
       "==============================================================================\n",
       "\n",
       "Notes:\n",
       "[1] Standard Errors assume that the covariance matrix of the errors is correctly specified.\n",
       "\"\"\""
      ]
     },
     "execution_count": 125,
     "metadata": {},
     "output_type": "execute_result"
    }
   ],
   "source": [
    "# x =[3,7,11,15,18,27,29,30,30,31,31,32,33,33,34,36,36,36,37,38,39,39,39,\n",
    "#     40,41,42,42,43,44,45,46,47,50]\n",
    "# y =[5,11,21,16,16,28,27,25,35,30,40,32,34,32,34,37,38,34,36,38,37,36,45,39,41,40,44,37,44,46,46,49,51]\n",
    "\n",
    "x =np.array([77,50,71,72,81,94,96,99,67])\n",
    "y =np.array([82,66,78,34,47,85,99,99,68])\n",
    "\n",
    "df= pd.DataFrame({'x':x,'y':y})\n",
    "model = ols('y ~ x',df).fit()\n",
    "model.summary()"
   ]
  },
  {
   "cell_type": "code",
   "execution_count": null,
   "id": "f0382eb8",
   "metadata": {},
   "outputs": [],
   "source": []
  },
  {
   "cell_type": "code",
   "execution_count": null,
   "id": "749c90ae",
   "metadata": {},
   "outputs": [],
   "source": []
  },
  {
   "cell_type": "code",
   "execution_count": 146,
   "id": "702699b5",
   "metadata": {
    "ExecuteTime": {
     "end_time": "2021-12-06T07:35:34.709958Z",
     "start_time": "2021-12-06T07:35:34.704325Z"
    }
   },
   "outputs": [
    {
     "name": "stdout",
     "output_type": "stream",
     "text": [
      "78.55555555555556 73.11111111111111\n",
      "0.7771415987667915 12.062321074653163\n"
     ]
    }
   ],
   "source": [
    "# 계수  추정 불편추정량 , \n",
    "# x =[3,7,11,15,18,27,29,30,30,31,31,32,33,33,34,36,36,36,37,38,39,39,39,\n",
    "#     40,41,42,42,43,44,45,46,47,50]\n",
    "# y =[5,11,21,16,16,28,27,25,35,30,40,32,34,32,34,37,38,34,36,38,37,36,45,39,41,40,44,37,44,46,46,49,51]\n",
    "# print(len(x))\n",
    "# x=np.array(x)\n",
    "# y=np.array(y)\n",
    "\n",
    "x =np.array([77,50,71,72,81,94,96,99,67])\n",
    "y =np.array([82,66,78,34,47,85,99,99,68])\n",
    "\n",
    "xbar = np.mean(x)\n",
    "ybar = np.mean(y)\n",
    "print(xbar,ybar)\n",
    "b1 = np.sum( ((x-xbar)*(y-ybar)) / np.sum((x-xbar)*(x-xbar)))\n",
    "b0 = ybar - b1*xbar\n",
    "print(b1,b0)"
   ]
  },
  {
   "cell_type": "code",
   "execution_count": 147,
   "id": "16d5766b",
   "metadata": {
    "ExecuteTime": {
     "end_time": "2021-12-06T07:35:36.057123Z",
     "start_time": "2021-12-06T07:35:36.052676Z"
    }
   },
   "outputs": [
    {
     "name": "stdout",
     "output_type": "stream",
     "text": [
      "2653.9854657564406 1218.9034231324483 3872.8888888888882\n",
      "-------------------\n"
     ]
    }
   ],
   "source": [
    "avg_y= ybar # ybar\n",
    "array_reg = x*b1+b0\n",
    "array_y = y\n",
    "\n",
    "SSE =((array_y-array_reg)**2).sum()      #Syy - b1*Sxy\n",
    "SST =((avg_y-array_reg)**2).sum()\n",
    "Total =((array_y-avg_y)**2).sum()       #Syy\n",
    "print(SSE,SST,Total)\n",
    "print(\"-------------------\")"
   ]
  },
  {
   "cell_type": "code",
   "execution_count": 148,
   "id": "ec858740",
   "metadata": {
    "ExecuteTime": {
     "end_time": "2021-12-06T07:35:37.352697Z",
     "start_time": "2021-12-06T07:35:37.349398Z"
    }
   },
   "outputs": [
    {
     "name": "stdout",
     "output_type": "stream",
     "text": [
      "s^2=SSE/n-2: 379.14078082234863\n"
     ]
    }
   ],
   "source": [
    "print(\"s^2=SSE/n-2:\", SSE/(len(x)-2))\n",
    "s = math.sqrt(SSE/(len(x)-2))"
   ]
  },
  {
   "cell_type": "code",
   "execution_count": 149,
   "id": "d7eca309",
   "metadata": {
    "ExecuteTime": {
     "end_time": "2021-12-06T07:35:39.241409Z",
     "start_time": "2021-12-06T07:35:39.237203Z"
    }
   },
   "outputs": [
    {
     "name": "stdout",
     "output_type": "stream",
     "text": [
      "Syy: 3872.8888888888882\n",
      "Sxx: 2018.2222222222224\n",
      "Sxy: 1568.4444444444446\n"
     ]
    }
   ],
   "source": [
    "Sxx =((x-xbar)**2).sum()\n",
    "Sxy=(Total-SSE)/b1\n",
    "Syy=Total\n",
    "print(\"Syy:\",Syy)\n",
    "print(\"Sxx:\",Sxx)\n",
    "print(\"Sxy:\",Sxy)"
   ]
  },
  {
   "cell_type": "code",
   "execution_count": 150,
   "id": "e3c9e66e",
   "metadata": {
    "ExecuteTime": {
     "end_time": "2021-12-06T07:35:40.467077Z",
     "start_time": "2021-12-06T07:35:40.462064Z"
    }
   },
   "outputs": [
    {
     "name": "stdout",
     "output_type": "stream",
     "text": [
      "t 기준: 2.3646242510102993\n",
      "-0.24774991580719619\n",
      "1.8020331133407792\n"
     ]
    }
   ],
   "source": [
    "# 기울기 b1추론 : t 분포 양쪽\n",
    "math.sqrt(SSE/(len(x)-2))\n",
    "# 유의 확률 \n",
    "a = 1-(0.05/2)\n",
    "df = len(x)-2    # 자유도 \n",
    "ts = st.t.ppf(a,df)\n",
    "print(\"t 기준:\",ts)\n",
    "print(b1 - ((s*ts)/ math.sqrt(Sxx)))\n",
    "print(b1 + ((s)*ts)/ math.sqrt(Sxx))"
   ]
  },
  {
   "cell_type": "code",
   "execution_count": 151,
   "id": "d4ce722d",
   "metadata": {
    "ExecuteTime": {
     "end_time": "2021-12-06T07:35:41.921478Z",
     "start_time": "2021-12-06T07:35:41.916425Z"
    }
   },
   "outputs": [
    {
     "name": "stdout",
     "output_type": "stream",
     "text": [
      "t 기준: 2.3646242510102993\n",
      "-69.89838997798074\n",
      "94.02303212728708\n"
     ]
    }
   ],
   "source": [
    "# b0 기울기 가설검정\n",
    "xd= (x**2).sum()\n",
    "\n",
    "# 유의 확률 \n",
    "a = 1-(0.05/2)\n",
    "n= len(x)\n",
    "df = n-2    # 자유도 \n",
    "ts = st.t.ppf(a,df)\n",
    "print(\"t 기준:\",ts)\n",
    "\n",
    "\n",
    "print(b0 - ((s*ts*math.sqrt(xd))/ math.sqrt(n*Sxx)))\n",
    "print(b0 + ((s*ts*math.sqrt(xd))/ math.sqrt(n*Sxx)))"
   ]
  },
  {
   "cell_type": "code",
   "execution_count": 124,
   "id": "9dd399b4",
   "metadata": {
    "ExecuteTime": {
     "end_time": "2021-12-06T07:15:39.770044Z",
     "start_time": "2021-12-06T07:15:39.765167Z"
    }
   },
   "outputs": [
    {
     "name": "stdout",
     "output_type": "stream",
     "text": [
      "t0: -0.514177717937761\n",
      "both:  0.6229574972483363\n"
     ]
    }
   ],
   "source": [
    "# b1 기울기 가설검정\n",
    "u=1.0\n",
    "df = len(x)-2\n",
    "m = b1\n",
    "s = math.sqrt(SSE/(len(x)-2))\n",
    "t0 = (m-u )/(s/math.sqrt(Sxx))\n",
    "print(\"t0:\",t0)\n",
    "print(\"both: \",2*(1-st.t.cdf(abs(t0),df)))"
   ]
  },
  {
   "cell_type": "code",
   "execution_count": 64,
   "id": "0872d535",
   "metadata": {
    "ExecuteTime": {
     "end_time": "2021-12-06T06:28:51.122110Z",
     "start_time": "2021-12-06T06:28:50.983691Z"
    }
   },
   "outputs": [
    {
     "data": {
      "image/png": "[encoded data removed]",
      "text/plain": [
       "<Figure size 432x288 with 1 Axes>"
      ]
     },
     "metadata": {},
     "output_type": "display_data"
    }
   ],
   "source": [
    "xfit = np.linspace(40,100,10000)\n",
    "yfit = b1*xfit+b0\n",
    "plt.scatter(x,y)\n",
    "plt.plot(xfit,yfit,'r')\n",
    "plt.show()"
   ]
  },
  {
   "cell_type": "code",
   "execution_count": null,
   "id": "6dbc7e33",
   "metadata": {},
   "outputs": [],
   "source": []
  },
  {
   "cell_type": "code",
   "execution_count": null,
   "id": "88394de3",
   "metadata": {},
   "outputs": [],
   "source": []
  },
  {
   "cell_type": "code",
   "execution_count": null,
   "id": "2918dea9",
   "metadata": {},
   "outputs": [],
   "source": []
  },
  {
   "cell_type": "code",
   "execution_count": null,
   "id": "b96fa291",
   "metadata": {},
   "outputs": [],
   "source": []
  },
  {
   "cell_type": "code",
   "execution_count": null,
   "id": "53e78601",
   "metadata": {},
   "outputs": [],
   "source": []
  },
  {
   "cell_type": "code",
   "execution_count": null,
   "id": "0e686101",
   "metadata": {},
   "outputs": [],
   "source": []
  },
  {
   "cell_type": "code",
   "execution_count": null,
   "id": "f8d60798",
   "metadata": {},
   "outputs": [],
   "source": []
  },
  {
   "cell_type": "code",
   "execution_count": null,
   "id": "10ad5962",
   "metadata": {},
   "outputs": [],
   "source": []
  }
 ],
 "metadata": {
  "kernelspec": {
   "display_name": "Python 3",
   "language": "python",
   "name": "python3"
  },
  "language_info": {
   "codemirror_mode": {
    "name": "ipython",
    "version": 3
   },
   "file_extension": ".py",
   "mimetype": "text/x-python",
   "name": "python",
   "nbconvert_exporter": "python",
   "pygments_lexer": "ipython3",
   "version": "3.7.0"
  },
  "toc": {
   "base_numbering": 1,
   "nav_menu": {},
   "number_sections": true,
   "sideBar": true,
   "skip_h1_title": false,
   "title_cell": "Table of Contents",
   "title_sidebar": "Contents",
   "toc_cell": false,
   "toc_position": {},
   "toc_section_display": true,
   "toc_window_display": false
  },
  "varInspector": {
   "cols": {
    "lenName": 16,
    "lenType": 16,
    "lenVar": 40
   },
   "kernels_config": {
    "python": {
     "delete_cmd_postfix": "",
     "delete_cmd_prefix": "del ",
     "library": "var_list.py",
     "varRefreshCmd": "print(var_dic_list())"
    },
    "r": {
     "delete_cmd_postfix": ") ",
     "delete_cmd_prefix": "rm(",
     "library": "var_list.r",
     "varRefreshCmd": "cat(var_dic_list()) "
    }
   },
   "types_to_exclude": [
    "module",
    "function",
    "builtin_function_or_method",
    "instance",
    "_Feature"
   ],
   "window_display": false
  }
 },
 "nbformat": 4,
 "nbformat_minor": 5
}
