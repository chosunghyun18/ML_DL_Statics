{
 "cells": [
  {
   "cell_type": "markdown",
   "id": "1f0bb192",
   "metadata": {},
   "source": [
    "12장 : 1,2,3,5,10\n",
    "\n",
    "분산 분석을 하는 모든 데이터는 다음과 같은 3개의 조항을 만족한다고 가정을 한다.\n",
    "\n",
    "1. 비교대상인 모집단의 자료는 각각 정규분포를 따른다.\n",
    "\n",
    "2. 각 비교 대상 모집단의 자료는 동일한 분산을 가진다.\n",
    "\n",
    "3. 각 표본은 독립적으로 추출되었다."
   ]
  },
  {
   "cell_type": "code",
   "execution_count": 31,
   "id": "de50d204",
   "metadata": {
    "ExecuteTime": {
     "end_time": "2021-11-30T08:58:30.230780Z",
     "start_time": "2021-11-30T08:58:30.226990Z"
    }
   },
   "outputs": [],
   "source": [
    "import pandas as pd\n",
    "import numpy as np\n",
    "import warnings\n",
    "import seaborn as sns; sns.set()\n",
    "import matplotlib.pyplot as plt\n",
    "from statsmodels.formula.api import ols\n",
    "from statsmodels.stats.anova import anova_lm\n",
    "warnings.filterwarnings(action='ignore')"
   ]
  },
  {
   "cell_type": "markdown",
   "id": "2da90706",
   "metadata": {},
   "source": [
    "#### 12.1\n",
    "H0: 기계간 평균 인장강도가 모두 같다.\n",
    "\n",
    "H1:기계간 평균 인장강도가 적어도 하나는 다르다."
   ]
  },
  {
   "cell_type": "code",
   "execution_count": 32,
   "id": "a4bae832",
   "metadata": {
    "ExecuteTime": {
     "end_time": "2021-11-30T08:58:30.306874Z",
     "start_time": "2021-11-30T08:58:30.295935Z"
    }
   },
   "outputs": [
    {
     "data": {
      "text/html": [
       "<div>\n",
       "<style scoped>\n",
       "    .dataframe tbody tr th:only-of-type {\n",
       "        vertical-align: middle;\n",
       "    }\n",
       "\n",
       "    .dataframe tbody tr th {\n",
       "        vertical-align: top;\n",
       "    }\n",
       "\n",
       "    .dataframe thead th {\n",
       "        text-align: right;\n",
       "    }\n",
       "</style>\n",
       "<table border=\"1\" class=\"dataframe\">\n",
       "  <thead>\n",
       "    <tr style=\"text-align: right;\">\n",
       "      <th></th>\n",
       "      <th>g1</th>\n",
       "      <th>g2</th>\n",
       "      <th>g3</th>\n",
       "      <th>g4</th>\n",
       "      <th>g5</th>\n",
       "      <th>g6</th>\n",
       "    </tr>\n",
       "  </thead>\n",
       "  <tbody>\n",
       "    <tr>\n",
       "      <th>0</th>\n",
       "      <td>17.5</td>\n",
       "      <td>16.4</td>\n",
       "      <td>20.3</td>\n",
       "      <td>14.6</td>\n",
       "      <td>17.5</td>\n",
       "      <td>18.3</td>\n",
       "    </tr>\n",
       "    <tr>\n",
       "      <th>1</th>\n",
       "      <td>16.9</td>\n",
       "      <td>19.2</td>\n",
       "      <td>15.7</td>\n",
       "      <td>16.7</td>\n",
       "      <td>19.2</td>\n",
       "      <td>16.2</td>\n",
       "    </tr>\n",
       "    <tr>\n",
       "      <th>2</th>\n",
       "      <td>15.8</td>\n",
       "      <td>17.7</td>\n",
       "      <td>17.8</td>\n",
       "      <td>20.8</td>\n",
       "      <td>16.5</td>\n",
       "      <td>17.5</td>\n",
       "    </tr>\n",
       "    <tr>\n",
       "      <th>3</th>\n",
       "      <td>18.6</td>\n",
       "      <td>15.4</td>\n",
       "      <td>18.9</td>\n",
       "      <td>18.9</td>\n",
       "      <td>20.5</td>\n",
       "      <td>20.1</td>\n",
       "    </tr>\n",
       "  </tbody>\n",
       "</table>\n",
       "</div>"
      ],
      "text/plain": [
       "     g1    g2    g3    g4    g5    g6\n",
       "0  17.5  16.4  20.3  14.6  17.5  18.3\n",
       "1  16.9  19.2  15.7  16.7  19.2  16.2\n",
       "2  15.8  17.7  17.8  20.8  16.5  17.5\n",
       "3  18.6  15.4  18.9  18.9  20.5  20.1"
      ]
     },
     "execution_count": 32,
     "metadata": {},
     "output_type": "execute_result"
    }
   ],
   "source": [
    "g1 = [17.5,16.9,15.8,18.6] \n",
    "g2 = [16.4,19.2,17.7,15.4]\n",
    "g3 = [20.3,15.7,17.8,18.9]\n",
    "g4 = [14.6,16.7,20.8,18.9]\n",
    "g5 = [17.5,19.2,16.5,20.5]\n",
    "g6 = [18.3,16.2,17.5,20.1]\n",
    "\n",
    "data=pd.DataFrame({'g1':g1,'g2':g2,'g3':g3,'g4':g4,'g5':g5,'g6':g6})\n",
    "data"
   ]
  },
  {
   "cell_type": "code",
   "execution_count": 33,
   "id": "001d0dfb",
   "metadata": {
    "ExecuteTime": {
     "end_time": "2021-11-30T08:58:30.318055Z",
     "start_time": "2021-11-30T08:58:30.310308Z"
    }
   },
   "outputs": [
    {
     "data": {
      "text/html": [
       "<div>\n",
       "<style scoped>\n",
       "    .dataframe tbody tr th:only-of-type {\n",
       "        vertical-align: middle;\n",
       "    }\n",
       "\n",
       "    .dataframe tbody tr th {\n",
       "        vertical-align: top;\n",
       "    }\n",
       "\n",
       "    .dataframe thead th {\n",
       "        text-align: right;\n",
       "    }\n",
       "</style>\n",
       "<table border=\"1\" class=\"dataframe\">\n",
       "  <thead>\n",
       "    <tr style=\"text-align: right;\">\n",
       "      <th></th>\n",
       "      <th>value</th>\n",
       "      <th>group</th>\n",
       "    </tr>\n",
       "  </thead>\n",
       "  <tbody>\n",
       "    <tr>\n",
       "      <th>0</th>\n",
       "      <td>17.5</td>\n",
       "      <td>g1</td>\n",
       "    </tr>\n",
       "    <tr>\n",
       "      <th>1</th>\n",
       "      <td>16.9</td>\n",
       "      <td>g1</td>\n",
       "    </tr>\n",
       "    <tr>\n",
       "      <th>2</th>\n",
       "      <td>15.8</td>\n",
       "      <td>g1</td>\n",
       "    </tr>\n",
       "    <tr>\n",
       "      <th>3</th>\n",
       "      <td>18.6</td>\n",
       "      <td>g1</td>\n",
       "    </tr>\n",
       "    <tr>\n",
       "      <th>4</th>\n",
       "      <td>16.4</td>\n",
       "      <td>g2</td>\n",
       "    </tr>\n",
       "    <tr>\n",
       "      <th>5</th>\n",
       "      <td>19.2</td>\n",
       "      <td>g2</td>\n",
       "    </tr>\n",
       "  </tbody>\n",
       "</table>\n",
       "</div>"
      ],
      "text/plain": [
       "   value group\n",
       "0   17.5    g1\n",
       "1   16.9    g1\n",
       "2   15.8    g1\n",
       "3   18.6    g1\n",
       "4   16.4    g2\n",
       "5   19.2    g2"
      ]
     },
     "execution_count": 33,
     "metadata": {},
     "output_type": "execute_result"
    }
   ],
   "source": [
    "y = ['g1','g1','g1','g1','g2','g2','g2','g2',\n",
    "    'g3','g3','g3','g4','g4','g4','g4','g4',\n",
    "     'g5','g5','g5','g5','g6','g6','g6','g6']\n",
    "x= [17.5,16.9,15.8,18.6,\n",
    "16.4,19.2,17.7,15.4,\n",
    "20.3,15.7,17.8,18.9,\n",
    "14.6,16.7,20.8,18.9,\n",
    "17.5,19.2,16.5,20.5,\n",
    "18.3,16.2,17.5,20.1]\n",
    "data=pd.DataFrame({\"value\":x,\"group\":y})\n",
    "data.head(6)"
   ]
  },
  {
   "cell_type": "code",
   "execution_count": 34,
   "id": "ce6e278a",
   "metadata": {
    "ExecuteTime": {
     "end_time": "2021-11-30T08:58:30.334922Z",
     "start_time": "2021-11-30T08:58:30.319880Z"
    }
   },
   "outputs": [
    {
     "data": {
      "text/html": [
       "<div>\n",
       "<style scoped>\n",
       "    .dataframe tbody tr th:only-of-type {\n",
       "        vertical-align: middle;\n",
       "    }\n",
       "\n",
       "    .dataframe tbody tr th {\n",
       "        vertical-align: top;\n",
       "    }\n",
       "\n",
       "    .dataframe thead th {\n",
       "        text-align: right;\n",
       "    }\n",
       "</style>\n",
       "<table border=\"1\" class=\"dataframe\">\n",
       "  <thead>\n",
       "    <tr style=\"text-align: right;\">\n",
       "      <th></th>\n",
       "      <th>df</th>\n",
       "      <th>sum_sq</th>\n",
       "      <th>mean_sq</th>\n",
       "      <th>F</th>\n",
       "      <th>PR(&gt;F)</th>\n",
       "    </tr>\n",
       "  </thead>\n",
       "  <tbody>\n",
       "    <tr>\n",
       "      <th>C(group)</th>\n",
       "      <td>5.0</td>\n",
       "      <td>4.981167</td>\n",
       "      <td>0.996233</td>\n",
       "      <td>0.284651</td>\n",
       "      <td>0.91539</td>\n",
       "    </tr>\n",
       "    <tr>\n",
       "      <th>Residual</th>\n",
       "      <td>18.0</td>\n",
       "      <td>62.997167</td>\n",
       "      <td>3.499843</td>\n",
       "      <td>NaN</td>\n",
       "      <td>NaN</td>\n",
       "    </tr>\n",
       "  </tbody>\n",
       "</table>\n",
       "</div>"
      ],
      "text/plain": [
       "            df     sum_sq   mean_sq         F   PR(>F)\n",
       "C(group)   5.0   4.981167  0.996233  0.284651  0.91539\n",
       "Residual  18.0  62.997167  3.499843       NaN      NaN"
      ]
     },
     "execution_count": 34,
     "metadata": {},
     "output_type": "execute_result"
    }
   ],
   "source": [
    "model = ols('value ~ C(group)', data).fit()\n",
    "anova_lm(model)"
   ]
  },
  {
   "cell_type": "markdown",
   "id": "010e1d3e",
   "metadata": {
    "ExecuteTime": {
     "end_time": "2021-11-30T08:13:41.946922Z",
     "start_time": "2021-11-30T08:13:41.925320Z"
    }
   },
   "source": [
    "under H0~\n",
    "\n",
    "PR(>F) : 0.91 > 유의 수준 (0.05)\n",
    "\n",
    "즉,\n",
    "\n",
    "p-value > a : H1 를 기각, H0 의 주장을 뒷받침하는 증거라 말 할수있다.\n",
    "\n",
    "결론:기계간 평균 인장강도가 모두 같다라고 할 수 있다."
   ]
  },
  {
   "cell_type": "markdown",
   "id": "2b2f7a71",
   "metadata": {},
   "source": [
    "#### 12 2\n",
    "\n",
    "H0: 진통제간 평균 진통시간이 같다\n",
    "\n",
    "H1:진통제간 평균 지농시간이 적어도 하나는 다르다."
   ]
  },
  {
   "cell_type": "code",
   "execution_count": 35,
   "id": "9627955a",
   "metadata": {
    "ExecuteTime": {
     "end_time": "2021-11-30T08:58:30.378570Z",
     "start_time": "2021-11-30T08:58:30.359569Z"
    }
   },
   "outputs": [
    {
     "data": {
      "text/html": [
       "<div>\n",
       "<style scoped>\n",
       "    .dataframe tbody tr th:only-of-type {\n",
       "        vertical-align: middle;\n",
       "    }\n",
       "\n",
       "    .dataframe tbody tr th {\n",
       "        vertical-align: top;\n",
       "    }\n",
       "\n",
       "    .dataframe thead th {\n",
       "        text-align: right;\n",
       "    }\n",
       "</style>\n",
       "<table border=\"1\" class=\"dataframe\">\n",
       "  <thead>\n",
       "    <tr style=\"text-align: right;\">\n",
       "      <th></th>\n",
       "      <th>df</th>\n",
       "      <th>sum_sq</th>\n",
       "      <th>mean_sq</th>\n",
       "      <th>F</th>\n",
       "      <th>PR(&gt;F)</th>\n",
       "    </tr>\n",
       "  </thead>\n",
       "  <tbody>\n",
       "    <tr>\n",
       "      <th>C(group)</th>\n",
       "      <td>4.0</td>\n",
       "      <td>78.4216</td>\n",
       "      <td>19.6054</td>\n",
       "      <td>6.586508</td>\n",
       "      <td>0.001497</td>\n",
       "    </tr>\n",
       "    <tr>\n",
       "      <th>Residual</th>\n",
       "      <td>20.0</td>\n",
       "      <td>59.5320</td>\n",
       "      <td>2.9766</td>\n",
       "      <td>NaN</td>\n",
       "      <td>NaN</td>\n",
       "    </tr>\n",
       "  </tbody>\n",
       "</table>\n",
       "</div>"
      ],
      "text/plain": [
       "            df   sum_sq  mean_sq         F    PR(>F)\n",
       "C(group)   4.0  78.4216  19.6054  6.586508  0.001497\n",
       "Residual  20.0  59.5320   2.9766       NaN       NaN"
      ]
     },
     "execution_count": 35,
     "metadata": {},
     "output_type": "execute_result"
    }
   ],
   "source": [
    "y=[]\n",
    "for x in range(5):\n",
    "    y.append(\"A\")\n",
    "for x in range(5):\n",
    "    y.append(\"B\")\n",
    "for x in range(5):\n",
    "    y.append(\"C\")\n",
    "for x in range(5):\n",
    "    y.append(\"D\")\n",
    "for x in range(5):\n",
    "    y.append(\"E\")\n",
    "x = [5.2,4.7,8.1,6.2,3.0,\n",
    "     9.1,7.1,8.2,6.0,9.1,\n",
    "     3.2,5.8,2.2,3.1,7.2,\n",
    "     2.4,3.4,4.1,1.0,4.0,\n",
    "     7.1,6.6,9.3,4.2,7.6\n",
    "    ]\n",
    "\n",
    "data=pd.DataFrame({\"value\":x,\"group\":y})\n",
    "data.head(6)\n",
    "\n",
    "model = ols('value ~ C(group)', data).fit()\n",
    "anova_lm(model)"
   ]
  },
  {
   "cell_type": "markdown",
   "id": "5d2dd69c",
   "metadata": {},
   "source": [
    "under H0~\n",
    "\n",
    "PR(>F) : 0.001497 < 유의 수준 (0.05)\n",
    "\n",
    "즉,\n",
    "p-value < a : H0 를 기각, H1 의 주장을 뒷받침하는 증거라 말 할 수 있다.\n",
    "\n",
    "결론:진통제간 평균 진통 시간이 적어도 하나는 다르다고 할 수 있다."
   ]
  },
  {
   "cell_type": "markdown",
   "id": "671b5a24",
   "metadata": {},
   "source": [
    "#### 12 3\n",
    "\n",
    "H0: 선반 높이에따라 일일평균 매출액이 같다.\n",
    "m1=m2=m3\n",
    "\n",
    "H1: not h0\n"
   ]
  },
  {
   "cell_type": "code",
   "execution_count": 36,
   "id": "ab9fc710",
   "metadata": {
    "ExecuteTime": {
     "end_time": "2021-11-30T08:58:30.425466Z",
     "start_time": "2021-11-30T08:58:30.417033Z"
    }
   },
   "outputs": [
    {
     "data": {
      "text/html": [
       "<div>\n",
       "<style scoped>\n",
       "    .dataframe tbody tr th:only-of-type {\n",
       "        vertical-align: middle;\n",
       "    }\n",
       "\n",
       "    .dataframe tbody tr th {\n",
       "        vertical-align: top;\n",
       "    }\n",
       "\n",
       "    .dataframe thead th {\n",
       "        text-align: right;\n",
       "    }\n",
       "</style>\n",
       "<table border=\"1\" class=\"dataframe\">\n",
       "  <thead>\n",
       "    <tr style=\"text-align: right;\">\n",
       "      <th></th>\n",
       "      <th>value</th>\n",
       "      <th>group</th>\n",
       "    </tr>\n",
       "  </thead>\n",
       "  <tbody>\n",
       "    <tr>\n",
       "      <th>0</th>\n",
       "      <td>77</td>\n",
       "      <td>L</td>\n",
       "    </tr>\n",
       "    <tr>\n",
       "      <th>1</th>\n",
       "      <td>82</td>\n",
       "      <td>L</td>\n",
       "    </tr>\n",
       "    <tr>\n",
       "      <th>2</th>\n",
       "      <td>86</td>\n",
       "      <td>L</td>\n",
       "    </tr>\n",
       "    <tr>\n",
       "      <th>3</th>\n",
       "      <td>78</td>\n",
       "      <td>L</td>\n",
       "    </tr>\n",
       "    <tr>\n",
       "      <th>4</th>\n",
       "      <td>81</td>\n",
       "      <td>L</td>\n",
       "    </tr>\n",
       "    <tr>\n",
       "      <th>5</th>\n",
       "      <td>86</td>\n",
       "      <td>L</td>\n",
       "    </tr>\n",
       "    <tr>\n",
       "      <th>6</th>\n",
       "      <td>77</td>\n",
       "      <td>L</td>\n",
       "    </tr>\n",
       "    <tr>\n",
       "      <th>7</th>\n",
       "      <td>81</td>\n",
       "      <td>L</td>\n",
       "    </tr>\n",
       "    <tr>\n",
       "      <th>8</th>\n",
       "      <td>88</td>\n",
       "      <td>M</td>\n",
       "    </tr>\n",
       "    <tr>\n",
       "      <th>9</th>\n",
       "      <td>94</td>\n",
       "      <td>M</td>\n",
       "    </tr>\n",
       "  </tbody>\n",
       "</table>\n",
       "</div>"
      ],
      "text/plain": [
       "   value group\n",
       "0     77     L\n",
       "1     82     L\n",
       "2     86     L\n",
       "3     78     L\n",
       "4     81     L\n",
       "5     86     L\n",
       "6     77     L\n",
       "7     81     L\n",
       "8     88     M\n",
       "9     94     M"
      ]
     },
     "execution_count": 36,
     "metadata": {},
     "output_type": "execute_result"
    }
   ],
   "source": [
    "y = []\n",
    "for x in range(8):\n",
    "    y.append(\"L\")\n",
    "for x in range(8):\n",
    "    y.append(\"M\")\n",
    "for x in range(8):\n",
    "    y.append(\"H\")\n",
    "\n",
    "x = [77,82,86,78,81,86,77,81,\n",
    "    88,94,93,90,91,94,90,87,\n",
    "    85,85,87,81,80,79,87,93\n",
    "    ]\n",
    "\n",
    "data=pd.DataFrame({\"value\":x,\"group\":y})\n",
    "data.head(10)"
   ]
  },
  {
   "cell_type": "code",
   "execution_count": 37,
   "id": "501976d1",
   "metadata": {
    "ExecuteTime": {
     "end_time": "2021-11-30T08:58:30.443359Z",
     "start_time": "2021-11-30T08:58:30.427201Z"
    }
   },
   "outputs": [
    {
     "data": {
      "text/html": [
       "<div>\n",
       "<style scoped>\n",
       "    .dataframe tbody tr th:only-of-type {\n",
       "        vertical-align: middle;\n",
       "    }\n",
       "\n",
       "    .dataframe tbody tr th {\n",
       "        vertical-align: top;\n",
       "    }\n",
       "\n",
       "    .dataframe thead th {\n",
       "        text-align: right;\n",
       "    }\n",
       "</style>\n",
       "<table border=\"1\" class=\"dataframe\">\n",
       "  <thead>\n",
       "    <tr style=\"text-align: right;\">\n",
       "      <th></th>\n",
       "      <th>df</th>\n",
       "      <th>sum_sq</th>\n",
       "      <th>mean_sq</th>\n",
       "      <th>F</th>\n",
       "      <th>PR(&gt;F)</th>\n",
       "    </tr>\n",
       "  </thead>\n",
       "  <tbody>\n",
       "    <tr>\n",
       "      <th>C(group)</th>\n",
       "      <td>2.0</td>\n",
       "      <td>399.25</td>\n",
       "      <td>199.625</td>\n",
       "      <td>14.518182</td>\n",
       "      <td>0.00011</td>\n",
       "    </tr>\n",
       "    <tr>\n",
       "      <th>Residual</th>\n",
       "      <td>21.0</td>\n",
       "      <td>288.75</td>\n",
       "      <td>13.750</td>\n",
       "      <td>NaN</td>\n",
       "      <td>NaN</td>\n",
       "    </tr>\n",
       "  </tbody>\n",
       "</table>\n",
       "</div>"
      ],
      "text/plain": [
       "            df  sum_sq  mean_sq          F   PR(>F)\n",
       "C(group)   2.0  399.25  199.625  14.518182  0.00011\n",
       "Residual  21.0  288.75   13.750        NaN      NaN"
      ]
     },
     "execution_count": 37,
     "metadata": {},
     "output_type": "execute_result"
    }
   ],
   "source": [
    "model = ols('value ~ C(group)', data).fit()\n",
    "anova_lm(model)"
   ]
  },
  {
   "cell_type": "markdown",
   "id": "1603fd11",
   "metadata": {},
   "source": [
    "under H0~\n",
    "\n",
    "PR(>F) : 0.0001 < 유의 수준 (0.01)\n",
    "\n",
    "즉,\n",
    "p-value < a : H0 를 기각, H1 의 주장을 뒷받침하는 증거라 말 할 수 있다.\n",
    "\n",
    "결론:선반 높이에따른 일일평균 매출액이 적어도 하나는 다르다고 할 수 있다."
   ]
  },
  {
   "cell_type": "markdown",
   "id": "89979217",
   "metadata": {},
   "source": [
    "#### 12 5\n",
    "\n",
    "H0: 네 가지 농도에 대하여 평균활성이 같다\n",
    "m1=m2=m3=m4\n",
    "\n",
    "H1: not h0"
   ]
  },
  {
   "cell_type": "code",
   "execution_count": 40,
   "id": "c299470f",
   "metadata": {
    "ExecuteTime": {
     "end_time": "2021-11-30T09:24:25.859949Z",
     "start_time": "2021-11-30T09:24:25.836293Z"
    }
   },
   "outputs": [
    {
     "data": {
      "text/html": [
       "<div>\n",
       "<style scoped>\n",
       "    .dataframe tbody tr th:only-of-type {\n",
       "        vertical-align: middle;\n",
       "    }\n",
       "\n",
       "    .dataframe tbody tr th {\n",
       "        vertical-align: top;\n",
       "    }\n",
       "\n",
       "    .dataframe thead th {\n",
       "        text-align: right;\n",
       "    }\n",
       "</style>\n",
       "<table border=\"1\" class=\"dataframe\">\n",
       "  <thead>\n",
       "    <tr style=\"text-align: right;\">\n",
       "      <th></th>\n",
       "      <th>df</th>\n",
       "      <th>sum_sq</th>\n",
       "      <th>mean_sq</th>\n",
       "      <th>F</th>\n",
       "      <th>PR(&gt;F)</th>\n",
       "    </tr>\n",
       "  </thead>\n",
       "  <tbody>\n",
       "    <tr>\n",
       "      <th>C(group)</th>\n",
       "      <td>2.0</td>\n",
       "      <td>11.064319</td>\n",
       "      <td>5.532159</td>\n",
       "      <td>2.521656</td>\n",
       "      <td>0.118734</td>\n",
       "    </tr>\n",
       "    <tr>\n",
       "      <th>Residual</th>\n",
       "      <td>13.0</td>\n",
       "      <td>28.520175</td>\n",
       "      <td>2.193860</td>\n",
       "      <td>NaN</td>\n",
       "      <td>NaN</td>\n",
       "    </tr>\n",
       "  </tbody>\n",
       "</table>\n",
       "</div>"
      ],
      "text/plain": [
       "            df     sum_sq   mean_sq         F    PR(>F)\n",
       "C(group)   2.0  11.064319  5.532159  2.521656  0.118734\n",
       "Residual  13.0  28.520175  2.193860       NaN       NaN"
      ]
     },
     "execution_count": 40,
     "metadata": {},
     "output_type": "execute_result"
    }
   ],
   "source": [
    "y = []\n",
    "for x in range(4):\n",
    "    y.append(\"0\")\n",
    "for x in range(4):\n",
    "    y.append(\"80\")\n",
    "for x in range(4):\n",
    "    y.append(\"160\")\n",
    "for x in range(4):\n",
    "    y.append(\"160\")\n",
    "\n",
    "x=[11.01,12.09,10.55,11.26,11.38,10.67,12.33,10.08,11.02,10.67,11.50,\n",
    "  10.31,6.04,8.65,7.76,10.13]\n",
    "data=pd.DataFrame({\"value\":x,\"group\":y})\n",
    "model = ols('value ~ C(group)', data).fit()\n",
    "anova_lm(model)"
   ]
  },
  {
   "cell_type": "markdown",
   "id": "d150b851",
   "metadata": {},
   "source": [
    "under H0~\n",
    "PR(>F) : 0.11 > 유의 수준 (0.01)\n",
    "\n",
    "즉,\n",
    "p-value > a : H1 를 기각, H0 의 주장을 뒷받침하는 증거라 말 할 수 있다.\n",
    "\n",
    "결론:네 가지 농도에 대하여 평균활성이 같다"
   ]
  },
  {
   "cell_type": "markdown",
   "id": "d4e6fbfc",
   "metadata": {},
   "source": [
    "#### 12 10 \n",
    "\n",
    "12.4의 자료 이용 0.01 Cochran 등분산검정\n",
    "\n",
    "\n",
    "H0: 3종류의 부동화제의 따른 평균 압도 시간이 같다\n",
    "m1=m2=m3\n",
    "\n",
    "H1: 3종류의 부동화제의 따른 평균 압도 시간이 적어도 하나는 다르다."
   ]
  },
  {
   "cell_type": "code",
   "execution_count": 44,
   "id": "48bdea79",
   "metadata": {
    "ExecuteTime": {
     "end_time": "2021-11-30T09:36:21.326446Z",
     "start_time": "2021-11-30T09:36:21.301085Z"
    }
   },
   "outputs": [
    {
     "data": {
      "text/html": [
       "<div>\n",
       "<style scoped>\n",
       "    .dataframe tbody tr th:only-of-type {\n",
       "        vertical-align: middle;\n",
       "    }\n",
       "\n",
       "    .dataframe tbody tr th {\n",
       "        vertical-align: top;\n",
       "    }\n",
       "\n",
       "    .dataframe thead th {\n",
       "        text-align: right;\n",
       "    }\n",
       "</style>\n",
       "<table border=\"1\" class=\"dataframe\">\n",
       "  <thead>\n",
       "    <tr style=\"text-align: right;\">\n",
       "      <th></th>\n",
       "      <th>df</th>\n",
       "      <th>sum_sq</th>\n",
       "      <th>mean_sq</th>\n",
       "      <th>F</th>\n",
       "      <th>PR(&gt;F)</th>\n",
       "    </tr>\n",
       "  </thead>\n",
       "  <tbody>\n",
       "    <tr>\n",
       "      <th>C(group)</th>\n",
       "      <td>2.0</td>\n",
       "      <td>158.866667</td>\n",
       "      <td>79.433333</td>\n",
       "      <td>5.457252</td>\n",
       "      <td>0.010222</td>\n",
       "    </tr>\n",
       "    <tr>\n",
       "      <th>Residual</th>\n",
       "      <td>27.0</td>\n",
       "      <td>393.000000</td>\n",
       "      <td>14.555556</td>\n",
       "      <td>NaN</td>\n",
       "      <td>NaN</td>\n",
       "    </tr>\n",
       "  </tbody>\n",
       "</table>\n",
       "</div>"
      ],
      "text/plain": [
       "            df      sum_sq    mean_sq         F    PR(>F)\n",
       "C(group)   2.0  158.866667  79.433333  5.457252  0.010222\n",
       "Residual  27.0  393.000000  14.555556       NaN       NaN"
      ]
     },
     "execution_count": 44,
     "metadata": {},
     "output_type": "execute_result"
    }
   ],
   "source": [
    "y = []\n",
    "for x in range(10):\n",
    "    y.append(\"A\")\n",
    "for x in range(10):\n",
    "    y.append(\"B\")\n",
    "for x in range(10):\n",
    "    y.append(\"C\")\n",
    "    \n",
    "x=[11,5,14,7,10,7,23,4,11,11,\n",
    "    10,7,16,7,7,5,10,10,6,12,\n",
    "    4,4,6,3,5,6,8,3,7,3\n",
    "  ]\n",
    "data=pd.DataFrame({\"value\":x,\"group\":y})\n",
    "model = ols('value ~ C(group)', data).fit()\n",
    "anova_lm(model)"
   ]
  },
  {
   "cell_type": "markdown",
   "id": "13766f88",
   "metadata": {},
   "source": [
    "under H0~\n",
    "PR(>F) : 0.010222 > 유의 수준 (0.01)\n",
    "\n",
    "즉,\n",
    "p-value > a : H1 를 기각, H0 의 주장을 뒷받침하는 증거라 말 할 수 있다.\n",
    "\n",
    "결론:3종류의 부동화제의 따른 평균 압도 시간의 차이가 없다."
   ]
  }
 ],
 "metadata": {
  "kernelspec": {
   "display_name": "Python 3",
   "language": "python",
   "name": "python3"
  },
  "language_info": {
   "codemirror_mode": {
    "name": "ipython",
    "version": 3
   },
   "file_extension": ".py",
   "mimetype": "text/x-python",
   "name": "python",
   "nbconvert_exporter": "python",
   "pygments_lexer": "ipython3",
   "version": "3.7.0"
  },
  "toc": {
   "base_numbering": 1,
   "nav_menu": {},
   "number_sections": true,
   "sideBar": true,
   "skip_h1_title": false,
   "title_cell": "Table of Contents",
   "title_sidebar": "Contents",
   "toc_cell": false,
   "toc_position": {},
   "toc_section_display": true,
   "toc_window_display": false
  },
  "varInspector": {
   "cols": {
    "lenName": 16,
    "lenType": 16,
    "lenVar": 40
   },
   "kernels_config": {
    "python": {
     "delete_cmd_postfix": "",
     "delete_cmd_prefix": "del ",
     "library": "var_list.py",
     "varRefreshCmd": "print(var_dic_list())"
    },
    "r": {
     "delete_cmd_postfix": ") ",
     "delete_cmd_prefix": "rm(",
     "library": "var_list.r",
     "varRefreshCmd": "cat(var_dic_list()) "
    }
   },
   "types_to_exclude": [
    "module",
    "function",
    "builtin_function_or_method",
    "instance",
    "_Feature"
   ],
   "window_display": false
  }
 },
 "nbformat": 4,
 "nbformat_minor": 5
}
