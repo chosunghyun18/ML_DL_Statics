{
 "cells": [
  {
   "cell_type": "code",
   "execution_count": 1,
   "id": "27bcf6b9",
   "metadata": {
    "ExecuteTime": {
     "end_time": "2021-12-06T03:10:20.194169Z",
     "start_time": "2021-12-06T03:10:19.027748Z"
    }
   },
   "outputs": [],
   "source": [
    "import numpy as np\n",
    "import pandas as pd\n",
    "import math\n",
    "import scipy.stats as st"
   ]
  },
  {
   "cell_type": "code",
   "execution_count": null,
   "id": "9b779b67",
   "metadata": {},
   "outputs": [],
   "source": [
    "#  t 분포\n",
    "# p_value 구하기\n",
    "z0 = 1.364 # 검정 통계량\n",
    "st.t.sf(abs(z0),df=9)"
   ]
  },
  {
   "cell_type": "code",
   "execution_count": 4,
   "id": "655b734f",
   "metadata": {
    "ExecuteTime": {
     "end_time": "2021-12-06T03:12:55.668118Z",
     "start_time": "2021-12-06T03:12:55.664000Z"
    }
   },
   "outputs": [
    {
     "data": {
      "text/plain": [
       "0.9137162171652078"
      ]
     },
     "execution_count": 4,
     "metadata": {},
     "output_type": "execute_result"
    }
   ],
   "source": [
    "# 정규분포\n",
    "# p_value 구하기\n",
    "z0 = 1.364 # 검정 통계량\n",
    "st.norm.cdf(abs(z0))"
   ]
  },
  {
   "cell_type": "code",
   "execution_count": 8,
   "id": "fc15e32d",
   "metadata": {
    "ExecuteTime": {
     "end_time": "2021-12-06T03:17:07.241981Z",
     "start_time": "2021-12-06T03:17:07.238127Z"
    }
   },
   "outputs": [
    {
     "name": "stdout",
     "output_type": "stream",
     "text": [
      "2.7312710098871102\n",
      "3.0287289901128895\n"
     ]
    }
   ],
   "source": [
    "#### 신뢰구간\n",
    "#2 표본 수가 많, 모분산을 알때.   >>>> 정규 분포\n",
    "#3 표본 수가 적고, 모분산을 알때.   >>>> 정규 분포\n",
    "\n",
    "# b=[11,12,14,41,51,13,14,15,12,321,132,13,14,51,51]\n",
    "# dfa = pd.DataFrame(b)\n",
    "# m=dfa.mean()\n",
    "# s=dfa.std()\n",
    "# n= len(b)   \n",
    "\n",
    "m=2.88\n",
    "s=0.325 # theta\n",
    "n=13\n",
    "\n",
    "\n",
    "z = 1.65 #90\n",
    "#z = 1.96# 95\n",
    "#z = 2.58# 99\n",
    "\n",
    "print(m - (z*(s/math.sqrt(n))))\n",
    "print(m + (z*(s/math.sqrt(n))))"
   ]
  },
  {
   "cell_type": "code",
   "execution_count": 28,
   "id": "c82ba13d",
   "metadata": {
    "ExecuteTime": {
     "end_time": "2021-12-06T03:41:00.583437Z",
     "start_time": "2021-12-06T03:41:00.579004Z"
    }
   },
   "outputs": [
    {
     "name": "stdout",
     "output_type": "stream",
     "text": [
      "2.7312710098871102\n",
      "3.0287289901128895\n",
      "z0 -2.44068086339101\n"
     ]
    }
   ],
   "source": [
    "#표본\n",
    "m=2.88\n",
    "s=0.325 # theta\n",
    "n=13\n",
    "\n",
    "#가설 평균\n",
    "u = 3.1\n",
    "\n",
    "z = 1.65 #90\n",
    "#z = 1.96# 95\n",
    "#z = 2.58# 99\n",
    "\n",
    "print(m - (z*(s/math.sqrt(n))))\n",
    "print(m + (z*(s/math.sqrt(n))))\n",
    "\n",
    "z0 = (m-u )/(s/math.sqrt(n))\n",
    "print(\"z0\",z0)"
   ]
  },
  {
   "cell_type": "code",
   "execution_count": 27,
   "id": "671c4ed1",
   "metadata": {
    "ExecuteTime": {
     "end_time": "2021-12-06T03:36:26.083584Z",
     "start_time": "2021-12-06T03:36:26.080124Z"
    }
   },
   "outputs": [
    {
     "name": "stdout",
     "output_type": "stream",
     "text": [
      "1.2815515655446004\n"
     ]
    }
   ],
   "source": [
    "# 정규 분포 기각역\n",
    "a = 1-0.1\n",
    "za = st.norm.ppf(a)\n",
    "print(z01)"
   ]
  },
  {
   "cell_type": "code",
   "execution_count": 29,
   "id": "3566845c",
   "metadata": {
    "ExecuteTime": {
     "end_time": "2021-12-06T03:41:24.142903Z",
     "start_time": "2021-12-06T03:41:24.139521Z"
    }
   },
   "outputs": [
    {
     "name": "stdout",
     "output_type": "stream",
     "text": [
      "0.01468726191069658\n"
     ]
    }
   ],
   "source": [
    "# 정규분포\n",
    "# p_value 구하기\n",
    "z0 = 2.44 # 검정 통계량\n",
    "print(2*(1-st.norm.cdf(abs(z0))))"
   ]
  },
  {
   "cell_type": "markdown",
   "id": "db4aac37",
   "metadata": {},
   "source": [
    "분포가 작고 ,모 표준편차를 모르는 경우 t 분포를 이용한다.\n"
   ]
  },
  {
   "cell_type": "code",
   "execution_count": 56,
   "id": "f0f4a249",
   "metadata": {
    "ExecuteTime": {
     "end_time": "2021-12-06T04:05:02.977572Z",
     "start_time": "2021-12-06T04:05:02.970576Z"
    }
   },
   "outputs": [
    {
     "name": "stdout",
     "output_type": "stream",
     "text": [
      "t 기준: 1.7396067260750672\n",
      "53.107672539606476\n",
      "62.29232746039353\n",
      "z0: -2.7652925907116757\n",
      "one way:  0.0066182666973295355\n",
      "one way:  0.006618266697329567\n",
      "both:  0.013236533394659133\n"
     ]
    }
   ],
   "source": [
    "#표본\n",
    "m=57.7\n",
    "s=11.2\n",
    "n=18\n",
    "\n",
    "#가설 평균\n",
    "u = 65.0\n",
    "\n",
    "# 유의 확률 \n",
    "a = 1-(0.1/2)\n",
    "df =  n-1    # 자유도 \n",
    "print(\"t 기준:\",st.t.ppf(a,df))\n",
    "\n",
    "\n",
    "#신뢰도 구간\n",
    "print(m - (tv*(s/math.sqrt(n))))\n",
    "print(m + (tv*(s/math.sqrt(n))))\n",
    "\n",
    "\n",
    "# t 검정 통계\n",
    "z0 = (m-u )/(s/math.sqrt(n))\n",
    "print(\"z0:\",z0)\n",
    "\n",
    "\n",
    "# p_value 구하기 # 한측 검정일 경우\n",
    "print(\"one way: \",st.t.sf(abs(z0),df))\n",
    "\n",
    "print(\"one way: \",1-st.t.cdf(abs(z0),df))\n",
    "# 양측일 경우\n",
    "print(\"both: \",2*(1-st.t.cdf(abs(z0),df)))"
   ]
  },
  {
   "cell_type": "code",
   "execution_count": 90,
   "id": "781c709a",
   "metadata": {
    "ExecuteTime": {
     "end_time": "2021-12-06T04:39:17.097465Z",
     "start_time": "2021-12-06T04:39:17.080806Z"
    }
   },
   "outputs": [
    {
     "name": "stdout",
     "output_type": "stream",
     "text": [
      "n1: 8\n",
      "m1: 0    91.2625\n",
      "dtype: float64\n",
      "v1: 0    7.7198\n",
      "dtype: float64\n",
      "n2: 9\n",
      "m2: 0    92.4556\n",
      "dtype: float64\n",
      "v2: 0    2.6103\n",
      "dtype: float64\n",
      "sp :  2.23489000475042\n",
      "t0:  0   -2.9403\n",
      "dtype: float64\n",
      "both way [0.01013115]\n",
      "t 기준: 2.131449545559323\n"
     ]
    }
   ],
   "source": [
    "# 공장 표본 무게가 다른지 비교 ?  -> t - test\n",
    "\n",
    "a1=[88.4,93.2,87.4,94.3,93.0,94.3,89.0,90.5]\n",
    "a2=[92.6,93.2,89.2,94.8,93.3,91.7,91.5,92.0,93.8]\n",
    "\n",
    "dfa1 = pd.DataFrame(a1)\n",
    "dfa2 = pd.DataFrame(a2)\n",
    "\n",
    "\n",
    "n_1=len(a1)\n",
    "print(\"n1:\",n_1)\n",
    "m_1=round(dfa1.mean(),4)\n",
    "print(\"m1:\",m_1)\n",
    "v_1=round(dfa1.var(),4)\n",
    "print(\"v1:\",v_1)\n",
    "n_2=len(a2)\n",
    "print(\"n2:\",n_2)\n",
    "m_2=round(dfa2.mean(),4)\n",
    "print(\"m2:\",m_2)\n",
    "v_2=round(dfa2.var(),4)\n",
    "print(\"v2:\",v_2)\n",
    "\n",
    "\n",
    "# n_1=12\n",
    "# m_1=85\n",
    "# v_1=16\n",
    "\n",
    "# n_2=10\n",
    "# m_2=81\n",
    "# v_2=25\n",
    "\n",
    "\n",
    "# 검정 통계량 t0 \n",
    "spsq =  (((n_1-1)*v_1) +((n_2-1)*v_2)) /(n_1+n_2 -2)\n",
    "print(\"sp : \",math.sqrt(spsq))\n",
    "t0=(m_1-m_2-2) / (math.sqrt(spsq*( (1/n_1) +  (1/n_2) )))\n",
    "t0 = round(t0,4)\n",
    "print(\"t0: \",t0)\n",
    "\n",
    "\n",
    "df = n_1+n_2 -2\n",
    "print(\"both way\",(1-st.t.cdf(abs(t0),df))*2)\n",
    "\n",
    "\n",
    "\n",
    "\n",
    "# 유의 확률 0.05 \n",
    "a = 1-(0.05/2)\n",
    "print(\"t 기준:\",st.t.ppf(a,df))\n"
   ]
  }
 ],
 "metadata": {
  "kernelspec": {
   "display_name": "Python 3",
   "language": "python",
   "name": "python3"
  },
  "language_info": {
   "codemirror_mode": {
    "name": "ipython",
    "version": 3
   },
   "file_extension": ".py",
   "mimetype": "text/x-python",
   "name": "python",
   "nbconvert_exporter": "python",
   "pygments_lexer": "ipython3",
   "version": "3.7.0"
  },
  "toc": {
   "base_numbering": 1,
   "nav_menu": {},
   "number_sections": true,
   "sideBar": true,
   "skip_h1_title": false,
   "title_cell": "Table of Contents",
   "title_sidebar": "Contents",
   "toc_cell": false,
   "toc_position": {},
   "toc_section_display": true,
   "toc_window_display": false
  },
  "varInspector": {
   "cols": {
    "lenName": 16,
    "lenType": 16,
    "lenVar": 40
   },
   "kernels_config": {
    "python": {
     "delete_cmd_postfix": "",
     "delete_cmd_prefix": "del ",
     "library": "var_list.py",
     "varRefreshCmd": "print(var_dic_list())"
    },
    "r": {
     "delete_cmd_postfix": ") ",
     "delete_cmd_prefix": "rm(",
     "library": "var_list.r",
     "varRefreshCmd": "cat(var_dic_list()) "
    }
   },
   "types_to_exclude": [
    "module",
    "function",
    "builtin_function_or_method",
    "instance",
    "_Feature"
   ],
   "window_display": false
  }
 },
 "nbformat": 4,
 "nbformat_minor": 5
}
