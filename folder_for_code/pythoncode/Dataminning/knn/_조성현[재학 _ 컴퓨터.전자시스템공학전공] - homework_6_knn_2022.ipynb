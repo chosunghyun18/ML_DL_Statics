{
 "cells": [
  {
   "cell_type": "markdown",
   "metadata": {},
   "source": [
    "# Homework 6. KNN - Handwritten digits"
   ]
  },
  {
   "cell_type": "markdown",
   "metadata": {},
   "source": [
    "***Double Click here to edit this cell***\n",
    "\n",
    "- Name: 조성현 \n",
    "- Student ID: 201803430 \n",
    "- Submission date: 22.06.10"
   ]
  },
  {
   "cell_type": "markdown",
   "metadata": {},
   "source": [
    "### We have 1797 handwritten digits of size 8x8 "
   ]
  },
  {
   "cell_type": "code",
   "execution_count": 1,
   "metadata": {
    "ExecuteTime": {
     "end_time": "2022-06-09T12:15:42.042306Z",
     "start_time": "2022-06-09T12:15:38.917296Z"
    }
   },
   "outputs": [
    {
     "name": "stdout",
     "output_type": "stream",
     "text": [
      "(1797, 64)\n"
     ]
    }
   ],
   "source": [
    "from sklearn.datasets import load_digits\n",
    "digits = load_digits()\n",
    "print(digits.data.shape)"
   ]
  },
  {
   "cell_type": "code",
   "execution_count": 2,
   "metadata": {
    "ExecuteTime": {
     "end_time": "2022-06-09T12:15:44.526960Z",
     "start_time": "2022-06-09T12:15:44.516876Z"
    }
   },
   "outputs": [
    {
     "data": {
      "text/plain": [
       "(1797,)"
      ]
     },
     "execution_count": 2,
     "metadata": {},
     "output_type": "execute_result"
    }
   ],
   "source": [
    "digits.target.shape"
   ]
  },
  {
   "cell_type": "markdown",
   "metadata": {},
   "source": [
    "### Try with some handwritten images"
   ]
  },
  {
   "cell_type": "code",
   "execution_count": 3,
   "metadata": {
    "ExecuteTime": {
     "end_time": "2022-06-09T12:15:48.178933Z",
     "start_time": "2022-06-09T12:15:47.643051Z"
    }
   },
   "outputs": [
    {
     "name": "stdout",
     "output_type": "stream",
     "text": [
      "Target is 0\n",
      "Data is :\n",
      "\n",
      "[[ 0.  0.  5. 13.  9.  1.  0.  0.]\n",
      " [ 0.  0. 13. 15. 10. 15.  5.  0.]\n",
      " [ 0.  3. 15.  2.  0. 11.  8.  0.]\n",
      " [ 0.  4. 12.  0.  0.  8.  8.  0.]\n",
      " [ 0.  5.  8.  0.  0.  9.  8.  0.]\n",
      " [ 0.  4. 11.  0.  1. 12.  7.  0.]\n",
      " [ 0.  2. 14.  5. 10. 12.  0.  0.]\n",
      " [ 0.  0.  6. 13. 10.  0.  0.  0.]]\n"
     ]
    },
    {
     "data": {
      "text/plain": [
       "<Figure size 432x288 with 0 Axes>"
      ]
     },
     "metadata": {},
     "output_type": "display_data"
    },
    {
     "data": {
      "image/png": "[encoded data removed]",
      "text/plain": [
       "<Figure size 288x288 with 1 Axes>"
      ]
     },
     "metadata": {
      "needs_background": "light"
     },
     "output_type": "display_data"
    }
   ],
   "source": [
    "%matplotlib inline\n",
    "\n",
    "import matplotlib.pyplot as plt \n",
    "\n",
    "k = 0\n",
    "print('Target is {}'.format(digits.target[k]))\n",
    "print('Data is :\\n')\n",
    "print(digits.data[k].reshape(8,8))\n",
    "plt.gray()\n",
    "plt.matshow(digits.images[k]) \n",
    "plt.show() "
   ]
  },
  {
   "cell_type": "markdown",
   "metadata": {},
   "source": [
    "\n",
    "# Problem 1 (30 pts)\n",
    "\n",
    "- We want to classify handwritten digits using **k nearest neighbor classifier**"
   ]
  },
  {
   "cell_type": "markdown",
   "metadata": {},
   "source": [
    "## STEP 1\n",
    "\n",
    "- import whatever you need\n",
    "- you must set \"random_state=0\"\" in \"train_test_split\"\n",
    "- don't modify the random number seed (random_state)\n",
    "- Split the data into training dataset (0.67 of the total data), test dataset(0.33 of the total data)"
   ]
  },
  {
   "cell_type": "code",
   "execution_count": 25,
   "metadata": {
    "ExecuteTime": {
     "end_time": "2022-06-09T13:25:20.808353Z",
     "start_time": "2022-06-09T13:25:20.802145Z"
    }
   },
   "outputs": [
    {
     "name": "stdout",
     "output_type": "stream",
     "text": [
      "(1203, 64)\n",
      "(594, 64)\n"
     ]
    }
   ],
   "source": [
    "from sklearn.model_selection import train_test_split\n",
    "x = digits.data\n",
    "y = digits.target\n",
    "x_train,x_test ,y_train,y_test = train_test_split(x,y,test_size = 0.33,random_state =0,stratify = y)\n",
    "print(x_train.shape)\n",
    "print(x_test.shape)"
   ]
  },
  {
   "cell_type": "markdown",
   "metadata": {},
   "source": [
    "## STEP 2\n",
    "\n",
    "- Use sklearn k nearest neighbor classifier to classify digits\n",
    "- Print confusion matrix, classification report, accuracy\n",
    "- This homework will be graded based on **accuracy**"
   ]
  },
  {
   "cell_type": "code",
   "execution_count": 44,
   "metadata": {
    "ExecuteTime": {
     "end_time": "2022-06-09T14:25:20.330716Z",
     "start_time": "2022-06-09T14:25:20.269072Z"
    }
   },
   "outputs": [
    {
     "name": "stdout",
     "output_type": "stream",
     "text": [
      "confusion matrix : \n",
      "\n",
      "[[59  0  0  0  0  0  0  0  0  0]\n",
      " [ 0 60  0  0  0  0  0  0  0  0]\n",
      " [ 0  0 59  0  0  0  0  0  0  0]\n",
      " [ 0  0  0 59  0  0  0  1  0  0]\n",
      " [ 0  0  0  0 60  0  0  0  0  0]\n",
      " [ 0  0  0  0  0 60  0  0  0  0]\n",
      " [ 0  0  0  0  0  0 60  0  0  0]\n",
      " [ 0  0  0  0  0  0  0 59  0  0]\n",
      " [ 0  2  0  0  0  0  0  0 54  2]\n",
      " [ 0  0  0  3  0  1  0  0  0 55]]\n",
      "\n",
      "\n",
      "classification_report : \n",
      "\n",
      "              precision    recall  f1-score   support\n",
      "\n",
      "           0       1.00      1.00      1.00        59\n",
      "           1       0.97      1.00      0.98        60\n",
      "           2       1.00      1.00      1.00        59\n",
      "           3       0.95      0.98      0.97        60\n",
      "           4       1.00      1.00      1.00        60\n",
      "           5       0.98      1.00      0.99        60\n",
      "           6       1.00      1.00      1.00        60\n",
      "           7       0.98      1.00      0.99        59\n",
      "           8       1.00      0.93      0.96        58\n",
      "           9       0.96      0.93      0.95        59\n",
      "\n",
      "    accuracy                           0.98       594\n",
      "   macro avg       0.99      0.98      0.98       594\n",
      "weighted avg       0.99      0.98      0.98       594\n",
      "\n",
      "Average accuracy = 98.48%\n"
     ]
    }
   ],
   "source": [
    "# YOUR CODE HERE\n",
    "from sklearn.neighbors import KNeighborsTransformer, KNeighborsClassifier    \n",
    "knn = KNeighborsClassifier(n_neighbors =1)\n",
    "knn.fit(x_train,y_train)\n",
    "y_pred = knn.predict(x_test)\n",
    "\n",
    "from sklearn.metrics import confusion_matrix\n",
    "cm = confusion_matrix(y_true = y_test,y_pred=y_pred)\n",
    "from sklearn.metrics import classification_report\n",
    "cr = classification_report(y_test,y_pred)\n",
    "\n",
    "\n",
    "\n",
    "accuracy = knn.score(x_test,y_test)\n",
    "\n",
    "print('confusion matrix : \\n')\n",
    "print(cm)\n",
    "print('\\n\\nclassification_report : \\n')\n",
    "print(cr)\n",
    "print('Average accuracy = {:.2f}%'.format(accuracy*100))"
   ]
  },
  {
   "cell_type": "markdown",
   "metadata": {},
   "source": [
    "My result:\n",
    "```\n",
    "confusion matrix : \n",
    "\n",
    "[[49  0  0  0  0  0  0  0  0  0]\n",
    " [ 0 61  0  0  0  0  0  0  0  0]\n",
    " [ 0  0 62  0  0  0  0  0  0  0]\n",
    " [ 0  0  0 55  0  0  0  0  0  0]\n",
    " [ 0  0  0  0 50  0  0  0  0  0]\n",
    " [ 0  0  0  0  0 63  1  0  0  1]\n",
    " [ 0  0  0  0  0  0 67  0  0  0]\n",
    " [ 0  0  0  0  0  0  0 56  0  0]\n",
    " [ 0  2  0  1  0  0  0  0 64  0]\n",
    " [ 0  0  0  3  0  1  0  0  0 58]]\n",
    "\n",
    "\n",
    "classification_report : \n",
    "\n",
    "              precision    recall  f1-score   support\n",
    "\n",
    "           0       1.00      1.00      1.00        49\n",
    "           1       0.97      1.00      0.98        61\n",
    "           2       1.00      1.00      1.00        62\n",
    "           3       0.93      1.00      0.96        55\n",
    "           4       1.00      1.00      1.00        50\n",
    "           5       0.98      0.97      0.98        65\n",
    "           6       0.99      1.00      0.99        67\n",
    "           7       1.00      1.00      1.00        56\n",
    "           8       1.00      0.96      0.98        67\n",
    "           9       0.98      0.94      0.96        62\n",
    "\n",
    "    accuracy                           0.98       594\n",
    "   macro avg       0.99      0.99      0.99       594\n",
    "weighted avg       0.99      0.98      0.98       594\n",
    "\n",
    "Average accuracy = 98.48%\n",
    "```"
   ]
  },
  {
   "cell_type": "markdown",
   "metadata": {},
   "source": [
    "## State-of-the-Art of MNIST classification: 99.79%\n",
    "\n",
    "- https://rodrigob.github.io/are_we_there_yet/build/classification_datasets_results.html\n",
    "- MNIST dataset is much bigger dataset: 60,000 training images and 10,000 testing images"
   ]
  },
  {
   "cell_type": "markdown",
   "metadata": {},
   "source": [
    "# Problem 2 (30 pts)\n",
    "\n",
    "- If you choose any hyperparameters and you did any transformation in your data, justify your choice and transformation.\n",
    "- The justification must be code, data, or plotted images, **not your guess!!!**\n",
    "- This must be a longer code. \n",
    "- Use plotted image whenever possible.\n",
    "- You may add as many cells as you want.\n",
    "- To add a cell, insert->insert cell or click '+' button above in the notebook.\n",
    "- you must set \"random_state=0\"\" in \"train_test_split\", \"TSNE\" or on any functions based on random numbers"
   ]
  },
  {
   "cell_type": "raw",
   "metadata": {},
   "source": [
    "# random_state must be set to 0\n",
    "\n",
    "TSNE(..., random_state=0)\n",
    "\n",
    "train_test_split(..., random_state=0)"
   ]
  },
  {
   "cell_type": "code",
   "execution_count": 78,
   "metadata": {
    "ExecuteTime": {
     "end_time": "2022-06-10T01:40:03.905253Z",
     "start_time": "2022-06-10T01:40:02.628403Z"
    }
   },
   "outputs": [
    {
     "name": "stdout",
     "output_type": "stream",
     "text": [
      "k: 1, accuracy: 98.48\n",
      "k: 2, accuracy: 98.32\n",
      "k: 3, accuracy: 98.32\n",
      "k: 4, accuracy: 98.15\n",
      "k: 5, accuracy: 98.32\n",
      "k: 6, accuracy: 97.81\n",
      "k: 7, accuracy: 97.64\n",
      "k: 8, accuracy: 97.64\n",
      "k: 9, accuracy: 97.64\n",
      "k: 10, accuracy: 97.64\n"
     ]
    }
   ],
   "source": [
    "# ADD YOUR CELL\n",
    "x_train,x_test ,y_train,y_test = train_test_split(x,y,test_size = 0.33,random_state =0,stratify = y)\n",
    "for k in range(1, 11):\n",
    "    knn = KNeighborsClassifier(n_neighbors=k, n_jobs=-1)\n",
    "    knn.fit(x_train, y_train)\n",
    "    score = knn.score(x_test, y_test)\n",
    "    print('k: %d, accuracy: %.2f' % (k, score*100))\n",
    "\n",
    "    \n",
    "# case, k  == 1 is best accuracy at problem 1 without reduce demnsion"
   ]
  },
  {
   "cell_type": "code",
   "execution_count": 75,
   "metadata": {
    "ExecuteTime": {
     "end_time": "2022-06-10T01:39:47.704448Z",
     "start_time": "2022-06-10T01:39:46.257198Z"
    }
   },
   "outputs": [
    {
     "data": {
      "image/png": "[encoded data removed]",
      "text/plain": [
       "<Figure size 576x288 with 2 Axes>"
      ]
     },
     "metadata": {
      "needs_background": "light"
     },
     "output_type": "display_data"
    }
   ],
   "source": [
    "\n",
    "from sklearn.preprocessing import StandardScaler\n",
    "from sklearn.decomposition import PCA\n",
    "from sklearn.svm import SVC\n",
    "from sklearn.ensemble import GradientBoostingClassifier\n",
    "from sklearn.model_selection import cross_val_score\n",
    "from sklearn.metrics import confusion_matrix\n",
    "\n",
    "from tempfile import TemporaryDirectory\n",
    "from sklearn.neighbors import KNeighborsTransformer, KNeighborsClassifier\n",
    "from sklearn.model_selection import GridSearchCV\n",
    "from sklearn.pipeline import Pipeline\n",
    "\n",
    "X, y = load_digits(return_X_y=True)\n",
    "n_neighbors_list = [1, 2, 3, 4, 5, 6, 7, 8, 9]\n",
    "\n",
    "graph_model = KNeighborsTransformer(n_neighbors=max(n_neighbors_list), mode=\"distance\")\n",
    "classifier_model = KNeighborsClassifier(metric=\"precomputed\")\n",
    "\n",
    "with TemporaryDirectory(prefix=\"sklearn_graph_cache_\") as tmpdir:\n",
    "    full_model = Pipeline(steps=[(\"graph\", graph_model), (\"classifier\", classifier_model)], memory=tmpdir)\n",
    "    param_grid = {\"classifier__n_neighbors\": n_neighbors_list}\n",
    "    grid_model = GridSearchCV(full_model, param_grid)\n",
    "    grid_model.fit(X, y)\n",
    "\n",
    "\n",
    "fig, axes = plt.subplots(1, 2, figsize=(8, 4))\n",
    "axes[0].errorbar(x=n_neighbors_list,   y=grid_model.cv_results_[\"mean_test_score\"],\n",
    "                 yerr=grid_model.cv_results_[\"std_test_score\"],)\n",
    "axes[0].set(xlabel=\"n_neighbors\", \n",
    "            title=\"Classification accuracy\")\n",
    "axes[1].errorbar(x=n_neighbors_list,y=grid_model.cv_results_[\"mean_fit_time\"],\n",
    "                 yerr=grid_model.cv_results_[\"std_fit_time\"],\n",
    "    color=\"r\",\n",
    ")\n",
    "\n",
    "axes[1].set(xlabel=\"n_neighbors\", title=\"Fit time (with caching)\")\n",
    "\n",
    "fig.tight_layout()\n",
    "\n",
    "plt.show()\n"
   ]
  },
  {
   "cell_type": "code",
   "execution_count": 119,
   "metadata": {
    "ExecuteTime": {
     "end_time": "2022-06-10T02:56:16.969213Z",
     "start_time": "2022-06-10T02:56:15.641972Z"
    }
   },
   "outputs": [
    {
     "name": "stdout",
     "output_type": "stream",
     "text": [
      "Average accuracy = 28.96%\n",
      "Average accuracy = 52.36%\n",
      "Average accuracy = 70.54%\n",
      "Average accuracy = 79.63%\n",
      "Average accuracy = 84.68%\n",
      "Average accuracy = 86.20%\n",
      "Average accuracy = 89.39%\n",
      "Average accuracy = 90.91%\n",
      "Average accuracy = 91.92%\n",
      "Average accuracy = 92.93%\n",
      "Average accuracy = 93.94%\n",
      "Average accuracy = 94.28%\n",
      "Average accuracy = 94.44%\n",
      "Average accuracy = 96.63%\n",
      "Average accuracy = 96.30%\n",
      "Average accuracy = 96.30%\n",
      "Average accuracy = 96.30%\n",
      "Average accuracy = 96.63%\n",
      "Average accuracy = 96.63%\n",
      "Average accuracy = 96.80%\n",
      "Average accuracy = 97.14%\n",
      "Average accuracy = 96.63%\n",
      "Average accuracy = 96.80%\n",
      "Average accuracy = 96.63%\n",
      "Average accuracy = 96.46%\n",
      "Average accuracy = 96.46%\n",
      "Average accuracy = 96.80%\n",
      "Average accuracy = 96.63%\n",
      "Average accuracy = 96.63%\n",
      "Average accuracy = 96.63%\n",
      "Average accuracy = 96.46%\n",
      "Average accuracy = 96.63%\n",
      "Average accuracy = 96.13%\n",
      "Average accuracy = 96.46%\n",
      "Average accuracy = 96.46%\n",
      "Average accuracy = 96.30%\n",
      "Average accuracy = 96.63%\n",
      "Average accuracy = 96.46%\n",
      "Average accuracy = 96.63%\n"
     ]
    }
   ],
   "source": [
    "# not good\n",
    "x = digits.data\n",
    "y = digits.target\n",
    "x_train,x_test ,y_train,y_test = train_test_split(x,y,test_size = 0.33,random_state =0,stratify = y)\n",
    "\n",
    "\n",
    "for i in range(1,40):\n",
    "    pca = make_pipeline(StandardScaler(), PCA(n_components=i, random_state=0))\n",
    "    knn = KNeighborsClassifier(n_neighbors=n_neighbors)\n",
    "    # Make a list of the methods to be compared\n",
    "    dim_reduction_methods = [(\"PCA\", pca)]\n",
    "    model =pca.fit(x_train,y_train)\n",
    "    knn.fit(model.transform(x_train),y_train)\n",
    "    accuracy = knn.score(model.transform(x_test), y_test)\n",
    "    print('Average accuracy = {:.2f}%'.format(accuracy*100))"
   ]
  },
  {
   "cell_type": "code",
   "execution_count": 127,
   "metadata": {
    "ExecuteTime": {
     "end_time": "2022-06-10T03:04:06.466056Z",
     "start_time": "2022-06-10T03:04:06.391649Z"
    }
   },
   "outputs": [],
   "source": [
    "# tsne를 이용한 차원 축소 후 적용\n",
    "from sklearn.datasets import load_digits\n",
    "digits = load_digits()\n",
    "\n",
    "import pandas as pd\n",
    "from sklearn.manifold import TSNE\n",
    "from sklearn.model_selection import train_test_split\n",
    "x = digits.data\n",
    "y = digits.target\n"
   ]
  },
  {
   "cell_type": "code",
   "execution_count": 128,
   "metadata": {
    "ExecuteTime": {
     "end_time": "2022-06-10T03:06:13.355573Z",
     "start_time": "2022-06-10T03:06:00.328693Z"
    }
   },
   "outputs": [],
   "source": [
    "result = []\n",
    "tmp = []\n",
    "\n",
    "\n",
    "for j in range(1,4):\n",
    "    tsne_np = TSNE(n_components = j,random_state = 0).fit_transform(x)\n",
    "    x_train,x_test ,y_train,y_test = train_test_split(tsne_np,y,test_size = 0.33,random_state =0,stratify = y)\n",
    "    for i in range(1,10):\n",
    "        knn = KNeighborsClassifier(n_neighbors = i)\n",
    "        knn.fit(x_train,y_train)\n",
    "        y_pred = knn.predict(x_test)\n",
    "        accuracy = knn.score(x_test,y_test)\n",
    "        tmp.append('Average accuracy = {:.2f}%'.format(accuracy*100))\n",
    "    result.append(tmp)\n",
    "    tmp=[]\n",
    "# Average accuracy 98.82 %"
   ]
  },
  {
   "cell_type": "code",
   "execution_count": 130,
   "metadata": {
    "ExecuteTime": {
     "end_time": "2022-06-10T03:06:39.231453Z",
     "start_time": "2022-06-10T03:06:39.212967Z"
    },
    "scrolled": true
   },
   "outputs": [
    {
     "data": {
      "text/html": [
       "<div>\n",
       "<style scoped>\n",
       "    .dataframe tbody tr th:only-of-type {\n",
       "        vertical-align: middle;\n",
       "    }\n",
       "\n",
       "    .dataframe tbody tr th {\n",
       "        vertical-align: top;\n",
       "    }\n",
       "\n",
       "    .dataframe thead th {\n",
       "        text-align: right;\n",
       "    }\n",
       "</style>\n",
       "<table border=\"1\" class=\"dataframe\">\n",
       "  <thead>\n",
       "    <tr style=\"text-align: right;\">\n",
       "      <th></th>\n",
       "      <th>0</th>\n",
       "      <th>1</th>\n",
       "      <th>2</th>\n",
       "      <th>3</th>\n",
       "      <th>4</th>\n",
       "      <th>5</th>\n",
       "      <th>6</th>\n",
       "      <th>7</th>\n",
       "      <th>8</th>\n",
       "    </tr>\n",
       "  </thead>\n",
       "  <tbody>\n",
       "    <tr>\n",
       "      <th>0</th>\n",
       "      <td>Average accuracy = 97.64%</td>\n",
       "      <td>Average accuracy = 98.15%</td>\n",
       "      <td>Average accuracy = 98.65%</td>\n",
       "      <td>Average accuracy = 98.48%</td>\n",
       "      <td>Average accuracy = 98.48%</td>\n",
       "      <td>Average accuracy = 98.48%</td>\n",
       "      <td>Average accuracy = 98.48%</td>\n",
       "      <td>Average accuracy = 98.48%</td>\n",
       "      <td>Average accuracy = 98.48%</td>\n",
       "    </tr>\n",
       "    <tr>\n",
       "      <th>1</th>\n",
       "      <td>Average accuracy = 98.65%</td>\n",
       "      <td>Average accuracy = 98.82%</td>\n",
       "      <td>Average accuracy = 98.48%</td>\n",
       "      <td>Average accuracy = 98.15%</td>\n",
       "      <td>Average accuracy = 98.15%</td>\n",
       "      <td>Average accuracy = 98.15%</td>\n",
       "      <td>Average accuracy = 98.15%</td>\n",
       "      <td>Average accuracy = 98.15%</td>\n",
       "      <td>Average accuracy = 98.15%</td>\n",
       "    </tr>\n",
       "    <tr>\n",
       "      <th>2</th>\n",
       "      <td>Average accuracy = 99.16%</td>\n",
       "      <td>Average accuracy = 98.82%</td>\n",
       "      <td>Average accuracy = 98.99%</td>\n",
       "      <td>Average accuracy = 98.65%</td>\n",
       "      <td>Average accuracy = 98.65%</td>\n",
       "      <td>Average accuracy = 98.65%</td>\n",
       "      <td>Average accuracy = 98.65%</td>\n",
       "      <td>Average accuracy = 98.65%</td>\n",
       "      <td>Average accuracy = 98.65%</td>\n",
       "    </tr>\n",
       "  </tbody>\n",
       "</table>\n",
       "</div>"
      ],
      "text/plain": [
       "                           0                          1  \\\n",
       "0  Average accuracy = 97.64%  Average accuracy = 98.15%   \n",
       "1  Average accuracy = 98.65%  Average accuracy = 98.82%   \n",
       "2  Average accuracy = 99.16%  Average accuracy = 98.82%   \n",
       "\n",
       "                           2                          3  \\\n",
       "0  Average accuracy = 98.65%  Average accuracy = 98.48%   \n",
       "1  Average accuracy = 98.48%  Average accuracy = 98.15%   \n",
       "2  Average accuracy = 98.99%  Average accuracy = 98.65%   \n",
       "\n",
       "                           4                          5  \\\n",
       "0  Average accuracy = 98.48%  Average accuracy = 98.48%   \n",
       "1  Average accuracy = 98.15%  Average accuracy = 98.15%   \n",
       "2  Average accuracy = 98.65%  Average accuracy = 98.65%   \n",
       "\n",
       "                           6                          7  \\\n",
       "0  Average accuracy = 98.48%  Average accuracy = 98.48%   \n",
       "1  Average accuracy = 98.15%  Average accuracy = 98.15%   \n",
       "2  Average accuracy = 98.65%  Average accuracy = 98.65%   \n",
       "\n",
       "                           8  \n",
       "0  Average accuracy = 98.48%  \n",
       "1  Average accuracy = 98.15%  \n",
       "2  Average accuracy = 98.65%  "
      ]
     },
     "execution_count": 130,
     "metadata": {},
     "output_type": "execute_result"
    }
   ],
   "source": [
    "pd.DataFrame(result)"
   ]
  },
  {
   "cell_type": "code",
   "execution_count": 126,
   "metadata": {
    "ExecuteTime": {
     "end_time": "2022-06-10T03:02:37.155000Z",
     "start_time": "2022-06-10T03:02:37.107567Z"
    }
   },
   "outputs": [
    {
     "name": "stdout",
     "output_type": "stream",
     "text": [
      "confusion matrix : \n",
      "\n",
      "[[59  0  0  0  0  0  0  0  0  0]\n",
      " [ 0 59  0  0  0  0  0  0  1  0]\n",
      " [ 0  0 59  0  0  0  0  0  0  0]\n",
      " [ 0  0  0 59  0  0  0  1  0  0]\n",
      " [ 0  0  0  0 60  0  0  0  0  0]\n",
      " [ 0  0  0  0  0 60  0  0  0  0]\n",
      " [ 0  0  0  0  0  0 60  0  0  0]\n",
      " [ 0  0  0  0  0  0  0 59  0  0]\n",
      " [ 0  2  0  0  0  0  0  0 56  0]\n",
      " [ 0  0  0  1  0  0  0  0  0 58]]\n",
      "\n",
      "\n",
      "classification_report : \n",
      "\n",
      "              precision    recall  f1-score   support\n",
      "\n",
      "           0       1.00      1.00      1.00        59\n",
      "           1       0.97      0.98      0.98        60\n",
      "           2       1.00      1.00      1.00        59\n",
      "           3       0.98      0.98      0.98        60\n",
      "           4       1.00      1.00      1.00        60\n",
      "           5       1.00      1.00      1.00        60\n",
      "           6       1.00      1.00      1.00        60\n",
      "           7       0.98      1.00      0.99        59\n",
      "           8       0.98      0.97      0.97        58\n",
      "           9       1.00      0.98      0.99        59\n",
      "\n",
      "    accuracy                           0.99       594\n",
      "   macro avg       0.99      0.99      0.99       594\n",
      "weighted avg       0.99      0.99      0.99       594\n",
      "\n",
      "Average accuracy = 99.16%\n"
     ]
    }
   ],
   "source": [
    "# 결론\n",
    "\n",
    "from sklearn.neighbors import KNeighborsTransformer, KNeighborsClassifier    \n",
    "knn = KNeighborsClassifier(n_neighbors =1)\n",
    "knn.fit(x_train,y_train)\n",
    "y_pred = knn.predict(x_test)\n",
    "\n",
    "from sklearn.metrics import confusion_matrix\n",
    "cm = confusion_matrix(y_true = y_test,y_pred=y_pred)\n",
    "from sklearn.metrics import classification_report\n",
    "cr = classification_report(y_test,y_pred)\n",
    "\n",
    "\n",
    "\n",
    "accuracy = knn.score(x_test,y_test)\n",
    "\n",
    "print('confusion matrix : \\n')\n",
    "print(cm)\n",
    "print('\\n\\nclassification_report : \\n')\n",
    "print(cr)\n",
    "print('Average accuracy = {:.2f}%'.format(accuracy*100))"
   ]
  },
  {
   "cell_type": "markdown",
   "metadata": {},
   "source": [
    "- This is my result. \n",
    "\n",
    "```\n",
    "confusion matrix : \n",
    "\n",
    "[[49  0  0  0  0  0  0  0  0  0]\n",
    " [ 0 61  0  0  0  0  0  0  0  0]\n",
    " [ 0  0 61  1  0  0  0  0  0  0]\n",
    " [ 0  0  0 55  0  0  0  0  0  0]\n",
    " [ 0  0  0  0 50  0  0  0  0  0]\n",
    " [ 0  0  0  0  0 63  1  0  0  1]\n",
    " [ 0  0  0  0  0  0 67  0  0  0]\n",
    " [ 0  0  0  0  0  0  0 56  0  0]\n",
    " [ 0  2  0  0  0  0  0  0 65  0]\n",
    " [ 0  0  0  1  0  0  0  0  0 61]]\n",
    "\n",
    "\n",
    "classification_report : \n",
    "\n",
    "              precision    recall  f1-score   support\n",
    "\n",
    "           0       1.00      1.00      1.00        49\n",
    "           1       0.97      1.00      0.98        61\n",
    "           2       1.00      0.98      0.99        62\n",
    "           3       0.96      1.00      0.98        55\n",
    "           4       1.00      1.00      1.00        50\n",
    "           5       1.00      0.97      0.98        65\n",
    "           6       0.99      1.00      0.99        67\n",
    "           7       1.00      1.00      1.00        56\n",
    "           8       1.00      0.97      0.98        67\n",
    "           9       0.98      0.98      0.98        62\n",
    "\n",
    "    accuracy                           0.99       594\n",
    "   macro avg       0.99      0.99      0.99       594\n",
    "weighted avg       0.99      0.99      0.99       594\n",
    "\n",
    "Average accuracy = 98.99%\n",
    "```"
   ]
  },
  {
   "cell_type": "markdown",
   "metadata": {},
   "source": [
    "\n",
    "### Written justification for your hyperparameter choice and data transformation\n",
    "\n",
    "- WRITE HERE (To edit, double click this cell)\n",
    "          tsne 를 이용한 3차원으로 축소 이후  knn 에서 k = 1를 사용여 99.16% 의 정확성을 찾았으며 이는 가장 높다. \n",
    "\n"
   ]
  },
  {
   "cell_type": "markdown",
   "metadata": {},
   "source": [
    "## Ethics:\n",
    "If you cheat, you will get negatgive of the total points.\n",
    "If the homework total is 22 and you cheat, you get -22."
   ]
  },
  {
   "cell_type": "markdown",
   "metadata": {},
   "source": [
    "## What to submit\n",
    "\n",
    "- Run **all cells** after restarting the kernel\n",
    "- Goto \"File -> Print Preview\"\n",
    "- Print the page as pdf\n",
    "- Pdf file name must be in a form of: homework_6_홍길동_202200001.pdf\n",
    "- Submit the pdf file in google classroom\n",
    "- No late homeworks will be accepted\n",
    "- Your homework will be graded on the basis of correctness and programming skills"
   ]
  }
 ],
 "metadata": {
  "celltoolbar": "Slideshow",
  "hide_input": false,
  "kernelspec": {
   "display_name": "Python 3",
   "language": "python",
   "name": "python3"
  },
  "language_info": {
   "codemirror_mode": {
    "name": "ipython",
    "version": 3
   },
   "file_extension": ".py",
   "mimetype": "text/x-python",
   "name": "python",
   "nbconvert_exporter": "python",
   "pygments_lexer": "ipython3",
   "version": "3.7.0"
  },
  "toc": {
   "base_numbering": 1,
   "nav_menu": {},
   "number_sections": true,
   "sideBar": true,
   "skip_h1_title": false,
   "title_cell": "Table of Contents",
   "title_sidebar": "Contents",
   "toc_cell": false,
   "toc_position": {},
   "toc_section_display": true,
   "toc_window_display": false
  },
  "varInspector": {
   "cols": {
    "lenName": 16,
    "lenType": 16,
    "lenVar": 40
   },
   "kernels_config": {
    "python": {
     "delete_cmd_postfix": "",
     "delete_cmd_prefix": "del ",
     "library": "var_list.py",
     "varRefreshCmd": "print(var_dic_list())"
    },
    "r": {
     "delete_cmd_postfix": ") ",
     "delete_cmd_prefix": "rm(",
     "library": "var_list.r",
     "varRefreshCmd": "cat(var_dic_list()) "
    }
   },
   "types_to_exclude": [
    "module",
    "function",
    "builtin_function_or_method",
    "instance",
    "_Feature"
   ],
   "window_display": false
  }
 },
 "nbformat": 4,
 "nbformat_minor": 2
}
