{
 "cells": [
  {
   "cell_type": "markdown",
   "metadata": {},
   "source": [
    "# Homework 3. Gradient Descent"
   ]
  },
  {
   "cell_type": "markdown",
   "metadata": {},
   "source": [
    "***Double Click here to edit this cell***\n",
    "\n",
    "- Name: 조성현\n",
    "- Student ID:201803430 \n",
    "- Submission date: 22.04.29"
   ]
  },
  {
   "cell_type": "markdown",
   "metadata": {},
   "source": [
    "## Remark: gradient_descent.py, linear_algebra.py must be in the folder having this notebook file"
   ]
  },
  {
   "cell_type": "code",
   "execution_count": 14,
   "metadata": {
    "ExecuteTime": {
     "end_time": "2022-04-29T01:50:31.214629Z",
     "start_time": "2022-04-29T01:50:31.212751Z"
    }
   },
   "outputs": [],
   "source": [
    "# run this cell\n",
    "from gradient_descent import *\n",
    "from linear_algebra import *"
   ]
  },
  {
   "cell_type": "code",
   "execution_count": 15,
   "metadata": {
    "ExecuteTime": {
     "end_time": "2022-04-29T01:50:31.334683Z",
     "start_time": "2022-04-29T01:50:31.216655Z"
    },
    "scrolled": true
   },
   "outputs": [
    {
     "name": "stdout",
     "output_type": "stream",
     "text": [
      "# -*- coding: iso-8859-15 -*-\r\n",
      "\r\n",
      "import re, math, random # regexes, math functions, random numbers\r\n",
      "import matplotlib.pyplot as plt # pyplot\r\n",
      "from collections import defaultdict, Counter\r\n",
      "from functools import partial, reduce\r\n",
      "\r\n",
      "#\r\n",
      "# functions for working with vectors\r\n",
      "#\r\n",
      "\r\n",
      "def vector_add(v, w):\r\n",
      "    \"\"\"adds two vectors componentwise\"\"\"\r\n",
      "    return [v_i + w_i for v_i, w_i in zip(v,w)]\r\n",
      "\r\n",
      "def vector_subtract(v, w):\r\n",
      "    \"\"\"subtracts two vectors componentwise\"\"\"\r\n",
      "    return [v_i - w_i for v_i, w_i in zip(v,w)]\r\n",
      "\r\n",
      "def vector_sum(vectors):\r\n",
      "    return reduce(vector_add, vectors)\r\n",
      "\r\n",
      "def scalar_multiply(c, v):\r\n",
      "    return [c * v_i for v_i in v]\r\n",
      "\r\n",
      "def vector_mean(vectors):\r\n",
      "    \"\"\"compute the vector whose i-th element is the mean of the\r\n",
      "    i-th elements of the input vectors\"\"\"\r\n",
      "    n = len(vectors)\r\n",
      "    return scalar_multiply(1/n, vector_sum(vectors))\r\n",
      "\r\n",
      "def dot(v, w):\r\n",
      "    \"\"\"v_1 * w_1 + ... + v_n * w_n\"\"\"\r\n",
      "    return sum(v_i * w_i for v_i, w_i in zip(v, w))\r\n",
      "\r\n",
      "def sum_of_squares(v):\r\n",
      "    \"\"\"v_1 * v_1 + ... + v_n * v_n\"\"\"\r\n",
      "    return dot(v, v)\r\n",
      "\r\n",
      "def magnitude(v):\r\n",
      "    return math.sqrt(sum_of_squares(v))\r\n",
      "\r\n",
      "def squared_distance(v, w):\r\n",
      "    return sum_of_squares(vector_subtract(v, w))\r\n",
      "\r\n",
      "def distance(v, w):\r\n",
      "   return math.sqrt(squared_distance(v, w))\r\n",
      "\r\n",
      "#\r\n",
      "# functions for working with matrices\r\n",
      "#\r\n",
      "\r\n",
      "def shape(A):\r\n",
      "    num_rows = len(A)\r\n",
      "    num_cols = len(A[0]) if A else 0\r\n",
      "    return num_rows, num_cols\r\n",
      "\r\n",
      "def get_row(A, i):\r\n",
      "    return A[i]\r\n",
      "\r\n",
      "def get_column(A, j):\r\n",
      "    return [A_i[j] for A_i in A]\r\n",
      "\r\n",
      "def make_matrix(num_rows, num_cols, entry_fn):\r\n",
      "    \"\"\"returns a num_rows x num_cols matrix\r\n",
      "    whose (i,j)-th entry is entry_fn(i, j)\"\"\"\r\n",
      "    return [[entry_fn(i, j) for j in range(num_cols)]\r\n",
      "            for i in range(num_rows)]\r\n",
      "\r\n",
      "def is_diagonal(i, j):\r\n",
      "    \"\"\"1's on the 'diagonal', 0's everywhere else\"\"\"\r\n",
      "    return 1 if i == j else 0\r\n",
      "\r\n",
      "identity_matrix = make_matrix(5, 5, is_diagonal)\r\n",
      "\r\n",
      "#          user 0  1  2  3  4  5  6  7  8  9\r\n",
      "#\r\n",
      "friendships = [[0, 1, 1, 0, 0, 0, 0, 0, 0, 0], # user 0\r\n",
      "               [1, 0, 1, 1, 0, 0, 0, 0, 0, 0], # user 1\r\n",
      "               [1, 1, 0, 1, 0, 0, 0, 0, 0, 0], # user 2\r\n",
      "               [0, 1, 1, 0, 1, 0, 0, 0, 0, 0], # user 3\r\n",
      "               [0, 0, 0, 1, 0, 1, 0, 0, 0, 0], # user 4\r\n",
      "               [0, 0, 0, 0, 1, 0, 1, 1, 0, 0], # user 5\r\n",
      "               [0, 0, 0, 0, 0, 1, 0, 0, 1, 0], # user 6\r\n",
      "               [0, 0, 0, 0, 0, 1, 0, 0, 1, 0], # user 7\r\n",
      "               [0, 0, 0, 0, 0, 0, 1, 1, 0, 1], # user 8\r\n",
      "               [0, 0, 0, 0, 0, 0, 0, 0, 1, 0]] # user 9\r\n",
      "\r\n",
      "#####\r\n",
      "# DELETE DOWN\r\n",
      "#\r\n",
      "\r\n",
      "\r\n",
      "def matrix_add(A, B):\r\n",
      "    if shape(A) != shape(B):\r\n",
      "        raise ArithmeticError(\"cannot add matrices with different shapes\")\r\n",
      "\r\n",
      "    num_rows, num_cols = shape(A)\r\n",
      "    def entry_fn(i, j): return A[i][j] + B[i][j]\r\n",
      "\r\n",
      "    return make_matrix(num_rows, num_cols, entry_fn)\r\n",
      "\r\n",
      "\r\n",
      "def make_graph_dot_product_as_vector_projection(plt):\r\n",
      "\r\n",
      "    v = [2, 1]\r\n",
      "    w = [math.sqrt(.25), math.sqrt(.75)]\r\n",
      "    c = dot(v, w)\r\n",
      "    vonw = scalar_multiply(c, w)\r\n",
      "    o = [0,0]\r\n",
      "\r\n",
      "    plt.arrow(0, 0, v[0], v[1],\r\n",
      "              width=0.002, head_width=.1, length_includes_head=True)\r\n",
      "    plt.annotate(\"v\", v, xytext=[v[0] + 0.1, v[1]])\r\n",
      "    plt.arrow(0 ,0, w[0], w[1],\r\n",
      "              width=0.002, head_width=.1, length_includes_head=True)\r\n",
      "    plt.annotate(\"w\", w, xytext=[w[0] - 0.1, w[1]])\r\n",
      "    plt.arrow(0, 0, vonw[0], vonw[1], length_includes_head=True)\r\n",
      "    plt.annotate(u\"(v•w)w\", vonw, xytext=[vonw[0] - 0.1, vonw[1] + 0.1])\r\n",
      "    plt.arrow(v[0], v[1], vonw[0] - v[0], vonw[1] - v[1],\r\n",
      "              linestyle='dotted', length_includes_head=True)\r\n",
      "    plt.scatter(*zip(v,w,o),marker='.')\r\n",
      "    plt.axis('equal')\r\n",
      "    plt.show()\r\n"
     ]
    }
   ],
   "source": [
    "# for Linux, mac users\n",
    "!cat linear_algebra.py\n",
    "#!type linear_algebra.py"
   ]
  },
  {
   "cell_type": "code",
   "execution_count": 16,
   "metadata": {
    "ExecuteTime": {
     "end_time": "2022-04-29T01:50:31.461364Z",
     "start_time": "2022-04-29T01:50:31.337938Z"
    }
   },
   "outputs": [
    {
     "name": "stdout",
     "output_type": "stream",
     "text": [
      "from collections import Counter\r\n",
      "from linear_algebra import distance, vector_subtract, scalar_multiply\r\n",
      "from functools import reduce\r\n",
      "import math, random\r\n",
      "\r\n",
      "def sum_of_squares(v):\r\n",
      "    \"\"\"computes the sum of squared elements in v\"\"\"\r\n",
      "    return sum(v_i ** 2 for v_i in v)\r\n",
      "\r\n",
      "def difference_quotient(f, x, h):\r\n",
      "    return (f(x + h) - f(x)) / h\r\n",
      "\r\n",
      "def plot_estimated_derivative():\r\n",
      "\r\n",
      "    def square(x):\r\n",
      "        return x * x\r\n",
      "\r\n",
      "    def derivative(x):\r\n",
      "        return 2 * x\r\n",
      "\r\n",
      "    derivative_estimate = lambda x: difference_quotient(square, x, h=0.00001)\r\n",
      "\r\n",
      "    # plot to show they're basically the same\r\n",
      "    import matplotlib.pyplot as plt\r\n",
      "    x = range(-10,10)\r\n",
      "    plt.plot(x, map(derivative, x), 'rx')           # red  x\r\n",
      "    plt.plot(x, map(derivative_estimate, x), 'b+')  # blue +\r\n",
      "    plt.show()                                      # purple *, hopefully\r\n",
      "\r\n",
      "def partial_difference_quotient(f, v, i, h):\r\n",
      "\r\n",
      "    # add h to just the i-th element of v\r\n",
      "    w = [v_j + (h if j == i else 0)\r\n",
      "         for j, v_j in enumerate(v)]\r\n",
      "\r\n",
      "    return (f(w) - f(v)) / h\r\n",
      "\r\n",
      "def estimate_gradient(f, v, h=0.00001):\r\n",
      "    return [partial_difference_quotient(f, v, i, h)\r\n",
      "            for i, _ in enumerate(v)]\r\n",
      "\r\n",
      "def step(v, direction, step_size):\r\n",
      "    \"\"\"move step_size in the direction from v\"\"\"\r\n",
      "    return [v_i + step_size * direction_i\r\n",
      "            for v_i, direction_i in zip(v, direction)]\r\n",
      "\r\n",
      "def sum_of_squares_gradient(v):\r\n",
      "    return [2 * v_i for v_i in v]\r\n",
      "\r\n",
      "def safe(f):\r\n",
      "    \"\"\"define a new function that wraps f and return it\"\"\"\r\n",
      "    def safe_f(*args, **kwargs):\r\n",
      "        try:\r\n",
      "            return f(*args, **kwargs)\r\n",
      "        except:\r\n",
      "            return float('inf')         # this means \"infinity\" in Python\r\n",
      "    return safe_f\r\n",
      "\r\n",
      "\r\n",
      "#\r\n",
      "#\r\n",
      "# minimize / maximize batch\r\n",
      "#\r\n",
      "#\r\n",
      "\r\n",
      "def minimize_batch(target_fn, gradient_fn, theta_0, tolerance=0.000001):\r\n",
      "    \"\"\"use gradient descent to find theta that minimizes target function\"\"\"\r\n",
      "\r\n",
      "    step_sizes = [100, 10, 1, 0.1, 0.01, 0.001, 0.0001, 0.00001]\r\n",
      "\r\n",
      "    theta = theta_0                           # set theta to initial value\r\n",
      "    target_fn = safe(target_fn)               # safe version of target_fn\r\n",
      "    value = target_fn(theta)                  # value we're minimizing\r\n",
      "\r\n",
      "    while True:\r\n",
      "        gradient = gradient_fn(theta)\r\n",
      "        next_thetas = [step(theta, gradient, -step_size)\r\n",
      "                       for step_size in step_sizes]\r\n",
      "\r\n",
      "        # choose the one that minimizes the error function\r\n",
      "        next_theta = min(next_thetas, key=target_fn)\r\n",
      "        next_value = target_fn(next_theta)\r\n",
      "\r\n",
      "        # stop if we're \"converging\"\r\n",
      "        if abs(value - next_value) < tolerance:\r\n",
      "            return theta\r\n",
      "        else:\r\n",
      "            theta, value = next_theta, next_value\r\n",
      "\r\n",
      "def negate(f):\r\n",
      "    \"\"\"return a function that for any input x returns -f(x)\"\"\"\r\n",
      "    return lambda *args, **kwargs: -f(*args, **kwargs)\r\n",
      "\r\n",
      "def negate_all(f):\r\n",
      "    \"\"\"the same when f returns a list of numbers\"\"\"\r\n",
      "    return lambda *args, **kwargs: [-y for y in f(*args, **kwargs)]\r\n",
      "\r\n",
      "def maximize_batch(target_fn, gradient_fn, theta_0, tolerance=0.000001):\r\n",
      "    return minimize_batch(negate(target_fn),\r\n",
      "                          negate_all(gradient_fn),\r\n",
      "                          theta_0,\r\n",
      "                          tolerance)\r\n",
      "\r\n",
      "#\r\n",
      "# minimize / maximize stochastic\r\n",
      "#\r\n",
      "\r\n",
      "def in_random_order(data):\r\n",
      "    \"\"\"generator that returns the elements of data in random order\"\"\"\r\n",
      "    indexes = [i for i, _ in enumerate(data)]  # create a list of indexes\r\n",
      "    random.shuffle(indexes)                    # shuffle them\r\n",
      "    for i in indexes:                          # return the data in that order\r\n",
      "        yield data[i]\r\n",
      "\r\n",
      "def minimize_stochastic(target_fn, gradient_fn, x, y, theta_0, alpha_0=0.01):\r\n",
      "\r\n",
      "    data = list(zip(x, y))\r\n",
      "    theta = theta_0                             # initial guess\r\n",
      "    alpha = alpha_0                             # initial step size\r\n",
      "    min_theta, min_value = None, float(\"inf\")   # the minimum so far\r\n",
      "    iterations_with_no_improvement = 0\r\n",
      "\r\n",
      "    # if we ever go 100 iterations with no improvement, stop\r\n",
      "    while iterations_with_no_improvement < 100:\r\n",
      "        value = sum( target_fn(x_i, y_i, theta) for x_i, y_i in data )\r\n",
      "\r\n",
      "        if value < min_value:\r\n",
      "            # if we've found a new minimum, remember it\r\n",
      "            # and go back to the original step size\r\n",
      "            min_theta, min_value = theta, value\r\n",
      "            iterations_with_no_improvement = 0\r\n",
      "            alpha = alpha_0\r\n",
      "        else:\r\n",
      "            # otherwise we're not improving, so try shrinking the step size\r\n",
      "            iterations_with_no_improvement += 1\r\n",
      "            alpha *= 0.9\r\n",
      "\r\n",
      "        # and take a gradient step for each of the data points\r\n",
      "        for x_i, y_i in in_random_order(data):\r\n",
      "            gradient_i = gradient_fn(x_i, y_i, theta)\r\n",
      "            theta = vector_subtract(theta, scalar_multiply(alpha, gradient_i))\r\n",
      "\r\n",
      "    return min_theta\r\n",
      "\r\n",
      "def maximize_stochastic(target_fn, gradient_fn, x, y, theta_0, alpha_0=0.01):\r\n",
      "    return minimize_stochastic(negate(target_fn),\r\n",
      "                               negate_all(gradient_fn),\r\n",
      "                               x, y, theta_0, alpha_0)\r\n",
      "\r\n",
      "if __name__ == \"__main__\":\r\n",
      "\r\n",
      "    print(\"using the gradient\")\r\n",
      "\r\n",
      "    v = [random.randint(-10,10) for i in range(3)]\r\n",
      "\r\n",
      "    tolerance = 0.0000001\r\n",
      "\r\n",
      "    while True:\r\n",
      "        #print v, sum_of_squares(v)\r\n",
      "        gradient = sum_of_squares_gradient(v)   # compute the gradient at v\r\n",
      "        next_v = step(v, gradient, -0.01)       # take a negative gradient step\r\n",
      "        if distance(next_v, v) < tolerance:     # stop if we're converging\r\n",
      "            break\r\n",
      "        v = next_v                              # continue if we're not\r\n",
      "\r\n",
      "    print(\"minimum v\", v)\r\n",
      "    print(\"minimum value\", sum_of_squares(v))\r\n",
      "    print()\r\n",
      "\r\n",
      "\r\n",
      "    print(\"using minimize_batch\")\r\n",
      "\r\n",
      "    v = [random.randint(-10,10) for i in range(3)]\r\n",
      "\r\n",
      "    v = minimize_batch(sum_of_squares, sum_of_squares_gradient, v)\r\n",
      "\r\n",
      "    print(\"minimum v\", v)\r\n",
      "    print(\"minimum value\", sum_of_squares(v))\r\n"
     ]
    }
   ],
   "source": [
    "# for Linux, mac users\n",
    "!cat gradient_descent.py\n",
    "#!type gradient_descent.py"
   ]
  },
  {
   "cell_type": "markdown",
   "metadata": {},
   "source": [
    "## Problem 1 (5 pts)\n",
    "\n",
    "- The following function has a minimum at $(2, 3)$\n",
    "$$\n",
    "f(x_1, x_2) = (x_1 - 2)^2 + (x_2 - 3)^2\n",
    "$$\n",
    "\n",
    "- We want to compute the minimum of $f$ using the gradient descent algorithm\n",
    "- Define a function (```f```) and gradient of function (```f_gradient```)\n",
    "- **Do NOT use numpy functions to define f and f_gradient**\n",
    "- **USE functions in linear_algebra.py**\n",
    "### <span style=\"color:red\">**You write two functions. Each function must have ONE line of code in function body; Otherwise, you get zero point (0점)**</span>"
   ]
  },
  {
   "cell_type": "code",
   "execution_count": 17,
   "metadata": {
    "ExecuteTime": {
     "end_time": "2022-04-29T01:50:31.468070Z",
     "start_time": "2022-04-29T01:50:31.464328Z"
    }
   },
   "outputs": [],
   "source": [
    "# YOUR CODE MUST BE HERE\n",
    "def f(theta,a=2,b=3):\n",
    "    return sum_of_squares([theta[0]-a,theta[1]-b])\n",
    "\n",
    "def f_gradient(theta,a=2,b=3):\n",
    "    return scalar_multiply( 2,[ theta[0]-a,theta[1]-b] )\n",
    "\n",
    "\n",
    "\n",
    "\n",
    "##\n",
    "def f(x):\n",
    "    return sum_of_squares(vector_subtract(x,[2.,3.]))\n",
    "\n",
    "def f_gradient(x):\n",
    "    return scalar_multiply( 2,vector_subtract(x,[2.,3.]))\n"
   ]
  },
  {
   "cell_type": "code",
   "execution_count": 18,
   "metadata": {
    "ExecuteTime": {
     "end_time": "2022-04-29T01:50:31.476861Z",
     "start_time": "2022-04-29T01:50:31.470039Z"
    }
   },
   "outputs": [
    {
     "name": "stdout",
     "output_type": "stream",
     "text": [
      "CPU times: user 641 µs, sys: 8 µs, total: 649 µs\n",
      "Wall time: 651 µs\n",
      "solution is [1.997524119921429, 2.996286179882144]\n",
      "++++++++++ Problem 1 check passed ++++++++++\n"
     ]
    }
   ],
   "source": [
    "# DO NOT EDIT THIS CELL\n",
    "# RUN THIS CELL\n",
    "\n",
    "init_x = [0.,0.]\n",
    "%time solution = minimize_batch(f, f_gradient, init_x, tolerance=0.00001)\n",
    "\n",
    "### correctness check\n",
    "print('solution is {}'.format(solution))\n",
    "EPSILON = 0.01\n",
    "cond1 = math.fabs(solution[0] - 2.0) <= EPSILON\n",
    "cond2 = math.fabs(solution[1] - 3.0) <= EPSILON\n",
    "assert  all([cond1, cond2]), '-'*10 + ' Problem 1 check failed ' + '-'*10\n",
    "print('+'*10 + ' Problem 1 check passed ' + '+'*10)"
   ]
  },
  {
   "cell_type": "markdown",
   "metadata": {},
   "source": [
    "## Problem 2 (10 pts)\n",
    "\n",
    "- The centroid of a finite set of $\\displaystyle {k}$ points $\\displaystyle \\mathbf {x} _{1},\\mathbf {x} _{2},\\ldots ,\\mathbf {x} _{k}$ in $\\displaystyle \\mathbb {R} ^{n}$ is\n",
    "$$\n",
    "\\mathbf {C} ={\\frac {\\mathbf {x} _{1}+\\mathbf {x} _{2}+\\cdots +\\mathbf {x} _{k}}{k}}\n",
    "$$\n",
    "\n",
    "- We want to compute a centroid by **minimizing the mean of squared Euclidean distances between itself and each point in the set**\n",
    "$$\n",
    "x_{\\text{centroid}} = \\text{argmin}_{\\text{c}} {\\frac{\\sum_{i=1}^{n}d({\\text{c}}, x_i)^2}{n}}\n",
    "$$\n",
    "- Define a function (```sq_dist```) and gradient of function (```sq_dist_gradient```)\n",
    "- **Do NOT use numpy functions to define sq_dist and sq_dist_gradient**\n",
    "- **USE functions in linear_algebra.py**\n",
    "### <span style=\"color:red\">**You write two functions. Each function must have ONE line of code in function body; Otherwise, you get zero point (0점)**</span>"
   ]
  },
  {
   "cell_type": "code",
   "execution_count": 90,
   "metadata": {
    "ExecuteTime": {
     "end_time": "2022-04-29T09:40:02.303124Z",
     "start_time": "2022-04-29T09:40:02.300292Z"
    }
   },
   "outputs": [],
   "source": [
    "# YOUR CODE MUST BE HERE\n",
    "def sq_dist(v,X):\n",
    "    return squared_distance(v,X)\n",
    "def sq_dist_gradient(v,X):  \n",
    "    return vector_subtract(v,vector_mean(X))\n"
   ]
  },
  {
   "cell_type": "code",
   "execution_count": 91,
   "metadata": {
    "ExecuteTime": {
     "end_time": "2022-04-29T09:40:03.411863Z",
     "start_time": "2022-04-29T09:40:03.395173Z"
    }
   },
   "outputs": [
    {
     "ename": "ValueError",
     "evalue": "The truth value of an array with more than one element is ambiguous. Use a.any() or a.all()",
     "output_type": "error",
     "traceback": [
      "\u001b[0;31m---------------------------------------------------------------------------\u001b[0m",
      "\u001b[0;31mValueError\u001b[0m                                Traceback (most recent call last)",
      "\u001b[0;32m<timed exec>\u001b[0m in \u001b[0;36m<module>\u001b[0;34m\u001b[0m\n",
      "\u001b[0;32m<ipython-input-44-64e52c468f44>\u001b[0m in \u001b[0;36mminimize_batch\u001b[0;34m(target_fn, gradient_fn, theta_0, tolerance)\u001b[0m\n\u001b[1;32m     16\u001b[0m \u001b[0;34m\u001b[0m\u001b[0m\n\u001b[1;32m     17\u001b[0m         \u001b[0;31m# choose the one that minimizes the error function\u001b[0m\u001b[0;34m\u001b[0m\u001b[0;34m\u001b[0m\u001b[0m\n\u001b[0;32m---> 18\u001b[0;31m         \u001b[0mnext_theta\u001b[0m \u001b[0;34m=\u001b[0m \u001b[0mmin\u001b[0m\u001b[0;34m(\u001b[0m\u001b[0mnext_thetas\u001b[0m\u001b[0;34m,\u001b[0m \u001b[0mkey\u001b[0m\u001b[0;34m=\u001b[0m\u001b[0mtarget_fn\u001b[0m\u001b[0;34m)\u001b[0m\u001b[0;34m\u001b[0m\u001b[0m\n\u001b[0m\u001b[1;32m     19\u001b[0m         \u001b[0mnext_value\u001b[0m \u001b[0;34m=\u001b[0m \u001b[0mtarget_fn\u001b[0m\u001b[0;34m(\u001b[0m\u001b[0mnext_theta\u001b[0m\u001b[0;34m)\u001b[0m\u001b[0;34m\u001b[0m\u001b[0m\n\u001b[1;32m     20\u001b[0m \u001b[0;34m\u001b[0m\u001b[0m\n",
      "\u001b[0;31mValueError\u001b[0m: The truth value of an array with more than one element is ambiguous. Use a.any() or a.all()"
     ]
    },
    {
     "name": "stdout",
     "output_type": "stream",
     "text": [
      "solution is [1.997524119921429, 2.996286179882144]\n"
     ]
    },
    {
     "ename": "AssertionError",
     "evalue": "---------- Problem 2 check failed ----------",
     "output_type": "error",
     "traceback": [
      "\u001b[0;31m---------------------------------------------------------------------------\u001b[0m",
      "\u001b[0;31mAssertionError\u001b[0m                            Traceback (most recent call last)",
      "\u001b[0;32m<ipython-input-91-0a807fc72996>\u001b[0m in \u001b[0;36m<module>\u001b[0;34m\u001b[0m\n\u001b[1;32m     19\u001b[0m \u001b[0mcond1\u001b[0m \u001b[0;34m=\u001b[0m \u001b[0mmath\u001b[0m\u001b[0;34m.\u001b[0m\u001b[0mfabs\u001b[0m\u001b[0;34m(\u001b[0m\u001b[0msolution\u001b[0m\u001b[0;34m[\u001b[0m\u001b[0;36m0\u001b[0m\u001b[0;34m]\u001b[0m \u001b[0;34m-\u001b[0m \u001b[0;36m100.0\u001b[0m\u001b[0;34m)\u001b[0m \u001b[0;34m<=\u001b[0m \u001b[0mEPSILON\u001b[0m\u001b[0;34m\u001b[0m\u001b[0m\n\u001b[1;32m     20\u001b[0m \u001b[0mcond2\u001b[0m \u001b[0;34m=\u001b[0m \u001b[0mmath\u001b[0m\u001b[0;34m.\u001b[0m\u001b[0mfabs\u001b[0m\u001b[0;34m(\u001b[0m\u001b[0msolution\u001b[0m\u001b[0;34m[\u001b[0m\u001b[0;36m1\u001b[0m\u001b[0;34m]\u001b[0m \u001b[0;34m-\u001b[0m \u001b[0;36m700.0\u001b[0m\u001b[0;34m)\u001b[0m \u001b[0;34m<=\u001b[0m \u001b[0mEPSILON\u001b[0m\u001b[0;34m\u001b[0m\u001b[0m\n\u001b[0;32m---> 21\u001b[0;31m \u001b[0;32massert\u001b[0m  \u001b[0mall\u001b[0m\u001b[0;34m(\u001b[0m\u001b[0;34m[\u001b[0m\u001b[0mcond1\u001b[0m\u001b[0;34m,\u001b[0m \u001b[0mcond2\u001b[0m\u001b[0;34m]\u001b[0m\u001b[0;34m)\u001b[0m\u001b[0;34m,\u001b[0m \u001b[0;34m'-'\u001b[0m\u001b[0;34m*\u001b[0m\u001b[0;36m10\u001b[0m \u001b[0;34m+\u001b[0m \u001b[0;34m' Problem 2 check failed '\u001b[0m \u001b[0;34m+\u001b[0m \u001b[0;34m'-'\u001b[0m\u001b[0;34m*\u001b[0m\u001b[0;36m10\u001b[0m\u001b[0;34m\u001b[0m\u001b[0m\n\u001b[0m\u001b[1;32m     22\u001b[0m \u001b[0mprint\u001b[0m\u001b[0;34m(\u001b[0m\u001b[0;34m'+'\u001b[0m\u001b[0;34m*\u001b[0m\u001b[0;36m10\u001b[0m \u001b[0;34m+\u001b[0m \u001b[0;34m' Problem 2 check passed '\u001b[0m \u001b[0;34m+\u001b[0m \u001b[0;34m'+'\u001b[0m\u001b[0;34m*\u001b[0m\u001b[0;36m10\u001b[0m\u001b[0;34m)\u001b[0m\u001b[0;34m\u001b[0m\u001b[0m\n",
      "\u001b[0;31mAssertionError\u001b[0m: ---------- Problem 2 check failed ----------"
     ]
    }
   ],
   "source": [
    "# DO NOT EDIT THIS CELL\n",
    "# RUN THIS CELL\n",
    "\n",
    "from functools import partial\n",
    "import numpy as np\n",
    "\n",
    "np.random.seed(0)\n",
    "c = np.array([100,700])\n",
    "X = c + np.random.randn(100,2)\n",
    "\n",
    "f = partial(sq_dist, X=X)\n",
    "gradient_f = partial(sq_dist_gradient, X=X)\n",
    "init_x = np.array([0.,0.])\n",
    "%time solution = minimize_batch(f, gradient_f, init_x)\n",
    "\n",
    "### correctness check\n",
    "print('solution is {}'.format(solution))\n",
    "EPSILON = 1\n",
    "cond1 = math.fabs(solution[0] - 100.0) <= EPSILON\n",
    "cond2 = math.fabs(solution[1] - 700.0) <= EPSILON\n",
    "assert  all([cond1, cond2]), '-'*10 + ' Problem 2 check failed ' + '-'*10\n",
    "print('+'*10 + ' Problem 2 check passed ' + '+'*10)"
   ]
  },
  {
   "cell_type": "code",
   "execution_count": null,
   "metadata": {
    "ExecuteTime": {
     "end_time": "2022-04-29T01:51:45.266670Z",
     "start_time": "2022-04-29T01:50:31.220Z"
    }
   },
   "outputs": [],
   "source": [
    "# DO NOT EDIT THIS CELL\n",
    "# RUN THIS CELL\n",
    "\n",
    "from functools import partial\n",
    "import numpy as np\n",
    "\n",
    "np.random.seed(0)\n",
    "c = np.array([100,700])\n",
    "X = c + np.random.randn(100000,2)     # 100 thousands\n",
    "\n",
    "f = partial(sq_dist, X=X)\n",
    "gradient_f = partial(sq_dist_gradient, X=X)\n",
    "init_x = np.array([0.,0.])\n",
    "%time solution = minimize_batch(f, gradient_f, init_x)\n",
    "\n",
    "### correctness check\n",
    "print('solution is {}'.format(solution))\n",
    "EPSILON = 1\n",
    "cond1 = math.fabs(solution[0] - 100.0) <= EPSILON\n",
    "cond2 = math.fabs(solution[1] - 700.0) <= EPSILON\n",
    "assert  all([cond1, cond2]), '+'*10 + ' Problem 2 check failed ' + '-'*10\n",
    "print('+'*10 + ' Problem 2 check passed ' + '+'*10)"
   ]
  },
  {
   "cell_type": "markdown",
   "metadata": {},
   "source": [
    "**Time taken in my computer**:\n",
    "```\n",
    "Wall time: 2min 22s\n",
    "solution is [99.99988468682913, 700.0052527466843]\n",
    "++++++++++ Problem 2 check passed ++++++++++\n",
    "```"
   ]
  },
  {
   "cell_type": "markdown",
   "metadata": {},
   "source": [
    "## Problem 3 (10 pts)\n",
    "\n",
    "- Continued from Problem 2\n",
    "- We want to compute a centroid\n",
    "- Define a function (```sq_dist_numpy```) and gradient of function (```sq_dist_gradient_numpy```)\n",
    "- **Use numpy functions to define sq_dist and sq_dist_gradient**\n",
    "- **Do NOT use functions in linear_algebra.py**\n",
    "### <span style=\"color:red\">**You write two functions. Each function must have ONE line of code in function body; Otherwise, you get zero point (0점)**</span>"
   ]
  },
  {
   "cell_type": "code",
   "execution_count": 82,
   "metadata": {
    "ExecuteTime": {
     "end_time": "2022-04-29T08:29:42.007905Z",
     "start_time": "2022-04-29T08:29:42.000343Z"
    }
   },
   "outputs": [
    {
     "name": "stdout",
     "output_type": "stream",
     "text": [
      "inf\n"
     ]
    }
   ],
   "source": [
    "# YOUR CODE MUST BE HERE\n",
    "def sq_dist_numpy(theta,X=X):\n",
    "    return np.sum((X-theta)**2)\n",
    "def sq_dist_gradient_numpy(theta,X=X):\n",
    "    return  2*(X-theta)\n",
    "\n",
    "\n",
    "a=[[3,1],\n",
    "  [10,2],\n",
    "  [11,2],\n",
    "  [1,21],\n",
    "  [13,22],\n",
    "  [31,25]]\n",
    "\n",
    "a = np.array(a)\n",
    "theta_0 = np.array([8.,1.])\n",
    "theta = theta_0\n",
    "target_fn = partial(sq_dist_numpy, X=X)\n",
    "target_fn = safe(target_fn)               # safe version of target_fn\n",
    "value = target_fn(theta)                  # value we're minimizing\n",
    "\n",
    "gradient_f = partial(sq_dist_gradient_numpy, X=a)\n",
    "gradient  = gradient_f(theta)\n",
    "step_sizes = [100, 10, 1, 0.1, 0.01, 0.001, 0.0001, 0.00001]\n",
    "\n",
    "next_thetas = [step(theta, gradient, -step_size)for step_size in step_sizes]\n",
    "\n",
    "\n",
    "next_theta = min(next_thetas, key=target_fn)\n",
    "next_value = target_fn(next_theta)\n",
    "\n",
    "\n",
    "print(next_value)"
   ]
  },
  {
   "cell_type": "code",
   "execution_count": 80,
   "metadata": {
    "ExecuteTime": {
     "end_time": "2022-04-29T08:26:35.846785Z",
     "start_time": "2022-04-29T08:26:35.814714Z"
    }
   },
   "outputs": [
    {
     "ename": "ValueError",
     "evalue": "operands could not be broadcast together with shapes (100000,2) (2,2) ",
     "output_type": "error",
     "traceback": [
      "\u001b[0;31m---------------------------------------------------------------------------\u001b[0m",
      "\u001b[0;31mValueError\u001b[0m                                Traceback (most recent call last)",
      "\u001b[0;32m<timed exec>\u001b[0m in \u001b[0;36m<module>\u001b[0;34m\u001b[0m\n",
      "\u001b[0;32m<ipython-input-44-64e52c468f44>\u001b[0m in \u001b[0;36mminimize_batch\u001b[0;34m(target_fn, gradient_fn, theta_0, tolerance)\u001b[0m\n\u001b[1;32m     12\u001b[0m \u001b[0;34m\u001b[0m\u001b[0m\n\u001b[1;32m     13\u001b[0m     \u001b[0;32mwhile\u001b[0m \u001b[0;32mTrue\u001b[0m\u001b[0;34m:\u001b[0m\u001b[0;34m\u001b[0m\u001b[0m\n\u001b[0;32m---> 14\u001b[0;31m         \u001b[0mgradient\u001b[0m \u001b[0;34m=\u001b[0m \u001b[0mgradient_fn\u001b[0m\u001b[0;34m(\u001b[0m\u001b[0mtheta\u001b[0m\u001b[0;34m)\u001b[0m\u001b[0;34m\u001b[0m\u001b[0m\n\u001b[0m\u001b[1;32m     15\u001b[0m         \u001b[0mnext_thetas\u001b[0m \u001b[0;34m=\u001b[0m \u001b[0;34m[\u001b[0m\u001b[0mstep\u001b[0m\u001b[0;34m(\u001b[0m\u001b[0mtheta\u001b[0m\u001b[0;34m,\u001b[0m \u001b[0mgradient\u001b[0m\u001b[0;34m,\u001b[0m \u001b[0;34m-\u001b[0m\u001b[0mstep_size\u001b[0m\u001b[0;34m)\u001b[0m\u001b[0;32mfor\u001b[0m \u001b[0mstep_size\u001b[0m \u001b[0;32min\u001b[0m \u001b[0mstep_sizes\u001b[0m\u001b[0;34m]\u001b[0m\u001b[0;34m\u001b[0m\u001b[0m\n\u001b[1;32m     16\u001b[0m \u001b[0;34m\u001b[0m\u001b[0m\n",
      "\u001b[0;32m<ipython-input-79-66faae875d51>\u001b[0m in \u001b[0;36msq_dist_gradient_numpy\u001b[0;34m(theta, X)\u001b[0m\n\u001b[1;32m      3\u001b[0m     \u001b[0;32mreturn\u001b[0m \u001b[0mnp\u001b[0m\u001b[0;34m.\u001b[0m\u001b[0msum\u001b[0m\u001b[0;34m(\u001b[0m\u001b[0;34m(\u001b[0m\u001b[0mX\u001b[0m\u001b[0;34m-\u001b[0m\u001b[0mtheta\u001b[0m\u001b[0;34m)\u001b[0m\u001b[0;34m**\u001b[0m\u001b[0;36m2\u001b[0m\u001b[0;34m)\u001b[0m\u001b[0;34m\u001b[0m\u001b[0m\n\u001b[1;32m      4\u001b[0m \u001b[0;32mdef\u001b[0m \u001b[0msq_dist_gradient_numpy\u001b[0m\u001b[0;34m(\u001b[0m\u001b[0mtheta\u001b[0m\u001b[0;34m,\u001b[0m\u001b[0mX\u001b[0m\u001b[0;34m=\u001b[0m\u001b[0mX\u001b[0m\u001b[0;34m)\u001b[0m\u001b[0;34m:\u001b[0m\u001b[0;34m\u001b[0m\u001b[0m\n\u001b[0;32m----> 5\u001b[0;31m     \u001b[0;32mreturn\u001b[0m  \u001b[0;36m2\u001b[0m\u001b[0;34m*\u001b[0m\u001b[0;34m(\u001b[0m\u001b[0mX\u001b[0m\u001b[0;34m-\u001b[0m\u001b[0mtheta\u001b[0m\u001b[0;34m)\u001b[0m\u001b[0;34m\u001b[0m\u001b[0m\n\u001b[0m\u001b[1;32m      6\u001b[0m \u001b[0;34m\u001b[0m\u001b[0m\n\u001b[1;32m      7\u001b[0m \u001b[0;34m\u001b[0m\u001b[0m\n",
      "\u001b[0;31mValueError\u001b[0m: operands could not be broadcast together with shapes (100000,2) (2,2) "
     ]
    },
    {
     "name": "stdout",
     "output_type": "stream",
     "text": [
      "[1.997524119921429, 2.996286179882144]\n"
     ]
    },
    {
     "ename": "AssertionError",
     "evalue": "---------- Problem 3 check failed ----------",
     "output_type": "error",
     "traceback": [
      "\u001b[0;31m---------------------------------------------------------------------------\u001b[0m",
      "\u001b[0;31mAssertionError\u001b[0m                            Traceback (most recent call last)",
      "\u001b[0;32m<ipython-input-80-fcd96bed69cd>\u001b[0m in \u001b[0;36m<module>\u001b[0;34m\u001b[0m\n\u001b[1;32m     18\u001b[0m \u001b[0mcond1\u001b[0m \u001b[0;34m=\u001b[0m \u001b[0mmath\u001b[0m\u001b[0;34m.\u001b[0m\u001b[0mfabs\u001b[0m\u001b[0;34m(\u001b[0m\u001b[0msolution\u001b[0m\u001b[0;34m[\u001b[0m\u001b[0;36m0\u001b[0m\u001b[0;34m]\u001b[0m \u001b[0;34m-\u001b[0m \u001b[0;36m100.0\u001b[0m\u001b[0;34m)\u001b[0m \u001b[0;34m<=\u001b[0m \u001b[0mEPSILON\u001b[0m\u001b[0;34m\u001b[0m\u001b[0m\n\u001b[1;32m     19\u001b[0m \u001b[0mcond2\u001b[0m \u001b[0;34m=\u001b[0m \u001b[0mmath\u001b[0m\u001b[0;34m.\u001b[0m\u001b[0mfabs\u001b[0m\u001b[0;34m(\u001b[0m\u001b[0msolution\u001b[0m\u001b[0;34m[\u001b[0m\u001b[0;36m1\u001b[0m\u001b[0;34m]\u001b[0m \u001b[0;34m-\u001b[0m \u001b[0;36m700.0\u001b[0m\u001b[0;34m)\u001b[0m \u001b[0;34m<=\u001b[0m \u001b[0mEPSILON\u001b[0m\u001b[0;34m\u001b[0m\u001b[0m\n\u001b[0;32m---> 20\u001b[0;31m \u001b[0;32massert\u001b[0m  \u001b[0mall\u001b[0m\u001b[0;34m(\u001b[0m\u001b[0;34m[\u001b[0m\u001b[0mcond1\u001b[0m\u001b[0;34m,\u001b[0m \u001b[0mcond2\u001b[0m\u001b[0;34m]\u001b[0m\u001b[0;34m)\u001b[0m\u001b[0;34m,\u001b[0m \u001b[0;34m'-'\u001b[0m\u001b[0;34m*\u001b[0m\u001b[0;36m10\u001b[0m \u001b[0;34m+\u001b[0m \u001b[0;34m' Problem 3 check failed '\u001b[0m \u001b[0;34m+\u001b[0m \u001b[0;34m'-'\u001b[0m\u001b[0;34m*\u001b[0m\u001b[0;36m10\u001b[0m\u001b[0;34m\u001b[0m\u001b[0m\n\u001b[0m\u001b[1;32m     21\u001b[0m \u001b[0mprint\u001b[0m\u001b[0;34m(\u001b[0m\u001b[0;34m'+'\u001b[0m\u001b[0;34m*\u001b[0m\u001b[0;36m10\u001b[0m \u001b[0;34m+\u001b[0m \u001b[0;34m' Problem 3 check passed '\u001b[0m \u001b[0;34m+\u001b[0m \u001b[0;34m'+'\u001b[0m\u001b[0;34m*\u001b[0m\u001b[0;36m10\u001b[0m\u001b[0;34m)\u001b[0m\u001b[0;34m\u001b[0m\u001b[0m\n",
      "\u001b[0;31mAssertionError\u001b[0m: ---------- Problem 3 check failed ----------"
     ]
    }
   ],
   "source": [
    "# DO NOT EDIT THIS CELL\n",
    "# RUN THIS CELL\n",
    "\n",
    "from functools import partial\n",
    "\n",
    "np.random.seed(0)\n",
    "c = np.array([100,700])\n",
    "X = c + np.random.randn(100000,2)\n",
    "\n",
    "f = partial(sq_dist_numpy, X=X)\n",
    "gradient_f = partial(sq_dist_gradient_numpy, X=X)\n",
    "init_x = np.array([0.,0.])\n",
    "%time solution = minimize_batch(f, gradient_f, init_x)\n",
    "\n",
    "### correctness check\n",
    "print(solution)\n",
    "EPSILON = 1\n",
    "cond1 = math.fabs(solution[0] - 100.0) <= EPSILON\n",
    "cond2 = math.fabs(solution[1] - 700.0) <= EPSILON\n",
    "assert  all([cond1, cond2]), '-'*10 + ' Problem 3 check failed ' + '-'*10\n",
    "print('+'*10 + ' Problem 3 check passed ' + '+'*10)"
   ]
  },
  {
   "cell_type": "markdown",
   "metadata": {},
   "source": [
    "**Time taken in my computer**:\n",
    "```\n",
    "Wall time: 1.49 s\n",
    "[99.99988468682913, 700.0052527466843]\n",
    "++++++++++ Problem 3 check passed ++++++++++\n",
    "```"
   ]
  },
  {
   "cell_type": "markdown",
   "metadata": {},
   "source": [
    "## Problem 4 (10 pts)\n",
    "\n",
    "- We want to compute a centroid using Manhattan distance\n",
    "- Define a function (```abs_diff_numpy```) and gradient of function (```abs_diff_gradient_numpy```)\n",
    "- Use numpy functions to define abs_diff_numpy and abs_diff_gradient_numpy\n",
    "- Do NOT use functions in linear_algebra.py\n",
    "### <span style=\"color:red\">**Each function must have ONE line of code; Otherwise, you get zero point (0점)**</span>"
   ]
  },
  {
   "cell_type": "code",
   "execution_count": null,
   "metadata": {
    "ExecuteTime": {
     "end_time": "2022-04-29T01:51:45.270144Z",
     "start_time": "2022-04-29T01:50:31.223Z"
    }
   },
   "outputs": [],
   "source": [
    "# YOUR CODE MUST BE HERE\n",
    "     def abs_diff_numpy:\n",
    "    \n",
    "    \n",
    "    def abs_diff_gradient_numpy:"
   ]
  },
  {
   "cell_type": "code",
   "execution_count": null,
   "metadata": {
    "ExecuteTime": {
     "end_time": "2022-04-29T01:51:45.271295Z",
     "start_time": "2022-04-29T01:50:31.225Z"
    }
   },
   "outputs": [],
   "source": [
    "# DO NOT EDIT THIS CELL\n",
    "# RUN THIS CELL\n",
    "\n",
    "np.random.seed(0)\n",
    "# c = np.array([100,700])\n",
    "# X = c + np.random.randn(100,2)\n",
    "c1 = np.array([100,100])\n",
    "X1 = c1 + np.random.randn(100,2)\n",
    "c2 = np.array([100,0])\n",
    "X2 = c2 + np.random.randn(100,2)\n",
    "c3 = np.array([0,100])\n",
    "X3 = c3 + np.random.randn(100,2)\n",
    "X  = np.vstack((X1, X2, X3)) \n",
    "\n",
    "f = partial(abs_diff_numpy, X=X)\n",
    "gradient_f = partial(abs_diff_gradient_numpy, X=X)\n",
    "init_x = np.array([0.,0.])\n",
    "%time solution = minimize_batch(f, gradient_f, init_x)\n",
    "\n",
    "### correctness check\n",
    "print(solution)\n",
    "EPSILON = 1\n",
    "cond1 = math.fabs(solution[0] - 100.0) <= EPSILON\n",
    "cond2 = math.fabs(solution[1] - 100.0) <= EPSILON\n",
    "assert  all([cond1, cond2]), '-'*10 + ' Problem 4 check failed ' + '-'*10\n",
    "print('+'*10 + ' Problem 4 check passed ' + '+'*10)"
   ]
  },
  {
   "cell_type": "markdown",
   "metadata": {},
   "source": [
    "## Problem 5 (15 pts)\n",
    "\n",
    "- We want to rewrite ```minimize_batch```.\n",
    "- Do NOT use ```step``` function; provide numpy style code using broadcasting\n",
    "    - Do NOT use ```[step(theta, gradient, -step_size) for step_size in step_sizes]```\n",
    "- Modify ```minimize_batch``` to take ```step_sizes``` as an argument\n",
    "- Modify ```minimize_batch``` to take maximum number of epochs as an argument\n",
    "    - epoch is the number of ```while``` loop iterations in the following code.\n",
    "- Modify ```minimize_batch``` to return ```epoch``` together with ```theta```\n",
    "- Modify ```minimize_batch``` to return ```None``` as solution if it does not converge within max_steps\n",
    "- **Use numpy functions to define sq_dist_numpy_1 and sq_dist_gradient_numpy_1**\n",
    "- **Do NOT use functions in linear_algebra.py**\n",
    "- If all done, now you have an enhanced numpy version of minimize_batch"
   ]
  },
  {
   "cell_type": "markdown",
   "metadata": {},
   "source": [
    "The following is ```minimize_batch``` in our textbook\n",
    "```python\n",
    "def minimize_batch(target_fn, gradient_fn, theta_0, tolerance=0.000001):\n",
    "    \"\"\"use gradient descent to find theta that minimizes target function\"\"\"\n",
    "\n",
    "    step_sizes = [100, 10, 1, 0.1, 0.01, 0.001, 0.0001, 0.00001]\n",
    "\n",
    "    theta = theta_0                           # set theta to initial value\n",
    "    target_fn = safe(target_fn)               # safe version of target_fn\n",
    "    value = target_fn(theta)                  # value we're minimizing\n",
    "\n",
    "    while True:\n",
    "        gradient = gradient_fn(theta)\n",
    "        next_thetas = [step(theta, gradient, -step_size)\n",
    "                       for step_size in step_sizes]\n",
    "\n",
    "        # choose the one that minimizes the error function\n",
    "        next_theta = min(next_thetas, key=target_fn)\n",
    "        next_value = target_fn(next_theta)\n",
    "\n",
    "        # stop if we're \"converging\"\n",
    "        if abs(value - next_value) < tolerance:\n",
    "            return theta\n",
    "        else:\n",
    "            theta, value = next_theta, next_value\n",
    "```"
   ]
  },
  {
   "cell_type": "code",
   "execution_count": null,
   "metadata": {
    "ExecuteTime": {
     "end_time": "2022-04-29T01:51:45.272466Z",
     "start_time": "2022-04-29T01:50:31.226Z"
    }
   },
   "outputs": [],
   "source": [
    "# YOUR CODE MUST BE HERE\n",
    "\n",
    "def minimize_batch_enhanced(target_fn, gradient_fn, theta_0, step_sizes, max_steps=10000, tolerance=0.000001):\n"
   ]
  },
  {
   "cell_type": "markdown",
   "metadata": {},
   "source": [
    "### <span style=\"color:red\">**Each function must have ONE line of code; Otherwise, you get zero point (0점)**</span>"
   ]
  },
  {
   "cell_type": "code",
   "execution_count": null,
   "metadata": {
    "ExecuteTime": {
     "end_time": "2022-04-29T01:51:45.273939Z",
     "start_time": "2022-04-29T01:50:31.227Z"
    }
   },
   "outputs": [],
   "source": [
    "# YOUR CODE MUST BE HERE\n"
   ]
  },
  {
   "cell_type": "code",
   "execution_count": null,
   "metadata": {
    "ExecuteTime": {
     "end_time": "2022-04-29T01:51:45.275067Z",
     "start_time": "2022-04-29T01:50:31.228Z"
    }
   },
   "outputs": [],
   "source": [
    "# DO NOT EDIT THIS CELL\n",
    "# RUN THIS CELL\n",
    "\n",
    "from functools import partial\n",
    "import numpy as np\n",
    "\n",
    "np.random.seed(0)\n",
    "c = np.array([100,700])\n",
    "X = c + 10*np.random.randn(1000,2)\n",
    "\n",
    "f = partial(sq_dist_numpy_1, X=X)\n",
    "gradient_f = partial(sq_dist_gradient_numpy_1, X=X)\n",
    "init_x = np.array([0.,0.])\n",
    "step_sizes = np.array([0.01])\n",
    "\n",
    "solution, epoch = minimize_batch_enhanced(f, gradient_f, init_x, step_sizes)\n",
    "### correctness check\n",
    "if solution is None:\n",
    "    print('Does not converge within epoch {}'.format(epoch))\n",
    "else:\n",
    "    print('Solution {} found at epoch {}'.format(solution, epoch))\n",
    "    EPSILON = 1\n",
    "    cond1 = math.fabs(solution[0] - 100.0) <= EPSILON\n",
    "    cond2 = math.fabs(solution[1] - 700.0) <= EPSILON\n",
    "    assert  all([cond1, cond2]), 'Problem 5 check failed'\n",
    "    print('Problem 5 check passed')"
   ]
  },
  {
   "cell_type": "markdown",
   "metadata": {},
   "source": [
    "Your solution should be like:\n",
    "```\n",
    "Solution [ 99.78192923 699.8960156 ] found at epoch 587\n",
    "Problem 5 check passed\n",
    "```"
   ]
  },
  {
   "cell_type": "code",
   "execution_count": null,
   "metadata": {
    "ExecuteTime": {
     "end_time": "2022-04-29T01:51:45.276092Z",
     "start_time": "2022-04-29T01:50:31.230Z"
    }
   },
   "outputs": [],
   "source": [
    "# DO NOT EDIT THIS CELL\n",
    "# RUN THIS CELL\n",
    "\n",
    "from functools import partial\n",
    "import numpy as np\n",
    "\n",
    "np.random.seed(0)\n",
    "c = np.array([100,700])\n",
    "X = c + 10*np.random.randn(1000,2)\n",
    "\n",
    "f = partial(sq_dist_numpy_1, X=X)\n",
    "gradient_f = partial(sq_dist_gradient_numpy_1, X=X)\n",
    "init_x = np.array([0.,0.])\n",
    "step_sizes_set = [np.array([10]),\n",
    "                  np.array([0.1]),\n",
    "                  np.array([0.01]),\n",
    "                  np.array([0.001]), \n",
    "                  np.array([0.0001]),\n",
    "                  np.array([0.00001]),\n",
    "                  np.array(np.logspace(-3,3,7))\n",
    "                 ]\n",
    "\n",
    "for step_sizes in step_sizes_set:\n",
    "    print()\n",
    "    print('+'*10 + ' Test case {} '.format(step_sizes) + '+'*10)\n",
    "    solution, epoch = minimize_batch_enhanced(f, gradient_f, init_x, step_sizes)\n",
    "    ### correctness check\n",
    "    if solution is None:\n",
    "        print('Does not converge within epoch {}'.format(epoch))\n",
    "    else:\n",
    "        print('Solution {} found at epoch {}'.format(solution, epoch))\n",
    "        EPSILON = 1\n",
    "        cond1 = math.fabs(solution[0] - 100.0) <= EPSILON\n",
    "        cond2 = math.fabs(solution[1] - 700.0) <= EPSILON\n",
    "        assert  all([cond1, cond2]), 'Problem 5 check failed'\n",
    "        print('Problem 5 check passed')"
   ]
  },
  {
   "cell_type": "markdown",
   "metadata": {},
   "source": [
    "Your solution should be like:\n",
    "```\n",
    "++++++++++ Test case [10] ++++++++++\n",
    "...\n",
    "Numpy overflow warning\n",
    "...\n",
    "Does not converge within epoch 10000\n",
    "\n",
    "++++++++++ Test case [0.1] ++++++++++\n",
    "Solution [ 99.78244401 699.89962643] found at epoch 59\n",
    "Problem 5 check passed\n",
    "\n",
    "++++++++++ Test case [0.01] ++++++++++\n",
    "Solution [ 99.78192923 699.8960156 ] found at epoch 587\n",
    "Problem 5 check passed\n",
    "\n",
    "++++++++++ Test case [0.001] ++++++++++\n",
    "Solution [ 99.78040508 699.88532482] found at epoch 5349\n",
    "Problem 5 check passed\n",
    "\n",
    "++++++++++ Test case [0.0001] ++++++++++\n",
    "Does not converge within epoch 10000\n",
    "\n",
    "++++++++++ Test case [1.e-05] ++++++++++\n",
    "Does not converge within epoch 10000\n",
    "\n",
    "++++++++++ Test case [1.e-03 1.e-02 1.e-01 1.e+00 1.e+01 1.e+02 1.e+03] ++++++++++\n",
    "Solution [ 99.78244401 699.89962643] found at epoch 59\n",
    "Problem 5 check passed\n",
    "```"
   ]
  },
  {
   "cell_type": "markdown",
   "metadata": {},
   "source": [
    "### Double click this cell to edit:\n",
    "\n",
    "What is your conclusion from experiments with the above several test cases?\n",
    "```\n",
    "Write here\n",
    "\n",
    "\n",
    "\n",
    "\n",
    "```\n",
    "\n"
   ]
  },
  {
   "cell_type": "markdown",
   "metadata": {},
   "source": [
    "## Ethics:\n",
    "If you cheat, you will get negatgive of the total points.\n",
    "If the homework total is 22 and you cheat, you get -22."
   ]
  },
  {
   "cell_type": "markdown",
   "metadata": {},
   "source": [
    "## What to submit\n",
    "\n",
    "- Run **all cells** after restarting the kernel\n",
    "- Goto \"File -> Print Preview\"\n",
    "- Print the page as pdf\n",
    "- Pdf file name must be in a form of: homework_3_홍길동_202200001.pdf\n",
    "- Submit the pdf file in google classroom\n",
    "- No late homeworks will be accepted\n",
    "- Your homework will be graded on the basis of correctness and programming skills"
   ]
  }
 ],
 "metadata": {
  "hide_input": false,
  "kernelspec": {
   "display_name": "Python 3",
   "language": "python",
   "name": "python3"
  },
  "language_info": {
   "codemirror_mode": {
    "name": "ipython",
    "version": 3
   },
   "file_extension": ".py",
   "mimetype": "text/x-python",
   "name": "python",
   "nbconvert_exporter": "python",
   "pygments_lexer": "ipython3",
   "version": "3.7.0"
  },
  "toc": {
   "base_numbering": 1,
   "nav_menu": {},
   "number_sections": true,
   "sideBar": true,
   "skip_h1_title": false,
   "title_cell": "Table of Contents",
   "title_sidebar": "Contents",
   "toc_cell": false,
   "toc_position": {},
   "toc_section_display": true,
   "toc_window_display": false
  },
  "varInspector": {
   "cols": {
    "lenName": 16,
    "lenType": 16,
    "lenVar": 40
   },
   "kernels_config": {
    "python": {
     "delete_cmd_postfix": "",
     "delete_cmd_prefix": "del ",
     "library": "var_list.py",
     "varRefreshCmd": "print(var_dic_list())"
    },
    "r": {
     "delete_cmd_postfix": ") ",
     "delete_cmd_prefix": "rm(",
     "library": "var_list.r",
     "varRefreshCmd": "cat(var_dic_list()) "
    }
   },
   "types_to_exclude": [
    "module",
    "function",
    "builtin_function_or_method",
    "instance",
    "_Feature"
   ],
   "window_display": false
  }
 },
 "nbformat": 4,
 "nbformat_minor": 2
}
