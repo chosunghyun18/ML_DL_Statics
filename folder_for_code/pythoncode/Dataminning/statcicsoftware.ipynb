{
 "cells": [
  {
   "cell_type": "markdown",
   "id": "b7ab750d",
   "metadata": {},
   "source": [
    "###### 201803430 조성현"
   ]
  },
  {
   "cell_type": "code",
   "execution_count": 16,
   "id": "ba5bf581",
   "metadata": {
    "ExecuteTime": {
     "end_time": "2022-06-04T12:14:09.886863Z",
     "start_time": "2022-06-04T12:14:09.883626Z"
    }
   },
   "outputs": [],
   "source": [
    "#1\n",
    "import math\n",
    "def s(r):\n",
    "    a=math.pi*r**2\n",
    "    print(\"r=\",r,\",S=\",round(a,2))\n"
   ]
  },
  {
   "cell_type": "code",
   "execution_count": 18,
   "id": "f73769c9",
   "metadata": {
    "ExecuteTime": {
     "end_time": "2022-06-04T12:14:22.373359Z",
     "start_time": "2022-06-04T12:14:22.369806Z"
    }
   },
   "outputs": [
    {
     "name": "stdout",
     "output_type": "stream",
     "text": [
      "r= 2 ,S= 12.57\n",
      "r= 4 ,S= 50.27\n",
      "r= 7 ,S= 153.94\n",
      "r= 10 ,S= 314.16\n"
     ]
    }
   ],
   "source": [
    "s(2)\n",
    "s(4)\n",
    "s(7)\n",
    "s(10)"
   ]
  },
  {
   "cell_type": "code",
   "execution_count": 23,
   "id": "8e9b60dc",
   "metadata": {
    "ExecuteTime": {
     "end_time": "2022-06-04T12:16:39.553944Z",
     "start_time": "2022-06-04T12:16:39.550238Z"
    }
   },
   "outputs": [
    {
     "name": "stdout",
     "output_type": "stream",
     "text": [
      "[ 1  2  3  4  5  6  7  8  9 10]\n"
     ]
    }
   ],
   "source": [
    "#2\n",
    "import numpy as np\n",
    "x =[]\n",
    "for num in range(1,11):\n",
    "    x.append(num)\n",
    "    \n",
    "\n",
    "x = np.array(x)\n",
    "print(x)"
   ]
  },
  {
   "cell_type": "code",
   "execution_count": 87,
   "id": "56ab3e63",
   "metadata": {
    "ExecuteTime": {
     "end_time": "2022-06-04T13:09:29.360448Z",
     "start_time": "2022-06-04T13:09:29.356147Z"
    }
   },
   "outputs": [
    {
     "name": "stdout",
     "output_type": "stream",
     "text": [
      "this is len of x: 10\n",
      "sum: 55\n",
      "mean: 5.5\n",
      "분산: 8.25 this is std: 2.87\n"
     ]
    }
   ],
   "source": [
    "#a)\n",
    "print(\"this is len of x:\",len(x))\n",
    "#b)\n",
    "print(\"sum:\",x.sum())\n",
    "#c)\n",
    "print(\"mean:\",x.mean())\n",
    "#d)\n",
    "print(\"분산:\",x.var(),\"this is std:\",round(x.std(),2))"
   ]
  },
  {
   "cell_type": "code",
   "execution_count": 41,
   "id": "a46b3047",
   "metadata": {
    "ExecuteTime": {
     "end_time": "2022-06-04T12:33:19.551812Z",
     "start_time": "2022-06-04T12:33:19.548249Z"
    }
   },
   "outputs": [
    {
     "name": "stdout",
     "output_type": "stream",
     "text": [
      "[1 3 5 7 9]\n"
     ]
    }
   ],
   "source": [
    "#e)\n",
    "x1 = []\n",
    "for num in range(1,10,2):\n",
    "    x1.append(num)\n",
    "x1 = np.array(x1)\n",
    "print(x1)    "
   ]
  },
  {
   "cell_type": "code",
   "execution_count": 48,
   "id": "eb2ae39f",
   "metadata": {
    "ExecuteTime": {
     "end_time": "2022-06-04T12:37:21.145253Z",
     "start_time": "2022-06-04T12:37:21.136081Z"
    }
   },
   "outputs": [
    {
     "name": "stdout",
     "output_type": "stream",
     "text": [
      "   name  Korean\n",
      "0   Kim      93\n",
      "1   Lee      76\n",
      "2  Park      87\n",
      "3    Oh      92\n",
      "4  Yang      98\n",
      "5   Min      75\n",
      "6  Jung      82\n",
      "7  Moon      92\n",
      "\n",
      "   name  English\n",
      "0   Kim       90\n",
      "1   Lee       94\n",
      "2  Park       88\n",
      "3    Oh       75\n",
      "4  Yang       79\n",
      "5   Min       87\n",
      "6  Jung       88\n",
      "7  Choi       90\n"
     ]
    }
   ],
   "source": [
    "# 3\n",
    "import pandas as pd\n",
    "name = ['Kim','Lee','Park','Oh','Yang','Min','Jung','Moon']\n",
    "Korean = [93,76,87,92,98,75,82,92]\n",
    "kor_score = pd.DataFrame({'name':name,\n",
    "                            'Korean':Korean\n",
    "                         })\n",
    "\n",
    "name = ['Kim','Lee','Park','Oh','Yang','Min','Jung','Choi']\n",
    "English = [90,94,88,75,79,87,88,90]\n",
    "eng_score = pd.DataFrame({'name':name,\n",
    "                            'English':English\n",
    "                         })\n",
    "\n",
    "#a)\n",
    "print(kor_score)\n",
    "print()\n",
    "print(eng_score)\n"
   ]
  },
  {
   "cell_type": "code",
   "execution_count": 68,
   "id": "41386713",
   "metadata": {
    "ExecuteTime": {
     "end_time": "2022-06-04T12:53:07.512411Z",
     "start_time": "2022-06-04T12:53:07.505835Z"
    }
   },
   "outputs": [
    {
     "name": "stdout",
     "output_type": "stream",
     "text": [
      "   name  Korean\n",
      "6  Jung      82\n",
      "0   Kim      93\n",
      "1   Lee      76\n",
      "5   Min      75\n",
      "7  Moon      92\n",
      "3    Oh      92\n",
      "2  Park      87\n",
      "4  Yang      98\n",
      "---------\n",
      "   name  English\n",
      "7  Choi       90\n",
      "6  Jung       88\n",
      "0   Kim       90\n",
      "1   Lee       94\n",
      "5   Min       87\n",
      "3    Oh       75\n",
      "2  Park       88\n",
      "4  Yang       79\n"
     ]
    }
   ],
   "source": [
    "#b\n",
    "print(kor_score.sort_values(by='name'))\n",
    "print('---------')\n",
    "print(eng_score.sort_values(by='name'))"
   ]
  },
  {
   "cell_type": "code",
   "execution_count": 86,
   "id": "f9d3c069",
   "metadata": {
    "ExecuteTime": {
     "end_time": "2022-06-04T13:08:25.839412Z",
     "start_time": "2022-06-04T13:08:25.823438Z"
    }
   },
   "outputs": [
    {
     "name": "stdout",
     "output_type": "stream",
     "text": [
      "   name  Korean  English\n",
      "0   Kim    93.0     90.0\n",
      "1   Lee    76.0     94.0\n",
      "2  Park    87.0     88.0\n",
      "3    Oh    92.0     75.0\n",
      "4  Yang    98.0     79.0\n",
      "5   Min    75.0     87.0\n",
      "6  Jung    82.0     88.0\n",
      "7  Moon    92.0      NaN\n",
      "8  Choi     NaN     90.0\n"
     ]
    }
   ],
   "source": [
    "#c merge\n",
    "mer = pd.merge(kor_score,eng_score,on='name',how='outer')\n",
    "# mer = mer.fillna(0)\n",
    "print(mer)"
   ]
  }
 ],
 "metadata": {
  "kernelspec": {
   "display_name": "Python 3",
   "language": "python",
   "name": "python3"
  },
  "language_info": {
   "codemirror_mode": {
    "name": "ipython",
    "version": 3
   },
   "file_extension": ".py",
   "mimetype": "text/x-python",
   "name": "python",
   "nbconvert_exporter": "python",
   "pygments_lexer": "ipython3",
   "version": "3.7.0"
  },
  "toc": {
   "base_numbering": 1,
   "nav_menu": {},
   "number_sections": true,
   "sideBar": true,
   "skip_h1_title": false,
   "title_cell": "Table of Contents",
   "title_sidebar": "Contents",
   "toc_cell": false,
   "toc_position": {},
   "toc_section_display": true,
   "toc_window_display": false
  },
  "varInspector": {
   "cols": {
    "lenName": 16,
    "lenType": 16,
    "lenVar": 40
   },
   "kernels_config": {
    "python": {
     "delete_cmd_postfix": "",
     "delete_cmd_prefix": "del ",
     "library": "var_list.py",
     "varRefreshCmd": "print(var_dic_list())"
    },
    "r": {
     "delete_cmd_postfix": ") ",
     "delete_cmd_prefix": "rm(",
     "library": "var_list.r",
     "varRefreshCmd": "cat(var_dic_list()) "
    }
   },
   "types_to_exclude": [
    "module",
    "function",
    "builtin_function_or_method",
    "instance",
    "_Feature"
   ],
   "window_display": false
  }
 },
 "nbformat": 4,
 "nbformat_minor": 5
}
