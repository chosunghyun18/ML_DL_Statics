{
 "cells": [
  {
   "cell_type": "markdown",
   "id": "a432f022",
   "metadata": {
    "heading_collapsed": true
   },
   "source": [
    "## 12 장           201803430 조성현\n"
   ]
  },
  {
   "cell_type": "code",
   "execution_count": 115,
   "id": "94d590e1",
   "metadata": {
    "ExecuteTime": {
     "end_time": "2021-12-07T03:20:26.102186Z",
     "start_time": "2021-12-07T03:20:26.096039Z"
    },
    "hidden": true
   },
   "outputs": [],
   "source": [
    "import pandas as pd\n",
    "import numpy as np\n",
    "import math\n",
    "import scipy.stats as st\n",
    "import warnings\n",
    "import seaborn as sns; sns.set()\n",
    "import matplotlib.pyplot as plt\n",
    "from statsmodels.formula.api import ols\n",
    "from statsmodels.stats.anova import anova_lm\n",
    "warnings.filterwarnings(action='ignore')"
   ]
  },
  {
   "cell_type": "markdown",
   "id": "0e2dd889",
   "metadata": {},
   "source": [
    "## 12.1\n",
    "\n",
    "빈칸을 채워라"
   ]
  },
  {
   "cell_type": "code",
   "execution_count": 116,
   "id": "fee0f1a5",
   "metadata": {
    "ExecuteTime": {
     "end_time": "2021-12-07T03:20:26.108323Z",
     "start_time": "2021-12-07T03:20:26.104281Z"
    }
   },
   "outputs": [
    {
     "name": "stdout",
     "output_type": "stream",
     "text": [
      "(1) 7.56\n",
      "(2) 8\n",
      "(3) 3.78\n",
      "(4) 2.3075\n",
      "(5) 1.63814\n"
     ]
    }
   ],
   "source": [
    "# (1) 계를 이용한 계산\n",
    "print(\"(1)\",round(26.02-18.46 , 4))\n",
    "\n",
    "# (2) 자유도 합 계 이용\n",
    "print(\"(2)\",10-2)\n",
    "\n",
    "# 평균제곱\n",
    "#(3) = MSR =  SSR / df =2\n",
    "MSR = 7.56 / 2\n",
    "print(\"(3)\",7.56 / 2)\n",
    "\n",
    "#(4) = MSE = SSe / df = 8\n",
    "MSE = 18.46 / 8\n",
    "print(\"(4)\",18.46 / 8)\n",
    "\n",
    "# (5)  f값 f0 = MSR / MSE\n",
    "print(\"(5)\",round(MSR/MSE,5))"
   ]
  },
  {
   "cell_type": "markdown",
   "id": "121ceae9",
   "metadata": {},
   "source": [
    "## 12.2\n",
    "다음의 자료는 3종류의 필터를 조사하여 각각의 필터가 니코틴을 얼마나 걸러주는지 조사한 결과이다.\n",
    "\n",
    "각 필터에 따라 성능에 차이가 있는지 가설을 설정하고 유의수준 5%로 검정하여라."
   ]
  },
  {
   "cell_type": "code",
   "execution_count": 117,
   "id": "6fc09b3a",
   "metadata": {
    "ExecuteTime": {
     "end_time": "2021-12-07T03:20:26.113586Z",
     "start_time": "2021-12-07T03:20:26.110951Z"
    }
   },
   "outputs": [],
   "source": [
    "A = [5, 6, 8, 4, 6]\n",
    "B = [6, 5, 4]\n",
    "C =[7, 5, 6, 6]\n",
    "#st.f_oneway(A,B,C) 내장 모듈"
   ]
  },
  {
   "cell_type": "markdown",
   "id": "91df4a67",
   "metadata": {},
   "source": [
    "### 1:가설\n",
    "\n",
    "H0: μA  =  μB  =  μC  (각 필터에 따라 성능에 차이가 없다)\n",
    "\n",
    "H1: 적어도 하나의 μi는 다르다. (각 필터에 따라 성능에 차이가 있다)"
   ]
  },
  {
   "cell_type": "code",
   "execution_count": 118,
   "id": "d271ec09",
   "metadata": {
    "ExecuteTime": {
     "end_time": "2021-12-07T03:20:26.120489Z",
     "start_time": "2021-12-07T03:20:26.115926Z"
    }
   },
   "outputs": [],
   "source": [
    "all_data=A+B+C\n",
    "\n",
    "x = np.array(A)\n",
    "y = np.array(B)\n",
    "z = np.array(C)\n",
    "a_d = np.array(all_data)\n",
    "\n",
    "ybar_x = x.mean()\n",
    "ybar_y = y.mean()\n",
    "ybar_z = z.mean()\n",
    "\n",
    "ybar = a_d.mean()\n",
    "\n",
    "k = 3\n",
    "\n",
    "N = len(a_d)\n",
    "n_x = len(x)\n",
    "n_y = len(y)\n",
    "n_z = len(z)\n",
    "\n",
    "SSX = ((x - ybar_x)**2).sum()\n",
    "SSY = ((y - ybar_y)**2).sum()\n",
    "SSZ = ((z - ybar_z)**2).sum()"
   ]
  },
  {
   "cell_type": "code",
   "execution_count": 119,
   "id": "5c348311",
   "metadata": {
    "ExecuteTime": {
     "end_time": "2021-12-07T03:20:26.124881Z",
     "start_time": "2021-12-07T03:20:26.122149Z"
    }
   },
   "outputs": [],
   "source": [
    "SSE = SSX+SSY+SSZ\n",
    "SStr = n_x*((ybar_x - ybar)**2) + n_y*((ybar_y - ybar)**2) + n_z*((ybar_z - ybar)**2)\n",
    "SST = SStr+SSE\n",
    "MSE = SSE / (N-k)\n",
    "MStr = SStr / (k-1)\n",
    "f_0 = MStr / MSE"
   ]
  },
  {
   "cell_type": "code",
   "execution_count": 120,
   "id": "d238d79a",
   "metadata": {
    "ExecuteTime": {
     "end_time": "2021-12-07T03:20:26.130360Z",
     "start_time": "2021-12-07T03:20:26.126240Z"
    }
   },
   "outputs": [
    {
     "name": "stdout",
     "output_type": "stream",
     "text": [
      "-----------------------------------------------------------------\n",
      "요인     |     제곱합      |      자유도    |     평균제곱   |     F값\n",
      "-----------------------------------------------------------------\n",
      "처리     | 1.867         |       2       |  0.933      |   0.6562\n",
      "-----------------------------------------------------------------\n",
      "잔차     | 12.8          |         9     |  1.422      |    \n",
      "-----------------------------------------------------------------\n",
      "계      | 14.667         |        11    | \n",
      "-----------------------------------------------------------------\n"
     ]
    }
   ],
   "source": [
    "print(\"-----------------------------------------------------------------\")\n",
    "print(\"요인     |     제곱합      |      자유도    |     평균제곱   |     F값\")\n",
    "print(\"-----------------------------------------------------------------\")\n",
    "print(\"처리     |\",round(SStr,3),\"        |      \",k-1,\"      | \",round(MStr,3),\"     |  \",round(f_0 ,4))\n",
    "print(\"-----------------------------------------------------------------\")\n",
    "print(\"잔차     |\",round(SSE,3),\"         |        \",N-k,\"    | \",round(MSE,3),\"     |    \")\n",
    "print(\"-----------------------------------------------------------------\")\n",
    "print(\"계      |\",round(SST,3),\"        |       \",N-1,\"   | \")\n",
    "print(\"-----------------------------------------------------------------\")\n",
    "\n"
   ]
  },
  {
   "cell_type": "markdown",
   "id": "3c17163d",
   "metadata": {},
   "source": [
    "### 기각역 :\n",
    "\n",
    "* F0 > F0.05 (2,9)  이면 H0 기각\n",
    "\n",
    "처리와 잔차의 자유도를 가지는 F 분포 를 따른다."
   ]
  },
  {
   "cell_type": "code",
   "execution_count": 121,
   "id": "3b5abacd",
   "metadata": {
    "ExecuteTime": {
     "end_time": "2021-12-07T03:20:26.134722Z",
     "start_time": "2021-12-07T03:20:26.131804Z"
    }
   },
   "outputs": [
    {
     "name": "stdout",
     "output_type": "stream",
     "text": [
      "4.256\n"
     ]
    }
   ],
   "source": [
    "a = 1-(0.05) # 단측 검정시 유의 수준 -> 0.005\n",
    "f_a = st.f.ppf(a,k-1,N-k)\n",
    "print(round(f_a,3))"
   ]
  },
  {
   "cell_type": "markdown",
   "id": "f09201b9",
   "metadata": {},
   "source": [
    "귀무 가설 하에서 검정통계량 F 의 관측값 f0 = 0.6562 이므로"
   ]
  },
  {
   "cell_type": "markdown",
   "id": "ad89c46d",
   "metadata": {},
   "source": [
    "### 결론)\n",
    "\n",
    "f0 < 4.256 즉 , 기각역에 속하지 않으므로 귀무가설 H0를 기각 할 수 없다. \n",
    "\n",
    "* 따라서 각 필터에 따라 성능 차이가 있다고 할 충분한 근거가 없다."
   ]
  },
  {
   "cell_type": "markdown",
   "id": "0dd8b6c3",
   "metadata": {},
   "source": [
    "## 12.3\n",
    "철선을 생산하는 공장에서 공정에 따른 철선의 인장강도에 차이가 있는지를 알아보기 위하여 네 종류의 공정에서 생산된 철선을 랜덤추출하여 표본을 취하여 인장강도를 측정하여 다음의 자료를 얻었다. 분산분석표를 작성하고, 공정에 따라 인장강도가 차이가 있다고 할 수 있는지 유의수준 5%에서 검정하여라."
   ]
  },
  {
   "cell_type": "code",
   "execution_count": 122,
   "id": "412ae354",
   "metadata": {
    "ExecuteTime": {
     "end_time": "2021-12-07T03:20:26.170318Z",
     "start_time": "2021-12-07T03:20:26.161315Z"
    }
   },
   "outputs": [
    {
     "data": {
      "text/html": [
       "<div>\n",
       "<style scoped>\n",
       "    .dataframe tbody tr th:only-of-type {\n",
       "        vertical-align: middle;\n",
       "    }\n",
       "\n",
       "    .dataframe tbody tr th {\n",
       "        vertical-align: top;\n",
       "    }\n",
       "\n",
       "    .dataframe thead th {\n",
       "        text-align: right;\n",
       "    }\n",
       "</style>\n",
       "<table border=\"1\" class=\"dataframe\">\n",
       "  <thead>\n",
       "    <tr style=\"text-align: right;\">\n",
       "      <th></th>\n",
       "      <th>A1</th>\n",
       "      <th>A2</th>\n",
       "      <th>A3</th>\n",
       "      <th>A4</th>\n",
       "    </tr>\n",
       "  </thead>\n",
       "  <tbody>\n",
       "    <tr>\n",
       "      <th>0</th>\n",
       "      <td>46.8</td>\n",
       "      <td>51.2</td>\n",
       "      <td>50.2</td>\n",
       "      <td>21.4</td>\n",
       "    </tr>\n",
       "    <tr>\n",
       "      <th>1</th>\n",
       "      <td>58.0</td>\n",
       "      <td>62.4</td>\n",
       "      <td>38.2</td>\n",
       "      <td>22.1</td>\n",
       "    </tr>\n",
       "    <tr>\n",
       "      <th>2</th>\n",
       "      <td>51.4</td>\n",
       "      <td>30.6</td>\n",
       "      <td>46.8</td>\n",
       "      <td>28.2</td>\n",
       "    </tr>\n",
       "    <tr>\n",
       "      <th>3</th>\n",
       "      <td>61.0</td>\n",
       "      <td>46.0</td>\n",
       "      <td>26.7</td>\n",
       "      <td>42.7</td>\n",
       "    </tr>\n",
       "    <tr>\n",
       "      <th>4</th>\n",
       "      <td>45.8</td>\n",
       "      <td>48.8</td>\n",
       "      <td>22.7</td>\n",
       "      <td>25.2</td>\n",
       "    </tr>\n",
       "  </tbody>\n",
       "</table>\n",
       "</div>"
      ],
      "text/plain": [
       "     A1    A2    A3    A4\n",
       "0  46.8  51.2  50.2  21.4\n",
       "1  58.0  62.4  38.2  22.1\n",
       "2  51.4  30.6  46.8  28.2\n",
       "3  61.0  46.0  26.7  42.7\n",
       "4  45.8  48.8  22.7  25.2"
      ]
     },
     "execution_count": 122,
     "metadata": {},
     "output_type": "execute_result"
    }
   ],
   "source": [
    "A1 = [46.8, 58.0, 51.4, 61.0, 45.8]\n",
    "A2 = [51.2, 62.4, 30.6, 46.0, 48.8]\n",
    "A3 = [50.2, 38.2, 46.8, 26.7, 22.7]\n",
    "A4 = [21.4, 22.1, 28.2, 42.7, 25.2]\n",
    "\n",
    "df = pd.DataFrame({'A1': A1,'A2':A2,'A3':A3,'A4':A4})\n",
    "df"
   ]
  },
  {
   "cell_type": "markdown",
   "id": "10617cbe",
   "metadata": {},
   "source": [
    "### 1:가설\n",
    "\n",
    "H0: μA1  =  μA2  =  μA3  = μA4    (인장강도에 차이가 없다)\n",
    "\n",
    "H1: 적어도 하나의 μi는 다르다. (인장강도에 차이가 있다)"
   ]
  },
  {
   "cell_type": "code",
   "execution_count": 123,
   "id": "22a7db74",
   "metadata": {
    "ExecuteTime": {
     "end_time": "2021-12-07T03:20:26.176695Z",
     "start_time": "2021-12-07T03:20:26.172079Z"
    }
   },
   "outputs": [],
   "source": [
    "# 코드는 2 번문제와 매우 같다. A4의 인장강도에 관한것을 q 에 추가한다.\n",
    "all_data=A1+A2+A3+A4\n",
    "\n",
    "x = np.array(A1)\n",
    "y = np.array(A2)\n",
    "z = np.array(A3)\n",
    "q = np.array(A4)\n",
    "\n",
    "a_d = np.array(all_data)\n",
    "\n",
    "ybar_x = x.mean()\n",
    "ybar_y = y.mean()\n",
    "ybar_z = z.mean()\n",
    "ybar_q = q.mean()\n",
    "\n",
    "\n",
    "ybar = a_d.mean()\n",
    "\n",
    "k = 4\n",
    "\n",
    "n = len(a_d)\n",
    "n_x = len(x)\n",
    "n_y = len(y)\n",
    "n_z = len(z)\n",
    "n_q = len(q)\n",
    "\n",
    "SSX = ((x - ybar_x)**2).sum()\n",
    "SSY = ((y - ybar_y)**2).sum()\n",
    "SSZ = ((z - ybar_z)**2).sum()\n",
    "SSq = ((q - ybar_q)**2).sum()"
   ]
  },
  {
   "cell_type": "code",
   "execution_count": 124,
   "id": "31081f1e",
   "metadata": {
    "ExecuteTime": {
     "end_time": "2021-12-07T03:20:26.182054Z",
     "start_time": "2021-12-07T03:20:26.179066Z"
    }
   },
   "outputs": [],
   "source": [
    "SSE = SSX+SSY+SSZ+SSq\n",
    "SStr = n_x*((ybar_x - ybar)**2) + n_y*((ybar_y - ybar)**2) + n_z*((ybar_z - ybar)**2)+ n_q*((ybar_q - ybar)**2)\n",
    "SST = SStr+SSE\n",
    "MSE = SSE / (n-k)\n",
    "MStr = SStr / (k-1)\n",
    "f_0 = MStr / MSE # 검정통계량"
   ]
  },
  {
   "cell_type": "markdown",
   "id": "4a6cab18",
   "metadata": {},
   "source": [
    "* 분산분석 표및 검정통계량의 관측값 F0는 다음과 같다."
   ]
  },
  {
   "cell_type": "code",
   "execution_count": 125,
   "id": "66ac3440",
   "metadata": {
    "ExecuteTime": {
     "end_time": "2021-12-07T03:20:26.188082Z",
     "start_time": "2021-12-07T03:20:26.183668Z"
    }
   },
   "outputs": [
    {
     "name": "stdout",
     "output_type": "stream",
     "text": [
      "-----------------------------------------------------------------\n",
      "요인     |     제곱합      |      자유도    |     평균제곱   |     F값\n",
      "-----------------------------------------------------------------\n",
      "처리     | 1840.742      |       3       |  613.581    |   6.1728\n",
      "-----------------------------------------------------------------\n",
      "잔차     | 1590.416      |      16       |  99.401     |    \n",
      "-----------------------------------------------------------------\n",
      "계      | 3431.158      |      19        | \n",
      "-----------------------------------------------------------------\n"
     ]
    }
   ],
   "source": [
    "print(\"-----------------------------------------------------------------\")\n",
    "print(\"요인     |     제곱합      |      자유도    |     평균제곱   |     F값\")\n",
    "print(\"-----------------------------------------------------------------\")\n",
    "print(\"처리     |\",round(SStr,3),\"     |      \",k-1,\"      | \",round(MStr,3),\"   |  \",round(f_0 ,4))\n",
    "print(\"-----------------------------------------------------------------\")\n",
    "print(\"잔차     |\",round(SSE,3),\"     |     \",n-k,\"      | \",round(MSE,3),\"    |    \")\n",
    "print(\"-----------------------------------------------------------------\")\n",
    "print(\"계      |\",round(SST,3),\"     |     \",n-1,\"       | \")\n",
    "print(\"-----------------------------------------------------------------\")\n",
    "\n"
   ]
  },
  {
   "cell_type": "markdown",
   "id": "f62e1080",
   "metadata": {},
   "source": [
    "귀무 가설 하에서 검정통계량 F 의 관측값 f0 = 6.1762 이다."
   ]
  },
  {
   "cell_type": "markdown",
   "id": "0c621942",
   "metadata": {},
   "source": [
    "### 기각역 :\n",
    "귀무 가설하 검정통계량은 처리와 잔차의 자유도를 가지는 F 분포 를 따르므로,\n",
    "* F0 > F0.05 (3,16)  이면 H0 기각\n",
    "\n"
   ]
  },
  {
   "cell_type": "code",
   "execution_count": 126,
   "id": "6af7a7f1",
   "metadata": {
    "ExecuteTime": {
     "end_time": "2021-12-07T03:20:26.192321Z",
     "start_time": "2021-12-07T03:20:26.189533Z"
    }
   },
   "outputs": [
    {
     "name": "stdout",
     "output_type": "stream",
     "text": [
      " F 0.05(3,16): 4.066\n"
     ]
    }
   ],
   "source": [
    "a = 1-(0.05) # 단측 검정시 유의 수준 -> 0.005\n",
    "f_a = st.f.ppf(a,k-1,N-k)\n",
    "print(\" F 0.05(3,16):\",round(f_a,3))"
   ]
  },
  {
   "cell_type": "markdown",
   "id": "ef0ae3e3",
   "metadata": {},
   "source": [
    "### 결론)\n",
    "\n",
    "f0 > 4.066 즉 , 기각역에 속하므로 귀무가설 H0를 유의수준 5% 하에서 기각 할 수 있다. \n",
    "\n",
    "* 따라서 각 인장강도간 차이가 있다고 할 충분한 근거가 있다."
   ]
  },
  {
   "cell_type": "markdown",
   "id": "a35a0557",
   "metadata": {},
   "source": [
    "## 12.5\n",
    "어떤 영양제에 첨가된 요소들이 모두 비슷한 작용을 한다는 사실을 확인하기 위해 쥐에게 그 영양제를 주입하여 몸무게를 측정한 자료이다. \n",
    "\n",
    "그 영양제가 효과가 있는지 유의수준 5%에서 검정하여라."
   ]
  },
  {
   "cell_type": "code",
   "execution_count": 127,
   "id": "9bf33783",
   "metadata": {
    "ExecuteTime": {
     "end_time": "2021-12-07T03:20:26.268920Z",
     "start_time": "2021-12-07T03:20:26.260751Z"
    }
   },
   "outputs": [
    {
     "data": {
      "text/html": [
       "<div>\n",
       "<style scoped>\n",
       "    .dataframe tbody tr th:only-of-type {\n",
       "        vertical-align: middle;\n",
       "    }\n",
       "\n",
       "    .dataframe tbody tr th {\n",
       "        vertical-align: top;\n",
       "    }\n",
       "\n",
       "    .dataframe thead th {\n",
       "        text-align: right;\n",
       "    }\n",
       "</style>\n",
       "<table border=\"1\" class=\"dataframe\">\n",
       "  <thead>\n",
       "    <tr style=\"text-align: right;\">\n",
       "      <th></th>\n",
       "      <th>A</th>\n",
       "      <th>B</th>\n",
       "      <th>C</th>\n",
       "    </tr>\n",
       "  </thead>\n",
       "  <tbody>\n",
       "    <tr>\n",
       "      <th>0</th>\n",
       "      <td>110</td>\n",
       "      <td>122</td>\n",
       "      <td>110</td>\n",
       "    </tr>\n",
       "    <tr>\n",
       "      <th>1</th>\n",
       "      <td>122</td>\n",
       "      <td>131</td>\n",
       "      <td>120</td>\n",
       "    </tr>\n",
       "    <tr>\n",
       "      <th>2</th>\n",
       "      <td>132</td>\n",
       "      <td>114</td>\n",
       "      <td>112</td>\n",
       "    </tr>\n",
       "    <tr>\n",
       "      <th>3</th>\n",
       "      <td>114</td>\n",
       "      <td>108</td>\n",
       "      <td>108</td>\n",
       "    </tr>\n",
       "    <tr>\n",
       "      <th>4</th>\n",
       "      <td>105</td>\n",
       "      <td>110</td>\n",
       "      <td>100</td>\n",
       "    </tr>\n",
       "  </tbody>\n",
       "</table>\n",
       "</div>"
      ],
      "text/plain": [
       "     A    B    C\n",
       "0  110  122  110\n",
       "1  122  131  120\n",
       "2  132  114  112\n",
       "3  114  108  108\n",
       "4  105  110  100"
      ]
     },
     "execution_count": 127,
     "metadata": {},
     "output_type": "execute_result"
    }
   ],
   "source": [
    "A = [110, 122, 132, 114, 105]\n",
    "B = [122, 131, 114, 108, 110]\n",
    "C = [110, 120, 112, 108, 100]\n",
    "\n",
    "df = pd.DataFrame({'A': A,'B':B,'C':C})\n",
    "df"
   ]
  },
  {
   "cell_type": "markdown",
   "id": "933b5585",
   "metadata": {},
   "source": [
    "### 1:가설\n",
    "\n",
    "H0: μA  =  μB  =  μC   (영양제 별로 효과의 차이가 없다)\n",
    "\n",
    "H1: 적어도 하나의 μi는 다르다. (영양제 별로 효과의 차이가있다)"
   ]
  },
  {
   "cell_type": "code",
   "execution_count": 128,
   "id": "2f041a04",
   "metadata": {
    "ExecuteTime": {
     "end_time": "2021-12-07T03:20:26.275127Z",
     "start_time": "2021-12-07T03:20:26.271110Z"
    }
   },
   "outputs": [],
   "source": [
    "all_data=A+B+C\n",
    "\n",
    "x = np.array(A)\n",
    "y = np.array(B)\n",
    "z = np.array(C)\n",
    "a_d = np.array(all_data)\n",
    "\n",
    "ybar_x = x.mean()\n",
    "ybar_y = y.mean()\n",
    "ybar_z = z.mean()\n",
    "\n",
    "ybar = a_d.mean()\n",
    "\n",
    "k = 3\n",
    "\n",
    "n = len(a_d)\n",
    "n_x = len(x)\n",
    "n_y = len(y)\n",
    "n_z = len(z)\n",
    "\n",
    "SSX = ((x - ybar_x)**2).sum()\n",
    "SSY = ((y - ybar_y)**2).sum()\n",
    "SSZ = ((z - ybar_z)**2).sum()"
   ]
  },
  {
   "cell_type": "code",
   "execution_count": 129,
   "id": "0775be56",
   "metadata": {
    "ExecuteTime": {
     "end_time": "2021-12-07T03:20:26.280152Z",
     "start_time": "2021-12-07T03:20:26.277245Z"
    }
   },
   "outputs": [],
   "source": [
    "SSE = SSX+SSY+SSZ\n",
    "SStr = n_x*((ybar_x - ybar)**2) + n_y*((ybar_y - ybar)**2) + n_z*((ybar_z - ybar)**2)\n",
    "SST = SStr+SSE\n",
    "MSE = SSE / (n-k)\n",
    "MStr = SStr / (k-1)\n",
    "f_0 = MStr / MSE"
   ]
  },
  {
   "cell_type": "code",
   "execution_count": 130,
   "id": "25ecccd3",
   "metadata": {
    "ExecuteTime": {
     "end_time": "2021-12-07T03:20:26.286252Z",
     "start_time": "2021-12-07T03:20:26.281670Z"
    }
   },
   "outputs": [
    {
     "name": "stdout",
     "output_type": "stream",
     "text": [
      "-----------------------------------------------------------------\n",
      "요인     |     제곱합      |      자유도    |     평균제곱   |     F값\n",
      "-----------------------------------------------------------------\n",
      "처리     | 154.533         |       2     |  77.267      |   0.9097\n",
      "-----------------------------------------------------------------\n",
      "잔차     | 1019.2          |       12    |  84.933      |    \n",
      "-----------------------------------------------------------------\n",
      "계      | 1173.733         |     14      | \n",
      "-----------------------------------------------------------------\n"
     ]
    }
   ],
   "source": [
    "print(\"-----------------------------------------------------------------\")\n",
    "print(\"요인     |     제곱합      |      자유도    |     평균제곱   |     F값\")\n",
    "print(\"-----------------------------------------------------------------\")\n",
    "print(\"처리     |\",round(SStr,3),\"        |      \",k-1,\"    | \",round(MStr,3),\"     |  \",round(f_0 ,4))\n",
    "print(\"-----------------------------------------------------------------\")\n",
    "print(\"잔차     |\",round(SSE,3),\"         |      \",n-k,\"   | \",round(MSE,3),\"     |    \")\n",
    "print(\"-----------------------------------------------------------------\")\n",
    "print(\"계      |\",round(SST,3),\"        |    \",n-1,\"     | \")\n",
    "print(\"-----------------------------------------------------------------\")\n",
    "\n"
   ]
  },
  {
   "cell_type": "markdown",
   "id": "bf735298",
   "metadata": {},
   "source": [
    "귀무 가설 하에서 검정통계량 F 의 관측값 f0 = 0.9097 이다."
   ]
  },
  {
   "cell_type": "markdown",
   "id": "d6284744",
   "metadata": {},
   "source": [
    "### 기각역 :\n",
    "\n",
    "귀무 가설하 검정통계량은 처리와 잔차의 자유도를 가지는 F 분포 를 따르므로,\n",
    "* F0 > F0.05 (2,12)  이면 H0 기각\n",
    "\n"
   ]
  },
  {
   "cell_type": "code",
   "execution_count": 131,
   "id": "0140ff95",
   "metadata": {
    "ExecuteTime": {
     "end_time": "2021-12-07T03:20:26.322647Z",
     "start_time": "2021-12-07T03:20:26.319512Z"
    }
   },
   "outputs": [
    {
     "name": "stdout",
     "output_type": "stream",
     "text": [
      " F 0.05(2,12): 4.256\n"
     ]
    }
   ],
   "source": [
    "a = 1-(0.05) # 단측 검정시 유의 수준 -> 0.005\n",
    "f_a = st.f.ppf(a,k-1,N-k)\n",
    "print(\" F 0.05(2,12):\",round(f_a,3))"
   ]
  },
  {
   "cell_type": "markdown",
   "id": "202b46c7",
   "metadata": {},
   "source": [
    "### 결론)\n",
    "\n",
    "f0 < 3.885 즉 , 기각역에 속하지 않으므로 귀무가설 H0를 유의수준 5% 하에서 기각 할 수 없다. \n",
    "\n",
    "* 따라서 각 영양제에 첨가된 요소들이 차이가 있다고 할 충분한 근거가 없다라고 볼 수 있다."
   ]
  },
  {
   "cell_type": "markdown",
   "id": "894dc33b",
   "metadata": {},
   "source": [
    "## 12.10\n",
    "A회사에서 급여 지급 방법이 판매량에 영향을 주는지 알아보고자 한다. \n",
    "\n",
    "세 가지(고정월급, 판매실적, 고정월급 + 판매실적)의 급여 방법에 대해 랜덤하게 뽑은 판매원의 판매실적 결과가 다음과 같다."
   ]
  },
  {
   "cell_type": "code",
   "execution_count": 132,
   "id": "8146f25c",
   "metadata": {
    "ExecuteTime": {
     "end_time": "2021-12-07T03:20:26.378080Z",
     "start_time": "2021-12-07T03:20:26.370088Z"
    }
   },
   "outputs": [
    {
     "data": {
      "text/html": [
       "<div>\n",
       "<style scoped>\n",
       "    .dataframe tbody tr th:only-of-type {\n",
       "        vertical-align: middle;\n",
       "    }\n",
       "\n",
       "    .dataframe tbody tr th {\n",
       "        vertical-align: top;\n",
       "    }\n",
       "\n",
       "    .dataframe thead th {\n",
       "        text-align: right;\n",
       "    }\n",
       "</style>\n",
       "<table border=\"1\" class=\"dataframe\">\n",
       "  <thead>\n",
       "    <tr style=\"text-align: right;\">\n",
       "      <th></th>\n",
       "      <th>Sallary</th>\n",
       "      <th>Selling</th>\n",
       "      <th>Sallary&amp;Selling</th>\n",
       "    </tr>\n",
       "  </thead>\n",
       "  <tbody>\n",
       "    <tr>\n",
       "      <th>0</th>\n",
       "      <td>42.0</td>\n",
       "      <td>43</td>\n",
       "      <td>44.0</td>\n",
       "    </tr>\n",
       "    <tr>\n",
       "      <th>1</th>\n",
       "      <td>45.0</td>\n",
       "      <td>45</td>\n",
       "      <td>49.0</td>\n",
       "    </tr>\n",
       "    <tr>\n",
       "      <th>2</th>\n",
       "      <td>44.0</td>\n",
       "      <td>51</td>\n",
       "      <td>47.0</td>\n",
       "    </tr>\n",
       "    <tr>\n",
       "      <th>3</th>\n",
       "      <td>43.0</td>\n",
       "      <td>48</td>\n",
       "      <td>50.0</td>\n",
       "    </tr>\n",
       "    <tr>\n",
       "      <th>4</th>\n",
       "      <td>44.0</td>\n",
       "      <td>47</td>\n",
       "      <td>NaN</td>\n",
       "    </tr>\n",
       "    <tr>\n",
       "      <th>5</th>\n",
       "      <td>NaN</td>\n",
       "      <td>49</td>\n",
       "      <td>NaN</td>\n",
       "    </tr>\n",
       "  </tbody>\n",
       "</table>\n",
       "</div>"
      ],
      "text/plain": [
       "   Sallary  Selling  Sallary&Selling\n",
       "0     42.0       43             44.0\n",
       "1     45.0       45             49.0\n",
       "2     44.0       51             47.0\n",
       "3     43.0       48             50.0\n",
       "4     44.0       47              NaN\n",
       "5      NaN       49              NaN"
      ]
     },
     "execution_count": 132,
     "metadata": {},
     "output_type": "execute_result"
    }
   ],
   "source": [
    "\n",
    "A = [42, 45, 44, 43, 44,None]\n",
    "B = [43, 45, 51, 48, 47, 49]\n",
    "C = [44, 49, 47, 50,None,None]\n",
    "\n",
    "pay = pd.DataFrame({'Sallary': A,'Selling':B,'Sallary&Selling':C})\n",
    "pay"
   ]
  },
  {
   "cell_type": "markdown",
   "id": "37649627",
   "metadata": {},
   "source": [
    "### SST, SSE, SStr 값을 구하여라."
   ]
  },
  {
   "cell_type": "code",
   "execution_count": 133,
   "id": "bf95dd75",
   "metadata": {
    "ExecuteTime": {
     "end_time": "2021-12-07T03:20:26.385328Z",
     "start_time": "2021-12-07T03:20:26.379965Z"
    }
   },
   "outputs": [],
   "source": [
    "A = [42, 45, 44, 43, 44]\n",
    "B = [43, 45, 51, 48, 47, 49]\n",
    "C = [44, 49, 47, 50]\n",
    "\n",
    "all_data=A+B+C\n",
    "\n",
    "x = np.array(A)\n",
    "y = np.array(B)\n",
    "z = np.array(C)\n",
    "a_d = np.array(all_data)\n",
    "\n",
    "ybar_x = x.mean()\n",
    "ybar_y = y.mean()\n",
    "ybar_z = z.mean()\n",
    "\n",
    "ybar = a_d.mean()\n",
    "\n",
    "k = 3\n",
    "\n",
    "n = len(a_d)\n",
    "n_x = len(x)\n",
    "n_y = len(y)\n",
    "n_z = len(z)\n",
    "\n",
    "SSX = ((x - ybar_x)**2).sum()\n",
    "SSY = ((y - ybar_y)**2).sum()\n",
    "SSZ = ((z - ybar_z)**2).sum()\n",
    "SSE = SSX+SSY+SSZ\n",
    "SStr = n_x*((ybar_x - ybar)**2) + n_y*((ybar_y - ybar)**2) + n_z*((ybar_z - ybar)**2)\n",
    "SST = SStr+SSE\n"
   ]
  },
  {
   "cell_type": "code",
   "execution_count": 134,
   "id": "a320211c",
   "metadata": {
    "ExecuteTime": {
     "end_time": "2021-12-07T03:20:26.389977Z",
     "start_time": "2021-12-07T03:20:26.387375Z"
    }
   },
   "outputs": [
    {
     "name": "stdout",
     "output_type": "stream",
     "text": [
      "SST= 112.933   SSE= 67.033   SStr= 45.9\n"
     ]
    }
   ],
   "source": [
    "print(\"SST=\",round(SST,3),\" \",\"SSE=\",round(SSE,3),\" \",\"SStr=\",round(SStr,3))"
   ]
  },
  {
   "cell_type": "markdown",
   "id": "7e8c677a",
   "metadata": {
    "ExecuteTime": {
     "end_time": "2021-12-07T03:13:35.769383Z",
     "start_time": "2021-12-07T03:13:35.767349Z"
    }
   },
   "source": [
    "### F값을 구하고, 급여 방법에 따라 판매실적에 차이가 있는지 유의수준 1%에서 검정하여라. \n"
   ]
  },
  {
   "cell_type": "code",
   "execution_count": 135,
   "id": "dfeacfda",
   "metadata": {
    "ExecuteTime": {
     "end_time": "2021-12-07T03:20:26.394574Z",
     "start_time": "2021-12-07T03:20:26.391885Z"
    }
   },
   "outputs": [
    {
     "name": "stdout",
     "output_type": "stream",
     "text": [
      "F값 =  4.1084\n"
     ]
    }
   ],
   "source": [
    "MSE = SSE / (n-k)\n",
    "MStr = SStr / (k-1)\n",
    "f_0 = MStr / MSE\n",
    "print(\"F값 = \",round(f_0,4))"
   ]
  },
  {
   "cell_type": "markdown",
   "id": "cc358eed",
   "metadata": {},
   "source": [
    "### 기각역 :\n",
    "\n",
    "귀무 가설하 검정통계량의 관측값은 처리와 잔차의 자유도를 가지는 F 분포 를 따르므로,\n",
    "* F0 > F0.01 (2,12)  이면 H0 기각"
   ]
  },
  {
   "cell_type": "code",
   "execution_count": 136,
   "id": "5c5e565a",
   "metadata": {
    "ExecuteTime": {
     "end_time": "2021-12-07T03:20:26.399098Z",
     "start_time": "2021-12-07T03:20:26.396089Z"
    }
   },
   "outputs": [
    {
     "name": "stdout",
     "output_type": "stream",
     "text": [
      " F 0.01(2,12): 8.022\n"
     ]
    }
   ],
   "source": [
    "a = 1-(0.01) # 단측 검정시 유의 수준 -> 0.005\n",
    "f_a = st.f.ppf(a,k-1,N-k)\n",
    "print(\" F 0.01(2,12):\",round(f_a,3))"
   ]
  },
  {
   "cell_type": "markdown",
   "id": "65a76680",
   "metadata": {},
   "source": [
    "### 결론)\n",
    "\n",
    "f0 < 6.927 즉 , 귀무 가설하 검정통계량의 관측값이 기각역에 속하지 않으므로 귀무가설 H0를 유의수준 1% 하에서 기각 할 수 없다. \n",
    "\n",
    "* 따라서 각 급여방법에 따라 판매원의 판매실적 차이가 있다고 할 충분한 근거가 없다라고 볼 수 있다."
   ]
  },
  {
   "cell_type": "markdown",
   "id": "2d0d4b19",
   "metadata": {},
   "source": [
    "\n"
   ]
  },
  {
   "cell_type": "markdown",
   "id": "d0794f04",
   "metadata": {},
   "source": [
    "\n"
   ]
  }
 ],
 "metadata": {
  "kernelspec": {
   "display_name": "Python 3",
   "language": "python",
   "name": "python3"
  },
  "language_info": {
   "codemirror_mode": {
    "name": "ipython",
    "version": 3
   },
   "file_extension": ".py",
   "mimetype": "text/x-python",
   "name": "python",
   "nbconvert_exporter": "python",
   "pygments_lexer": "ipython3",
   "version": "3.7.0"
  },
  "toc": {
   "base_numbering": 1,
   "nav_menu": {},
   "number_sections": true,
   "sideBar": true,
   "skip_h1_title": false,
   "title_cell": "Table of Contents",
   "title_sidebar": "Contents",
   "toc_cell": false,
   "toc_position": {},
   "toc_section_display": true,
   "toc_window_display": false
  },
  "varInspector": {
   "cols": {
    "lenName": 16,
    "lenType": 16,
    "lenVar": 40
   },
   "kernels_config": {
    "python": {
     "delete_cmd_postfix": "",
     "delete_cmd_prefix": "del ",
     "library": "var_list.py",
     "varRefreshCmd": "print(var_dic_list())"
    },
    "r": {
     "delete_cmd_postfix": ") ",
     "delete_cmd_prefix": "rm(",
     "library": "var_list.r",
     "varRefreshCmd": "cat(var_dic_list()) "
    }
   },
   "types_to_exclude": [
    "module",
    "function",
    "builtin_function_or_method",
    "instance",
    "_Feature"
   ],
   "window_display": false
  }
 },
 "nbformat": 4,
 "nbformat_minor": 5
}
