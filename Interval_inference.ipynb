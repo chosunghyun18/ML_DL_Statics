{
 "cells": [
  {
   "cell_type": "code",
   "execution_count": 2,
   "id": "526ff090",
   "metadata": {
    "ExecuteTime": {
     "end_time": "2021-11-26T03:59:59.076672Z",
     "start_time": "2021-11-26T03:59:59.074124Z"
    }
   },
   "outputs": [],
   "source": [
    "import numpy as np\n",
    "import pandas as pd\n",
    "import math\n",
    "import scipy.stats as st"
   ]
  },
  {
   "cell_type": "code",
   "execution_count": 3,
   "id": "3b247f07",
   "metadata": {
    "ExecuteTime": {
     "end_time": "2021-11-26T03:59:59.811755Z",
     "start_time": "2021-11-26T03:59:59.796436Z"
    }
   },
   "outputs": [
    {
     "name": "stdout",
     "output_type": "stream",
     "text": [
      "this is sample 평균 0    65.84\n",
      "dtype: float64\n",
      "this is sample 분산 세타 제곱 0    3.796\n",
      "dtype: float64\n",
      "this is samle 분산 세타 : 표준 편차 s 0    1.948333\n",
      "dtype: float64\n"
     ]
    },
    {
     "data": {
      "text/plain": [
       "'\\nprint(np.std(a))\\nprint(np.var(a))\\n'"
      ]
     },
     "execution_count": 3,
     "metadata": {},
     "output_type": "execute_result"
    }
   ],
   "source": [
    "a = [64,64.8,66,63.5,65,68,67,63.6,67.6,68.9]\n",
    "dfa = pd.DataFrame(a)\n",
    "print(\"this is sample 평균\",dfa.mean())\n",
    "print(\"this is sample 분산 세타 제곱\",dfa.var())\n",
    "pandas_std=dfa.std()\n",
    "print(\"this is samle 분산 세타 : 표준 편차 s\",pandas_std)\n",
    "# 작은수가 나온다  나누는 수가  더작다 ==   n-1  /////. sampling dfa pandas, \n",
    "\"\"\"\n",
    "print(np.std(a))\n",
    "print(np.var(a))\n",
    "\"\"\""
   ]
  },
  {
   "cell_type": "code",
   "execution_count": 25,
   "id": "41a8d7fa",
   "metadata": {
    "ExecuteTime": {
     "end_time": "2021-11-26T06:04:15.591075Z",
     "start_time": "2021-11-26T06:04:15.586862Z"
    }
   },
   "outputs": [
    {
     "name": "stdout",
     "output_type": "stream",
     "text": [
      "74.08282341679623\n",
      "81.91717658320377\n"
     ]
    }
   ],
   "source": [
    "#2 표본 수가 많, 모분산을 알때.   >>>> 정규 분포\n",
    "#3 표본 수가 적고, 모분산을 알때.   >>>> 정규 분포\n",
    "\n",
    "b=[11,12,14,41,51,13,14,15,12,321,132,13,14,51,51]\n",
    "\n",
    "# dfa = pd.DataFrame(b)\n",
    "# m=dfa.mean()\n",
    "# s=dfa.std()\n",
    "# n= len(b)   \n",
    "\n",
    "m=78\n",
    "s=6.32\n",
    "n=10\n",
    "\n",
    "# 양측 기각역\n",
    "#z = 1.65 #90\n",
    "z = 1.96# 95\n",
    "#z = 2.58# 99\n",
    "\n",
    "\n",
    "\n",
    "\n",
    "\n",
    "print(m - (z*(s/math.sqrt(n))))\n",
    "print(m + (z*(s/math.sqrt(n))))"
   ]
  },
  {
   "cell_type": "code",
   "execution_count": null,
   "id": "a8fca8db",
   "metadata": {},
   "outputs": [],
   "source": [
    "# 정규 분포 기각역       a =. 0.1 , 양측 코드\n",
    "z005 = st.norm.ppf(1-(0.1)/2)\n",
    "print(z005)"
   ]
  },
  {
   "cell_type": "code",
   "execution_count": 23,
   "id": "8f01843b",
   "metadata": {
    "ExecuteTime": {
     "end_time": "2021-11-26T05:32:51.842296Z",
     "start_time": "2021-11-26T05:32:51.836434Z"
    }
   },
   "outputs": [
    {
     "name": "stdout",
     "output_type": "stream",
     "text": [
      "12.537845399117169\n",
      "14.462154600882831\n"
     ]
    }
   ],
   "source": [
    "##############################################\n",
    "##############################################\n",
    "##############################################\n",
    "#  자료 소표본 + 모분산 모를때  > [t 분포 ] \n",
    "\n",
    "# b =[23,16,32,25,44,23,25,20,20,35,17,32,40]\n",
    "# #b=[126,98,134,116,130,112]\n",
    "\n",
    "# dfa = pd.DataFrame(b)\n",
    "# m=dfa.mean()\n",
    "# s=dfa.std()\n",
    "# n= len(b)   \n",
    "\n",
    "\n",
    "m=13.5\n",
    "s=2.2\n",
    "n=10\n",
    "\n",
    "\n",
    "# # # 단측 side > >.    95 %   >>>>.  t(0.05) \n",
    "# a = 1-(0.05*2)       # 90%0.9    0.1 , 0.05\n",
    "# # a = 1-(0.025*2)       # 0.95 / 0.05 / 0.025\n",
    "# # #a = 1-(0.005*2)       # 0.99 / 0.01 /0.005\n",
    "# df = n-1   # 자유도 \n",
    "# t_=st.t(df)\n",
    "# tv=t_.ppf(a)\n",
    "# tv = round(tv,3)\n",
    "\n",
    "\n",
    "\n",
    "\n",
    "# a = 1-0.05       # 90%0.9    0.1 , 0.05\n",
    "a = 1-0.025       # 0.95 / 0.05 / 0.025\n",
    "#a = 1-0.005       # 0.99 / 0.01 /0.005\n",
    "df =  n-1    # 자유도 \n",
    "t_=st.t(df)\n",
    "tv=t_.ppf(a)\n",
    "\n",
    "\n",
    "\n",
    "print(m - (tv*(s/math.sqrt(n))))\n",
    "print(m + (tv*(s/math.sqrt(n))))"
   ]
  },
  {
   "cell_type": "code",
   "execution_count": 9,
   "id": "64a066c5",
   "metadata": {
    "ExecuteTime": {
     "end_time": "2021-11-17T08:23:02.159307Z",
     "start_time": "2021-11-17T08:23:02.152662Z"
    }
   },
   "outputs": [
    {
     "name": "stdout",
     "output_type": "stream",
     "text": [
      "9.155163062500002\n",
      "2401.0\n",
      "1536.6400000000003\n"
     ]
    }
   ],
   "source": [
    "# 표본의 크기 추정    표준 편차를 알때 \n",
    "n=20\n",
    "a = 1-0.05       # 90%0.9    0.1 , 0.05\n",
    "#a = 1-0.025       # 0.95 / 0.05 / 0.025\n",
    "#a = 1-0.005       # 0.99 / 0.01 /0.005\n",
    "df = n-1   # 자유도 \n",
    "t_=st.t(df)\n",
    "tv=t_.ppf(a)\n",
    "z = round(tv,3)\n",
    "#z = 1.65 #90\n",
    "#z = 1.96# 95\n",
    "#z = 2.58# 99 \n",
    "s=0.07\n",
    "d=0.04     # 원하는 한계  (허용 오차) //// >>>>>>    (신뢰구간의 폭 / 2 )\n",
    "print(((z*s)/d)**2)   # 나오는 수에서 무조건 올림\n",
    "\n",
    "\n",
    "# 모비율 모를때\n",
    "#z = 1.65 #90\n",
    "z = 1.96# 95\n",
    "#z = 2.58# 99 \n",
    "d=0.02     # 원하는 양\n",
    "print((1/4)*(((z)/d)**2))   # 나오는 수에서 무조건 올림\n",
    "\n",
    "# 모비율 알때\n",
    "#z = 1.65 #90\n",
    "z = 1.96# 95\n",
    "#z = 2.58# 99\n",
    "\n",
    "p=0.2\n",
    "d=0.02     # 원하는 양\n",
    "print((p*(1-p))*(((z)/d)**2))   # 나오는 수에서 무조건 올림"
   ]
  },
  {
   "cell_type": "code",
   "execution_count": 6,
   "id": "896297bd",
   "metadata": {
    "ExecuteTime": {
     "end_time": "2021-11-26T04:00:04.011450Z",
     "start_time": "2021-11-26T04:00:04.006995Z"
    }
   },
   "outputs": [
    {
     "name": "stdout",
     "output_type": "stream",
     "text": [
      "0.199\n",
      "하한 0.16044770295083588\n",
      "상한 0.23755229704916414\n"
     ]
    }
   ],
   "source": [
    "##################### 모비율 추정\n",
    "# 대표본 -> 정규\n",
    "n= 412\n",
    "x= 82\n",
    "p= x/n      \n",
    "p=round(p,4)  # p_h\n",
    "print(p)\n",
    "#z = 1.65 #90\n",
    "z = 1.96# 95\n",
    "#z = 2.58# 99\n",
    "print(\"하한\",p - (z*math.sqrt(((p*(1-p))/n))))\n",
    "print(\"상한\",p + (z*math.sqrt(((p*(1-p))/n))))\n",
    "\n",
    "\n",
    "# p0 = 0.38 # 주장\n",
    "# z0 =(p-p0)/(math.sqrt(((p0*(1-p0))/n)))\n",
    "# print(z0)"
   ]
  },
  {
   "cell_type": "code",
   "execution_count": 118,
   "id": "08040453",
   "metadata": {
    "ExecuteTime": {
     "end_time": "2021-11-01T07:18:02.530111Z",
     "start_time": "2021-11-01T07:18:02.525576Z"
    }
   },
   "outputs": [
    {
     "name": "stdout",
     "output_type": "stream",
     "text": [
      "3.3826111578638036\n",
      "6.617388842136196\n"
     ]
    }
   ],
   "source": [
    "########################   대표본 모평균 차이 추정 ,독립\n",
    "\n",
    "n_1=30\n",
    "m_1=70\n",
    "# \n",
    "v_1=9\n",
    "\n",
    "n_2=42\n",
    "m_2=65\n",
    "v_2=16\n",
    "\n",
    "#z = 1.65 #90\n",
    "z = 1.96# 95\n",
    "#z = 2.58# 99\n",
    "\n",
    "print((m_1-m_2) - z*(math.sqrt( (v_1/n_1) +  (v_2/n_2))))\n",
    "print((m_1-m_2) + z*(math.sqrt( (v_1/n_1) +  (v_2/n_2))))"
   ]
  },
  {
   "cell_type": "code",
   "execution_count": 7,
   "id": "3fe49ed5",
   "metadata": {
    "ExecuteTime": {
     "end_time": "2021-11-26T04:00:05.791469Z",
     "start_time": "2021-11-26T04:00:05.784348Z"
    }
   },
   "outputs": [
    {
     "name": "stdout",
     "output_type": "stream",
     "text": [
      "-0.17459169074072944\n",
      "1.234591690740729\n"
     ]
    }
   ],
   "source": [
    "########################   소표본 모평균 차이 추정    독립인경우\n",
    "\n",
    "n_1=8\n",
    "m_1=3.67\n",
    "# s =0..8\n",
    "v_1=0.8*0.8\n",
    "\n",
    "n_2=12\n",
    "m_2=3.14\n",
    "v_2=(0.69*0.69)\n",
    "\n",
    "spsq =  (((n_1-1)*v_1) +((n_2-1)*v_2)) /(n_1+n_2 -2)\n",
    "#print(spsq)\n",
    "\n",
    "#  t (n1+n2-2) 0.005 (a/2)  99 퍼\n",
    "\n",
    "\n",
    "#a = 1-0.05       # 90%0.9    0.1 , 0.05\n",
    "a = 1-0.025       # 0.95 / 0.05 / 0.025\n",
    "#a = 1-0.005       # 0.99 / 0.01 /0.005\n",
    "n = len(b)\n",
    "df =  (n_1+n_2)-2    # 자유도 \n",
    "t_=st.t(df)\n",
    "tv=t_.ppf(a)\n",
    "tv = round(tv,3)\n",
    "\n",
    "print((m_1-m_2) - tv*(math.sqrt(spsq) )*(math.sqrt( (1/n_1) +  (1/n_2))))\n",
    "print((m_1-m_2) + tv*(math.sqrt(spsq) )*(math.sqrt( (1/n_1) +  (1/n_2))))"
   ]
  },
  {
   "cell_type": "code",
   "execution_count": 67,
   "id": "b7c64f47",
   "metadata": {
    "ExecuteTime": {
     "end_time": "2021-11-01T03:05:39.053197Z",
     "start_time": "2021-11-01T03:05:39.040171Z"
    }
   },
   "outputs": [
    {
     "name": "stdout",
     "output_type": "stream",
     "text": [
      "2.131\n",
      "0   -2.111155\n",
      "dtype: float64\n",
      "0    4.499726\n",
      "dtype: float64\n"
     ]
    }
   ],
   "source": [
    "########################   소표본 모평균 차이 추정  독립인경우 \n",
    "a1=[15.3,7.3,8.8,9.3,12.9,6.9,7.5]\n",
    "a2=[12.5,8.5,14,7.5,4.9,8.2,4.7,6,11,7.9]\n",
    "\n",
    "dfa1 = pd.DataFrame(a1)\n",
    "dfa2 = pd.DataFrame(a2)\n",
    "\n",
    "\n",
    "n_1=len(dfa1)\n",
    "m_1=round(dfa1.mean(),2)\n",
    "v_1=round(dfa1.var(),2)\n",
    "\n",
    "n_2=len(dfa2)\n",
    "m_2=round(dfa2.mean(),2)\n",
    "v_2=round(dfa2.var(),2)\n",
    "\n",
    "\n",
    "# n_1=12\n",
    "# m_1=36300\n",
    "# v_1=5000**2\n",
    "\n",
    "# n_2=12\n",
    "# m_2=38100\n",
    "# v_2=6100**2\n",
    "\n",
    "spsq =  (((n_1-1)*v_1) +((n_2-1)*v_2)) /(n_1+n_2 -2)\n",
    "\n",
    "#a = 1-0.05       # 90%0.9    0.1 , 0.05\n",
    "a = 1-0.025       # 0.95 / 0.05 / 0.025\n",
    "#a = 1-0.005       # 0.99 / 0.01 /0.005\n",
    "df =  n_1+n_2-2    # 자유도 \n",
    "t_=st.t(df)\n",
    "tv=t_.ppf(a)\n",
    "\n",
    "z = round(tv,3)\n",
    "print(z)\n",
    "\n",
    "print((m_1-m_2) - (z*(math.sqrt(spsq) )*(math.sqrt( (1/n_1) +  (1/n_2) ))))\n",
    "print((m_1-m_2) + (z*(math.sqrt(spsq) )*(math.sqrt( (1/n_1) +  (1/n_2)))))"
   ]
  },
  {
   "cell_type": "code",
   "execution_count": 8,
   "id": "193ca3e1",
   "metadata": {
    "ExecuteTime": {
     "end_time": "2021-11-26T04:00:07.486240Z",
     "start_time": "2021-11-26T04:00:07.475328Z"
    }
   },
   "outputs": [
    {
     "name": "stdout",
     "output_type": "stream",
     "text": [
      "[0.2, 4.8, -1.4, 1.5, -1.6]\n",
      "2.776\n",
      "0   -2.548914\n",
      "dtype: float64\n",
      "0    3.948914\n",
      "dtype: float64\n"
     ]
    }
   ],
   "source": [
    "# 종속 , 대응 비교 , 신약 개발 , 몸무게 변화등 , 소표본인경우  t 분포, 대표본인 경우 정규 분포를 이용\n",
    "\n",
    "x=[2.1,5.3,1.4,4.6,0.9]\n",
    "y=[1.9,0.5,2.8,3.1,2.5]\n",
    "\n",
    "dif=[]\n",
    "for k in range(len(x)):\n",
    "    dif.append(round((x[k]-y[k]),4))\n",
    "print(dif)\n",
    "dfa1 = pd.DataFrame(dif)\n",
    "n=len(dfa1)\n",
    "m=round(dfa1.mean(),3)\n",
    "s=round(dfa1.std(),3)\n",
    "\n",
    "# n=\n",
    "# m=\n",
    "# s=\n",
    "\n",
    "\n",
    "#a = 1-0.05       # 90%0.9    0.1 , 0.05\n",
    "a = 1-0.025       # 0.95 / 0.05 / 0.025\n",
    "#a = 1-0.005       # 0.99 / 0.01 /0.005\n",
    "df = n-1   # 자유도 \n",
    "t_=st.t(df)\n",
    "tv=t_.ppf(a)\n",
    "z = round(tv,3)\n",
    "print(z)\n",
    "\n",
    "################################################\n",
    "print(m - z*(s/math.sqrt(n)))\n",
    "print(m + z*(s/math.sqrt(n)))"
   ]
  },
  {
   "cell_type": "code",
   "execution_count": 11,
   "id": "ca8422e6",
   "metadata": {
    "ExecuteTime": {
     "end_time": "2021-10-31T11:45:03.446625Z",
     "start_time": "2021-10-31T11:45:03.440666Z"
    }
   },
   "outputs": [
    {
     "name": "stdout",
     "output_type": "stream",
     "text": [
      "점 추정치 0.41\n",
      "하한 0.28531257000001964\n",
      "상한 0.5346874299999804\n"
     ]
    }
   ],
   "source": [
    "# 모비율 차이 \n",
    "n1= 100\n",
    "x1= 78\n",
    "p1= x1/n1\n",
    "p1=round(p1,2)\n",
    "\n",
    "n2= 100\n",
    "x2=37\n",
    "p2= x2/n2\n",
    "p2=round(p2,2)\n",
    "\n",
    "print(\"점 추정치\",round((p1-p2),5))\n",
    "#z = 1.65 #90\n",
    "z = 1.96# 95\n",
    "#z = 2.58# 99\n",
    "\n",
    "print(\"하한\",(p1-p2) - (z*math.sqrt(((p1*(1-p1))/n1)+((p2*(1-p2))/n2) )))\n",
    "print(\"상한\",(p1-p2) + (z*math.sqrt(((p1*(1-p1))/n1)+((p2*(1-p2))/n2) )))"
   ]
  },
  {
   "cell_type": "code",
   "execution_count": 10,
   "id": "4a32fa84",
   "metadata": {
    "ExecuteTime": {
     "end_time": "2021-11-26T04:00:11.765835Z",
     "start_time": "2021-11-26T04:00:11.756913Z"
    }
   },
   "outputs": [
    {
     "name": "stdout",
     "output_type": "stream",
     "text": [
      "ㄴ 0    2.897009\n",
      "dtype: float64\n",
      "1.383\n"
     ]
    }
   ],
   "source": [
    "##################################\n",
    "###################\n",
    "# 가설검정, # 가설 검정은  검정 통계  량을 생각\n",
    "\n",
    "\n",
    "# 소표본인 경우 ->  t 분포 와 비교\n",
    "a = [23,16,32,25,44,23,25,20,20,35,17,32,40]\n",
    "dfa = pd.DataFrame(a)\n",
    "x_bar=dfa.mean()\n",
    "s=dfa.std()\n",
    "u =20\n",
    "n=len(a)\n",
    "\n",
    "z0=(x_bar-u)/ (s/math.sqrt(n))\n",
    "print(\"ㄴ\",z0)\n",
    "\n",
    "# # 양측\n",
    "# n = 10      \n",
    "# #a = 1-0.05       # 90%0.9    0.1 , 0.05     # both side \n",
    "# a = 1-0.025       # 0.95 / 0.05 / 0.025\n",
    "# #a = 1-0.005       # 0.99 / 0.01 /0.005\n",
    "# df = n-1   # 자유도 \n",
    "# t_=st.t(df)\n",
    "# tv=t_.ppf(a)\n",
    "# tv = round(tv,3)\n",
    "\n",
    "\n",
    "# 한측 side > >.    95 %   >>>>.  t(0.05) \n",
    "n = 10\n",
    "a = 1-(0.05*2)       # 90%0.9    0.1 , 0.05\n",
    "#a = 1-(0.025*2)       # 0.95 / 0.05 / 0.025\n",
    "#a = 1-(0.005*2)       # 0.99 / 0.01 /0.005\n",
    "df = n-1   # 자유도 \n",
    "t_=st.t(df)\n",
    "tv=t_.ppf(a)\n",
    "tv = round(tv,3)\n",
    "\n",
    "print(tv)\n"
   ]
  },
  {
   "cell_type": "code",
   "execution_count": 35,
   "id": "ead8e676",
   "metadata": {
    "ExecuteTime": {
     "end_time": "2021-10-31T15:12:40.731484Z",
     "start_time": "2021-10-31T15:12:40.727677Z"
    }
   },
   "outputs": [
    {
     "name": "stdout",
     "output_type": "stream",
     "text": [
      "-2.1908902300206643\n"
     ]
    }
   ],
   "source": [
    "# n >30\n",
    "\n",
    "x_bar=356\n",
    "s=10\n",
    "u =360\n",
    "n=30\n",
    "z0=(x_bar-u)/ (s/math.sqrt(n))\n",
    "print(z0)\n",
    "\n"
   ]
  },
  {
   "cell_type": "code",
   "execution_count": 12,
   "id": "b458d3b3",
   "metadata": {
    "ExecuteTime": {
     "end_time": "2021-11-26T04:00:14.149100Z",
     "start_time": "2021-11-26T04:00:14.145407Z"
    }
   },
   "outputs": [
    {
     "name": "stdout",
     "output_type": "stream",
     "text": [
      "2.3904572186687876\n"
     ]
    }
   ],
   "source": [
    "#  대표본 모비율\n",
    "p = 0.7   # 주장 하는 값\n",
    "p_h = 27/30    # 표본 추청\n",
    "n = 30\n",
    "z0 =  (p_h - p) / math.sqrt(  (p*(1-p))/30)\n",
    "print(z0)"
   ]
  },
  {
   "cell_type": "code",
   "execution_count": 13,
   "id": "49dd1d73",
   "metadata": {
    "ExecuteTime": {
     "end_time": "2021-11-26T04:00:16.058139Z",
     "start_time": "2021-11-26T04:00:16.053537Z"
    },
    "scrolled": true
   },
   "outputs": [
    {
     "data": {
      "text/plain": [
       "0.10285134738166078"
      ]
     },
     "execution_count": 13,
     "metadata": {},
     "output_type": "execute_result"
    }
   ],
   "source": [
    "# p_value 구하기\n",
    "z0 = 1.364 # 검정 통계량\n",
    "st.t.sf(abs(z0),df=9)"
   ]
  },
  {
   "cell_type": "code",
   "execution_count": 14,
   "id": "71cddeb7",
   "metadata": {
    "ExecuteTime": {
     "end_time": "2021-11-26T04:00:17.708489Z",
     "start_time": "2021-11-26T04:00:17.701690Z"
    }
   },
   "outputs": [
    {
     "name": "stdout",
     "output_type": "stream",
     "text": [
      "1.734\n",
      "1.5804\n",
      "1.5804\n"
     ]
    }
   ],
   "source": [
    "########################   소표본 모평균 검정 추정  독립인경우 \n",
    "\n",
    "# a1=[15.3,7.3,8.8,9.3,12.9,6.9,7.5]\n",
    "# a2=[12.5,8.5,14,7.5,4.9,8.2,4.7,6,11,7.9]\n",
    "\n",
    "# dfa1 = pd.DataFrame(a1)\n",
    "# dfa2 = pd.DataFrame(a2)\n",
    "\n",
    "\n",
    "# n_1=len(dfa1)\n",
    "# m_1=round(dfa1.mean(),2)\n",
    "# v_1=round(dfa1.var(),2)\n",
    "\n",
    "# n_2=len(dfa2)\n",
    "# m_2=round(dfa2.mean(),2)\n",
    "# v_2=round(dfa2.var(),2)\n",
    "\n",
    "\n",
    "# n_1=90\n",
    "# m_1=48500\n",
    "# v_1=3600\n",
    "\n",
    "# n_2=90\n",
    "# m_2=52000\n",
    "# v_2=4200\n",
    "\n",
    "spsq =  (((n_1-1)*v_1) +((n_2-1)*v_2)) /(n_1+n_2 -2)\n",
    "\n",
    "\n",
    "# 한측 side > >.    95 %   >>>>.  t(0.05) \n",
    "n = (n_1+n_2)\n",
    "#a = 1-(0.05*2)       # 90%0.9    0.1 , 0.05\n",
    "a = 1-(0.025*2)       # 0.95 / 0.05 / 0.025\n",
    "#a = 1-(0.005*2)       # 0.99 / 0.01 /0.005\n",
    "df = n-2   # 자유도 \n",
    "t_=st.t(df)\n",
    "tv=t_.ppf(a)\n",
    "tv = round(tv,3)\n",
    "\n",
    "##양측\n",
    "# #a = 1-0.05       # 90%0.9    0.1 , 0.05\n",
    "# a = 1-0.025       # 0.95 / 0.05 / 0.025\n",
    "# #a = 1-0.005       # 0.99 / 0.01 /0.005\n",
    "# df =  n_1+n_2-2    # 자유도 \n",
    "# t_=st.t(df)\n",
    "# tv=t_.ppf(a)\n",
    "\n",
    "z = round(tv,3)\n",
    "print(z)\n",
    "\n",
    "t0=(m_1-m_2) / (math.sqrt(spsq*( (1/n_1) +  (1/n_2) )))\n",
    "t0 = round(t0,4)\n",
    "print(t0)\n",
    "print(t0)\n",
    "\n",
    "# print((m_1-m_2) - (z*(math.sqrt(spsq) )*(math.sqrt( (1/n_1) +  (1/n_2) ))))\n",
    "# print((m_1-m_2) + (z*(math.sqrt(spsq) )*(math.sqrt( (1/n_1) +  (1/n_2)))))"
   ]
  },
  {
   "cell_type": "code",
   "execution_count": 15,
   "id": "5e5cb784",
   "metadata": {
    "ExecuteTime": {
     "end_time": "2021-11-26T04:00:19.924069Z",
     "start_time": "2021-11-26T04:00:19.913791Z"
    }
   },
   "outputs": [
    {
     "name": "stdout",
     "output_type": "stream",
     "text": [
      "[-5, -2, 1, -4, 2, -1, -3, -1]\n",
      "2.365\n",
      "0   -1.925511\n",
      "dtype: float64\n",
      "0   -1.925511\n",
      "dtype: float64\n"
     ]
    }
   ],
   "source": [
    "# 종속 , 대응 검정\n",
    "\n",
    "x=[66,80,69,52,75,77,63,83]\n",
    "y=[71,82,68,56,73,78,66,84]\n",
    "\n",
    "dif=[]\n",
    "for k in range(len(x)):\n",
    "    dif.append(round((x[k]-y[k]),4))\n",
    "print(dif)\n",
    "dfa1 = pd.DataFrame(dif)\n",
    "n=len(dfa1)\n",
    "m=round(dfa1.mean(),3)\n",
    "s=round(dfa1.std(),3)\n",
    "\n",
    "# n=10\n",
    "# m=1.81\n",
    "# s=1.16\n",
    "\n",
    "# # 한측 side > >.    95 %   >>>>.  t(0.05) \n",
    "# #a = 1-(0.05*2)       # 90%0.9    0.1 , 0.05\n",
    "# a = 1-(0.025*2)       # 0.95 / 0.05 / 0.025\n",
    "# #a = 1-(0.005*2)       # 0.99 / 0.01 /0.005\n",
    "# df = n-1   # 자유도 \n",
    "# t_=st.t(df)\n",
    "# tv=t_.ppf(a)\n",
    "# tv = round(tv,3)\n",
    "# print(tv)\n",
    "\n",
    "\n",
    "#a = 1-0.05       # 90%0.9    0.1 , 0.05\n",
    "a = 1-0.025       # 0.95 / 0.05 / 0.025\n",
    "#a = 1-0.005       # 0.99 / 0.01 /0.005\n",
    "df = n-1   # 자유도 \n",
    "t_=st.t(df)\n",
    "tv=t_.ppf(a)\n",
    "z = round(tv,3)\n",
    "print(z)\n",
    "\n",
    "t0 = (m)/(s/math.sqrt(n))\n",
    "print(t0)\n",
    "print(t0)"
   ]
  },
  {
   "cell_type": "code",
   "execution_count": 16,
   "id": "eec3aa45",
   "metadata": {
    "ExecuteTime": {
     "end_time": "2021-11-26T04:00:21.674469Z",
     "start_time": "2021-11-26T04:00:21.669545Z"
    }
   },
   "outputs": [
    {
     "name": "stdout",
     "output_type": "stream",
     "text": [
      "5.06770076816866\n"
     ]
    }
   ],
   "source": [
    "# 모비율  검정\n",
    "\n",
    "n1= 2300\n",
    "x1= 640\n",
    "p1= x1/n1\n",
    "p1=round(p1,3)\n",
    "\n",
    "n2= 4320\n",
    "x2=960\n",
    "p2= x2/n2\n",
    "p2=round(p2,3)\n",
    "\n",
    "\n",
    "p_h =(x1+x2)/(n1+n2)\n",
    "\n",
    "\n",
    "z0 = (p1-p2)/(math.sqrt( (p_h)*(1-p_h)*( (1/n1)+(1/n2))))\n",
    "print(z0)\n",
    "\n",
    "#z = 1.65 #90\n",
    "z = 1.96# 95\n",
    "#z = 2.58# 99\n",
    "\n",
    "# print(\"하한\",(p1-p2) - (z*math.sqrt(((p1*(1-p1))/n1)+((p2*(1-p2))/n2) )))\n",
    "# print(\"상한\",(p1-p2) + (z*math.sqrt(((p1*(1-p1))/n1)+((p2*(1-p2))/n2) )))"
   ]
  }
 ],
 "metadata": {
  "kernelspec": {
   "display_name": "Python 3",
   "language": "python",
   "name": "python3"
  },
  "language_info": {
   "codemirror_mode": {
    "name": "ipython",
    "version": 3
   },
   "file_extension": ".py",
   "mimetype": "text/x-python",
   "name": "python",
   "nbconvert_exporter": "python",
   "pygments_lexer": "ipython3",
   "version": "3.7.0"
  },
  "toc": {
   "base_numbering": 1,
   "nav_menu": {},
   "number_sections": true,
   "sideBar": true,
   "skip_h1_title": false,
   "title_cell": "Table of Contents",
   "title_sidebar": "Contents",
   "toc_cell": false,
   "toc_position": {},
   "toc_section_display": true,
   "toc_window_display": false
  },
  "varInspector": {
   "cols": {
    "lenName": 16,
    "lenType": 16,
    "lenVar": 40
   },
   "kernels_config": {
    "python": {
     "delete_cmd_postfix": "",
     "delete_cmd_prefix": "del ",
     "library": "var_list.py",
     "varRefreshCmd": "print(var_dic_list())"
    },
    "r": {
     "delete_cmd_postfix": ") ",
     "delete_cmd_prefix": "rm(",
     "library": "var_list.r",
     "varRefreshCmd": "cat(var_dic_list()) "
    }
   },
   "types_to_exclude": [
    "module",
    "function",
    "builtin_function_or_method",
    "instance",
    "_Feature"
   ],
   "window_display": false
  }
 },
 "nbformat": 4,
 "nbformat_minor": 5
}
